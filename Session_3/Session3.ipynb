{
 "cells": [
  {
   "cell_type": "markdown",
   "metadata": {},
   "source": [
    "### Lars Gabriel, Fabian Wilde, Katharina Hoff & Mario Stanke - University of Greifswald\n",
    "\n",
    "# Advanced Python course - Session 3/3\n",
    "### 27.03.2023 10.00 - 17.00\n",
    "<br>\n",
    "<font size=\"3\">\n",
    "<b>Contact:</b> lars.gabriel@uni-greifswald.de\n",
    "<br>\n",
    "</font>"
   ]
  },
  {
   "cell_type": "markdown",
   "metadata": {},
   "source": [
    "# 1. NumPy (Numerical Python)\n",
    "<font size=\"3\">\n",
    "    NumPy is a Python library that stands for \"Numerical Python.\" It is a fundamental package for scientific computing with Python, providing support for large, multi-dimensional arrays and matrices, along with a wide range of mathematical functions to operate on these arrays. NumPy is widely used in the fields of data science, machine learning, artificial intelligence, and scientific research.<br>\n",
    "    b>Numpy</b> is a powerful 3rd party package offering the new data type of the <b><i>numpy array</i></b> (numpy.ndarray) with a more powerful and faster implementation in C++ in the background. In contrast to lists in Python, <b>the size of a numpy array cannot be changed and the best practice is to allocate space in advance by initializing an empty array (e.g. filled with zeros)</b>. Also, the data type of its elements shouldn't differ and the number of elements in each row or column has to be the same, since <b>the numpy array represents a N x M matrix</b>.<br>\n",
    "Some of the key features of NumPy are:\n",
    "    <ul>\n",
    "    <li> NumPy arrays are faster and more efficient than Python lists, especially for large datasets.\n",
    "    <li> NumPy arrays can be multi-dimensional, making it easy to work with matrices and arrays of any dimensionality.\n",
    "    <li> NumPy provides a large number of mathematical functions, including those for linear algebra, Fourier analysis, random number generation, and more.\n",
    "    <li> NumPy is open-source and freely available, making it accessible to anyone who wants to use it.\n",
    "    </ul>\n",
    "<div align=\"center\">\n",
    "<img src=\"img/numpy_nature.webp\" width=\"100%\">\n",
    "</div>\n",
    "</font>"
   ]
  },
  {
   "cell_type": "markdown",
   "metadata": {},
   "source": [
    "<font size=\"3\">For using Numpy, you have to import the package once. Since you will in the following often have to refer to numpy, we assign an alias that is faster to type (np):</font>"
   ]
  },
  {
   "cell_type": "code",
   "execution_count": null,
   "metadata": {},
   "outputs": [],
   "source": [
    "# import numpy with alias np\n",
    "import numpy as np"
   ]
  },
  {
   "cell_type": "markdown",
   "metadata": {},
   "source": [
    "### NumPy Array\n",
    "\n",
    "<br>\n",
    "<font size=\"3\">A NumPy Array can have many dimensions. Let's start with one (similar to a Python list) and two dimensions (similar to a matrix):</font>"
   ]
  },
  {
   "cell_type": "code",
   "execution_count": null,
   "metadata": {},
   "outputs": [],
   "source": [
    "# create a numpy array from a list\n",
    "my_list = [1.0,2.35,3.141]\n",
    "arr1 = np.array(my_list)\n",
    "print(\"type(my_list) =\", type(my_list))\n",
    "print(\"type(arr1) =\", type(arr1))\n",
    "print(\"arr1 =\", arr1)"
   ]
  },
  {
   "cell_type": "code",
   "execution_count": null,
   "metadata": {},
   "outputs": [],
   "source": [
    "# create an 2D array / a 3x3 matrix filled with zeros\n",
    "arr2 = np.zeros((3,3))\n",
    "print(\"type(arr2) =\", type(arr2))\n",
    "print(\"arr2 =\", arr2, sep=\"\\n\")"
   ]
  },
  {
   "cell_type": "code",
   "execution_count": null,
   "metadata": {},
   "outputs": [],
   "source": [
    "# create a numpy array filled with a specific value\n",
    "arr3 = np.full((3,2), 2)\n",
    "print(\"arr3 =\", arr3, sep=\"\\n\")"
   ]
  },
  {
   "cell_type": "code",
   "execution_count": null,
   "metadata": {},
   "outputs": [],
   "source": [
    "# index an array element in a multi-dimensional array\n",
    "arr2 = np.zeros((3,3))\n",
    "print(\"arr2 =\", arr2, sep=\"\\n\")\n",
    "print()\n",
    "arr2[0,0] = 1\n",
    "arr2[1,1] = 2\n",
    "arr2[2,2] = 3\n",
    "print(\"type(arr2) = \"+str(type(arr2)))\n",
    "print(\"arr2 = \\n\"+str(arr2))"
   ]
  },
  {
   "cell_type": "code",
   "execution_count": null,
   "metadata": {},
   "outputs": [],
   "source": [
    "# using the attribute \"size\" of the numpy array is more reliable than using the len() function\n",
    "# the attribute \"shape\" contains a tuple with the array or matrix dimensions\n",
    "print(\"arr2.size = \"+str(arr2.size))\n",
    "# convention for the shape tuple: (number of rows, number of columns) in case of a 2D array\n",
    "print(\"arr2.shape = \"+str(arr2.shape))"
   ]
  },
  {
   "cell_type": "markdown",
   "metadata": {},
   "source": [
    "#### More Indexing\n",
    "\n",
    "Indexing and slicing works just like with Python `list`s"
   ]
  },
  {
   "cell_type": "code",
   "execution_count": null,
   "metadata": {},
   "outputs": [],
   "source": [
    "data = np.array([1, 2, 3])\n",
    "\n",
    "print(\"data[1]:  \", data[1])\n",
    "print(\"data[0:2]:\", data[0:2])\n",
    "print(\"data[1:]: \", data[1:])\n",
    "print(\"data[-2:]:\", data[-2:])"
   ]
  },
  {
   "cell_type": "markdown",
   "metadata": {},
   "source": [
    "With higher-dimensional arrays, you can put a comma-separated list of indices in the `[ ]` operator. The `:` means that you want a slice of _all_ values in the respective dimension"
   ]
  },
  {
   "cell_type": "code",
   "execution_count": null,
   "metadata": {},
   "outputs": [],
   "source": [
    "arr4 = np.array([[1,2,3,4],[5,6,7,8],[9,10,11,12]])\n",
    "print(\"arr4\\n\", arr4, \"\\n\")\n",
    "print(\"arr4[2,1]\", arr4[2,1], \"\\n\")\n",
    "print(\"arr4[0,:]\", arr4[0,:], \"\\n\")\n",
    "print(\"arr4[0]  \", arr4[0], \"\\n\")\n",
    "print(\"arr4[:,0]\", arr4[:,0], \"\\n\")\n",
    "print(\"arr4[0:2,1:3]\\n\", arr4[0:2,1:3])"
   ]
  },
  {
   "cell_type": "markdown",
   "metadata": {},
   "source": [
    "<font size=\"3\"><div class=\"alert alert-warning\"><b>Exercise 1.1:</b><br>\n",
    "Practice using Numpy! Create a 3-dimensional Numpy array with zeros of the shape `(3,2,4)`.<br>\n",
    "Replace the first <i>2 x 4</i> matrix with an array of the same shape (`(2,4)`), containing only twos.<br>\n",
    "In the second <i>2 x 4</i> matrix, write all numbers from 0 to 7.<br>\n",
    "In the third <i>2 x 4</i> matrix, store the result of the element-wise multiplication of the first two matrices\n",
    "</div>"
   ]
  },
  {
   "cell_type": "markdown",
   "metadata": {},
   "source": [
    "Hints:\n",
    "* `np.array([1,2,3,4]) * 2` results in the array `[2,4,6,8]`\n",
    "    \n",
    "* `np.array([1,2,3,4]) * np.array([1,2,3,4])` performs element-wise multiplication and results in `[1,4,9,16]`\n",
    "    \n",
    "The result should look like this:\n",
    "    \n",
    "    [[[ 2.  2.  2.  2.]\n",
    "      [ 2.  2.  2.  2.]]\n",
    "\n",
    "     [[ 0.  1.  2.  3.]\n",
    "      [ 4.  5.  6.  7.]]\n",
    "\n",
    "     [[ 0.  2.  4.  6.]\n",
    "      [ 8. 10. 12. 14.]]]\n",
    "    \n",
    "or this\n",
    "    \n",
    "    [[[ 2.  2.  2.  2.]\n",
    "      [ 2.  2.  2.  2.]]\n",
    "\n",
    "     [[ 0.  2.  4.  6.]\n",
    "      [ 1.  3.  5.  7.]]\n",
    "\n",
    "     [[ 0.  4.  8. 12.]\n",
    "      [ 2.  6. 10. 14.]]]"
   ]
  },
  {
   "cell_type": "code",
   "execution_count": null,
   "metadata": {},
   "outputs": [],
   "source": [
    "# ====== ENTER YOUR CODE HERE ======="
   ]
  },
  {
   "cell_type": "code",
   "execution_count": null,
   "metadata": {
    "tags": []
   },
   "outputs": [],
   "source": [
    "# ========= SOLUTION =========\n",
    "\n",
    "x = np.zeros((3,2,4))\n",
    "\n",
    "x[0] = np.ones((2,4)) * 2\n",
    "\n",
    "v = 0\n",
    "for i in range(2):\n",
    "    for j in range(4):\n",
    "        x[1,i,j] = v\n",
    "        v += 1\n",
    "        \n",
    "x[2] = x[0]*x[1]\n",
    "print(x)"
   ]
  },
  {
   "cell_type": "markdown",
   "metadata": {},
   "source": [
    "<font size=\"3\"><b>Sometimes you want or need to change the shape of your numpy array using the reshape method:</b></font>"
   ]
  },
  {
   "cell_type": "code",
   "execution_count": null,
   "metadata": {},
   "outputs": [],
   "source": [
    "# defines a numpy array with row number unequal column number\n",
    "arr3 = np.array([[2,3],[3,5],[6,4]])\n",
    "print(\"content of arr3:\")\n",
    "print(arr3)"
   ]
  },
  {
   "cell_type": "code",
   "execution_count": null,
   "metadata": {},
   "outputs": [],
   "source": [
    "# prints the shape (number of rows, number of columns)\n",
    "print(\"shape of arr3:\")\n",
    "print(arr3.shape)"
   ]
  },
  {
   "cell_type": "code",
   "execution_count": null,
   "metadata": {},
   "outputs": [],
   "source": [
    "# transposes the array / matrix\n",
    "arr3 = arr3.T\n",
    "print(\"transposed array (rows and columns interchanged):\")\n",
    "print(arr3)"
   ]
  },
  {
   "cell_type": "code",
   "execution_count": null,
   "metadata": {},
   "outputs": [],
   "source": [
    "# prints the shape of the transposed array\n",
    "print(\"shape of the transposed arr3:\")\n",
    "print(arr3.shape)"
   ]
  },
  {
   "cell_type": "code",
   "execution_count": null,
   "metadata": {},
   "outputs": [],
   "source": [
    "# changing the shape could be achieved using the reshape method expecting a tuple \n",
    "# (total number of elements needs to be the same!)\n",
    "arr3 = np.array([[2,3],[3,5],[6,4]]) # reset array to original\n",
    "arr3 = arr3.reshape(2,3)\n",
    "print(arr3) # note that the order of elements might be different from arr3.T"
   ]
  },
  {
   "cell_type": "markdown",
   "metadata": {},
   "source": [
    "<font size=\"3\"><b>Often you would like to perform computations over an entire row or column of your array (hence your dataset) for some statistical evaluation, like:\n",
    "    </b></font>"
   ]
  },
  {
   "cell_type": "code",
   "execution_count": null,
   "metadata": {},
   "outputs": [],
   "source": [
    "# generates a 2D matrix of random floating-point numbers\n",
    "# np.random.normal generates normally distributed random numbers and expects (mean, standard deviation, size=(a,b))\n",
    "arr = np.random.normal(0,2,size=(6,8))\n",
    "print(\"random number array:\")\n",
    "print(arr)"
   ]
  },
  {
   "cell_type": "code",
   "execution_count": null,
   "metadata": {},
   "outputs": [],
   "source": [
    "# sums all values in each column\n",
    "col_sum = np.sum(arr, axis=0)\n",
    "print(\"col_sum = \"+str(col_sum))"
   ]
  },
  {
   "cell_type": "code",
   "execution_count": null,
   "metadata": {},
   "outputs": [],
   "source": [
    "# sums all values in each row\n",
    "row_sum = np.sum(arr, axis=1)\n",
    "print(\"row_sum = \"+str(row_sum))"
   ]
  },
  {
   "cell_type": "code",
   "execution_count": null,
   "metadata": {},
   "outputs": [],
   "source": [
    "# multiplies all values in each column\n",
    "col_prod = np.prod(arr, axis=0)\n",
    "print(\"col_prod = \"+str(col_prod))"
   ]
  },
  {
   "cell_type": "code",
   "execution_count": null,
   "metadata": {},
   "outputs": [],
   "source": [
    "# multiplies all values in each row\n",
    "row_prod = np.prod(arr, axis=1)\n",
    "print(\"row_prod = \"+str(row_prod))"
   ]
  },
  {
   "cell_type": "code",
   "execution_count": null,
   "metadata": {},
   "outputs": [],
   "source": [
    "# calculate mean\n",
    "total_mean = np.mean(arr)\n",
    "print(\"Overall mean:\"+str(total_mean))\n",
    "# calculate standard deviation\n",
    "total_std = np.std(arr)\n",
    "print(\"Overall standard deviation:\"+str(total_std))"
   ]
  },
  {
   "cell_type": "code",
   "execution_count": null,
   "metadata": {},
   "outputs": [],
   "source": [
    "# calculate mean over all elements in a column (iterates over first array dimension)\n",
    "col_mean = np.mean(arr, axis=0)\n",
    "print(col_mean)"
   ]
  },
  {
   "cell_type": "code",
   "execution_count": null,
   "metadata": {},
   "outputs": [],
   "source": [
    "# calculate mean over all elements in a row (iterates over second array dimension)\n",
    "row_mean = np.mean(arr, axis=1)\n",
    "print(row_mean)"
   ]
  },
  {
   "cell_type": "markdown",
   "metadata": {},
   "source": [
    "#### Numpy Performance\n",
    "\n",
    "Other than being very convenient to use, these Numpy functions also speed up your code!  \n",
    "\n",
    "Take for example the sum of all matrix elements. One could compute this manually by accessing all the elements and summing up on the way\n",
    "\n",
    "As we will see, numpy functions are much faster!"
   ]
  },
  {
   "cell_type": "code",
   "execution_count": null,
   "metadata": {},
   "outputs": [],
   "source": [
    "import time # load the module time, contains functions to measure time\n",
    "\n",
    "big_array = np.random.normal(0,2,size=(1000,8000)) # large array with 8 million elements\n",
    "\n",
    "# manual sum calculation\n",
    "start_timepoint = time.time() # store the current time\n",
    "manual_sum = 0\n",
    "for i in range(0, 1000):\n",
    "    for j in range(0, 8000):\n",
    "        manual_sum += big_array[i,j]\n",
    "\n",
    "duration = time.time() - start_timepoint # calculate how many seconds have passed since `start_timepoint` and now\n",
    "print(manual_sum, \"\\nManual calculation took\", duration, \"s\")\n",
    "print()\n",
    "\n",
    "# numpy sum\n",
    "start_timepoint = time.time() # store the current time\n",
    "np_sum = big_array.sum()\n",
    "duration = time.time() - start_timepoint # calculate how many seconds have passed since `start_timepoint` and now\n",
    "print(np_sum, \"\\nNumpy calculation took\", duration, \"s\")"
   ]
  },
  {
   "cell_type": "markdown",
   "metadata": {},
   "source": [
    "<font size=\"3\"><div class=\"alert alert-warning\"><b>Exercise 1.2:</b><br>\n",
    "Suppose you are given two arrays of shape (3, 4):\n",
    "Write a program using NumPy that performs the following operations:\n",
    "    <ul>\n",
    "    <li> Compute the element-wise sum of the two arrays and store the result in a new array c.\n",
    "    <li> Compute the dot product of the two arrays and store the result in a new array d.\n",
    "    <li> Reshape c into an array of shape (2, 6) and store the result in a new array e.\n",
    "    <li> Compute the element-wise product of the first two rows of e and store the result in a new array f.\n",
    "    <li> Compute the transpose of f and store the result in a new array g.\n",
    "    <li> Compute the sum of the elements in g and print the result.\n",
    "    </ul>\n",
    "</div>"
   ]
  },
  {
   "cell_type": "code",
   "execution_count": null,
   "metadata": {},
   "outputs": [],
   "source": [
    "import numpy as np \n",
    "\n",
    "a = np.array([[1, 2, 3, 4], [5, 6, 7, 8], [9, 10, 11, 12]])\n",
    "b = np.array([[12, 11, 10, 9], [8, 7, 6, 5], [4, 3, 2, 1]])\n",
    "\n",
    "# ====== ENTER YOUR CODE HERE ======="
   ]
  },
  {
   "cell_type": "code",
   "execution_count": null,
   "metadata": {},
   "outputs": [],
   "source": [
    "# ========= SOLUTION =========\n",
    "\n",
    "import numpy as np\n",
    "\n",
    "# Given arrays\n",
    "a = np.array([[1, 2, 3, 4], [5, 6, 7, 8], [9, 10, 11, 12]])\n",
    "b = np.array([[12, 11, 10, 9], [8, 7, 6, 5], [4, 3, 2, 1]])\n",
    "\n",
    "# Element-wise sum of a and b\n",
    "c = a + b\n",
    "\n",
    "# Dot product of a and b\n",
    "d = np.dot(a, b.T)\n",
    "\n",
    "# Reshape c into an array of shape (2, 6)\n",
    "e = c.reshape(2, 6)\n",
    "print(e)\n",
    "# Element-wise product of the first two rows of e\n",
    "f = e[0, :] * e[1,:]\n",
    "# Transpose of f\n",
    "g = f.T\n",
    "\n",
    "# Sum of the elements in g\n",
    "result = np.sum(g)\n",
    "\n",
    "print(result)"
   ]
  },
  {
   "cell_type": "markdown",
   "metadata": {},
   "source": [
    "<font size=\"3\"><div class=\"alert alert-warning\"><b>Exercise 1.3:</b><br>\n",
    "Create a NumPy array of shape (4, 5) containing random integers in the range from 1 to 100, and perform the following operations:\n",
    "    <ul>\n",
    "    <li> Calculate the mean and median of the array.\n",
    "    <li> Reshape the array into an array of shape (5, 4).\n",
    "    <li> Calculate the standard deviation of the reshaped array along the first axis.\n",
    "    <li> Replace all the elements in the original array that are greater than the median with the value 0.\n",
    "    <li> Print the resulting array after step 4.\n",
    "    </ul>\n",
    "</div>"
   ]
  },
  {
   "cell_type": "code",
   "execution_count": null,
   "metadata": {},
   "outputs": [],
   "source": [
    "# ====== ENTER YOUR CODE HERE ======="
   ]
  },
  {
   "cell_type": "code",
   "execution_count": null,
   "metadata": {},
   "outputs": [],
   "source": [
    "# ========= SOLUTION =========\n",
    "\n",
    "import numpy as np\n",
    "\n",
    "# Create a NumPy array of shape (4, 5) containing random integers in the range from 1 to 100\n",
    "arr = np.random.randint(1, 101, size=(4, 5))\n",
    "\n",
    "# Calculate the mean and median of the array\n",
    "mean = np.mean(arr)\n",
    "median = np.median(arr)\n",
    "\n",
    "# Reshape the array into an array of shape (5, 4)\n",
    "arr_reshaped = arr.reshape(5, 4)\n",
    "\n",
    "# Calculate the standard deviation of the reshaped array along the first axis\n",
    "std_dev = np.std(arr_reshaped, axis=0)\n",
    "\n",
    "# Replace all the elements in the original array that are greater than the median with the value 0\n",
    "arr[arr > median] = 0\n",
    "\n",
    "# Print the resulting array after step 4\n",
    "print(arr)\n"
   ]
  },
  {
   "cell_type": "markdown",
   "metadata": {
    "tags": []
   },
   "source": [
    "# Visualizing Data with Matplotlib\n",
    "<br>\n",
    "<font size=\"3\">\n",
    "    <b>One picture can say more than 1000 words:</b> Visualizing your data is probably the most important aspect in your daily work routine. <a href=\"https://matplotlib.org/\">Matplotlib</a> is the most common Python package for data visualization offering a multitude of different plot types and options to tailor the plots according to your needs. Even Latex can be used to obtain nice looking plot titles, axes labels and annotations.<br><br>\n",
    "    <a href=\"https://matplotlib.org/stable/gallery/index.html\">See a plot gallery here</a> of all the possibilities and functions matplotlib offers out-of-the-box.\n",
    "</font>\n",
    "\n",
    "### Example 1:"
   ]
  },
  {
   "cell_type": "markdown",
   "metadata": {},
   "source": [
    "<font size=\"3\">First you need to import the pyplot function from matplotlib using</font>"
   ]
  },
  {
   "cell_type": "code",
   "execution_count": null,
   "metadata": {},
   "outputs": [],
   "source": [
    "import matplotlib.pyplot as plt\n",
    "import numpy as np"
   ]
  },
  {
   "cell_type": "code",
   "execution_count": null,
   "metadata": {},
   "outputs": [],
   "source": [
    "x = np.linspace(0, 2*np.pi, 100)\n",
    "y = np.sin(x) \n",
    "y"
   ]
  },
  {
   "cell_type": "markdown",
   "metadata": {},
   "source": [
    "<font size=\"3\">Then we plot a simple sine:</font>"
   ]
  },
  {
   "cell_type": "code",
   "execution_count": null,
   "metadata": {
    "scrolled": true,
    "tags": []
   },
   "outputs": [],
   "source": [
    "# array [0, .01, .02, ..., 2*3.14]\n",
    "# one option is np.arange\n",
    "#x = np.arange(start = 0, stop = 2 * np.pi, step = 0.01) \n",
    "# another option is np.linspace\n",
    "x = np.linspace(0, 2*np.pi, 100)\n",
    "# applies sine elementwise\n",
    "y = np.sin(x) \n",
    "# data for the 2nd graph\n",
    "y2 = np.cos(x)\n",
    "\n",
    "# figure size and resolution in dpi (dots per inch)\n",
    "width_px = 640\n",
    "height_px = 480\n",
    "dpi = 100\n",
    "# create a figure\n",
    "fig = plt.figure(figsize=(width_px/dpi, height_px/dpi), dpi=dpi)\n",
    "# create a new plot\n",
    "ax = fig.add_subplot()\n",
    "# create the plot\n",
    "ax.plot(x, y, label=\"graph 1\")\n",
    "ax.plot(x, y2, color=\"red\", label=\"graph 2\")\n",
    "# adds a grid\n",
    "ax.grid(which=\"both\", color=\"gray\", linestyle=\":\")\n",
    "# semicolon suppresses output of last line in cell\n",
    "ax.set_title(\"Sine Wave\"); \n",
    "ax.set_xlabel(\"x\");\n",
    "ax.set_ylabel(\"y\");\n",
    "# adds a legend for the graphs in the plot\n",
    "ax.legend(loc=\"upper right\")\n",
    "plt.show()"
   ]
  },
  {
   "cell_type": "code",
   "execution_count": null,
   "metadata": {
    "tags": []
   },
   "outputs": [],
   "source": [
    "# array [0, .01, .02, ..., 2*3.14]\n",
    "# one option is np.arange\n",
    "#x = np.arange(start = 0, stop = 2 * np.pi, step = 0.01) \n",
    "# another option is np.linspace\n",
    "x = np.linspace(0, 2*np.pi, 20)\n",
    "# applies sine elementwise\n",
    "y = np.sin(x) \n",
    "# data for the 2nd graph\n",
    "y2 = np.cos(x)\n",
    "\n",
    "# figure size and resolution in dpi (dots per inch)\n",
    "width_px = 640\n",
    "height_px = 480\n",
    "dpi = 100\n",
    "# create a figure\n",
    "fig = plt.figure(figsize=(width_px/dpi, height_px/dpi), dpi=dpi)\n",
    "# create a new plot\n",
    "ax = fig.add_subplot()\n",
    "# create the plot\n",
    "ax.scatter(x, y, label=\"graph 1\")\n",
    "ax.scatter(x, y2, color=\"red\", label=\"graph 2\")\n",
    "# adds a grid\n",
    "ax.grid(which=\"both\", color=\"gray\", linestyle=\":\")\n",
    "# semicolon suppresses output of last line in cell\n",
    "ax.set_title(\"Sine Wave\"); \n",
    "ax.set_xlabel(\"x\");\n",
    "ax.set_ylabel(\"y\");\n",
    "# adds a legend for the graphs in the plot\n",
    "ax.legend(loc=\"upper right\")\n",
    "plt.show()"
   ]
  },
  {
   "cell_type": "code",
   "execution_count": null,
   "metadata": {},
   "outputs": [],
   "source": [
    "# generates an array with normal distributed random values\n",
    "N = int(1E4)\n",
    "x = np.random.normal(0, 1, (N,))\n",
    "# applies sine elementwise\n",
    "y = np.random.normal(0, 1, (N,))\n",
    "\n",
    "# figure size and resolution in dpi (dots per inch)\n",
    "width_px = 640\n",
    "height_px = 480\n",
    "dpi = 100\n",
    "# create a figure\n",
    "fig = plt.figure(figsize=(width_px/dpi, height_px/dpi), dpi=dpi)\n",
    "# create a new plot\n",
    "ax = fig.add_subplot()\n",
    "# create the plot\n",
    "ax.scatter(x, y, label=\"graph 1\", s=1, color=\"black\", marker=\".\")\n",
    "# adds a grid\n",
    "ax.grid(which=\"both\", color=\"gray\", linestyle=\":\")\n",
    "# semicolon suppresses output of last line in cell\n",
    "ax.set_title(\"Random values\"); \n",
    "ax.set_xlabel(\"x\");\n",
    "ax.set_ylabel(\"y\");\n",
    "# adds a legend for the graphs in the plot\n",
    "ax.legend(loc=\"upper right\")\n",
    "plt.show()"
   ]
  },
  {
   "cell_type": "markdown",
   "metadata": {},
   "source": [
    "### Example 2:"
   ]
  },
  {
   "cell_type": "code",
   "execution_count": null,
   "metadata": {},
   "outputs": [],
   "source": [
    "import matplotlib.pyplot as plt\n",
    "import numpy as np\n",
    "\n",
    "# Generate some random data\n",
    "x = np.linspace(0, 10, 100)\n",
    "y1 = np.sin(x)\n",
    "y2 = np.cos(x)\n",
    "\n",
    "# Create a figure with two subplots\n",
    "fig, axs = plt.subplots(nrows=1, ncols=2, figsize=(8, 4))\n",
    "\n",
    "# Plot the first subplot\n",
    "axs[0].plot(x, y1)\n",
    "axs[0].set_title('Figure 1')\n",
    "\n",
    "# Plot the second subplot\n",
    "axs[1].plot(x, y2, color=\"red\")\n",
    "axs[1].set_title('Figure 2')\n",
    "\n",
    "# Set the spacing between subplots\n",
    "plt.subplots_adjust(wspace=0.3)\n",
    "\n",
    "# Show the plot\n",
    "plt.show()\n"
   ]
  },
  {
   "cell_type": "markdown",
   "metadata": {},
   "source": [
    "### Example 3:"
   ]
  },
  {
   "cell_type": "code",
   "execution_count": null,
   "metadata": {},
   "outputs": [],
   "source": [
    "Img = np.random.randint(low=0, high=255, size=(100, 100, 3), dtype='B') # B: unsigned byte (0..255)\n",
    "#print(Img) # Img is a three-dim array\n",
    "plt.imshow(Img, interpolation=\"none\"); # third dimension interpreted as red, green, blue\n",
    "# image coordinates are numbered as in matrices, first rows (top to bottom) then columns (left to right)"
   ]
  },
  {
   "cell_type": "markdown",
   "metadata": {
    "tags": []
   },
   "source": [
    "### More complex Example 4:\n",
    "\n",
    "<br>\n",
    "<font size=\"3\">\n",
    "A more complex example demonstrating almost all capabilities to customize your plot:\n",
    "</font>"
   ]
  },
  {
   "cell_type": "code",
   "execution_count": null,
   "metadata": {},
   "outputs": [],
   "source": [
    "# a very simple example to begin with\n",
    "import numpy as np\n",
    "from matplotlib import pyplot as plt\n",
    "\n",
    "# generate the data to plot\n",
    "omega = 1\n",
    "# yields a numpy array of N equidistant points on the given interval\n",
    "x = np.linspace(-2*np.pi, 2*np.pi, 100)\n",
    "y = np.sin(x)\n",
    "\n",
    "# here you can set the size and resolution of the plot\n",
    "#resolution in dpi = dots per inch\n",
    "# for the screen 75 to 120 dpi isfine\n",
    "# for a publication you'd need to use a higher resolution of 150 or 300 dpi\n",
    "dpi = 150\n",
    "# height in inch\n",
    "height = 3 \n",
    "# width in inch\n",
    "width = 4\n",
    "\n",
    "# initalize the new figure\n",
    "fig = plt.figure(figsize=(width, height), dpi=dpi)\n",
    "\n",
    "# Here you could specify multiple plots aside or in a matrix configurationn\n",
    "# we just want one plot in the figure, \n",
    "# thats why we set 111 = number of rows, number of columns, total num of plots\n",
    "ax = fig.add_subplot(111)\n",
    "\n",
    "# create the plot itself (a line plot connecting the points)\n",
    "# plot the sine\n",
    "ax.plot(x, y, color = \"r\", linestyle = \"--\", linewidth = 2, label = \"sine\")\n",
    "# plot a constant line at zero\n",
    "ax.plot(x, np.zeros(x.shape), color = \"black\", linestyle = \"-\", linewidth = 2, label = \"line\")\n",
    "# plot a graph\n",
    "ax.plot(x, x, color = \"blue\", linestyle = \":\", linewidth = 1, label = \"graph\")\n",
    "\n",
    "# use a grid in the background\n",
    "ax.grid(which=\"both\", color=\"gray\", linestyle=\"-.\", linewidth=0.5)\n",
    "\n",
    "# set the plot title using Latex\n",
    "# the semicolon at the end of the line is to suppress the output of the function\n",
    "# (one of the rare cases where you'd end a line of Python code with a semicolon)\n",
    "ax.set_title(\"A first plot of \" + r'$y = \\sin\\left(2 \\pi \\omega t\\right)$');\n",
    "\n",
    "# set the axes labels\n",
    "ax.set_xlabel(\"x\");\n",
    "ax.set_ylabel(r'$\\sum_{i=1}^{N} \\frac{1}{i} \\psi$');\n",
    "\n",
    "# normal string definition in Python uses \"string\"\n",
    "# in order to use Latex in title or axes label, use r'string'\n",
    "# Why is that?\n",
    "# If double quotation marks are used, the string is \"processed\" and the so-called escape sequences (e.g. \\n for a linebreak are replaced)\n",
    "# If single quotation marks like r'string' are used, the string is stored as it is.\n",
    "\n",
    "# use the plot legend\n",
    "# only works if keyword argument 'label' was given to the method plot\n",
    "ax.legend()\n",
    "\n",
    "# save the plot in a file\n",
    "# the file ending determines the format\n",
    "# valied formats are e.g. jpg, png for raster graphics (will become pixelated if you zoom in and the resolution is too small)\n",
    "# you can also export the plot as vector graphics with ending .eps (will be rendered at every zoom level)\n",
    "fig.savefig(\"plot.png\")"
   ]
  },
  {
   "cell_type": "markdown",
   "metadata": {},
   "source": [
    "### More complex Example 5:\n",
    "\n",
    "<br>\n",
    "<font size=\"3\">A histogram plot as more complex example for a plot:</font>"
   ]
  },
  {
   "cell_type": "code",
   "execution_count": null,
   "metadata": {
    "scrolled": true
   },
   "outputs": [],
   "source": [
    "# a very simple example to begin with\n",
    "import numpy as np\n",
    "from matplotlib import pyplot as plt\n",
    "\n",
    "# generate data to work with\n",
    "num_values = 1E6\n",
    "x = np.random.normal(0,1,int(num_values))\n",
    "\n",
    "# here you can set the size and resolution of the plot\n",
    "#resolution in dpi = dots per inch\n",
    "# for the screen 75 to 120 dpi isfine\n",
    "# for a publication you'd need to use a higher resolution of 150 or 300 dpi\n",
    "dpi = 150\n",
    "# height in inch\n",
    "height = 3 \n",
    "# width in inch\n",
    "width = 4\n",
    "\n",
    "# initalize the new figure\n",
    "fig = plt.figure(figsize=(width, height), dpi=dpi)\n",
    "\n",
    "# Here you could specify multiple plots aside or in a matrix configurationn\n",
    "# we just want one plot in the figure, \n",
    "# thats why we set 111 = number of rows, number of columns, total num of plots\n",
    "ax = fig.add_subplot(111)\n",
    "\n",
    "# plots a histogram, use parameter density to normalize the vertical axis\n",
    "h=ax.hist(x, bins=100, color=\"black\", density=True)\n",
    "ax.set_ylabel(\"count\");\n",
    "ax.set_xlabel(\"x\");\n",
    "ax.set_title(\"A simple histogram\")\n",
    "ax.grid(which=\"both\",color=\"gray\",linewidth=0.5,linestyle=\"--\")\n",
    "plt.show()"
   ]
  },
  {
   "cell_type": "markdown",
   "metadata": {},
   "source": [
    "<font size=\"3\">For further options to customize plots, have also a look at the predefined <a href=\"https://matplotlib.org/3.1.0/gallery/color/named_colors.html\">color</a> and <a href=\"https://matplotlib.org/3.3.1/api/_as_gen/matplotlib.lines.Line2D.html#matplotlib.lines.Line2D.lineStyles\">linestyle</a> or <a href=\"https://matplotlib.org/3.3.1/api/_as_gen/matplotlib.lines.Line2D.html#matplotlib.lines.Line2D.lineStyles\">here</a> keywords on the matplotlib website.</b>\n",
    "</font>"
   ]
  },
  {
   "cell_type": "markdown",
   "metadata": {},
   "source": [
    "<font size=\"3\">\n",
    "<div class=\"alert alert-warning\"><b>Exercise 6:</b> Create a plot for the function f(x) = 3x + 2 in the interval [-2, 3] in <b>black</b>. Also plot a horizontal, <b>red</b>, <b>dashed</b> line in the same graph at y = 1.\n",
    "<br><br>\n",
    "<b>Hint:</b> Use np.arange or <a href=\"https://numpy.org/doc/stable/reference/generated/numpy.linspace.html\">np.linspace</a> to create an array with x values. Use the style keywords color and linestyle to change the appearance of the graphs. Use <a href=\"https://numpy.org/doc/stable/reference/generated/numpy.full.html\">np.full</a> to create an array filled with a given value.\n",
    "</div>\n",
    "</font>\n",
    "\n",
    "Your figure should look something like this:  \n",
    "![](img/ex6.png)   "
   ]
  },
  {
   "cell_type": "markdown",
   "metadata": {},
   "source": [
    "### Try it yourself:"
   ]
  },
  {
   "cell_type": "code",
   "execution_count": null,
   "metadata": {},
   "outputs": [],
   "source": [
    "# ====== ENTER YOUR CODE HERE ======="
   ]
  },
  {
   "cell_type": "code",
   "execution_count": null,
   "metadata": {
    "tags": []
   },
   "outputs": [],
   "source": [
    "# ====== SOLUTION =======\n",
    "import matplotlib.pyplot as plt\n",
    "import numpy as np\n",
    "\n",
    "# creates an array with 100 values between -2 and 3 \n",
    "x = np.linspace(-2,3,100)\n",
    "y = 3 * x + 2\n",
    "\n",
    "# creates an array with 100 elements filled with 1\n",
    "y2 = np.full(100, 1)\n",
    "\n",
    "fig, ax = plt.subplots(1,1)\n",
    "ax.plot(x, y, color=\"black\")\n",
    "ax.plot(x, y2, color=\"red\", linestyle=\"-.\")\n",
    "plt.show()"
   ]
  },
  {
   "cell_type": "markdown",
   "metadata": {},
   "source": [
    "<font size=\"3\">\n",
    "<div class=\"alert alert-warning\"><b>Exercise 7:</b> Fill out the gaps denoted by '...ENTER CODE HERE...' to produce the Figure shown below.\n",
    "</div>\n",
    "</font>\n",
    "\n",
    "Your figure should look something like this:  \n",
    "![](img/ex7.png)   "
   ]
  },
  {
   "cell_type": "code",
   "execution_count": null,
   "metadata": {},
   "outputs": [],
   "source": [
    "# ====== ENTER YOUR CODE HERE =======\n",
    "\n",
    "import matplotlib.pyplot as plt\n",
    "import numpy as np\n",
    "\n",
    "# Generate some data\n",
    "x = np.linspace(0, 10, 100)\n",
    "y1 = np.sin(x)\n",
    "y2 = np.cos(x)\n",
    "y3 = np.tan(x)\n",
    "\n",
    "# Create a figure with two subplots\n",
    "fig, (ax1, ax2) = ...ENTER CODE HERE...\n",
    "\n",
    "# Plot the data on the first subplot\n",
    "ax1.plot(x, y1, label='Sin(x)', color='red')\n",
    "...ENTER CODE HERE...\n",
    "ax1.set_title('Trigonometric Functions')\n",
    "ax1.legend()\n",
    "\n",
    "# Add some annotations to the first subplot\n",
    "ax1.text(...ENTER CODE HERE..., transform=ax1.transAxes)\n",
    "ax1.annotate(...ENTER CODE HERE..., xy=(np.pi/2, 1), xytext=(np.pi/2, 2),\n",
    "             arrowprops=dict(facecolor='black', shrink=0.05))\n",
    "\n",
    "# Plot a histogram on the second subplot\n",
    "mu, sigma = 0, 1\n",
    "data = np.random.normal(mu, sigma, size=1000)\n",
    "...ENTER CODE HERE...\n",
    "\n",
    "# Add a vertical line to the second subplot\n",
    "ax2.axvline(x=mu, ...ENTER CODE HERE...)\n",
    "ax2.legend()\n",
    "\n",
    "# Add a global title to the figure\n",
    "...ENTER CODE HERE...\n",
    "\n",
    "# Show the plot\n",
    "plt.show()"
   ]
  },
  {
   "cell_type": "code",
   "execution_count": null,
   "metadata": {},
   "outputs": [],
   "source": [
    "# =========== SOLUTION ============\n",
    "\n",
    "import matplotlib.pyplot as plt\n",
    "import numpy as np\n",
    "\n",
    "# Generate some data\n",
    "x = np.linspace(0, 10, 100)\n",
    "y1 = np.sin(x)\n",
    "y2 = np.cos(x)\n",
    "y3 = np.tan(x)\n",
    "\n",
    "# Create a figure with two subplots\n",
    "fig, (ax1, ax2) = plt.subplots(2, 1, figsize=(8, 10))\n",
    "\n",
    "# Plot the data on the first subplot\n",
    "ax1.plot(x, y1, label='Sin(x)', color='red')\n",
    "ax1.plot(x, y2, label='Cos(x)', color='green')\n",
    "ax1.set_title('Trigonometric Functions')\n",
    "ax1.legend()\n",
    "\n",
    "# Add some annotations to the first subplot\n",
    "ax1.text(0.1, 0.9, 'Some annotation', transform=ax1.transAxes)\n",
    "ax1.annotate('Maximum', xy=(np.pi/2, 1), xytext=(np.pi/2, 2),\n",
    "             arrowprops=dict(facecolor='black', shrink=0.05))\n",
    "\n",
    "# Plot a histogram on the second subplot\n",
    "mu, sigma = 0, 1\n",
    "data = np.random.normal(mu, sigma, size=1000)\n",
    "ax2.hist(data, bins=50, alpha=0.5, color='blue')\n",
    "ax2.set_title('Normal Distribution')\n",
    "\n",
    "# Add a vertical line to the second subplot\n",
    "ax2.axvline(x=mu, linestyle='--', color='black', label='Mean')\n",
    "ax2.legend()\n",
    "\n",
    "# Add a global title to the figure\n",
    "fig.suptitle('Two Subplots with Different Visualizations')\n",
    "\n",
    "# Show the plot\n",
    "plt.show()"
   ]
  },
  {
   "cell_type": "markdown",
   "metadata": {},
   "source": [
    "---\n",
    "\n",
    "# The library Pandas\n",
    "\n",
    "<br>\n",
    "<font size=\"3\">\n",
    "Neither NumPy arrays, nor any of the native Python data structures (e.g. lists, dicts, ...) are suitable to handle the data that is typically generated in scientific experiments or by surveys. These are typically tables where one column contains one data type, but different columns may have different data types. The solution in Python is to use Pandas (https://pandas.pydata.org/). Pandas is also most popular for time series data.\n",
    "<br><br>\n",
    "If we want to use Pandas, we have to import it:\n",
    "</font>"
   ]
  },
  {
   "cell_type": "code",
   "execution_count": null,
   "metadata": {},
   "outputs": [],
   "source": [
    "import pandas as pd"
   ]
  },
  {
   "cell_type": "markdown",
   "metadata": {},
   "source": [
    "<font size=\"3\">\n",
    "With Pandas, we can easily import a csv file that had previously been exported from LibreOffice Calc (or similar Office software):\n",
    "</font>"
   ]
  },
  {
   "cell_type": "code",
   "execution_count": null,
   "metadata": {},
   "outputs": [],
   "source": [
    "# have a look at the raw file content\n",
    "with open(\"data/melon.csv\", \"rt\") as file_handle:\n",
    "    lines = file_handle.readlines()\n",
    "    \n",
    "lines[:10]"
   ]
  },
  {
   "cell_type": "code",
   "execution_count": null,
   "metadata": {},
   "outputs": [],
   "source": [
    "# load the file with pandas\n",
    "melon = pd.read_csv('data/melon.csv', sep='\\t')\n",
    "melon"
   ]
  },
  {
   "cell_type": "markdown",
   "metadata": {},
   "source": [
    "<font size=\"3\">We can play with accessing parts of the melon data set:</font>"
   ]
  },
  {
   "cell_type": "code",
   "execution_count": null,
   "metadata": {},
   "outputs": [],
   "source": [
    "#print(\"access lines 1 and 2, all columns:\")\n",
    "# line index is 0-based\n",
    "print(melon.iloc[1:3, 0])"
   ]
  },
  {
   "cell_type": "code",
   "execution_count": null,
   "metadata": {},
   "outputs": [],
   "source": [
    "print(\"access a particular single value as scalar:\")\n",
    "print(melon.iloc[1,1])"
   ]
  },
  {
   "cell_type": "code",
   "execution_count": null,
   "metadata": {},
   "outputs": [],
   "source": [
    "print(\"access a column by name (only first couple of lines):\")\n",
    "print(melon[\"yield\"].head(10))"
   ]
  },
  {
   "cell_type": "code",
   "execution_count": null,
   "metadata": {},
   "outputs": [],
   "source": [
    "print(melon.head())"
   ]
  },
  {
   "cell_type": "code",
   "execution_count": null,
   "metadata": {},
   "outputs": [],
   "source": [
    "# like in Numpy we can also use comparisons in Pandas when elements are addressed\n",
    "print(\"find parts of dataframe where yield >37:\")\n",
    "print(melon[ melon['yield'] > 37 ])"
   ]
  },
  {
   "cell_type": "code",
   "execution_count": null,
   "metadata": {},
   "outputs": [],
   "source": [
    "print(\"find parts of dataframe where variety is D:\")\n",
    "print(melon[melon['variety'] == 'D'])"
   ]
  },
  {
   "cell_type": "code",
   "execution_count": null,
   "metadata": {},
   "outputs": [],
   "source": [
    "print(melon[melon[\"variety\"] == \"C\"])"
   ]
  },
  {
   "cell_type": "code",
   "execution_count": null,
   "metadata": {},
   "outputs": [],
   "source": [
    "print(melon.count())"
   ]
  },
  {
   "cell_type": "code",
   "execution_count": null,
   "metadata": {},
   "outputs": [],
   "source": [
    "# count the number of occurrences of this variety\n",
    "print(melon[melon[\"variety\"] == \"C\"][\"yield\"])"
   ]
  },
  {
   "cell_type": "code",
   "execution_count": null,
   "metadata": {},
   "outputs": [],
   "source": [
    "melon[\"yield\"].mean()"
   ]
  },
  {
   "cell_type": "code",
   "execution_count": null,
   "metadata": {},
   "outputs": [],
   "source": [
    "# group-by functionality facilitates analyses\n",
    "print(melon.groupby(\"variety\").mean())"
   ]
  },
  {
   "cell_type": "markdown",
   "metadata": {},
   "source": [
    "<font size=\"3\">Table-like data in Pandas is stored in DataFrame objects, as we can see, when we check the datatype of our melon dataset:</font>"
   ]
  },
  {
   "cell_type": "code",
   "execution_count": null,
   "metadata": {},
   "outputs": [],
   "source": [
    "print(type(melon))"
   ]
  },
  {
   "cell_type": "markdown",
   "metadata": {},
   "source": [
    "<font size=\"3\">A DataFrame can also be created manually from one or more lists or numpy arrays:</font>"
   ]
  },
  {
   "cell_type": "code",
   "execution_count": null,
   "metadata": {
    "scrolled": true
   },
   "outputs": [],
   "source": [
    "# You can define a name for each column with the parameter columns\n",
    "# The special thing about Pandas is now that one column can also be defined as index or can\n",
    "# be explicitly defined. Indexation is a key feature of big databases to speed-up queries.\n",
    "df = pd.DataFrame([123,23,54,15,89], columns=[\"numbers\"], index=[\"a\",\"b\",\"c\",\"d\",\"e\"])\n",
    "df"
   ]
  },
  {
   "cell_type": "markdown",
   "metadata": {},
   "source": [
    "<font size=\"3\">A Pandas DataFrame object also has useful attributes like index and columns:</font>"
   ]
  },
  {
   "cell_type": "code",
   "execution_count": null,
   "metadata": {},
   "outputs": [],
   "source": [
    "print(df.index)\n",
    "print(df.columns)\n",
    "print(df.dtypes)"
   ]
  },
  {
   "cell_type": "markdown",
   "metadata": {},
   "source": [
    "<font size=\"3\">Once defined, a DataFrame can be enlarged as well by other columns even if the columns contain a different data type:</font>"
   ]
  },
  {
   "cell_type": "code",
   "execution_count": null,
   "metadata": {
    "scrolled": true
   },
   "outputs": [],
   "source": [
    "df['floats'] = [1.23, 5.67, 4.31, 6.89, 5.34]\n",
    "df['names'] = ['Marco', 'Alex', 'John', 'Michael', 'Alistair']\n",
    "df"
   ]
  },
  {
   "cell_type": "code",
   "execution_count": null,
   "metadata": {},
   "outputs": [],
   "source": [
    "print(df.dtypes)"
   ]
  },
  {
   "cell_type": "markdown",
   "metadata": {},
   "source": [
    "<font size=\"3\">Or we simply add a new row with data providing a new DataFrame, but once an index has been defined, we need to make sure to provide then index values as well:</font>"
   ]
  },
  {
   "cell_type": "code",
   "execution_count": null,
   "metadata": {},
   "outputs": [],
   "source": [
    "df.append(pd.DataFrame({'numbers': 273, 'floats': 8.98, 'names': \"Florian\"}, index=['f']))"
   ]
  },
  {
   "cell_type": "markdown",
   "metadata": {},
   "source": [
    "<font size=\"3\"><div class=\"alert alert-warning\"><b>Exercise 6.2:</b> \n",
    "Use Pandas to load and analyze the data set bike.csv:<br>\n",
    "        1. Load data/bike.csv as a DataFrame with pandas and call it bike_data.<br>\n",
    "        2. Summarize/Describe each columns of your data set with key statistical values (mean, std, min, max, number of rows).<br>\n",
    "        3. Visualize the columns temp (x axis) and count (y axis) as a scatter plot with matplotlib.<br>\n",
    "        4. Load the second part of the data set (data/bike2.csv) and add the column date to your Data Frame bike_data.<br>\n",
    "        5. Select all rows with the date '2011-01-20' as a subset from bike_data and store them in a separate DataFrame bike_subset.<br>\n",
    "        6. Change your plot so that all data points of bike_subset are red and all other data points are blue.\n",
    "</div>\n",
    "    \n",
    "<b>Try to run it yourself here:</b></font>"
   ]
  },
  {
   "cell_type": "code",
   "execution_count": null,
   "metadata": {},
   "outputs": [],
   "source": [
    "# ====== ENTER YOUR CODE HERE ======="
   ]
  },
  {
   "cell_type": "markdown",
   "metadata": {},
   "source": [
    "#### Example Solution"
   ]
  },
  {
   "cell_type": "code",
   "execution_count": 40,
   "metadata": {},
   "outputs": [
    {
     "name": "stdout",
     "output_type": "stream",
     "text": [
      "              temp        count\n",
      "count  1482.000000  1482.000000\n",
      "mean     24.612173   311.000000\n",
      "std       4.979788   174.792339\n",
      "min      12.300000    14.000000\n",
      "25%      21.320000   184.000000\n",
      "50%      24.600000   272.000000\n",
      "75%      27.880000   398.750000\n",
      "max      38.540000   873.000000\n"
     ]
    }
   ],
   "source": [
    "import matplotlib.pyplot as plt\n",
    "import pandas as pd\n",
    "\n",
    "# Load data set and describe it\n",
    "bike_data = pd.read_csv(\"data/bike.csv\")\n",
    "print(bike_data.describe())\n",
    "\n"
   ]
  },
  {
   "cell_type": "code",
   "execution_count": 41,
   "metadata": {},
   "outputs": [
    {
     "data": {
      "image/png": "[encoded data removed]",
      "text/plain": [
       "<Figure size 1000x700 with 1 Axes>"
      ]
     },
     "metadata": {
      "needs_background": "light"
     },
     "output_type": "display_data"
    }
   ],
   "source": [
    "# plot the data as a scatter plot\n",
    "width = 10\n",
    "height = 7\n",
    "dpi = 100\n",
    "fig = plt.figure(figsize=(width, height), dpi=dpi)\n",
    "ax = fig.add_subplot()\n",
    "ax.scatter(bike_data[\"temp\"],  bike_data[\"count\"], )\n",
    "ax.grid(which=\"both\", color=\"gray\", linestyle=\":\")\n",
    "ax.set_title(\"bike rentals versus temperature\"); \n",
    "ax.set_xlabel('temperature [' + r'$^\\circ$' + 'C]');\n",
    "ax.set_ylabel('rental count per hour');\n",
    "plt.show()"
   ]
  },
  {
   "cell_type": "code",
   "execution_count": 51,
   "metadata": {},
   "outputs": [
    {
     "name": "stdout",
     "output_type": "stream",
     "text": [
      "              date      time\n",
      "count         1482      1482\n",
      "unique          64        24\n",
      "top     2011-04-27  16:00:00\n",
      "freq            24        64\n",
      "              temp        count\n",
      "count  1482.000000  1482.000000\n",
      "mean     24.612173   311.000000\n",
      "std       4.979788   174.792339\n",
      "min      12.300000    14.000000\n",
      "25%      21.320000   184.000000\n",
      "50%      24.600000   272.000000\n",
      "75%      27.880000   398.750000\n",
      "max      38.540000   873.000000\n"
     ]
    }
   ],
   "source": [
    "# Load second part of the data set\n",
    "bike_data2 = pd.read_csv(\"data/bike2.csv\")\n",
    "print(bike_data2.describe())\n",
    "\n",
    "# add date as a new column to bike data\n",
    "bike_data[\"date\"] = bike_data2[\"date\"]\n",
    "\n",
    "print(bike_data.describe())\n",
    "\n",
    "# choose the subset for all rows on day 2011-01-20\n",
    "bike_data_subset = bike_data[bike_data[\"date\"] == \"2011-01-20\"]"
   ]
  },
  {
   "cell_type": "code",
   "execution_count": 52,
   "metadata": {},
   "outputs": [
    {
     "data": {
      "text/html": [
       "<div>\n",
       "<style scoped>\n",
       "    .dataframe tbody tr th:only-of-type {\n",
       "        vertical-align: middle;\n",
       "    }\n",
       "\n",
       "    .dataframe tbody tr th {\n",
       "        vertical-align: top;\n",
       "    }\n",
       "\n",
       "    .dataframe thead th {\n",
       "        text-align: right;\n",
       "    }\n",
       "</style>\n",
       "<table border=\"1\" class=\"dataframe\">\n",
       "  <thead>\n",
       "    <tr style=\"text-align: right;\">\n",
       "      <th></th>\n",
       "      <th>temp</th>\n",
       "      <th>count</th>\n",
       "      <th>date</th>\n",
       "    </tr>\n",
       "  </thead>\n",
       "  <tbody>\n",
       "    <tr>\n",
       "      <th>0</th>\n",
       "      <td>13.12</td>\n",
       "      <td>173</td>\n",
       "      <td>2011-01-20</td>\n",
       "    </tr>\n",
       "    <tr>\n",
       "      <th>1</th>\n",
       "      <td>13.12</td>\n",
       "      <td>75</td>\n",
       "      <td>2011-01-20</td>\n",
       "    </tr>\n",
       "    <tr>\n",
       "      <th>2</th>\n",
       "      <td>13.12</td>\n",
       "      <td>89</td>\n",
       "      <td>2011-01-20</td>\n",
       "    </tr>\n",
       "    <tr>\n",
       "      <th>3</th>\n",
       "      <td>13.94</td>\n",
       "      <td>95</td>\n",
       "      <td>2011-01-20</td>\n",
       "    </tr>\n",
       "    <tr>\n",
       "      <th>4</th>\n",
       "      <td>14.76</td>\n",
       "      <td>110</td>\n",
       "      <td>2011-01-20</td>\n",
       "    </tr>\n",
       "    <tr>\n",
       "      <th>5</th>\n",
       "      <td>14.76</td>\n",
       "      <td>87</td>\n",
       "      <td>2011-01-20</td>\n",
       "    </tr>\n",
       "    <tr>\n",
       "      <th>6</th>\n",
       "      <td>13.94</td>\n",
       "      <td>111</td>\n",
       "      <td>2011-01-20</td>\n",
       "    </tr>\n",
       "    <tr>\n",
       "      <th>7</th>\n",
       "      <td>13.94</td>\n",
       "      <td>167</td>\n",
       "      <td>2011-01-20</td>\n",
       "    </tr>\n",
       "    <tr>\n",
       "      <th>8</th>\n",
       "      <td>13.94</td>\n",
       "      <td>281</td>\n",
       "      <td>2011-01-20</td>\n",
       "    </tr>\n",
       "    <tr>\n",
       "      <th>9</th>\n",
       "      <td>13.94</td>\n",
       "      <td>241</td>\n",
       "      <td>2011-01-20</td>\n",
       "    </tr>\n",
       "    <tr>\n",
       "      <th>10</th>\n",
       "      <td>13.94</td>\n",
       "      <td>136</td>\n",
       "      <td>2011-01-20</td>\n",
       "    </tr>\n",
       "    <tr>\n",
       "      <th>11</th>\n",
       "      <td>13.12</td>\n",
       "      <td>77</td>\n",
       "      <td>2011-01-20</td>\n",
       "    </tr>\n",
       "    <tr>\n",
       "      <th>12</th>\n",
       "      <td>13.12</td>\n",
       "      <td>93</td>\n",
       "      <td>2011-01-20</td>\n",
       "    </tr>\n",
       "    <tr>\n",
       "      <th>13</th>\n",
       "      <td>13.94</td>\n",
       "      <td>87</td>\n",
       "      <td>2011-01-20</td>\n",
       "    </tr>\n",
       "    <tr>\n",
       "      <th>14</th>\n",
       "      <td>14.76</td>\n",
       "      <td>154</td>\n",
       "      <td>2011-01-20</td>\n",
       "    </tr>\n",
       "    <tr>\n",
       "      <th>15</th>\n",
       "      <td>16.40</td>\n",
       "      <td>198</td>\n",
       "      <td>2011-01-20</td>\n",
       "    </tr>\n",
       "    <tr>\n",
       "      <th>16</th>\n",
       "      <td>13.12</td>\n",
       "      <td>184</td>\n",
       "      <td>2011-01-20</td>\n",
       "    </tr>\n",
       "    <tr>\n",
       "      <th>17</th>\n",
       "      <td>13.94</td>\n",
       "      <td>137</td>\n",
       "      <td>2011-01-20</td>\n",
       "    </tr>\n",
       "    <tr>\n",
       "      <th>18</th>\n",
       "      <td>13.12</td>\n",
       "      <td>190</td>\n",
       "      <td>2011-01-20</td>\n",
       "    </tr>\n",
       "    <tr>\n",
       "      <th>19</th>\n",
       "      <td>13.94</td>\n",
       "      <td>136</td>\n",
       "      <td>2011-01-20</td>\n",
       "    </tr>\n",
       "    <tr>\n",
       "      <th>20</th>\n",
       "      <td>15.58</td>\n",
       "      <td>196</td>\n",
       "      <td>2011-01-20</td>\n",
       "    </tr>\n",
       "    <tr>\n",
       "      <th>21</th>\n",
       "      <td>15.58</td>\n",
       "      <td>184</td>\n",
       "      <td>2011-01-20</td>\n",
       "    </tr>\n",
       "    <tr>\n",
       "      <th>22</th>\n",
       "      <td>15.58</td>\n",
       "      <td>179</td>\n",
       "      <td>2011-01-20</td>\n",
       "    </tr>\n",
       "    <tr>\n",
       "      <th>23</th>\n",
       "      <td>14.76</td>\n",
       "      <td>148</td>\n",
       "      <td>2011-01-20</td>\n",
       "    </tr>\n",
       "  </tbody>\n",
       "</table>\n",
       "</div>"
      ],
      "text/plain": [
       "     temp  count        date\n",
       "0   13.12    173  2011-01-20\n",
       "1   13.12     75  2011-01-20\n",
       "2   13.12     89  2011-01-20\n",
       "3   13.94     95  2011-01-20\n",
       "4   14.76    110  2011-01-20\n",
       "5   14.76     87  2011-01-20\n",
       "6   13.94    111  2011-01-20\n",
       "7   13.94    167  2011-01-20\n",
       "8   13.94    281  2011-01-20\n",
       "9   13.94    241  2011-01-20\n",
       "10  13.94    136  2011-01-20\n",
       "11  13.12     77  2011-01-20\n",
       "12  13.12     93  2011-01-20\n",
       "13  13.94     87  2011-01-20\n",
       "14  14.76    154  2011-01-20\n",
       "15  16.40    198  2011-01-20\n",
       "16  13.12    184  2011-01-20\n",
       "17  13.94    137  2011-01-20\n",
       "18  13.12    190  2011-01-20\n",
       "19  13.94    136  2011-01-20\n",
       "20  15.58    196  2011-01-20\n",
       "21  15.58    184  2011-01-20\n",
       "22  15.58    179  2011-01-20\n",
       "23  14.76    148  2011-01-20"
      ]
     },
     "execution_count": 52,
     "metadata": {},
     "output_type": "execute_result"
    }
   ],
   "source": [
    "bike_data_subset"
   ]
  },
  {
   "cell_type": "code",
   "execution_count": 53,
   "metadata": {},
   "outputs": [
    {
     "data": {
      "image/png": "[encoded data removed]",
      "text/plain": [
       "<Figure size 1000x700 with 1 Axes>"
      ]
     },
     "metadata": {
      "needs_background": "light"
     },
     "output_type": "display_data"
    }
   ],
   "source": [
    "width = 10\n",
    "height = 7\n",
    "dpi = 100\n",
    "fig = plt.figure(figsize=(width, height), dpi=dpi)\n",
    "ax = fig.add_subplot()\n",
    "ax.scatter(bike_data[\"temp\"], bike_data[\"count\"])\n",
    "ax.scatter(bike_data_subset[\"temp\"], bike_data_subset[\"count\"], color=\"red\")\n",
    "ax.set_title(\"bike rental\")\n",
    "ax.set_xlabel(\"temp\")\n",
    "ax.set_ylabel(\"counts per hour\")\n",
    "plt.show()"
   ]
  }
 ],
 "metadata": {
  "kernelspec": {
   "display_name": "Python 3 (ipykernel)",
   "language": "python",
   "name": "python3"
  },
  "language_info": {
   "codemirror_mode": {
    "name": "ipython",
    "version": 3
   },
   "file_extension": ".py",
   "mimetype": "text/x-python",
   "name": "python",
   "nbconvert_exporter": "python",
   "pygments_lexer": "ipython3",
   "version": "3.9.2"
  },
  "varInspector": {
   "cols": {
    "lenName": 16,
    "lenType": 16,
    "lenVar": 40
   },
   "kernels_config": {
    "python": {
     "delete_cmd_postfix": "",
     "delete_cmd_prefix": "del ",
     "library": "var_list.py",
     "varRefreshCmd": "print(var_dic_list())"
    },
    "r": {
     "delete_cmd_postfix": ") ",
     "delete_cmd_prefix": "rm(",
     "library": "var_list.r",
     "varRefreshCmd": "cat(var_dic_list()) "
    }
   },
   "types_to_exclude": [
    "module",
    "function",
    "builtin_function_or_method",
    "instance",
    "_Feature"
   ],
   "window_display": false
  }
 },
 "nbformat": 4,
 "nbformat_minor": 4
}
