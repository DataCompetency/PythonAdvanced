{
 "cells": [
  {
   "cell_type": "markdown",
   "metadata": {},
   "source": [
    "### Lars Gabriel, Fabian Wilde, Katharina Hoff & Mario Stanke - University of Greifswald\n",
    "\n",
    "# Advanced Python course - Session 1/3\n",
    "\n",
    "<br>\n",
    "<font size=\"3\">\n",
    "<b>Contact:</b> katharina.hoff@uni-greifswald.de\n",
    "<br>\n",
    "</font>\n",
    "\n",
    "<hr style=\"border:1px solid black\"> </hr>\n",
    "<br>\n",
    "<font size=\"3\">\n",
    "    This course requires <b>the course participants to have at least basic experience in</b> using the programming language <b>Python</b> and the <b>functional programming paradigm</b>. <br>Therefore, <b>the course participant should be</b> at least <b>familiar with:</b> <br>\n",
    "<ul>\n",
    "    <li>handling of builtin Python datatypes: int, float, str, bool, Lists, Dictionaries</li>\n",
    "    <li>control flow structures like for-/while-loops, if-elif-else statements</li>\n",
    "    <li>importing and usage of (3rd party) modules</li>\n",
    "    <li>defining (anonymous) functions with fixed/variable arguments</li>\n",
    "    <li>running Python scripts on the command-line and handling of command-line arguments\n",
    "    <li>numpy and matplotlib</li>\n",
    "</ul>\n",
    "</font>"
   ]
  },
  {
   "cell_type": "markdown",
   "metadata": {},
   "source": [
    "## 1. Preparations\n",
    "\n",
    "<font size=\"3\">\n",
    "This course uses Jupyter environment from the <b>AppHub</b>. It is a Jupyter notebook environment running on a remote server of the university (which we're using right now). It is accessible from within the university network (being connected to eduroam) or remotely from home via the VPN client. Therefore, a local installation is not necessary.<br>\n",
    "<div class=\"alert alert-warning\" role=\"alert\">\n",
    "    <b>If you're connected to eduroam or via the VPN client, you can directly access the JupyterHub via</b>\n",
    "    <a href=\"https://apphub.wolke.uni-greifswald.de/\">https://apphub.wolke.uni-greifswald.de/</a> using your personal login credentials from the university data center. Then select \"Datascience\" from \"Jupyther\".\n",
    "</div>\n",
    "In order to use the course materials in your Jupyter notebook instance, open a new empty notebook, type the following statements in the cell and <b>execute it with CTRL + ENTER.</b>\n",
    "</font>"
   ]
  },
  {
   "cell_type": "code",
   "execution_count": null,
   "metadata": {},
   "outputs": [],
   "source": [
    "%%bash\n",
    "https://github.com/DataCompetency/PythonAdvanced"
   ]
  },
  {
   "cell_type": "markdown",
   "metadata": {},
   "source": [
    "### Reminder of Keyboard Shortcuts in a JupyterNotebook\n",
    "<br>\n",
    "\n",
    "    \n",
    "| Shortcut | Function |\n",
    "| -------- | ----------- |\n",
    "| Esc      | Switch to command mode |\n",
    "| Enter    | Switch to edit mode |\n",
    "| B        | Creates new empty cell **B**elow |\n",
    "| H        | Show **H**elp   |\n",
    "| X        | Deletes currently selected cell|\n",
    "| Shift + Enter | Run cell and advance to next cell |\n",
    "| Ctrl  + Enter | Run cell |\n",
    "| Ctrl  + S     | Save notebook |\n",
    "\n",
    "The frame color of the currently selected cell changes from blue in command mode to green in edit mode."
   ]
  },
  {
   "cell_type": "markdown",
   "metadata": {},
   "source": [
    "<hr style=\"border:1px solid gray\"> </hr>\n",
    "\n",
    "## 2. Functions\n",
    "\n",
    "<font size=\"3\">\"<i>Functions are <b>self-contained</b> modules of code that accomplish a specific task. Functions usually <b>take in</b> data, process it, and <b>return</b> a result. Once a function is written, it can be used over and over and over again. Functions can be <b>called</b> from the inside of other functions.</i>\" (<a href=\"https://www.cs.utah.edu/~germain/PPS/Topics/functions.html#:~:text=Functions%20are%20%22self%20contained%22%20modules,the%20inside%20of%20other%20functions\">www.cs.utah.edu</a>).<br>    \n",
    "</font>"
   ]
  },
  {
   "cell_type": "markdown",
   "metadata": {},
   "source": [
    "<font size=\"3\">\n",
    "As your code grows bigger and some parts of the code may repeat in it, you'd need to structure it (since you'd also like to avoid <a href=\"https://en.wikipedia.org/wiki/Spaghetti_code\">spaghetti code</a>. This is code which is hard to follow due to various jumps within the code). The first step for cleaner code is to outsource repeating code snippets in user-defined functions. If some repeats itself for at least two times, it is already worth considering to write a function for that.<br><br>\n",
    "So structuring your code by subdividing it into functions has several advantages, like as<br>\n",
    "<ul>\n",
    "    <li><b>readability:</b> code is easier to follow by encapsulating complex code in a simple function call</li>\n",
    "    <li><b>maintainability:</b> code is easier to maintain, bugs are easier to identify and need only be fixed at one location in your code</li>\n",
    "    <li><b>portability:</b> parts of your code can be reused in other projects more easily</li>\n",
    "</ul>\n",
    "<br>\n",
    "\n",
    "### 2.1 Argument list\n",
    "    \n",
    "</font><center>\n",
    "    <img src=\"img/python-function.svg\" width=\"60%\">\n",
    "</center>\n",
    "<br>\n",
    "\n",
    "\n",
    "#### Examples"
   ]
  },
  {
   "cell_type": "code",
   "execution_count": null,
   "metadata": {},
   "outputs": [],
   "source": [
    "# function with one mandatory and one optional argument\n",
    "# a default value was set for parameter d\n",
    "def bar(c, d=0):\n",
    "    print (f\"bar({c}, {d}) called\")\n",
    "    \n",
    "# function call with just one parameter (default value is used for parameter d)\n",
    "bar(1)\n",
    "# function call where parameter values are explicitly defined\n",
    "bar(d=3, c=2)"
   ]
  },
  {
   "cell_type": "code",
   "execution_count": null,
   "metadata": {},
   "outputs": [],
   "source": [
    "def foo(x, y=[]):\n",
    "    y.append(x)\n",
    "    return y\n",
    "\n",
    "print(foo(1))\n",
    "print(foo(2))\n",
    "print(foo(3, [4, 5]))\n",
    "print(foo(6))\n"
   ]
  },
  {
   "cell_type": "code",
   "execution_count": null,
   "metadata": {},
   "outputs": [],
   "source": [
    "# an example for a function definition with a variable number of function arguments\n",
    "def calc_sum(*args):\n",
    "    # inside the function, args is a tuple\n",
    "    \n",
    "    # same as print(f\"type(args)={type(args)}\")\n",
    "    print(f\"{type(args) = }\") \n",
    "    \n",
    "    result = 0\n",
    "    for elem in args:\n",
    "        result += elem\n",
    "    return result\n",
    "\n",
    "# the function call\n",
    "# the asterisk (*) is used to unpack the values in the tuple\n",
    "# the two function calls below are equivalent\n",
    "print(f\"{calc_sum(*(1, 2, 3)) = }\\n\")  \n",
    "print(f\"{calc_sum(1, 2, 3) = }\\n\") \n",
    "\n",
    "# a different number of arguments can be used\n",
    "print(f\"{calc_sum(8, 9, 11, 5) = }\\n\") \n",
    "\n",
    "import numpy as np\n",
    "rand_len = np.random.randint(1,10)\n",
    "# but the argument can be a tuple of arbitrary length\n",
    "rand_tuple = tuple(np.random.randint(0,10,(rand_len,)))  \n",
    "print(f\"{rand_tuple = }\")\n",
    "print(f\"{calc_sum(*rand_tuple) = }\\n\")"
   ]
  },
  {
   "cell_type": "code",
   "execution_count": null,
   "metadata": {},
   "outputs": [],
   "source": [
    "# an example for a function definition with a variable number of keyword arguments\n",
    "def get_molecule_name(**kwargs):\n",
    "    # inside the function, kwargs is a dict\n",
    "    print(\"{type(kwargs) = }\")\n",
    "    \n",
    "    molecules = {\n",
    "        'H2O' : 'water', \n",
    "        'C2H5OH' : 'ethanol', \n",
    "        'CH3OH' : 'methanol'\n",
    "    }\n",
    "    \n",
    "    # assemble string\n",
    "    out_str = ''    \n",
    "    for key in kwargs:\n",
    "        if kwargs[key] == 1:\n",
    "            out_str += key\n",
    "        else:\n",
    "            out_str += key + str(kwargs[key])\n",
    "    \n",
    "    if out_str in molecules:\n",
    "        print(f\"The molecule {out_str} is known as {molecules[out_str]}.\")\n",
    "    else:\n",
    "        print(\"The molecule {out_str} is unknown.\")\n",
    "\n",
    "get_molecule_name(**{})\n",
    "get_molecule_name(**{'C':2,'H':5,'OH':1})\n",
    "get_molecule_name(C=2, H=5, OH=1)"
   ]
  },
  {
   "cell_type": "code",
   "execution_count": null,
   "metadata": {},
   "outputs": [],
   "source": []
  },
  {
   "cell_type": "markdown",
   "metadata": {},
   "source": [
    "<font size=\"3\"><div class=\"alert alert-warning\"><b>Exercise 2.1:</b> <br>\n",
    "    Write a Python function named create_sentence that takes the following arguments:    \n",
    "    <ul>          \n",
    "      <li> <code>greeting</code> (positional argument)\n",
    "      <li> <code>name</code> (default argument with default value \"User\")\n",
    "      <li> <code>*args</code> (variable-length argument) to accept a variable number of words\n",
    "      <li> <code>**kwargs</code> (keyword arguments) to accept extra information in key-value pairs\n",
    "    </ul>\n",
    "    The function should build and return a sentence in the following format:.<br>\n",
    "    <code>(greeting), (name)! (word_1) (word_2) ... (word_n). (key_1): (value_1), (key_2): (value_2), ...</code>\n",
    "    If no variable-length word or keyword arguments are passed, that respective section should be omitted.<br>    \n",
    "    For example the call: <br>\n",
    "<code>create_sentence(\"Hey\", \"Bob\", \"what's\", \"up\", location=\"Park\", time=\"2pm\")</code><br>\n",
    "    should return the string \"Hey, Bob! what's up. location: Park, time: 2pm.\"\n",
    "</div>    \n",
    "<font size=\"3\">\n",
    "<b>Try it yourself:</b></font>\n",
    "</font>\n"
   ]
  },
  {
   "cell_type": "code",
   "execution_count": null,
   "metadata": {},
   "outputs": [],
   "source": [
    "# ====== ENTER YOUR CODE HERE =======\n",
    "\n",
    "def create_sentence(...ADD CODE HERE...):\n",
    "    ...ADD CODE HERE..."
   ]
  },
  {
   "cell_type": "code",
   "execution_count": null,
   "metadata": {},
   "outputs": [],
   "source": [
    "# ====== TEST FOR YOUR FUNCTION =======\n",
    "\n",
    "\n",
    "# Test case 1\n",
    "result = create_sentence(\"Hello\")\n",
    "assert result == \"Hello, User!\"\n",
    "print(f\"Test1 was succesfull:\\n{result = }\\n\")\n",
    "\n",
    "# Test case 2\n",
    "result = create_sentence(\"Hi\", \"Alice\", \"how\", \"are\", \"you\")\n",
    "assert result == \"Hi, Alice! how are you.\"\n",
    "print(f\"Test2 was succesfull:\\n{result = }\\n\")\n",
    "\n",
    "# Test case 3\n",
    "result = create_sentence(\"Hey\", \"Bob\", \"what's\", \"up\", location=\"Park\", time=\"2pm\")\n",
    "assert result == \"Hey, Bob! what's up. location: Park, time: 2pm.\"\n",
    "print(f\"Test3 was succesfull:\\n{result = }\\n\")\n",
    "\n",
    "print(\"Your function works correctly!\")"
   ]
  },
  {
   "cell_type": "code",
   "execution_count": null,
   "metadata": {},
   "outputs": [],
   "source": [
    "# =========== SOLUTION ============\n",
    "\n",
    "def create_sentence(greeting, name=\"User\", *args, **kwargs):\n",
    "    sentence = f\"{greeting}, {name}!\"\n",
    "    \n",
    "    if args:\n",
    "        sentence += \" \" + \" \".join(args) + \".\"\n",
    "    \n",
    "    if kwargs:\n",
    "        extra_info = \", \".join([f\"{k}: {v}\" for k, v in kwargs.items()])\n",
    "        sentence += \" \" + extra_info + \".\"\n",
    "\n",
    "    return sentence"
   ]
  },
  {
   "cell_type": "markdown",
   "metadata": {},
   "source": [
    "<font size=\"3\"><div class=\"alert alert-warning\"><b>(Bonus) Exercise 2.2:</b> <br>\n",
    "    Define a function named <code>process_data</code> that takes in two types of arguments:    \n",
    "    <ul>          \n",
    "      <li> A function called <code>processor</code>, which should be applied to each element of the <code>data</code> list\n",
    "      <li> A variable number of integers that are stored in a list called <code>data</code>\n",
    "    </ul>\n",
    "    The <code>processor</code> function should take in one argument, an integer, and return a modified version of that integer.<br>\n",
    "    The <code>process_data</code> function should apply the <code>processor</code> function to each element of the data list, and return a new list containing the processed data.\n",
    "</div>    \n",
    "<font size=\"3\">\n",
    "<b>Try it yourself:</b></font>\n",
    "</font>\n"
   ]
  },
  {
   "cell_type": "code",
   "execution_count": null,
   "metadata": {},
   "outputs": [],
   "source": [
    "# ====== ENTER YOUR CODE HERE =======\n",
    "\n",
    "def process_data(...ADD CODE HERE...):\n",
    "    ...ADD CODE HERE..."
   ]
  },
  {
   "cell_type": "code",
   "execution_count": null,
   "metadata": {},
   "outputs": [],
   "source": [
    "# ====== TEST FOR YOUR FUNCTION =======\n",
    "\n",
    "# Define a processor function for testing\n",
    "def double(num):\n",
    "    return num * 2\n",
    "\n",
    "# Test case 1\n",
    "result = process_data(double, 1, 2, 3, 4, 5)\n",
    "# we use the assert keyword here only to check if result is correct\n",
    "# assert is not necassary for the function call!!!\n",
    "# assert is only used to test if a given condition is true\n",
    "assert result == [2, 4, 6, 8, 10]\n",
    "print(f\"Test1 was succesfull:\\n{result = }\\n\")\n",
    "\n",
    "# Test case 2\n",
    "data = [10, 20, 30, 40, 50]\n",
    "result = process_data(lambda x: x ** 2, *data)\n",
    "assert result == [100, 400, 900, 1600, 2500]\n",
    "print(f\"Test2 was succesfull:\\n{result = }\\n\")\n",
    "\n",
    "print(\"Your function works correctly!\")"
   ]
  },
  {
   "cell_type": "code",
   "execution_count": null,
   "metadata": {},
   "outputs": [],
   "source": [
    "# =========== SOLUTION ============\n",
    "\n",
    "def process_data(processor, *data):\n",
    "    # Apply the processor function to each element of the data list\n",
    "    return [processor(num) for num in data]\n",
    "\n",
    "# or use map\n",
    "def process_data(processor, *data):\n",
    "    # Apply the processor function to each element of the data list\n",
    "    return list(map(processor, data))"
   ]
  },
  {
   "cell_type": "markdown",
   "metadata": {},
   "source": [
    "### 2.2 F-strings\n",
    "\n",
    "<font size=\"3\">\n",
    "F-strings are a way to embed expressions inside string literals, using curly braces <code>{}</code>. The expressions within the curly braces are evaluated at runtime and then formatted using the optional format specifiers, resulting in a string. F-strings are prefixed with an <code>f</code> character, making them concise and readable. They offer a concise and convenient way to embed Python expressions inside string literals for formatting.<br>\n",
    "You can include any valid Python expressions within curly braces. The expressions are evaluated at runtime and then formatted and inserted into the resulting string:\n",
    "</font>"
   ]
  },
  {
   "cell_type": "code",
   "execution_count": null,
   "metadata": {},
   "outputs": [],
   "source": [
    "x = 10\n",
    "y = 20\n",
    "print(f\"Sum of {x} and {y} is {x + y}\")  "
   ]
  },
  {
   "cell_type": "markdown",
   "metadata": {},
   "source": [
    "<font size=\"3\">\n",
    "You can print the name and values of variables:\n",
    "</font>"
   ]
  },
  {
   "cell_type": "code",
   "execution_count": null,
   "metadata": {},
   "outputs": [],
   "source": [
    "x = 10\n",
    "y = 20\n",
    "print(f\"Sum of {x} and {y} is {x + y}\")  "
   ]
  },
  {
   "cell_type": "markdown",
   "metadata": {},
   "source": [
    "<font size=\"3\">\n",
    "F-strings can span multiple lines for better readability:\n",
    "</font>"
   ]
  },
  {
   "cell_type": "code",
   "execution_count": null,
   "metadata": {},
   "outputs": [],
   "source": [
    "name = \"John\"\n",
    "age = 30\n",
    "multilines = f\"\"\"\n",
    "Hello, my name is {name}\n",
    "and I am {age} years old.\n",
    "\"\"\"\n",
    "print(multilines)"
   ]
  },
  {
   "cell_type": "markdown",
   "metadata": {},
   "source": [
    "<font size=\"3\">\n",
    "You can access dictionary elements:\n",
    "</font>"
   ]
  },
  {
   "cell_type": "code",
   "execution_count": null,
   "metadata": {},
   "outputs": [],
   "source": [
    "person = {'name': 'John', 'age': 30}\n",
    "print(f\"My name is {person['name']} and I am {person['age']} years old.\")  "
   ]
  },
  {
   "cell_type": "markdown",
   "metadata": {},
   "source": [
    "<font size=\"3\">\n",
    "F-strings can also be used to evaluate dynamic expressions and even include elements like list comprehensions:\n",
    "</font>"
   ]
  },
  {
   "cell_type": "code",
   "execution_count": null,
   "metadata": {},
   "outputs": [],
   "source": [
    "nums = [1, 2, 3, 4, 5]\n",
    "print(f\"Double of nums: {[num * 2 for num in nums]}\") "
   ]
  },
  {
   "cell_type": "markdown",
   "metadata": {},
   "source": [
    "<font size=\"3\">\n",
    "They allow for precise control over the formatting, including alignment, width, and precision, which is especially useful with floating-point numbers\n",
    "</font>"
   ]
  },
  {
   "cell_type": "code",
   "execution_count": null,
   "metadata": {},
   "outputs": [],
   "source": [
    "pi = 3.141592653589793\n",
    "print(f\"{pi:.3f}\")\n",
    "print(f\"{pi:10.3f}\") "
   ]
  },
  {
   "cell_type": "markdown",
   "metadata": {},
   "source": [
    "### 2.3 Namespace\n",
    "\n",
    "<font size=\"3\">\n",
    "In Python, a namespace is a mapping from names (i.e., names of variables, functions, classes, etc.) to objects. Namespaces are used to organize and control the scope of names in a program. <br>\n",
    "    \n",
    "There are several types of namespaces in Python:\n",
    "    <ul>\n",
    "        <li> <b>Built-in Namespace:</b> Contains all built-in functions and types in Python. It is automatically loaded into the interpreter's memory when the Python interpreter starts.\n",
    "    <li> <b>Global Namespace:</b> Contains all names defined in the outermost level of a module or script. It is created when a module or script is imported or executed, and it is available throughout the entire module or script.\n",
    "    <li> <b>Local Namespace:</b> Contains all names defined within a function or method. It is created when a function or method is called and is destroyed when the function or method returns.\n",
    "    </ul>\n",
    "\n",
    "When Python encounters a name in a program, it looks first in the local namespace first. If the name is not found there, it looks in the global namespace, then the built-in namespace. \n",
    "When a variable is assigned a value in a function, Python creates a new name in the local namespace. If the variable has the same name as a variable in the global namespace, the local variable \"shadows\" the global variable within the function. However, the global variable remains unchanged.\n",
    "</font>\n",
    "\n",
    "#### Example"
   ]
  },
  {
   "cell_type": "code",
   "execution_count": null,
   "metadata": {},
   "outputs": [],
   "source": [
    "# Built-in namespace\n",
    "print(\"Hello, world!\")  # `print` is a built-in function\n",
    "\n",
    "# Global namespace\n",
    "x = 42\n",
    "y = 86\n",
    "\n",
    "def my_func():\n",
    "    # Local namespace\n",
    "    y = 12\n",
    "    z = 13\n",
    "    print(x, y, z)\n",
    "\n",
    "my_func()  # prints \"42 12 13\"\n",
    "print(x, y)  # prints \"42 86\""
   ]
  },
  {
   "cell_type": "markdown",
   "metadata": {},
   "source": [
    "### 2.4 Call by sharing\n",
    "<font size=\"3\">\n",
    "    Python uses the \"call by sharing\" mechanism in order to pass arguments to a function. This means that when a function is called, the values of the arguments are not copied, but instead, references to the objects are passed. Any modifications made to the object inside the function can affect the original object outside the function, depending on whether it is a <b>mutable</b> (e.g. lists, dicts) or an <b>immutable</b> (e.g. int, float, string) object. \n",
    "</font>\n",
    "\n",
    "#### Example"
   ]
  },
  {
   "cell_type": "code",
   "execution_count": null,
   "metadata": {},
   "outputs": [],
   "source": [
    "def my_func(lst, num, string):\n",
    "    lst.append(4)\n",
    "    lst[1] = 9    \n",
    "    num += 1\n",
    "    string += \" world\"\n",
    "    \n",
    "a = [1, 2, 3]\n",
    "b = 5\n",
    "c = \"hello\"\n",
    "my_func(a, b, c)\n",
    "print(a)\n",
    "print(b)\n",
    "print(c)"
   ]
  },
  {
   "cell_type": "code",
   "execution_count": null,
   "metadata": {},
   "outputs": [],
   "source": [
    "def terrible_function(*args, some_list = []):\n",
    "    for a in args:\n",
    "        some_list.append(a)\n",
    "    return some_list\n",
    "\n",
    "print(terrible_function(1, 2))\n",
    "print(terrible_function(2, 3))\n",
    "print(terrible_function(1, 2, 3))\n",
    "print(terrible_function(4, 5, some_list=[]))\n",
    "print(terrible_function(5))"
   ]
  },
  {
   "cell_type": "markdown",
   "metadata": {},
   "source": [
    "## 3. Code Style\n",
    "\n",
    "### 3.1 Python Enhancement Proposal 8 (PEP 8)\n",
    "<font size=\"3\">\n",
    "PEP 8 (Python Enhancement Proposal 8) is a style guide for writing Python code. It provides guidelines and recommendations for formatting, naming conventions, and code layout to make Python code more readable and consistent.<br>\n",
    "\n",
    "PEP 8 was created to help Python developers write more readable and maintainable code, which is especially important for collaborative projects. Following the PEP 8 guidelines can also make your code easier to understand and debug, and can help you avoid common mistakes.<br>\n",
    "\n",
    "The PEP 8 style guide covers a wide range of topics, including naming conventions for variables, functions, and classes; whitespace and indentation; line length; and comments. Some of the key recommendations include using four spaces for indentation, limiting line length to 79 characters, and using descriptive names for variables and functions.<br>\n",
    "\n",
    "While PEP 8 is not mandatory, it is widely used and respected in the Python community. Following its guidelines can make your code more consistent with other Python code and make it easier for others to read and understand your code. There are also tools available to help you automatically check your code for PEP 8 compliance.\n",
    "    \n",
    "You can find the full documentation for PEP 8 here: https://peps.python.org/pep-0008/<br>\n",
    "    \n",
    "Some of the most important rules of PEP8 include:    \n",
    "<ul>\n",
    "  <li>Indentation: Use 4 spaces for indentation. Never use tabs.</li>\n",
    "  <li>Line length: Limit all lines to a maximum of 79 characters.</li>\n",
    "  <li>Naming conventions: Use descriptive names for variables, functions, and classes. Use lowercase letters for variable and function names, and capitalize the first letter of each word in a class name.</li>\n",
    "  <li>Imports: Import modules at the top of the file, one per line. Use a blank line to separate third-party imports from built-in imports.</li>\n",
    "  <li>Comments: Use comments to explain the purpose and functionality of code. Comments should be complete sentences, with proper capitalization and punctuation.</li>\n",
    "  <li>Blank lines: Use blank lines sparingly to separate logical sections of code.</li>\n",
    "  <li>Operators: Use whitespace around operators such as =, +, -, *, /, and %.</li>\n",
    "  <li>Strings: Use single quotes for strings unless a single quote appears in the string.</li>\n",
    "  <li>Parentheses: Use parentheses to group expressions, even when they are not required by the syntax.</li>\n",
    "</ul>\n",
    "\n",
    "    \n",
    "The complete style guide covers many more guidelines and recommendations for writing clean and consistent Python code.\n",
    "</font>\n",
    "\n",
    "#### Example"
   ]
  },
  {
   "cell_type": "code",
   "execution_count": null,
   "metadata": {},
   "outputs": [],
   "source": [
    "# Use comments to explain the purpose and functionality of code. \n",
    "# Import modules at the top of the file, one per line. \n",
    "import os\n",
    "import sys\n",
    "\n",
    "# Use 4 spaces for indentation\n",
    "# Use descriptive function names\n",
    "def calculate_square(x):\n",
    "    square = x ** 2\n",
    "    return square\n",
    "\n",
    "# Limit lines to a maximum of 79 characters\n",
    "# Use lowercase letters for variable and function names\n",
    "def create_full_name(first_name, last_name):\n",
    "    full_name = f\"{first_name} {last_name}\"\n",
    "    return full_name\n",
    "\n",
    "# Use parentheses to group expressions, \n",
    "# even when they are not required by the syntax\n",
    "total = (4 + 5) * 2\n",
    "\n",
    "# Use single quotes for strings unless a single quote appears in the string\n",
    "greeting = 'Hello, world!'\n",
    "\n",
    "# Use two blank lines to separate function definitions\n",
    "def say_hello(name):\n",
    "    \"\"\"Print a greeting message for the given name.\"\"\"    \n",
    "    print(f\"Hello, {name}!\")\n",
    "\n",
    "# Use blank lines sparingly to separate logical sections of code\n",
    "name = create_full_name('John', 'Doe')\n",
    "print(greeting)\n",
    "say_hello(name)\n",
    "print(f\"The total is: {total}\")"
   ]
  },
  {
   "cell_type": "markdown",
   "metadata": {},
   "source": [
    "### 3.2 Docstrings\n",
    "<font size=\"3\">\n",
    "A docstring is a string literal that is used to document a module, function, class, or method. It is a multi-line string that is placed at the beginning of the module, function, class, or method definition, enclosed in triple quotes.<br>\n",
    "\n",
    "The purpose of a docstring is to provide information about what the module, function, class, or method does, its arguments, return values, and any other important information that a user or developer may need to know about it. It serves as a form of documentation that can be accessed by other developers, tools, and libraries. They are an important tool for documenting and communicating the purpose and functionality of Python code, both to other developers and to tools and libraries that work with Python code.<br>\n",
    "\n",
    "There are no strict rules for writing docstrings, but they should follow a few general conventions. The first line of a docstring should be a short, concise summary of what the module, function, class, or method does. This summary should be followed by a blank line, and then more detailed information about the module, function, class, or method. The detailed information should include any parameters, return values, exceptions, and any other relevant details.<br>\n",
    "    \n",
    "Documentaion for usage of docstrings: https://peps.python.org/pep-0257/\n",
    "</font>\n",
    "\n",
    "#### Example"
   ]
  },
  {
   "cell_type": "code",
   "execution_count": null,
   "metadata": {},
   "outputs": [],
   "source": [
    "def add_numbers(a, b):\n",
    "    \"\"\"Returns the sum of two numbers.\n",
    "\n",
    "    Args:\n",
    "        a (int): First number to be added.\n",
    "        b (int): Second number to be added.\n",
    "\n",
    "    Returns:\n",
    "        int: Sum of a and b.\n",
    "    \"\"\"\n",
    "    return a + b"
   ]
  },
  {
   "cell_type": "code",
   "execution_count": null,
   "metadata": {},
   "outputs": [],
   "source": [
    "# we can print the docstring of a function with help()\n",
    "help(add_numbers)"
   ]
  },
  {
   "cell_type": "markdown",
   "metadata": {},
   "source": [
    "<font size=\"3\">\n",
    "    Docstrings are used in several ways in Python, for example:\n",
    "    <ul>\n",
    "    <li>Documentation: The primary purpose of a docstring is to provide documentation for a module, function, class, or method. The docstring is a text-based description that can be read and understood by humans, and can help other developers understand how to use the code.</li>\n",
    "    <li>Automatic documentation generation: Many tools and libraries in Python can automatically generate documentation based on the docstrings. For example, the Sphinx documentation generator can automatically generate HTML or PDF documentation for Python code based on the docstrings.</li>\n",
    "    <li>Help text: When using interactive Python interpreters, such as the standard Python REPL or IPython, the docstring can be used as the help text for a function or class. By typing <code>help(function_name)</code> in the interpreter, the docstring for that function will be displayed.</li>\n",
    "    <li>Code introspection: Docstrings can also be accessed programmatically using Python's built-in <code>__doc__</code> attribute. This allows other code to access the docstring and use it for various purposes, such as generating documentation or providing help text to users.</li>\n",
    "    </ul>\n",
    "</font>"
   ]
  },
  {
   "cell_type": "markdown",
   "metadata": {},
   "source": [
    "### 3.3 Type Hinting\n",
    "\n",
    "<font size=\"3\">\n",
    "Type hinting is a technique used in Python to add annotations to code in order to indicate the expected types of variables, function arguments, and return values. The annotations are optional and do not affect the runtime behavior of the code, but they can provide important information to developers and development tools.<br><br>    \n",
    "\n",
    "One of the benefits of type hinting is that it can help to catch errors early in the development process. By indicating the expected types of variables and arguments, it is possible to detect type-related errors at compile time or during static analysis. This can be especially useful in large codebases where it can be difficult to keep track of the types of variables and arguments.\n",
    "\n",
    "Type hinting can also make code easier to read and understand, especially for developers who are not familiar with the codebase. By including type annotations, it is clear what types of arguments a function expects and what types of values it returns:\n",
    "</font>"
   ]
  },
  {
   "cell_type": "code",
   "execution_count": null,
   "metadata": {},
   "outputs": [],
   "source": [
    "def function_name(arg1: type, arg2: type) -> return_type:\n",
    "    # function body"
   ]
  },
  {
   "cell_type": "markdown",
   "metadata": {},
   "source": [
    "<font size=\"3\">\n",
    "    When you use type hinting in Python, it's important to remember that the type hints are just that - hints. They are not hard constraints on the types of values that can be used in a function or method. This means that if you type hint an argument as an <code>int</code>, you can still pass in a <code>float</code>, and Python will not raise an error. While Python allows this type flexibility, it's generally a good practice to use type hints as a form of documentation for your code.\n",
    "</font>"
   ]
  },
  {
   "cell_type": "markdown",
   "metadata": {},
   "source": [
    "#### Example"
   ]
  },
  {
   "cell_type": "code",
   "execution_count": null,
   "metadata": {},
   "outputs": [],
   "source": [
    "def add_numbers(a: int, b: int) -> int:\n",
    "    \"\"\"Returns the sum of two numbers.\n",
    "\n",
    "    Args:\n",
    "        a (int): First number to be added.\n",
    "        b (int): Second number to be added.\n",
    "\n",
    "    Returns:\n",
    "        int: Sum of a and b.\n",
    "    \"\"\"\n",
    "    return a + b\n",
    "\n",
    "print(add_numbers(2, 1))\n",
    "# However, wrong types still work\n",
    "print(add_numbers('2', '1'))"
   ]
  },
  {
   "cell_type": "code",
   "execution_count": null,
   "metadata": {},
   "outputs": [],
   "source": [
    "from typing import Union, Dict, List\n",
    "\"\"\"\n",
    "The type hint for the items argument is List[Dict[str, Union[str, int]]], \n",
    "which is complex but can be broken down as follows:\n",
    "- List is a type hint for a list or array of values.\n",
    "- Dict is a type hint for a dictionary or map with keys of a certain type and values of another type.\n",
    "- str is a type hint for a string.\n",
    "- int is a type hint for an integer.\n",
    "- Union is a type hint for a value that can be one of several types.\n",
    "\"\"\"\n",
    "def process_items(items: List[Dict[str, Union[str, int]]]) -> None:\n",
    "    \"\"\"Prints the 'id', 'type', and 'value' items of dictionaries.\n",
    "\n",
    "    Args:\n",
    "        items (List(Dicts)): List of dicts\n",
    "    \"\"\"\n",
    "    for item in items:\n",
    "        print(f\"Item {item['id']} is a {item['type']} with a value of {item['value']}\")"
   ]
  },
  {
   "cell_type": "markdown",
   "metadata": {},
   "source": [
    "<font size=\"3\">\n",
    "    You can catch type-related errors with a type checker or IDE, if you use type hints. <b>Mypy</b> is such a static type checker for Python that helps detect and prevent type-related errors in your code. It's designed to work with Python 3.5 and later, and is compatible with existing Python code.<br><br>\n",
    "    Mypy works by analyzing your code and verifying that the types of variables and function arguments match their declared types. It uses the type hints in your code to perform these checks. If there are any type mismatches or other type-related errors, Mypy will report them as errors.\n",
    "</font>"
   ]
  },
  {
   "cell_type": "code",
   "execution_count": null,
   "metadata": {
    "tags": []
   },
   "outputs": [],
   "source": [
    "# install mypy for Jupyter Notebooks\n",
    "!python3 -m pip install nb_mypy\n",
    "\n",
    "# load mypy into your Notebook\n",
    "%load_ext nb_mypy\n",
    "\n",
    "# enable type checking\n",
    "%nb_mypy On"
   ]
  },
  {
   "cell_type": "code",
   "execution_count": null,
   "metadata": {},
   "outputs": [],
   "source": [
    "from typing import Optional\n",
    "\n",
    "def format_name(first_name: str, last_name: str, middle_name: Optional[str] = None) -> str:\n",
    "    \"\"\"Formats a person's name as a string.\n",
    "\n",
    "    Args:\n",
    "        first_name (str): The person's first name.\n",
    "        last_name (str): The person's last name.\n",
    "        middle_name (str, optional): The person's middle name.\n",
    "\n",
    "    Returns:\n",
    "        str: The formatted name as a string.\n",
    "    \"\"\"\n",
    "    if middle_name:\n",
    "        return f\"{first_name} {middle_name} {last_name}\"\n",
    "    else:\n",
    "        return f\"{first_name} {last_name}\"\n",
    "\n",
    "print(format_name(\"John\", \"Doe\"))\n",
    "\n",
    "print(format_name(\"John\", \"Doe\", \"Smith\"))\n",
    "\n",
    "print(format_name(\"John\", \"Doe\", 7))"
   ]
  },
  {
   "cell_type": "markdown",
   "metadata": {},
   "source": [
    "<font size=\"3\"><div class=\"alert alert-warning\"><b>Exercise 3.1:</b>\n",
    "    Write a function (with docstring and type hints!) called <code>get_greeting</code> that takes in a string argument <code>name</code> and an optional integer argument <code>age</code> (default value of <code>None</code>). The function should return a string that contains the greeting to the person by name and, if age is provided, their age.<br>\n",
    "If age is not provided, the greeting should simply be: \"Hello, {name}!\". If age is provided, the greeting should include the person's age, formatted as \"Hello, {name}! You are {age} years old.\".</div>\n",
    "</font><font size=\"3\">\n",
    "<b>Try it yourself:</b></font>"
   ]
  },
  {
   "cell_type": "code",
   "execution_count": null,
   "metadata": {},
   "outputs": [],
   "source": [
    "# ====== ENTER YOUR CODE HERE ======="
   ]
  },
  {
   "cell_type": "code",
   "execution_count": null,
   "metadata": {},
   "outputs": [],
   "source": [
    "# ========= TEST YOUR CODE =========\n",
    "\n",
    "# Test case 1\n",
    "result = get_greeting(\"John\")\n",
    "assert result == \"Hello, John!\"\n",
    "print(f\"Test1 was succesfull:\\n{result = }\\n\")\n",
    "\n",
    "# Test case 2\n",
    "result = get_greeting(\"Jane\", 25)\n",
    "assert result == \"Hello, Jane! You are 25 years old.\"\n",
    "print(f\"Test2 was succesfull:\\n{result = }\\n\")"
   ]
  },
  {
   "cell_type": "code",
   "execution_count": null,
   "metadata": {},
   "outputs": [],
   "source": [
    "# =========== SOLUTION ============\n",
    "\n",
    "from typing import Optional\n",
    "\n",
    "def get_greeting(name: str, age: Optional[int] = None) -> str:\n",
    "    \"\"\"Returns a greeting to the person by name, optionally including\n",
    "    their age.\n",
    "\n",
    "    Args:\n",
    "        name (str): The person's name.\n",
    "        age (int, optional): The person's age. Defaults to None.\n",
    "\n",
    "    Returns:\n",
    "        str: The greeting string.\n",
    "    \"\"\"\n",
    "    if age:\n",
    "        return f\"Hello, {name}! You are {age} years old.\"\n",
    "    else:\n",
    "        return f\"Hello, {name}!\""
   ]
  },
  {
   "cell_type": "markdown",
   "metadata": {},
   "source": [
    "<font size=\"3\"><div class=\"alert alert-warning\"><b>Exercise 3.2:</b>\n",
    "    Add docstring and type hints to the <code>process_data</code> function below. The <code>process_data</code> function takes in a JSON string and returns a list of tuples representing the data in the JSON string.<br>\n",
    "    Each tuple should contain three elements: the name of a user, their age, and a list of their hobbies. The JSON string will have a nested structure, with each top-level element representing a user, and each user having a \"name\", \"age\", and \"hobbies\" field..</div>\n",
    "</font><font size=\"3\">\n",
    "<b>Try it yourself:</b></font>"
   ]
  },
  {
   "cell_type": "code",
   "execution_count": null,
   "metadata": {},
   "outputs": [],
   "source": [
    "# ====== ENTER YOUR CODE HERE =======\n",
    "\n",
    "import json\n",
    "# hint use following types:\n",
    "from typing import List, Tuple\n",
    "\n",
    "def process_data(json_str):   \n",
    "    # Parse the JSON string into a Python object\n",
    "    data = json.loads(json_str)\n",
    "\n",
    "    # Iterate over the top-level elements in the data and extract the relevant fields\n",
    "    result = []\n",
    "    for user in data:\n",
    "        name = user[\"name\"]\n",
    "        age = user[\"age\"]\n",
    "        hobbies = user[\"hobbies\"]\n",
    "        result.append((name, age, hobbies))\n",
    "\n",
    "    return result"
   ]
  },
  {
   "cell_type": "code",
   "execution_count": null,
   "metadata": {},
   "outputs": [],
   "source": [
    "# ========= TEST YOUR CODE =========\n",
    "\n",
    "# Test case 1\n",
    "json_str = '[{\"name\": \"Alice\", \"age\": 25, \"hobbies\": [\"reading\", \"hiking\"]}, {\"name\": \"Bob\", \"age\": 30, \"hobbies\": [\"swimming\", \"golf\"]}]'\n",
    "result = [(\"Alice\", 25, [\"reading\", \"hiking\"]), (\"Bob\", 30, [\"swimming\", \"golf\"])]\n",
    "assert process_data(json_str) == result\n",
    "print(f\"Test1 was succesfull:\\n{result = }\\n\")\n",
    "\n",
    "# Test case 2\n",
    "json_str = '[{\"name\": \"Charlie\", \"age\": 40, \"hobbies\": [\"cooking\", \"photography\"]}]'\n",
    "result = [(\"Charlie\", 40, [\"cooking\", \"photography\"])]\n",
    "assert process_data(json_str) == result\n",
    "print(f\"Test2 was succesfull:\\n{result = }\\n\")"
   ]
  },
  {
   "cell_type": "code",
   "execution_count": null,
   "metadata": {},
   "outputs": [],
   "source": [
    "# =========== SOLUTION ============\n",
    "\n",
    "import json\n",
    "from typing import List, Tuple\n",
    "\n",
    "def process_data(json_str: str) -> List[Tuple[str, int, List[str]]]:\n",
    "    \"\"\"Processes a JSON string and returns a list of tuples\n",
    "    representing the data.\n",
    "\n",
    "    Args:\n",
    "        json_str (str): The JSON string to be processed.\n",
    "\n",
    "    Returns:\n",
    "        List[Tuple[str, int, List[str]]]: A list of tuples \n",
    "        representing the data.\n",
    "    \"\"\"\n",
    "    # Parse the JSON string into a Python object\n",
    "    data = json.loads(json_str)\n",
    "\n",
    "    # Iterate over the top-level elements in the data and extract the relevant fields\n",
    "    result = []\n",
    "    for user in data:\n",
    "        name = user[\"name\"]\n",
    "        age = user[\"age\"]\n",
    "        hobbies = user[\"hobbies\"]\n",
    "        result.append((name, age, hobbies))\n",
    "\n",
    "    return result"
   ]
  },
  {
   "cell_type": "markdown",
   "metadata": {},
   "source": [
    "## 4. Exceptions\n",
    "<font size=\"3\">\n",
    "You've surely already experienced when an exception was raised or in other words an error was thrown. For example, when we try to divide by zero or access a non-existant list element:\n",
    "</font>"
   ]
  },
  {
   "cell_type": "code",
   "execution_count": null,
   "metadata": {},
   "outputs": [],
   "source": [
    "1 / 0"
   ]
  },
  {
   "cell_type": "code",
   "execution_count": null,
   "metadata": {},
   "outputs": [],
   "source": [
    "foo = [1, 2, 3]\n",
    "foo[10]"
   ]
  },
  {
   "cell_type": "markdown",
   "metadata": {},
   "source": [
    "<font size=\"3\">\n",
    "    Exceptions are errors that occur during the execution of a program. They are a way of handling unexpected situations and errors in your code.<br><br>    \n",
    "    Exceptions can be caused by various reasons, such as invalid input, file not found, or division by zero. When an exception occurs, the program stops executing and the Python interpreter raises an exception object.<br><br>    \n",
    "    To handle exceptions, you can use the <b>try-except</b> block. The <code>try</code> block contains the code that you want to execute, and the <code>except</code> block contains the code that will be executed if an exception occurs. If no exception occurs, the except block is skipped.<br><br> \n",
    "    A possible use case could be to gracefully terminate a running program by saving the program state before it is terminated.<br><br>\n",
    "    You can also raise exceptions on purpose in your code by using the keyword <code>raise</code> followed by an <b>Exception</b> object.\n",
    "</font>\n",
    "\n",
    "### Example:"
   ]
  },
  {
   "cell_type": "code",
   "execution_count": null,
   "metadata": {},
   "outputs": [],
   "source": [
    "try:\n",
    "    # code block in which any or a specific Exception should be catched\n",
    "    x = 1 / 0\n",
    "except ZeroDivisionError:\n",
    "    # what do to in case of an exception\n",
    "    print(\"Cannot divide by zero\")"
   ]
  },
  {
   "cell_type": "markdown",
   "metadata": {},
   "source": [
    "<font size=\"3\">\n",
    "    You can also catch different exceptions at the same time.\n",
    "</font>"
   ]
  },
  {
   "cell_type": "code",
   "execution_count": null,
   "metadata": {},
   "outputs": [],
   "source": [
    "#user_input = [1, 0]\n",
    "user_input = [1, None]\n",
    "\n",
    "try:\n",
    "    # code block in which any or a specific Exception should be catched\n",
    "    result = user_input[0] / user_input[1]\n",
    "except ZeroDivisionError:\n",
    "    print(\"A division by zero was attempted. Terminating gracefully...\")\n",
    "except TypeError:\n",
    "    print(\"A type error occurred. Terminating gracefully...\")\n",
    "except Exception:\n",
    "    # what do to in case of an exception\n",
    "    print(\"A general exception occurred.\")\n",
    "    "
   ]
  },
  {
   "cell_type": "markdown",
   "metadata": {},
   "source": [
    "<font size=\"3\">\n",
    "    You can also use the <code>finally</code> block to specify code that will be executed regardless of whether an exception occurs or not. The finally block is executed after the try and except blocks.\n",
    "</font>"
   ]
  },
  {
   "cell_type": "code",
   "execution_count": null,
   "metadata": {
    "tags": []
   },
   "outputs": [],
   "source": [
    "try:\n",
    "    x = 1 / 0\n",
    "except ZeroDivisionError:\n",
    "    print(\"Cannot divide by zero\")\n",
    "finally:\n",
    "    print(\"This code will always be executed\")"
   ]
  },
  {
   "cell_type": "code",
   "execution_count": null,
   "metadata": {},
   "outputs": [],
   "source": [
    "print(type(TypeError(\"This is a test.\")))\n",
    "\n",
    "raise TypeError(\"This is a test.\")"
   ]
  },
  {
   "cell_type": "markdown",
   "metadata": {},
   "source": [
    "<font size=\"3\">\n",
    "    You can also use the <b>raise</b> keyword to explicitly raise an exception. When you raise an exception, you are causing your program to stop executing and notifying the Python interpreter that an error has occurred\n",
    "</font>"
   ]
  },
  {
   "cell_type": "code",
   "execution_count": null,
   "metadata": {},
   "outputs": [],
   "source": [
    "raise Exception(\"Error message\")"
   ]
  },
  {
   "cell_type": "markdown",
   "metadata": {},
   "source": [
    "<font size=\"3\">\n",
    "    This code raises an exception of type <i>Exception</i> with the error message \"Error message\". You can replace Exception with any built-in or user-defined exception class, depending on the type of error you want to raise. <a href=\"https://docs.python.org/3/library/exceptions.html\">Here</a> you can find the documentation about already builtin exceptions.\n",
    "</font>"
   ]
  },
  {
   "cell_type": "markdown",
   "metadata": {},
   "source": [
    "<font size=\"3\"><div class=\"alert alert-warning\"><b>Exercise 4.1:</b>\n",
    "    Write a Python function called <code>divide</code> that takes two arguments, numerator and denominator, and returns their quotient. The function should handle the case where the denominator is zero by raising a ZeroDivisionError exception.</div>\n",
    "</font><font size=\"3\">\n",
    "<b>Try it yourself:</b></font>"
   ]
  },
  {
   "cell_type": "code",
   "execution_count": null,
   "metadata": {},
   "outputs": [],
   "source": [
    "# ====== ENTER YOUR CODE HERE ======="
   ]
  },
  {
   "cell_type": "code",
   "execution_count": null,
   "metadata": {},
   "outputs": [],
   "source": [
    "# ========= TEST YOUR CODE =========\n",
    "\n",
    "# Test case 1\n",
    "result = divide(4, 2)\n",
    "assert result == 2 \n",
    "print(f\"Test1 was succesfull:\\n{result = }\\n\")\n",
    "\n",
    "# Test case 2\n",
    "try:\n",
    "    divide(4, 0)\n",
    "except ZeroDivisionError:\n",
    "    print(f\"Test2 was succesfull\\nZeroDivisonError was raised.\\n\")\n",
    "else:\n",
    "    print(f\"Test2 was not succesfull\\nZeroDivisonError was not raised.\\n\")"
   ]
  },
  {
   "cell_type": "code",
   "execution_count": null,
   "metadata": {},
   "outputs": [],
   "source": [
    "# =========== SOLUTION ============\n",
    "def divide(numerator: int, denominator:int) -> float:\n",
    "    \"\"\"Divides the numerator by the denominator and returns the quotient.\n",
    "\n",
    "    Args:\n",
    "        numerator (int): The number to be divided.\n",
    "        denominator (int): The number to divide by.\n",
    "\n",
    "    Returns:\n",
    "        float: The quotient of the numerator divided by the denominator.\n",
    "\n",
    "    Raises:\n",
    "        ZeroDivisionError: If the denominator is zero.\n",
    "    \"\"\"\n",
    "    try:\n",
    "        quotient = numerator / denominator\n",
    "    except ZeroDivisionError:\n",
    "        print(\"Error: Cannot divide by zero.\")\n",
    "        raise \n",
    "    else:\n",
    "        return quotient"
   ]
  },
  {
   "cell_type": "markdown",
   "metadata": {},
   "source": [
    "<font size=\"3\"><div class=\"alert alert-warning\"><b>Exercise 4.2:</b>\n",
    "    Write a Python function called <code>get_average</code> that takes a list of numbers as an argument and returns the average of the numbers. The function should handle the following cases:\n",
    "    <ul>\n",
    "        <li> If the list is empty, the function should raise a ValueError exception with the error message \"List is empty\".\n",
    "        <li> If any element in the list is not a number (e.g. a string or a boolean), the function should raise a TypeError exception with the error message \"List contains non-numeric values\".\n",
    "    </ul>\n",
    "</div>\n",
    "\n",
    "<font size=\"3\">\n",
    "    <b>Try it yourself:</b></font>\n",
    "</font>"
   ]
  },
  {
   "cell_type": "code",
   "execution_count": null,
   "metadata": {},
   "outputs": [],
   "source": [
    "# ====== ENTER YOUR CODE HERE ======="
   ]
  },
  {
   "cell_type": "code",
   "execution_count": null,
   "metadata": {},
   "outputs": [],
   "source": [
    "# ========= TEST YOUR CODE =========\n",
    "\n",
    "# Test case 1\n",
    "result = get_average([1, 2, 3, 4, 5])\n",
    "assert result == 3.0 \n",
    "print(f\"Test1 was succesfull:\\n{result = }\\n\")\n",
    "\n",
    "# Test case 2\n",
    "try:\n",
    "    get_average([])\n",
    "except ValueError as e:\n",
    "    print(e)\n",
    "    # check that the error message is correct\n",
    "    assert str(e) == \"List is empty\"\n",
    "    print(f\"Test2 was succesfull\\nValueError was raised.\\n\")\n",
    "else:\n",
    "    print(f\"Test2 was not succesfull\\nValueError was not raised.\\n\")\n",
    "\n",
    "# Test case 3\n",
    "try:\n",
    "    get_average([1, 2, 3, 'four', 5])\n",
    "except TypeError as e:\n",
    "    # check that the error message is correct\n",
    "    assert str(e) == \"List contains non-numeric values\"\n",
    "    print(f\"Test3 was succesfull\\nTypeError was raised with: {e}.\\n\")\n",
    "else:\n",
    "    print(f\"Test3 was not succesfull\\nTypeError was not raised.\\n\")    "
   ]
  },
  {
   "cell_type": "code",
   "execution_count": null,
   "metadata": {},
   "outputs": [],
   "source": [
    "# =========== SOLUTION ============\n",
    "\n",
    "from typing import List\n",
    "\n",
    "def get_average(numbers: List[float]) -> float:\n",
    "    \"\"\"Returns the average of a list of numbers.\n",
    "\n",
    "    Args:\n",
    "        numbers (List(float)): A list of floats to be averaged.\n",
    "\n",
    "    Returns:\n",
    "        float: The average of the list of numbers.\n",
    "\n",
    "    Raises:\n",
    "        ValueError: If the list is empty.\n",
    "        TypeError: If the list contains non-numeric values.\n",
    "    \"\"\"\n",
    "    if not numbers:\n",
    "        raise ValueError(\"List is empty\")\n",
    "        \n",
    "    try:\n",
    "        avg = sum(numbers) / len(numbers)\n",
    "    except TypeError:\n",
    "        raise TypeError(\"List contains non-numeric values\")\n",
    "    else:\n",
    "        return avg"
   ]
  },
  {
   "cell_type": "markdown",
   "metadata": {},
   "source": [
    "<font size=\"3\"><div class=\"alert alert-warning\"><b>(Bonus) Exercise 4.3:</b>\n",
    "    Write a Python function called <code>validate_input</code> that takes two arguments: <code>user_input</code> and <code>allowed_values</code>, and returns <code>True</code> if <code>user_input</code> is in <code>allowed_values</code>, and <code>False</code> otherwise. The function should handle the case where <code>allowed_values</code> is not a list or tuple by raising a <code>TypeError</code> exception.\n",
    "</div>\n",
    "\n",
    "<font size=\"3\">\n",
    "    <b>Try it yourself:</b></font>\n",
    "</font>"
   ]
  },
  {
   "cell_type": "code",
   "execution_count": null,
   "metadata": {},
   "outputs": [],
   "source": [
    "# ====== ENTER YOUR CODE HERE ======="
   ]
  },
  {
   "cell_type": "code",
   "execution_count": null,
   "metadata": {},
   "outputs": [],
   "source": [
    "# ========= TEST YOUR CODE =========\n",
    "\n",
    "# Test case 1\n",
    "result = validate_input(3, [1, 2, 3, 4])\n",
    "assert result == True \n",
    "print(f\"Test1 was succesfull:\\n{result = }\\n\")\n",
    "\n",
    "# Test case 2\n",
    "result = validate_input('hello', ('world', 'python', 'hello'))\n",
    "assert result == True \n",
    "print(f\"Test2 was succesfull:\\n{result = }\\n\")\n",
    "\n",
    "# Test case 3\n",
    "try:\n",
    "    validate_input(3, '1234')\n",
    "except TypeError as e:\n",
    "    print(f\"Test3 was succesfull\\nTypeError was raised with: {e}.\\n\")\n",
    "else:\n",
    "    print(f\"Test3 was not succesfull\\nTypeError was not raised.\\n\")\n",
    "    "
   ]
  },
  {
   "cell_type": "code",
   "execution_count": null,
   "metadata": {},
   "outputs": [],
   "source": [
    "# =========== SOLUTION ============\n",
    "from typing import List, Tuple, Any, Union\n",
    "\n",
    "def validate_input(user_input: Any, allowed_values:  Union[List[Any], Tuple[Any, ...]]) -> bool:\n",
    "    \"\"\"Checks if the user input is valid based on a list or tuple of allowed values.\n",
    "\n",
    "    Args:\n",
    "        user_input (Any): The user input to validate.\n",
    "        allowed_values (List or Tuple): A list or tuple of allowed values.\n",
    "\n",
    "    Returns:\n",
    "        bool: True if the user input is valid, False otherwise.\n",
    "\n",
    "    Raises:\n",
    "        TypeError: If allowed_values is not a list or tuple.\n",
    "    \"\"\"\n",
    "    if not isinstance(allowed_values, (list, tuple)):\n",
    "        raise TypeError(\"allowed_values must be a list or tuple\")\n",
    "    else:\n",
    "        return user_input in allowed_values"
   ]
  },
  {
   "cell_type": "markdown",
   "metadata": {},
   "source": [
    "## 5. Decorators\n",
    "<br>\n",
    "<font size=\"3\">\n",
    "    <b><a href=\"https://wiki.python.org/moin/PythonDecorators\">Decorators</a> help to wrap functions around functions or class methods with a shorter notation, the so-called <i>syntactic sugar</i>, using the @-symbol.</b><br><br>\n",
    "A decorator is a special type of function that can modify the behavior of another function or class. Decorators allow you to add functionality to an existing function or class without modifying its source code.<br>\n",
    "Functions are first-class objects, which means they can be passed around like any other object. This property of functions allows for the creation of decorators. Decorators are functions that take another function as input and return a modified version of the input function.<br>\n",
    "For example, let's say we have a function <code>add</code> that takes two arguments and returns their sum.\n",
    "</font>"
   ]
  },
  {
   "cell_type": "code",
   "execution_count": null,
   "metadata": {},
   "outputs": [],
   "source": [
    "def add(a, b):\n",
    "    return a + b"
   ]
  },
  {
   "cell_type": "markdown",
   "metadata": {},
   "source": [
    "<font size=\"3\">\n",
    "Now, let's say we want to log each time the function is called. We can create a decorator function that takes a function as input and returns a new function that logs the function call and then calls the original function.\n",
    "</font>"
   ]
  },
  {
   "cell_type": "code",
   "execution_count": null,
   "metadata": {},
   "outputs": [],
   "source": [
    "def log_calls(func):\n",
    "    def wrapper(*args, **kwargs):\n",
    "        print(f\"Calling function {func.__name__} with arguments {args}, {kwargs}\")\n",
    "        return func(*args, **kwargs)\n",
    "    return wrapper"
   ]
  },
  {
   "cell_type": "markdown",
   "metadata": {},
   "source": [
    "<font size=\"3\">\n",
    "    The <code>log_calls</code> function takes a function <code>func</code> as input and defines a new function <code>wrapper</code> that logs the function call and then calls func with the same arguments. Finally, <code>log_calls</code> returns the wrapper function.<br>\n",
    "    Now, we can use the <code>log_calls</code> decorator to modify the behavior of the <code>add</code> function.\n",
    "</font>"
   ]
  },
  {
   "cell_type": "code",
   "execution_count": null,
   "metadata": {},
   "outputs": [],
   "source": [
    "@log_calls\n",
    "def add(a, b):\n",
    "    return a + b"
   ]
  },
  {
   "cell_type": "markdown",
   "metadata": {},
   "source": [
    "<font size=\"3\">\n",
    "    This will modify the behavior of the add function to log each function call. When we call <code>add(2, 3)</code>, we will get the following output:\n",
    "</font>"
   ]
  },
  {
   "cell_type": "code",
   "execution_count": null,
   "metadata": {},
   "outputs": [],
   "source": [
    "add(2, 3)"
   ]
  },
  {
   "cell_type": "markdown",
   "metadata": {},
   "source": [
    "<font size=\"3\">\n",
    "    This notation is often used in 3rd party packages, they are often used for a variety of purposes, such as:\n",
    "    <ul>\n",
    "        <li> Logging function calls and their arguments\n",
    "        <li> Measuring the execution time of a function\n",
    "        <li> Caching function results to improve performance\n",
    "        <li> Enforcing security policies, such as authentication and authorization\n",
    "        <li> Adding extra functionality to existing classes and functions\n",
    "    </ul>\n",
    "    A popular package to measure the runtime of a function call or an algorithm is <code>timeit</code>. But it is also frequently used in frameworks like Django or Flask for Full-Stack Python where Python-based web applications are developed to denote event callback functions. <br>\n",
    "    Decorators are a powerful feature of Python that allow for the modification of the behavior of functions and classes without modifying their source code. There are many built-in decorators in Python, such as <code>@staticmethod</code>, <code>@classmethod</code>, and <code>@property</code>. You can also create your own decorators by defining a function that takes a function or class as an argument and returns a new function or class.\n",
    "</font>\n",
    "\n",
    "### Example:"
   ]
  },
  {
   "cell_type": "code",
   "execution_count": null,
   "metadata": {},
   "outputs": [],
   "source": [
    "# Timing Decorator\n",
    "# can be used to measure the execution time of a function\n",
    "import time\n",
    "import numpy as np\n",
    "\n",
    "def benchmark(func):\n",
    "    def wrapper():\n",
    "        t1 = time.time()\n",
    "        func()\n",
    "        delta_t = time.time() - t1\n",
    "        print(str(np.round(delta_t,6))+\" seconds passed.\")\n",
    "    return wrapper\n",
    "\n",
    "@benchmark\n",
    "def something_intensive():\n",
    "    print(\"zZzZzZ\")\n",
    "    time.sleep(2)\n",
    "    \n",
    "something_intensive()"
   ]
  },
  {
   "cell_type": "code",
   "execution_count": null,
   "metadata": {},
   "outputs": [],
   "source": [
    "# caching decorator\n",
    "# caches results for expensive calculations to speed up your code\n",
    "import time\n",
    "\n",
    "def cache_results(func):\n",
    "    cache = {}\n",
    "    def wrapper(*args, **kwargs):\n",
    "        key = (args, tuple(kwargs.items()))\n",
    "        if key in cache:\n",
    "            return cache[key]\n",
    "        result = func(*args, **kwargs)\n",
    "        cache[key] = result\n",
    "        return result\n",
    "    return wrapper\n",
    "\n",
    "@cache_results\n",
    "def compute_factorial(n):\n",
    "    if n == 0:\n",
    "        return 1\n",
    "    else:\n",
    "        time.sleep(1)  # simulate an expensive computation\n",
    "        return n * compute_factorial(n - 1)\n",
    "\n",
    "print(compute_factorial(5))\n",
    "print(compute_factorial(5))  # this call should be much faster thanks to the cache"
   ]
  },
  {
   "cell_type": "markdown",
   "metadata": {},
   "source": [
    "### 5.1 Decorators with arguments\n",
    "<br>\n",
    "<font size=\"3\">\n",
    "    In Python it's also possible to define decorators with arguments and even use multiple decorators with the same function or class method. <br>\n",
    "    Decorators with arguments are similar to regular decorators but allow you to pass additional arguments to them. These arguments can be used to customize the behavior of the decorator or to pass additional information to the function being decorated. <br>\n",
    "    They are a powerful way to customize the behavior of your functions and add additional functionality to your code. They allow you to pass information to your decorator and control how it modifies your function, giving you greater flexibility and control over your code.\n",
    "</font>\n",
    "\n",
    "### Example:"
   ]
  },
  {
   "cell_type": "code",
   "execution_count": null,
   "metadata": {},
   "outputs": [],
   "source": [
    "def repeat(num):\n",
    "    def decorator_repeat(func):\n",
    "        def wrapper_repeat(*args, **kwargs):\n",
    "            for _ in range(num):\n",
    "                func(*args, **kwargs)\n",
    "        return wrapper_repeat\n",
    "    return decorator_repeat\n",
    "\n",
    "@repeat(num=3)\n",
    "def say_hello():\n",
    "    print(\"Hello, World!\")\n",
    "\n",
    "say_hello()"
   ]
  },
  {
   "cell_type": "code",
   "execution_count": null,
   "metadata": {
    "scrolled": true
   },
   "outputs": [],
   "source": [
    "import time\n",
    "\n",
    "def print_delayed(delay = 1):\n",
    "    def decorator(function):\n",
    "        def wrapper(*args, **kwargs):\n",
    "            out = function(*args, **kwargs)\n",
    "            for n in range(len(out)+1):\n",
    "                print(out[:n]+\"\\r\")\n",
    "                time.sleep(delay)\n",
    "        return wrapper\n",
    "    return decorator\n",
    "\n",
    "@print_delayed(delay = 0.25)\n",
    "def greeting(name):\n",
    "    return \"Hello, \"+name+\" !\"\n",
    "    \n",
    "print(greeting(\"John Doe\"))"
   ]
  },
  {
   "cell_type": "markdown",
   "metadata": {},
   "source": [
    "<font size=\"3\"><div class=\"alert alert-warning\"><b>Exercise 5.1:</b>\n",
    "    Write a decorator called <code>validate_input</code> that checks if the arguments passed to a function (with non keyword arguments) are of a certain type.<br>\n",
    "The decorator should take one or more arguments, each of which is a type that the corresponding argument should be checked against. If any of the arguments does not match its corresponding type, the decorator should raise a <code>TypeError</code> exception.\n",
    "</div>\n",
    "\n",
    "<font size=\"3\">\n",
    "    <b>Try it yourself:</b></font>\n",
    "</font>"
   ]
  },
  {
   "cell_type": "code",
   "execution_count": null,
   "metadata": {},
   "outputs": [],
   "source": [
    "# ====== ENTER YOUR CODE HERE ======="
   ]
  },
  {
   "cell_type": "code",
   "execution_count": null,
   "metadata": {},
   "outputs": [],
   "source": [
    "# ========= TEST YOUR CODE =========\n",
    "\n",
    "@validate_input(int, str)\n",
    "def my_function(x, y):\n",
    "    return x + len(y)\n",
    "\n",
    "# Test case 1\n",
    "result = my_function(3, \"hello\")\n",
    "assert result == 8\n",
    "print(f\"Test1 was succesfull:\\n{result = }\\n\")\n",
    "\n",
    "# Test case 2\n",
    "try:\n",
    "    my_function(\"3\", \"hello\")\n",
    "except TypeError as e:\n",
    "    print(f\"Test3 was succesfull\\nTypeError was raised with: {e}.\\n\")\n",
    "else:\n",
    "    print(f\"Test3 was not succesfull\\nTypeError was not raised.\\n\")"
   ]
  },
  {
   "cell_type": "code",
   "execution_count": null,
   "metadata": {},
   "outputs": [],
   "source": [
    "# =========== SOLUTION ============\n",
    "\n",
    "from typing import Any, Callable, Tuple\n",
    "\n",
    "def validate_input(*types: type) -> Callable[[Callable], Callable]:\n",
    "    \"\"\"\n",
    "    A decorator that validates the input arguments of a function.\n",
    "\n",
    "        Args:\n",
    "            *types (Tuple[type, ...]): The expected types of the input arguments.\n",
    "\n",
    "        Returns:\n",
    "            Callable[[Callable[..., Any]], Callable[..., Any]]: A decorated function.\n",
    "\n",
    "        Raises:\n",
    "            TypeError: If any input argument is not of the expected type.\n",
    "    \"\"\"\n",
    "    def decorator_validate_input(func: Callable) -> Callable:      \n",
    "        def wrapper_validate_input(*args: Any, **kwargs: Any) -> Any:\n",
    "            # Check if the arguments match the specified types\n",
    "            for arg, t in zip(args, types):\n",
    "                if not type(arg) == t:\n",
    "                    raise TypeError(f\"Argument {arg} is not of type {t}\")\n",
    "            # Call the decorated function\n",
    "            return func(*args, **kwargs)\n",
    "        return wrapper_validate_input\n",
    "    return decorator_validate_input"
   ]
  },
  {
   "cell_type": "markdown",
   "metadata": {},
   "source": [
    "<font size=\"3\"><div class=\"alert alert-warning\"><b>(Bonus) Exercise 5.2:</b>\n",
    "    Write a decorator called <code>retry</code> that retries a function up to <code>n</code> times if an exception is raised.<br>\n",
    "    The decorator should take a single argument <code>n</code>, which is the maximum number of retries. If the function raises an exception, the decorator should wait for <code>delay</code> seconds and retry the function again, until the maximum number of retries is reached.<br>\n",
    "    Hint: You can use the time.sleep() function to delay the execution of the function.\n",
    "</div>\n",
    "\n",
    "<font size=\"3\">\n",
    "    <b>Try it yourself:</b></font>\n",
    "</font>"
   ]
  },
  {
   "cell_type": "code",
   "execution_count": null,
   "metadata": {},
   "outputs": [],
   "source": [
    "import time\n",
    "\n",
    "# ====== ENTER YOUR CODE HERE ======="
   ]
  },
  {
   "cell_type": "code",
   "execution_count": null,
   "metadata": {},
   "outputs": [],
   "source": [
    "# ========= TEST YOUR CODE =========\n",
    "import random\n",
    "\n",
    "# simulate a possible connection issue for accessing a database\n",
    "@retry(n=3, delay=1)\n",
    "def connect_to_database():\n",
    "    # simulate a random failure (1 in 3 chance)\n",
    "    if random.random() < 0.33:\n",
    "        raise ConnectionError(\"Could not connect to database\")\n",
    "    else:\n",
    "        print(\"Connected to database successfully\")\n",
    "connect_to_database()"
   ]
  },
  {
   "cell_type": "code",
   "execution_count": null,
   "metadata": {},
   "outputs": [],
   "source": [
    "# =========== SOLUTION ============\n",
    "import time\n",
    "from typing import Callable, Any\n",
    "\n",
    "def retry(n: int, delay: float) -> Callable[[Callable], Callable]:\n",
    "    \"\"\"\n",
    "    Decorator function that retries a given function for `n` times if it raises an exception.\n",
    "    After each failure, it waits for `delay` seconds before retrying.\n",
    "\n",
    "    Args:\n",
    "        n: Number of times to retry the function if it fails.\n",
    "        delay: Number of seconds to wait before retrying the function.\n",
    "\n",
    "    Returns:\n",
    "        A decorator function that takes a function and returns a wrapped function.\n",
    "    \"\"\"\n",
    "    def decorator_retry(func: Callable) -> Callable:        \n",
    "        def wrapper_retry(*args: Any, **kwargs: Any) -> Any:\n",
    "            for i in range(n):\n",
    "                try:\n",
    "                    result = func(*args, **kwargs)\n",
    "                    return result\n",
    "                except Exception as e:\n",
    "                    print(f\"Attempt {i+1}: {e}\")\n",
    "                    time.sleep(delay)\n",
    "            raise ConnectionError(\"Could not connect to database\")\n",
    "        return wrapper_retry\n",
    "    return decorator_retry\n"
   ]
  },
  {
   "cell_type": "markdown",
   "metadata": {},
   "source": [
    "## 6. Generators\n",
    "\n",
    "<font size=\"3\">\n",
    "Iterators and generators are powerful features in Python that allow you to iterate over sequences of data, such as lists or dictionaries, or generate sequences of data on-the-fly.\n",
    "\n",
    "An iterator is an object that allows you to traverse through a collection of data one item at a time, without having to load the entire collection into memory at once. To create an iterator in Python, you define a specific class (we'll get to that later).\n",
    "A generator, on the other hand, is a special type of iterator that allows you to define a sequence of data on-the-fly, without having to create a separate class. Instead, you use the <code>yield</code> keyword to define a function that generates a sequence of values, one at a time. When the function encounters a yield statement, it temporarily suspends its execution and returns the current value to the caller. The next time the function is called, it resumes execution from where it left off and continues generating the sequence.\n",
    "    \n",
    "Benefits of using iterators and generators:\n",
    "    \n",
    "<ul>\n",
    "    <li> <b>Memory Efficiency:</b> Generate data when it is needed without having to store everything in memory at once.\n",
    "    <li> <b>Time Efficiency:</b> Can start working with the data before the whole data set is loaded into the memory.\n",
    "</ul>    \n",
    "\n",
    "\n",
    "In Python, looping and iterators are closely connected. When we loop through objects like lists, dictionaries, and tuples, iterators are automatically used in the background. To manually iterate through a loop, we use the built-in next() function to get the next element of an iterator and the iter() statement to create an iterator object:\n",
    "<ul>\n",
    "    <li> <code>iter():</code> Returns an iterator for the given argument, e.g. a list.\n",
    "    <li> <code>next():</code> Advances the iterator to the next value and returns it.\n",
    "</ul>   \n",
    "</font>\n",
    "\n",
    "#### Example"
   ]
  },
  {
   "cell_type": "code",
   "execution_count": null,
   "metadata": {},
   "outputs": [],
   "source": [
    "my_list = [22,33,44]\n",
    "\n",
    "# Regular for loop:\n",
    "for i in my_list:\n",
    "    print(i)\n",
    "    \n",
    "print('\\n')\n",
    "    \n",
    "# We can manually recreate the behavior that \n",
    "# occurs in the background of Python's \n",
    "# iteration process by using iter() and next()\n",
    "\n",
    "# create iterator from list\n",
    "my_iter = iter(my_list)\n",
    "\n",
    "# iterate through elements of the iterator\n",
    "print(next(my_iter))\n",
    "print(next(my_iter))\n",
    "print(next(my_iter))"
   ]
  },
  {
   "cell_type": "markdown",
   "metadata": {},
   "source": [
    "### 6.1 Yield statement\n",
    "\n",
    "<font size=\"3\">\n",
    "In Python, the <code>yield</code> statement is used to define a generator function that returns an iterator object. The <code>yield</code> statement is similar to the <code>return</code> statement, in that it returns a value from a function. However, while the <code>return</code> statement terminates the function and returns a final value, the <code>yield</code> statement returns a value temporarily and allows the function to continue executing from where it left off.\n",
    "\n",
    "When a <code>yield</code> statement is encountered in a function, the function is temporarily suspended and the current value is returned to the caller. The next time the function is called, it resumes execution from where it left off and continues generating the sequence of values. This process can be repeated indefinitely, generating a potentially infinite sequence of values.\n",
    "</font>\n",
    "\n",
    "#### Example"
   ]
  },
  {
   "cell_type": "code",
   "execution_count": null,
   "metadata": {
    "tags": []
   },
   "outputs": [],
   "source": [
    "# A simple generator that can be used to iterate through my_list\n",
    "def my_generator():\n",
    "    my_list = ['a', 'b', 'c', 'd', 'e', 'f', 'g', 'h', 'i']\n",
    "    for c in my_list:\n",
    "        yield c\n",
    "\n",
    "my_gen = my_generator()\n",
    "print(next(my_gen))\n",
    "print(next(my_gen))\n",
    "print(next(my_gen))\n",
    "print(next(my_gen))\n",
    "print(next(my_gen))\n",
    "print(next(my_gen))\n",
    "print(next(my_gen))"
   ]
  },
  {
   "cell_type": "code",
   "execution_count": null,
   "metadata": {
    "tags": []
   },
   "outputs": [],
   "source": [
    "# Generators can also be used to generate an infinite sequence\n",
    "def even_numbers():\n",
    "    num = 0\n",
    "    while True:\n",
    "        yield num\n",
    "        num += 2\n",
    "\n",
    "even_gen = even_numbers()\n",
    "\n",
    "for _ in range(50):\n",
    "    print(next(even_gen)) "
   ]
  },
  {
   "cell_type": "code",
   "execution_count": null,
   "metadata": {
    "tags": []
   },
   "outputs": [],
   "source": [
    "import random\n",
    "\n",
    "# Generators can also be used to generate random numbers.\n",
    "# Generators, like normal functions, can accept arguments.\n",
    "def random_ints(start, stop):\n",
    "    while True:\n",
    "        yield random.randint(start, stop)\n",
    "        \n",
    "random_gen = random_ints(0, 200)\n",
    "\n",
    "for _ in range(50):\n",
    "    print(next(random_gen)) "
   ]
  },
  {
   "cell_type": "markdown",
   "metadata": {},
   "source": [
    "<font size=\"3\"><div class=\"alert alert-warning\"><b>Exercise 6.1:</b> <br>\n",
    "    Create a generator that generates a sequence of Fibonacci numbers (https://en.wikipedia.org/wiki/Fibonacci_sequence):\n",
    "    <ul>     \n",
    "    <li> Start by defining a function called <code>fibonacci()</code> that uses a <code>while</code> loop to generate Fibonacci numbers indefinitely.\n",
    "    <li> Initialize two variables, a and b, to 0 and 1, respectively. These will be used to generate the Fibonacci sequence.\n",
    "    <li> Within the loop, use the yield keyword to return the current value of a as the next item in the sequence.\n",
    "    <li> Calculate the next value of a by adding b to it, and update b to be the previous value of a.\n",
    "    <li> Test your generator by creating an instance of it and calling the <code>next()</code> function to get the next Fibonacci number in the sequence.\n",
    "    </ul>          \n",
    "</div> \n",
    "<font size=\"3\">\n",
    "<b>Try it yourself:</b></font>\n",
    "</font>\n"
   ]
  },
  {
   "cell_type": "code",
   "execution_count": null,
   "metadata": {},
   "outputs": [],
   "source": [
    "# ====== ENTER YOUR CODE HERE ======="
   ]
  },
  {
   "cell_type": "code",
   "execution_count": null,
   "metadata": {},
   "outputs": [],
   "source": [
    "# ========= TEST YOUR CODE =========\n",
    "\n",
    "fib_gen = fibonacci()\n",
    "\n",
    "for i in [0, 1, 1, 2, 3, 5, 8, 13, 21]:\n",
    "    result = next(fib_gen)\n",
    "    assert result == i\n",
    "    print(f'The fibonacci generator generated correctly the next number: {result}')"
   ]
  },
  {
   "cell_type": "code",
   "execution_count": null,
   "metadata": {},
   "outputs": [],
   "source": [
    "# =========== SOLUTION ============\n",
    "\n",
    "def fibonacci():\n",
    "    # a = 0\n",
    "    # b = 1\n",
    "    a, b = 0, 1\n",
    "    \n",
    "    while True:\n",
    "        yield a\n",
    "        #c = a\n",
    "        #a = a + b\n",
    "        #b = a\n",
    "        a, b = b, a + b"
   ]
  },
  {
   "cell_type": "markdown",
   "metadata": {},
   "source": [
    "<font size=\"3\"><div class=\"alert alert-warning\"><b>(Bonus) Exercise 6.2:</b> <br>\n",
    "    Create a generator that generates a sequence of prime numbers:\n",
    "    <ul>\n",
    "    <li> Start by defining a function called <code>is_prime()</code> that checks whether a given number is prime.\n",
    "    <li> Define another function called <code>primes()</code> that uses a while loop to generate prime numbers indefinitely.\n",
    "    <li> Initialize a variable n to 2, which is the first prime number.\n",
    "    <li> Within the loop, use the yield keyword to return the current value of n as the next prime number in the sequence.\n",
    "    <li> Increment n by 1 and use a while loop to check if the new value of n is prime. If it is, continue to the next iteration of the outer loop; if it isn't, try the next value of n.\n",
    "    <li> Test your generator by creating an instance of it and calling the <code>next()</code> function to get the next prime number in the sequence.\n",
    "    </ul>       \n",
    "</div> \n",
    "<font size=\"3\">\n",
    "<b>Try it yourself:</b></font>\n",
    "</font>"
   ]
  },
  {
   "cell_type": "code",
   "execution_count": null,
   "metadata": {},
   "outputs": [],
   "source": [
    "# ========= TEST YOUR CODE =========\n",
    "\n",
    "prime_gen = primes()\n",
    "\n",
    "for i in [2, 3, 5, 7, 11, 13]:\n",
    "    result = next(prime_gen)\n",
    "    assert result == i\n",
    "    print(f'The prime gernerator generated correctly the next number: {result}')"
   ]
  },
  {
   "cell_type": "code",
   "execution_count": null,
   "metadata": {},
   "outputs": [],
   "source": [
    "# =========== SOLUTION ============\n",
    "\n",
    "def is_prime(n):\n",
    "    if n < 2:\n",
    "        return False\n",
    "    for i in range(2, int(n ** 0.5) + 1):\n",
    "        if n % i == 0:\n",
    "            return False\n",
    "    return True\n",
    "\n",
    "def primes():\n",
    "    n = 2\n",
    "    while True:\n",
    "        if is_prime(n):\n",
    "            yield n\n",
    "        n += 1"
   ]
  },
  {
   "cell_type": "markdown",
   "metadata": {},
   "source": [
    "### 6.2 Return statement\n",
    "\n",
    "<font size=\"3\">\n",
    "Generators can be paused and resumed, allowing them to produce a sequence of values dynamically using the <i>yield</i> keyword. A <i>return</i> statement in a generator function is used to terminate the generator and indicate that there are no more values to be generated. When a <i>return</i> statement is executed in a generator function, a <i>StopIteration</i> exception is raised, which signals to the caller that the generator is finished.\n",
    "</font>\n",
    "\n",
    "#### Example"
   ]
  },
  {
   "cell_type": "code",
   "execution_count": null,
   "metadata": {},
   "outputs": [],
   "source": [
    "# generator for counting a number down \n",
    "# it stops when reaching zero\n",
    "def countdown(num):\n",
    "    while num > 0:\n",
    "        yield num\n",
    "        num -= 1\n",
    "    # Message raised with the StopIteration error\n",
    "    return \"Already finished!\"\n",
    "\n",
    "g = countdown(3)\n",
    "\n",
    "print(next(g))\n",
    "print(next(g))\n",
    "print(next(g))\n",
    "\n",
    "# get the StopIteration error\n",
    "print(next(g))"
   ]
  },
  {
   "cell_type": "markdown",
   "metadata": {},
   "source": [
    "## 7. Recursion\n",
    "<br>\n",
    "<font size=\"3\">\n",
    "    <b>A recursive function is a function which invokes itself</b> to accomplish the task. Examples are recursive series in mathematics and tree or directory discovery algorithms. If not implemented carefully, infinite recursive loops can ocurr causing the program to freeze.\n",
    "</font>\n",
    "\n",
    "### Example:"
   ]
  },
  {
   "cell_type": "code",
   "execution_count": null,
   "metadata": {},
   "outputs": [],
   "source": [
    "# a recursive version of the built-in Python function len()\n",
    "a = [1, 2, 3]\n",
    "b = [8, 2, a, 0, -1]\n",
    "nested_list = [[b, 0, 2, 1]]\n",
    "\n",
    "# print result of len(nested_list)\n",
    "print(f\"len(nested_list)={len(nested_list)}\")\n",
    "\n",
    "# define recursive len to get total number of elements in nested tuple\n",
    "def recursive_len(t):\n",
    "    if isinstance(t, list):\n",
    "        count = 0\n",
    "        for elem in t:\n",
    "            if isinstance(elem, list):\n",
    "                count += recursive_len(elem)\n",
    "            else:\n",
    "                count += 1\n",
    "        return count\n",
    "    else:\n",
    "        return 1\n",
    "\n",
    "# but total number of elements in nested tuple is\n",
    "print(f\"(recursive) element count in nested_list: {recursive_len(nested_list)}\")"
   ]
  },
  {
   "cell_type": "markdown",
   "metadata": {},
   "source": [
    "<font size=\"3\"><div class=\"alert alert-warning\"><b>Exercise 7.1:</b> Implement the recursive <a href=\"https://en.wikipedia.org/wiki/Fibonacci_number\">Fibonacci series</a>: <br>\n",
    "    <div align=\"center\">\n",
    "    $\\mathrm{F_0 = 0, F_1 = 1}$<br>\n",
    "    $\\mathrm{F_n = F_{n-1} + F_{n-2}}$\n",
    "    </div>\n",
    "    as recursive function.\n",
    "    </div>\n",
    "\n",
    "<b>Try it yourself:</b></font>"
   ]
  },
  {
   "cell_type": "code",
   "execution_count": null,
   "metadata": {},
   "outputs": [],
   "source": [
    "# ====== ENTER YOUR CODE HERE ======="
   ]
  },
  {
   "cell_type": "code",
   "execution_count": null,
   "metadata": {},
   "outputs": [],
   "source": [
    "# ========= TEST YOUR CODE =========\n",
    "\n",
    "for i, j in enumerate([0, 1, 1, 2, 3, 5, 8, 13, 21]):\n",
    "    result = fibonacci(i)\n",
    "    assert result == j\n",
    "    print(f'The fibonacci function got the {i}-th fibonacci number correct: {result}')"
   ]
  },
  {
   "cell_type": "code",
   "execution_count": null,
   "metadata": {},
   "outputs": [],
   "source": [
    "# =========== SOLUTION ============\n",
    "\n",
    "def fibonacci(n: int) -> int:\n",
    "    if n <= 1:\n",
    "        return n\n",
    "    else:\n",
    "        return fibonacci(n-1) + fibonacci(n-2)"
   ]
  }
 ],
 "metadata": {
  "kernelspec": {
   "display_name": "Python 3 (ipykernel)",
   "language": "python",
   "name": "python3"
  },
  "language_info": {
   "codemirror_mode": {
    "name": "ipython",
    "version": 3
   },
   "file_extension": ".py",
   "mimetype": "text/x-python",
   "name": "python",
   "nbconvert_exporter": "python",
   "pygments_lexer": "ipython3",
   "version": "3.12.8"
  },
  "varInspector": {
   "cols": {
    "lenName": 16,
    "lenType": 16,
    "lenVar": 40
   },
   "kernels_config": {
    "python": {
     "delete_cmd_postfix": "",
     "delete_cmd_prefix": "del ",
     "library": "var_list.py",
     "varRefreshCmd": "print(var_dic_list())"
    },
    "r": {
     "delete_cmd_postfix": ") ",
     "delete_cmd_prefix": "rm(",
     "library": "var_list.r",
     "varRefreshCmd": "cat(var_dic_list()) "
    }
   },
   "types_to_exclude": [
    "module",
    "function",
    "builtin_function_or_method",
    "instance",
    "_Feature"
   ],
   "window_display": false
  }
 },
 "nbformat": 4,
 "nbformat_minor": 4
}
