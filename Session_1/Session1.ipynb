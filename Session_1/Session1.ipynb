{
 "cells": [
  {
   "cell_type": "markdown",
   "metadata": {},
   "source": [
    "### Lars Gabriel, Fabian Wilde, University of Greifswald\n",
    "\n",
    "# Advanced Python course - Session 1\n",
    "\n",
    "<hr style=\"border:1px solid black\"> </hr>\n",
    "<br>\n",
    "<font size=\"3\">\n",
    "    This course requires <b>the course participants to have at least basic experience in</b> using the programming language <b>Python</b> and the <b>functional programming paradigm</b>. <br>Therefore, <b>the course participant should be</b> at least <b>familiar with:</b> <br>\n",
    "<ul>\n",
    "    <li>handling of builtin Python datatypes: int, float, str, bool, Lists, Dictionaries</li>\n",
    "    <li>control flow structures like for-/while-loops, if-elif-else statements</li>\n",
    "    <li>importing and usage of (3rd party) modules</li>\n",
    "    <li>defining (anonymous) functions with fixed/variable arguments</li>\n",
    "    <li>running Python scripts on the command-line and handling of command-line arguments\n",
    "    <li>numpy and matplotlib</li>\n",
    "</ul>\n",
    "</font>"
   ]
  },
  {
   "cell_type": "markdown",
   "metadata": {},
   "source": [
    "## 1. Preparations\n",
    "\n",
    "<font size=\"3\">\n",
    "This course uses Jupyter environment from the <b>AppHub</b>. It is a Jupyter notebook environment running on a remote server of the university (which we're using right now). It is accessible from within the university network (being connected to eduroam) or remotely from home via the VPN client. Therefore, a local installation is not necessary.<br>\n",
    "<div class=\"alert alert-warning\" role=\"alert\">\n",
    "    <b>If you're connected to eduroam or via the VPN client, you can directly access the JupyterHub via</b>\n",
    "    <a href=\"https://apphub.wolke.uni-greifswald.de/\">https://apphub.wolke.uni-greifswald.de/</a> using your personal login credentials from the university data center. Then select \"Datascience\" from \"Jupyther\".\n",
    "</div>\n",
    "In order to use the course materials in your Jupyter notebook instance, open a new empty notebook, type the following statements in the cell and <b>execute it with CTRL + ENTER.</b>\n",
    "</font>"
   ]
  },
  {
   "cell_type": "code",
   "execution_count": null,
   "metadata": {},
   "outputs": [],
   "source": [
    "%%bash\n",
    "https://github.com/DataCompetency/PythonAdvanced"
   ]
  },
  {
   "cell_type": "markdown",
   "metadata": {},
   "source": [
    "### Reminder of Keyboard Shortcuts in a JupyterNotebook\n",
    "<br>\n",
    "\n",
    "    \n",
    "| Shortcut | Function |\n",
    "| -------- | ----------- |\n",
    "| Esc      | Switch to command mode |\n",
    "| Enter    | Switch to edit mode |\n",
    "| B        | Creates new empty cell **B**elow |\n",
    "| H        | Show **H**elp   |\n",
    "| X        | Deletes currently selected cell|\n",
    "| Shift + Enter | Run cell and advance to next cell |\n",
    "| Ctrl  + Enter | Run cell |\n",
    "| Ctrl  + S     | Save notebook |\n",
    "\n",
    "The frame color of the currently selected cell changes from blue in command mode to green in edit mode."
   ]
  },
  {
   "cell_type": "markdown",
   "metadata": {},
   "source": [
    "<hr style=\"border:1px solid gray\"> </hr>\n",
    "\n",
    "## 2. Functions\n",
    "\n",
    "<font size=\"3\">\"<i>Functions are <b>self-contained</b> modules of code that accomplish a specific task. Functions usually <b>take in</b> data, process it, and <b>return</b> a result. Once a function is written, it can be used over and over and over again. Functions can be <b>called</b> from the inside of other functions.</i>\" (<a href=\"https://www.cs.utah.edu/~germain/PPS/Topics/functions.html#:~:text=Functions%20are%20%22self%20contained%22%20modules,the%20inside%20of%20other%20functions\">www.cs.utah.edu</a>).<br>    \n",
    "</font>"
   ]
  },
  {
   "cell_type": "markdown",
   "metadata": {},
   "source": [
    "<font size=\"3\">\n",
    "As your code grows bigger and some parts of the code may repeat in it, you'd need to structure it (since you'd also like to avoid <a href=\"https://en.wikipedia.org/wiki/Spaghetti_code\">spaghetti code</a>. This is code which is hard to follow due to various jumps within the code). The first step for cleaner code is to outsource repeating code snippets in user-defined functions. If some repeats itself for at least two times, it is already worth considering to write a function for that.<br><br>\n",
    "So structuring your code by subdividing it into functions has several advantages, like as<br>\n",
    "<ul>\n",
    "    <li><b>readability:</b> code is easier to follow by encapsulating complex code in a simple function call</li>\n",
    "    <li><b>maintainability:</b> code is easier to maintain, bugs are easier to identify and need only be fixed at one location in your code</li>\n",
    "    <li><b>portability:</b> parts of your code can be reused in other projects more easily</li>\n",
    "</ul>\n",
    "<br>\n",
    "\n",
    "### 2.1 Argument list\n",
    "    \n",
    "</font><center>\n",
    "    <img src=\"img/python-function.svg\" width=\"60%\">\n",
    "</center>\n",
    "<br>\n",
    "\n",
    "\n",
    "#### Examples"
   ]
  },
  {
   "cell_type": "code",
   "execution_count": null,
   "metadata": {},
   "outputs": [],
   "source": [
    "# function with one mandatory and one optional argument\n",
    "# a default value was set for parameter d\n",
    "def bar(c, d=0):\n",
    "    print (\"bar(\", c, \",\", d, \") called\")\n",
    "    \n",
    "# function call with just one parameter (default value is used for parameter d)\n",
    "bar(1)\n",
    "# function call where parameter values are explicitly defined\n",
    "bar(d=3, c=2)"
   ]
  },
  {
   "cell_type": "code",
   "execution_count": null,
   "metadata": {},
   "outputs": [],
   "source": [
    "# an example for a function definition with a variable number of function arguments\n",
    "def calc_sum(*args):\n",
    "    # inside the function, args is a tuple\n",
    "    print(\"type(args) = \" + str(type(args)))\n",
    "    result = 0\n",
    "    for elem in args:\n",
    "        result += elem\n",
    "    return result\n",
    "\n",
    "print(\"calc_sum(*(1, 2, 3)) = \"+str(calc_sum(*(1,2,3))), '\\n')  # the function call\n",
    "print(\"calc_sum(1, 2, 3) = \"+str(calc_sum(1,2,3)), '\\n')        # is equivalent to\n",
    "print(\"calc_sum(8, 9, 11, 5) = \"+str(calc_sum(8, 9, 11, 5)), '\\n')        # a different number of arguments can be used\n",
    "\n",
    "import numpy as np\n",
    "rand_len = np.random.randint(1,10)\n",
    "rand_tuple = tuple(np.random.randint(0,10,(rand_len,)))  # but the argument can be a tuple of arbitrary length\n",
    "print(\"rand_tuple = \"+str(rand_tuple))\n",
    "print(\"calc_sum(*rand_tuple) = \"+str(calc_sum(*rand_tuple)), '\\n')"
   ]
  },
  {
   "cell_type": "code",
   "execution_count": null,
   "metadata": {},
   "outputs": [],
   "source": [
    "# an example for a function definition with a variable number of keyword arguments\n",
    "def get_molecule_name(**kwargs):\n",
    "    # inside the function, kwargs is a dict\n",
    "    print(\"type(kwargs) = \"+str(type(kwargs)))\n",
    "    \n",
    "    molecules = {'H2O' : 'water', 'C2H5OH' : 'ethanol', 'CH3OH' : 'methanol'}\n",
    "    \n",
    "    # assemble string\n",
    "    out_str = ''\n",
    "    for key in kwargs.keys():\n",
    "        if kwargs[key] == 1:\n",
    "            out_str += key\n",
    "        else:\n",
    "            out_str += key + str(kwargs[key])\n",
    "    \n",
    "    if out_str in molecules.keys():\n",
    "        print(\"The molecule \"+out_str+\" is known as \"+molecules[out_str]+\".\")\n",
    "    else:\n",
    "        print(\"The molecule \"+out_str+\" is unknown.\")\n",
    "\n",
    "get_molecule_name(**{})\n",
    "get_molecule_name(**{'C':2,'H':5,'OH':1})\n",
    "get_molecule_name(C=2, H=5, OH=1)"
   ]
  },
  {
   "cell_type": "markdown",
   "metadata": {},
   "source": [
    "<font size=\"3\"><div class=\"alert alert-warning\"><b>Exercise 2.1:</b> <br>\n",
    "    Define a function named <i>process_data</i> that takes in two types of arguments:    \n",
    "    <ul>          \n",
    "      <li> A function called <i>processor</i>, which should be applied to each element of the <i>data</i> list\n",
    "      <li> A variable number of integers that are stored in a list called <i>data</i>\n",
    "    </ul>\n",
    "    The <i>processor</i> function should take in one argument, an integer, and return a modified version of that integer.<br>\n",
    "    The <i>process_data</i> function should apply the <i>processor</i> function to each element of the data list, and return a new list containing the processed data.\n",
    "</div>    \n",
    "<font size=\"3\">\n",
    "<b>Try it yourself:</b></font>\n",
    "</font>\n"
   ]
  },
  {
   "cell_type": "code",
   "execution_count": null,
   "metadata": {},
   "outputs": [],
   "source": [
    "def process_data(...ADD CODE HERE...):\n",
    "    ...ADD CODE HERE..."
   ]
  },
  {
   "cell_type": "code",
   "execution_count": null,
   "metadata": {},
   "outputs": [],
   "source": [
    "# Solution\n",
    "def process_data(processor, *data):\n",
    "    # Apply the processor function to each element of the data list\n",
    "    processed_data = [processor(num) for num in data]\n",
    "    return processed_data"
   ]
  },
  {
   "cell_type": "code",
   "execution_count": null,
   "metadata": {},
   "outputs": [],
   "source": [
    "# Test your process_data function\n",
    "\n",
    "# Define a processor function for testing\n",
    "def double(num):\n",
    "    return num * 2\n",
    "\n",
    "# Test case 1\n",
    "result = process_data(double, 1, 2, 3, 4, 5)\n",
    "print(result) # Expected output: [2, 4, 6, 8, 10]\n",
    "\n",
    "# Test case 2\n",
    "data = [10, 20, 30, 40, 50]\n",
    "result = process_data(lambda x: x ** 2, *data)\n",
    "print(result) # Expected output: [100, 400, 900, 1600, 2500]"
   ]
  },
  {
   "cell_type": "markdown",
   "metadata": {},
   "source": [
    "### 2.2 Call by sharing\n",
    "<font size=\"3\">\n",
    "    Python uses the \"call by sharing\" mechanism in order to pass arguments to a function. This means that when a function is called, the values of the arguments are not copied, but instead, references to the objects are passed. Any modifications made to the object inside the function can affect the original object outside the function, depending on whether it is a <b>mutable</b> (e.g. lists, dicts) or an <b>immutable</b> (e.g. int, float, string) object. \n",
    "</font>\n",
    "\n",
    "#### Example"
   ]
  },
  {
   "cell_type": "code",
   "execution_count": null,
   "metadata": {},
   "outputs": [],
   "source": [
    "def my_func(lst, num, string):\n",
    "    lst.append(4)\n",
    "    lst[1] = 9    \n",
    "    num += 1\n",
    "    string += \" world\"\n",
    "    \n",
    "a = [1, 2, 3]\n",
    "b = 5\n",
    "c = \"hello\"\n",
    "my_func(a, b, c)\n",
    "print(a)      # Output: [1, 9, 3, 4]\n",
    "print(b)      # Output: 5\n",
    "print(c)      # Output: \"hello\""
   ]
  },
  {
   "cell_type": "markdown",
   "metadata": {},
   "source": [
    "### 2.3 Namespace\n",
    "\n",
    "<font size=\"3\">\n",
    "In Python, a namespace is a mapping from names (i.e., names of variables, functions, classes, etc.) to objects. Namespaces are used to organize and control the scope of names in a program. <br>\n",
    "    \n",
    "There are several types of namespaces in Python:\n",
    "    <ul>\n",
    "        <li> <b>Built-in Namespace:</b> Contains all built-in functions and types in Python. It is automatically loaded into the interpreter's memory when the Python interpreter starts.\n",
    "    <li> <b>Global Namespace:</b> Contains all names defined in the outermost level of a module or script. It is created when a module or script is imported or executed, and it is available throughout the entire module or script.\n",
    "    <li> <b>Local Namespace:</b> Contains all names defined within a function or method. It is created when a function or method is called and is destroyed when the function or method returns.\n",
    "    </ul>\n",
    "\n",
    "When Python encounters a name in a program, it looks first in the local namespace first. If the name is not found there, it looks in the global namespace, then the built-in namespace. \n",
    "When a variable is assigned a value in a function, Python creates a new name in the local namespace. If the variable has the same name as a variable in the global namespace, the local variable \"shadows\" the global variable within the function. However, the global variable remains unchanged.\n",
    "</font>\n",
    "\n",
    "#### Example"
   ]
  },
  {
   "cell_type": "code",
   "execution_count": null,
   "metadata": {},
   "outputs": [],
   "source": [
    "# Built-in namespace\n",
    "print(\"Hello, world!\")  # `print` is a built-in function\n",
    "\n",
    "# Global namespace\n",
    "x = 42\n",
    "y = 86\n",
    "\n",
    "def my_func():\n",
    "    # Local namespace\n",
    "    y = 12\n",
    "    z = 13\n",
    "    print(x, y, z)\n",
    "\n",
    "my_func()  # prints \"42 12 13\"\n",
    "print(x, y)  # prints \"42 86\""
   ]
  },
  {
   "cell_type": "markdown",
   "metadata": {},
   "source": [
    "## 3. Exceptions\n",
    "<font size=\"3\">\n",
    "You've surely already experienced when an exception was raised or in other words an error was thrown. For example, when we try to divide by zero or access a non-existant list element:\n",
    "</font>"
   ]
  },
  {
   "cell_type": "code",
   "execution_count": null,
   "metadata": {},
   "outputs": [],
   "source": [
    "1 / 0"
   ]
  },
  {
   "cell_type": "code",
   "execution_count": null,
   "metadata": {},
   "outputs": [],
   "source": [
    "foo = [1, 2, 3]\n",
    "foo[10]"
   ]
  },
  {
   "cell_type": "markdown",
   "metadata": {},
   "source": [
    "<font size=\"3\">\n",
    "    In Python, exceptions are errors that occur during the execution of a program. They are a way of handling unexpected situations and errors in your code.<br><br>    \n",
    "    Exceptions can be caused by various reasons, such as invalid input, file not found, or division by zero. When an exception occurs, the program stops executing and the Python interpreter raises an exception object.<br><br>    \n",
    "    To handle exceptions, you can use the <b>try-except</b> block. The <b>try</b> block contains the code that you want to execute, and the <b>except</b> block contains the code that will be executed if an exception occurs. If no exception occurs, the except block is skipped.<br><br> \n",
    "    A possible use case could be to gracefully terminate a running program by saving the program state before it is terminated.<br><br>\n",
    "    You can also raise exceptions on purpose in your code by using the keyword <b><i>raise</i><b> followed by an <b><i>Exception</i><b> object.\n",
    "</font>\n",
    "\n",
    "### Example:"
   ]
  },
  {
   "cell_type": "code",
   "execution_count": null,
   "metadata": {},
   "outputs": [],
   "source": [
    "try:\n",
    "    # code block in which any or a specific Exception should be catched\n",
    "    x = 1 / 0\n",
    "except ZeroDivisionError:\n",
    "    # what do to in case of an exception\n",
    "    print(\"Cannot divide by zero\")"
   ]
  },
  {
   "cell_type": "markdown",
   "metadata": {},
   "source": [
    "<font size=\"3\">\n",
    "    You can also catch different exceptions at the same time.\n",
    "</font>"
   ]
  },
  {
   "cell_type": "code",
   "execution_count": null,
   "metadata": {},
   "outputs": [],
   "source": [
    "#user_input = [1, 0]\n",
    "user_input = [1, None]\n",
    "\n",
    "try:\n",
    "    # code block in which any or a specific Exception should be catched\n",
    "    result = user_input[0] / user_input[1]\n",
    "except ZeroDivisionError:\n",
    "    print(\"A division by zero was attempted. Terminating gracefully...\")\n",
    "except TypeError:\n",
    "    print(\"A type error occurred. Terminating gracefully...\")\n",
    "except Exception:\n",
    "    # what do to in case of an exception\n",
    "    print(\"A general exception occurred.\")\n",
    "    "
   ]
  },
  {
   "cell_type": "markdown",
   "metadata": {},
   "source": [
    "<font size=\"3\">\n",
    "    You can also use the <b>finally</b> block to specify code that will be executed regardless of whether an exception occurs or not. The finally block is executed after the try and except blocks.\n",
    "</font>"
   ]
  },
  {
   "cell_type": "code",
   "execution_count": null,
   "metadata": {},
   "outputs": [],
   "source": [
    "try:\n",
    "    x = 1 / 0\n",
    "except ZeroDivisionError:\n",
    "    print(\"Cannot divide by zero\")\n",
    "finally:\n",
    "    print(\"This code will always be executed\")"
   ]
  },
  {
   "cell_type": "code",
   "execution_count": null,
   "metadata": {},
   "outputs": [],
   "source": [
    "print(type(TypeError(\"This is a test.\")))\n",
    "\n",
    "raise TypeError(\"This is a test.\")"
   ]
  },
  {
   "cell_type": "markdown",
   "metadata": {},
   "source": [
    "<font size=\"3\">\n",
    "    You can also use the <b>raise</b> keyword to explicitly raise an exception. When you raise an exception, you are causing your program to stop executing and notifying the Python interpreter that an error has occurred\n",
    "</font>"
   ]
  },
  {
   "cell_type": "code",
   "execution_count": null,
   "metadata": {},
   "outputs": [],
   "source": [
    "raise Exception(\"Error message\")"
   ]
  },
  {
   "cell_type": "markdown",
   "metadata": {},
   "source": [
    "<font size=\"3\">\n",
    "    This code raises an exception of type <i>Exception</i> with the error message \"Error message\". You can replace Exception with any built-in or user-defined exception class, depending on the type of error you want to raise. <a href=\"https://docs.python.org/3/library/exceptions.html\">Here</a> you can find the documentation about already builtin exceptions.\n",
    "</font>"
   ]
  },
  {
   "cell_type": "markdown",
   "metadata": {},
   "source": [
    "<font size=\"3\"><div class=\"alert alert-warning\"><b>Exercise 3.1:</b>\n",
    "    Write a Python function called <b>divide</b> that takes two arguments, numerator and denominator, and returns their quotient. The function should handle the case where the denominator is zero by raising a ZeroDivisionError exception.</div>\n",
    "\n",
    "<b>Try it yourself:</b></font>"
   ]
  },
  {
   "cell_type": "code",
   "execution_count": null,
   "metadata": {},
   "outputs": [],
   "source": [
    "### ENTER CODE HERE###"
   ]
  },
  {
   "cell_type": "code",
   "execution_count": null,
   "metadata": {},
   "outputs": [],
   "source": [
    "# Test your code:\n",
    "divide(4, 2) # should work\n",
    "divide(4, 0) # should raise a ZeroDivisionError"
   ]
  },
  {
   "cell_type": "code",
   "execution_count": null,
   "metadata": {},
   "outputs": [],
   "source": [
    "# Solution\n",
    "def divide(numerator, denominator):\n",
    "    try:\n",
    "        quotient = numerator / denominator\n",
    "    except ZeroDivisionError:\n",
    "        print(\"Error: Cannot divide by zero.\")\n",
    "        raise\n",
    "    else:\n",
    "        return quotient\n"
   ]
  },
  {
   "cell_type": "markdown",
   "metadata": {},
   "source": [
    "<font size=\"3\"><div class=\"alert alert-warning\"><b>Exercise 3.2:</b>\n",
    "    Write a Python function called <b>get_average</b> that takes a list of numbers as an argument and returns the average of the numbers. The function should handle the following cases:\n",
    "    <ul>\n",
    "        <li> If the list is empty, the function should raise a ValueError exception with the error message \"List is empty\".\n",
    "        <li> If any element in the list is not a number (e.g. a string or a boolean), the function should raise a TypeError exception with the error message \"List contains non-numeric values\".\n",
    "    </ul>\n",
    "</div>\n",
    "\n",
    "<font size=\"3\">\n",
    "    <b>Try it yourself:</b></font>\n",
    "</font>"
   ]
  },
  {
   "cell_type": "code",
   "execution_count": null,
   "metadata": {},
   "outputs": [],
   "source": [
    "### ENTER YOUR CODE HERE ### "
   ]
  },
  {
   "cell_type": "code",
   "execution_count": null,
   "metadata": {},
   "outputs": [],
   "source": [
    "print(get_average([1, 2, 3, 4, 5])) # 3.0\n",
    "print(get_average([])) # ValueError: List is empty\n",
    "print(get_average([1, 2, 3, 'four', 5])) # TypeError: List contains non-numeric values"
   ]
  },
  {
   "cell_type": "code",
   "execution_count": null,
   "metadata": {},
   "outputs": [],
   "source": [
    "# Solution\n",
    "\n",
    "def get_average(numbers):\n",
    "    if not numbers:\n",
    "        raise ValueError(\"List is empty\")\n",
    "    try:\n",
    "        avg = sum(numbers) / len(numbers)\n",
    "    except TypeError:\n",
    "        raise TypeError(\"List contains non-numeric values\")\n",
    "    else:\n",
    "        return avg\n"
   ]
  },
  {
   "cell_type": "markdown",
   "metadata": {},
   "source": [
    "<font size=\"3\"><div class=\"alert alert-warning\"><b>Exercise 3.3:</b>\n",
    "    Write a Python function called <b>validate_input</b> that takes two arguments, user_input and allowed_values, and returns True if user_input is in allowed_values, and False otherwise. The function should handle the case where allowed_values is not a list or tuple by raising a TypeError exception.\n",
    "</div>\n",
    "\n",
    "<font size=\"3\">\n",
    "    <b>Try it yourself:</b></font>\n",
    "</font>"
   ]
  },
  {
   "cell_type": "code",
   "execution_count": null,
   "metadata": {},
   "outputs": [],
   "source": [
    "### ENTER CODE HERE###"
   ]
  },
  {
   "cell_type": "code",
   "execution_count": null,
   "metadata": {},
   "outputs": [],
   "source": [
    "# Test your code:\n",
    "print(validate_input(3, [1, 2, 3, 4])) # True\n",
    "print(validate_input('hello', ('world', 'python', 'hello'))) # True\n",
    "#print(validate_input(3, '1234')) # TypeError: allowed_values must be a list or tuple"
   ]
  },
  {
   "cell_type": "code",
   "execution_count": null,
   "metadata": {},
   "outputs": [],
   "source": [
    "# Solution\n",
    "def validate_input(user_input, allowed_values):\n",
    "    if not isinstance(allowed_values, (list, tuple)):\n",
    "        raise TypeError(\"allowed_values must be a list or tuple\")\n",
    "    else:\n",
    "        return user_input in allowed_values"
   ]
  },
  {
   "cell_type": "markdown",
   "metadata": {},
   "source": [
    "### 4. Decorators\n",
    "<br>\n",
    "<font size=\"3\">\n",
    "    <b><a href=\"https://wiki.python.org/moin/PythonDecorators\">Decorators</a> help to wrap functions around functions or class methods with a shorter notation, the so-called <i>syntactic sugar</i>, using the @-symbol.</b><br><br>\n",
    "A decorator is a special type of function that can modify the behavior of another function or class. Decorators allow you to add functionality to an existing function or class without modifying its source code.<br>\n",
    "Functions are first-class objects, which means they can be passed around like any other object. This property of functions allows for the creation of decorators. Decorators are functions that take another function as input and return a modified version of the input function.<br>\n",
    "For example, let's say we have a function <b>add</b> that takes two arguments and returns their sum.\n",
    "</font>"
   ]
  },
  {
   "cell_type": "code",
   "execution_count": null,
   "metadata": {},
   "outputs": [],
   "source": [
    "def add(a, b):\n",
    "    return a + b"
   ]
  },
  {
   "cell_type": "markdown",
   "metadata": {},
   "source": [
    "<font size=\"3\">\n",
    "Now, let's say we want to log each time the function is called. We can create a decorator function that takes a function as input and returns a new function that logs the function call and then calls the original function.\n",
    "</font>"
   ]
  },
  {
   "cell_type": "code",
   "execution_count": 2,
   "metadata": {},
   "outputs": [],
   "source": [
    "def log_calls(func):\n",
    "    def wrapper(*args, **kwargs):\n",
    "        print(f\"Calling function {func.__name__} with arguments {args}, {kwargs}\")\n",
    "        return func(*args, **kwargs)\n",
    "    return wrapper"
   ]
  },
  {
   "cell_type": "markdown",
   "metadata": {},
   "source": [
    "<font size=\"3\">\n",
    "    The <b>log_calls</b> function takes a function <b>func</b> as input and defines a new function <b>wrapper</b> that logs the function call and then calls func with the same arguments. Finally, <b>log_calls</b> returns the wrapper function.<br>\n",
    "    Now, we can use the <b>log_calls</b> decorator to modify the behavior of the <b>add</b> function.\n",
    "</font>"
   ]
  },
  {
   "cell_type": "code",
   "execution_count": 3,
   "metadata": {},
   "outputs": [],
   "source": [
    "@log_calls\n",
    "def add(a, b):\n",
    "    return a + b"
   ]
  },
  {
   "cell_type": "markdown",
   "metadata": {},
   "source": [
    "<font size=\"3\">\n",
    "    This will modify the behavior of the add function to log each function call. When we call add(2, 3), we will get the following output:\n",
    "</font>"
   ]
  },
  {
   "cell_type": "code",
   "execution_count": 4,
   "metadata": {},
   "outputs": [
    {
     "name": "stdout",
     "output_type": "stream",
     "text": [
      "Calling function add with arguments (2, 3), {}\n"
     ]
    },
    {
     "data": {
      "text/plain": [
       "5"
      ]
     },
     "execution_count": 4,
     "metadata": {},
     "output_type": "execute_result"
    }
   ],
   "source": [
    "add(2, 3)"
   ]
  },
  {
   "cell_type": "markdown",
   "metadata": {},
   "source": [
    "<font size=\"3\">\n",
    "    This notation is often used in 3rd party packages, they are often used for a variety of purposes, such as:\n",
    "    <ul>\n",
    "        <li> Logging function calls and their arguments\n",
    "        <li> Measuring the execution time of a function\n",
    "        <li> Caching function results to improve performance\n",
    "        <li> Enforcing security policies, such as authentication and authorization\n",
    "        <li> Adding extra functionality to existing classes and functions\n",
    "    </ul>\n",
    "    A popular package to measure the runtime of a function call or an algorithm is <i>timeit</i>. But it is also frequently used in frameworks like Django or Flask for Full-Stack Python where Python-based web applications are developed to denote event callback functions. <br>\n",
    "    Decorators are a powerful feature of Python that allow for the modification of the behavior of functions and classes without modifying their source code. There are many built-in decorators in Python, such as <b>@staticmethod</b>, <b>@classmethod</b>, and <b>@property</b>. You can also create your own decorators by defining a function that takes a function or class as an argument and returns a new function or class.\n",
    "</font>\n",
    "\n",
    "### Example:"
   ]
  },
  {
   "cell_type": "code",
   "execution_count": 5,
   "metadata": {},
   "outputs": [
    {
     "name": "stdout",
     "output_type": "stream",
     "text": [
      "zZzZzZ\n",
      "2.000961 seconds passed.\n"
     ]
    }
   ],
   "source": [
    "# Timing Decorator\n",
    "# can be used to measure the execution time of a function\n",
    "import time\n",
    "import numpy as np\n",
    "\n",
    "def benchmark(func):\n",
    "    def wrapper():\n",
    "        t1 = time.time()\n",
    "        func()\n",
    "        delta_t = time.time() - t1\n",
    "        print(str(np.round(delta_t,6))+\" seconds passed.\")\n",
    "    return wrapper\n",
    "\n",
    "@benchmark\n",
    "def something_intensive():\n",
    "    print(\"zZzZzZ\")\n",
    "    time.sleep(2)\n",
    "    \n",
    "something_intensive()"
   ]
  },
  {
   "cell_type": "code",
   "execution_count": 8,
   "metadata": {},
   "outputs": [
    {
     "name": "stdout",
     "output_type": "stream",
     "text": [
      "120\n",
      "120\n"
     ]
    }
   ],
   "source": [
    "# caching decorator\n",
    "# caches results for expensive calculations to speed up your code\n",
    "import time\n",
    "\n",
    "def cache_results(func):\n",
    "    cache = {}\n",
    "    def wrapper(*args, **kwargs):\n",
    "        key = (args, tuple(kwargs.items()))\n",
    "        if key in cache:\n",
    "            return cache[key]\n",
    "        result = func(*args, **kwargs)\n",
    "        cache[key] = result\n",
    "        return result\n",
    "    return wrapper\n",
    "\n",
    "@cache_results\n",
    "def compute_factorial(n):\n",
    "    if n == 0:\n",
    "        return 1\n",
    "    else:\n",
    "        time.sleep(1)  # simulate an expensive computation\n",
    "        return n * compute_factorial(n - 1)\n",
    "\n",
    "print(compute_factorial(5))\n",
    "print(compute_factorial(5))  # this call should be much faster thanks to the cache\n"
   ]
  },
  {
   "cell_type": "markdown",
   "metadata": {},
   "source": [
    "### 4.1 Decorators with arguments\n",
    "<br>\n",
    "<font size=\"3\">\n",
    "    In Python it's also possible to define decorators with arguments and even use multiple decorators with the same function or class method. <br>\n",
    "    Decorators with arguments are similar to regular decorators but allow you to pass additional arguments to them. These arguments can be used to customize the behavior of the decorator or to pass additional information to the function being decorated. <br>\n",
    "    They are a powerful way to customize the behavior of your functions and add additional functionality to your code. They allow you to pass information to your decorator and control how it modifies your function, giving you greater flexibility and control over your code.\n",
    "</font>\n",
    "\n",
    "### Example:"
   ]
  },
  {
   "cell_type": "code",
   "execution_count": 57,
   "metadata": {},
   "outputs": [
    {
     "name": "stdout",
     "output_type": "stream",
     "text": [
      "Hello, World!\n",
      "Hello, World!\n",
      "Hello, World!\n"
     ]
    }
   ],
   "source": [
    "def repeat(num):\n",
    "    def decorator_repeat(func):\n",
    "        def wrapper_repeat(*args, **kwargs):\n",
    "            for _ in range(num):\n",
    "                func(*args, **kwargs)\n",
    "        return wrapper_repeat\n",
    "    return decorator_repeat\n",
    "\n",
    "@repeat(num=3)\n",
    "def say_hello():\n",
    "    print(\"Hello, World!\")\n",
    "\n",
    "say_hello()"
   ]
  },
  {
   "cell_type": "code",
   "execution_count": 58,
   "metadata": {
    "scrolled": true
   },
   "outputs": [
    {
     "name": "stdout",
     "output_type": "stream",
     "text": [
      "\n",
      "H\n",
      "He\n",
      "Hel\n",
      "Hell\n",
      "Hello\n",
      "Hello,\n",
      "Hello, \n",
      "Hello, J\n",
      "Hello, Jo\n",
      "Hello, Joh\n",
      "Hello, John\n",
      "Hello, John \n",
      "Hello, John D\n",
      "Hello, John Do\n",
      "Hello, John Doe\n",
      "Hello, John Doe \n",
      "Hello, John Doe !\n",
      "None\n"
     ]
    }
   ],
   "source": [
    "import time\n",
    "\n",
    "def print_delayed(delay = 1):\n",
    "    def decorator(function):\n",
    "        def wrapper(*args, **kwargs):\n",
    "            out = function(*args, **kwargs)\n",
    "            for n in range(len(out)+1):\n",
    "                print(out[:n]+\"\\r\")\n",
    "                time.sleep(delay)\n",
    "        return wrapper\n",
    "    return decorator\n",
    "\n",
    "@print_delayed(delay = 0.25)\n",
    "def greeting(name):\n",
    "    return \"Hello, \"+name+\" !\"\n",
    "    \n",
    "print(greeting(\"John Doe\"))"
   ]
  },
  {
   "cell_type": "markdown",
   "metadata": {},
   "source": [
    "<font size=\"3\"><div class=\"alert alert-warning\"><b>Exercise 4.1:</b>\n",
    "    Write a decorator called <b>validate_input</b> that checks if the arguments passed to a function (with non keyword arguments) are of a certain type.<br>\n",
    "The decorator should take one or more arguments, each of which is a type that the corresponding argument should be checked against. If any of the arguments does not match its corresponding type, the decorator should raise a <b>TypeError</b> exception.\n",
    "</div>\n",
    "\n",
    "<font size=\"3\">\n",
    "    <b>Try it yourself:</b></font>\n",
    "</font>"
   ]
  },
  {
   "cell_type": "code",
   "execution_count": null,
   "metadata": {},
   "outputs": [],
   "source": [
    "### ENTER YOUR CODE HERE ###"
   ]
  },
  {
   "cell_type": "code",
   "execution_count": 54,
   "metadata": {},
   "outputs": [
    {
     "ename": "TypeError",
     "evalue": "Argument 3 is not of type <class 'int'>",
     "output_type": "error",
     "traceback": [
      "\u001b[0;31m---------------------------------------------------------------------------\u001b[0m",
      "\u001b[0;31mTypeError\u001b[0m                                 Traceback (most recent call last)",
      "\u001b[0;32m<ipython-input-54-0ceee937589a>\u001b[0m in \u001b[0;36m<module>\u001b[0;34m\u001b[0m\n\u001b[1;32m      5\u001b[0m \u001b[0;34m\u001b[0m\u001b[0m\n\u001b[1;32m      6\u001b[0m \u001b[0mmy_function\u001b[0m\u001b[0;34m(\u001b[0m\u001b[0;36m3\u001b[0m\u001b[0;34m,\u001b[0m \u001b[0;34m\"hello\"\u001b[0m\u001b[0;34m)\u001b[0m \u001b[0;31m# 8\u001b[0m\u001b[0;34m\u001b[0m\u001b[0;34m\u001b[0m\u001b[0m\n\u001b[0;32m----> 7\u001b[0;31m \u001b[0mmy_function\u001b[0m\u001b[0;34m(\u001b[0m\u001b[0;34m\"3\"\u001b[0m\u001b[0;34m,\u001b[0m \u001b[0;34m\"hello\"\u001b[0m\u001b[0;34m)\u001b[0m \u001b[0;31m# TypeError\u001b[0m\u001b[0;34m\u001b[0m\u001b[0;34m\u001b[0m\u001b[0m\n\u001b[0m",
      "\u001b[0;32m<ipython-input-52-c0e2d63e4a6f>\u001b[0m in \u001b[0;36mwrapper_validate_input\u001b[0;34m(*args, **kwargs)\u001b[0m\n\u001b[1;32m      7\u001b[0m             \u001b[0;32mfor\u001b[0m \u001b[0marg\u001b[0m\u001b[0;34m,\u001b[0m \u001b[0mt\u001b[0m \u001b[0;32min\u001b[0m \u001b[0mzip\u001b[0m\u001b[0;34m(\u001b[0m\u001b[0margs\u001b[0m\u001b[0;34m,\u001b[0m \u001b[0mtypes\u001b[0m\u001b[0;34m)\u001b[0m\u001b[0;34m:\u001b[0m\u001b[0;34m\u001b[0m\u001b[0;34m\u001b[0m\u001b[0m\n\u001b[1;32m      8\u001b[0m                 \u001b[0;32mif\u001b[0m \u001b[0;32mnot\u001b[0m \u001b[0mtype\u001b[0m\u001b[0;34m(\u001b[0m\u001b[0marg\u001b[0m\u001b[0;34m)\u001b[0m \u001b[0;34m==\u001b[0m \u001b[0mt\u001b[0m\u001b[0;34m:\u001b[0m\u001b[0;34m\u001b[0m\u001b[0;34m\u001b[0m\u001b[0m\n\u001b[0;32m----> 9\u001b[0;31m                     \u001b[0;32mraise\u001b[0m \u001b[0mTypeError\u001b[0m\u001b[0;34m(\u001b[0m\u001b[0;34mf\"Argument {arg} is not of type {t}\"\u001b[0m\u001b[0;34m)\u001b[0m\u001b[0;34m\u001b[0m\u001b[0;34m\u001b[0m\u001b[0m\n\u001b[0m\u001b[1;32m     10\u001b[0m             \u001b[0;31m# Call the decorated function\u001b[0m\u001b[0;34m\u001b[0m\u001b[0;34m\u001b[0m\u001b[0;34m\u001b[0m\u001b[0m\n\u001b[1;32m     11\u001b[0m             \u001b[0;32mreturn\u001b[0m \u001b[0mfunc\u001b[0m\u001b[0;34m(\u001b[0m\u001b[0;34m*\u001b[0m\u001b[0margs\u001b[0m\u001b[0;34m,\u001b[0m \u001b[0;34m**\u001b[0m\u001b[0mkwargs\u001b[0m\u001b[0;34m)\u001b[0m\u001b[0;34m\u001b[0m\u001b[0;34m\u001b[0m\u001b[0m\n",
      "\u001b[0;31mTypeError\u001b[0m: Argument 3 is not of type <class 'int'>"
     ]
    }
   ],
   "source": [
    "# try your decorator out\n",
    "@validate_input(int, str)\n",
    "def my_function(x, y):\n",
    "    return x + len(y)\n",
    "\n",
    "my_function(3, \"hello\") # 8\n",
    "my_function(\"3\", \"hello\") # TypeError"
   ]
  },
  {
   "cell_type": "code",
   "execution_count": 52,
   "metadata": {},
   "outputs": [],
   "source": [
    "import inspect\n",
    "\n",
    "def validate_input(*types):\n",
    "    def decorator_validate_input(func):      \n",
    "        def wrapper_validate_input(*args, **kwargs):\n",
    "            # Check if the arguments match the specified types\n",
    "            for arg, t in zip(args, types):\n",
    "                if not type(arg) == t:\n",
    "                    raise TypeError(f\"Argument {arg} is not of type {t}\")\n",
    "            # Call the decorated function\n",
    "            return func(*args, **kwargs)\n",
    "\n",
    "        return wrapper_validate_input\n",
    "    return decorator_validate_input"
   ]
  },
  {
   "cell_type": "markdown",
   "metadata": {},
   "source": [
    "<font size=\"3\"><div class=\"alert alert-warning\"><b>Exercise 4.2:</b>\n",
    "    Write a decorator called <b>retry</b> that retries a function up to <b>n</b> times if an exception is raised.<br>\n",
    "    The decorator should take a single argument <b>n</b>, which is the maximum number of retries. If the function raises an exception, the decorator should wait for <b>delay</b> seconds and retry the function again, until the maximum number of retries is reached.<br>\n",
    "    Hint: You can use the time.sleep() function to delay the execution of the function.\n",
    "</div>\n",
    "\n",
    "<font size=\"3\">\n",
    "    <b>Try it yourself:</b></font>\n",
    "</font>"
   ]
  },
  {
   "cell_type": "code",
   "execution_count": null,
   "metadata": {},
   "outputs": [],
   "source": [
    "import time\n",
    "\n",
    "### ENTER YOUR CODE HERE ###"
   ]
  },
  {
   "cell_type": "code",
   "execution_count": 19,
   "metadata": {},
   "outputs": [
    {
     "name": "stdout",
     "output_type": "stream",
     "text": [
      "Attempt 1: Could not connect to database\n",
      "Connected to database successfully\n"
     ]
    }
   ],
   "source": [
    "# try your decorator out\n",
    "import random\n",
    "\n",
    "# simulate a possible connection issue for accessing a database\n",
    "@retry(n=3, delay=1)\n",
    "def connect_to_database():\n",
    "    # simulate a random failure (1 in 3 chance)\n",
    "    if random.random() < 0.33:\n",
    "        raise ConnectionError(\"Could not connect to database\")\n",
    "    else:\n",
    "        print(\"Connected to database successfully\")\n",
    "connect_to_database()"
   ]
  },
  {
   "cell_type": "code",
   "execution_count": 18,
   "metadata": {},
   "outputs": [],
   "source": [
    "# Solution\n",
    "import time\n",
    "\n",
    "def retry(n, delay):\n",
    "    def decorator_retry(func):\n",
    "        def wrapper_retry(*args, **kwargs):\n",
    "            for i in range(n):\n",
    "                try:\n",
    "                    result = func(*args, **kwargs)\n",
    "                    return result\n",
    "                except Exception as e:\n",
    "                    print(f\"Attempt {i+1}: {e}\")\n",
    "                    time.sleep(delay)\n",
    "            raise e\n",
    "        return wrapper_retry\n",
    "    return decorator_retry"
   ]
  },
  {
   "cell_type": "markdown",
   "metadata": {},
   "source": [
    "## 3. Generators\n",
    "\n",
    "<font size=\"3\">\n",
    "Iterators and generators are powerful features in Python that allow you to iterate over sequences of data, such as lists or dictionaries, or generate sequences of data on-the-fly.\n",
    "\n",
    "An iterator is an object that allows you to traverse through a collection of data one item at a time, without having to load the entire collection into memory at once. To create an iterator in Python, you define a specific class (we'll get to that later).\n",
    "A generator, on the other hand, is a special type of iterator that allows you to define a sequence of data on-the-fly, without having to create a separate class. Instead, you use the <i>yield</i> keyword to define a function that generates a sequence of values, one at a time. When the function encounters a yield statement, it temporarily suspends its execution and returns the current value to the caller. The next time the function is called, it resumes execution from where it left off and continues generating the sequence.\n",
    "    \n",
    "Benefits of using iterators and generators:\n",
    "    \n",
    "<ul>\n",
    "    <li> <b>Memory Efficiency:</b> Generate data when it is needed without having to store everything in memory at once.\n",
    "    <li> <b>Time Efficiency:</b> Can start working with the data before the whole data set is loaded into the memory.\n",
    "</ul>    \n",
    "\n",
    "\n",
    "In Python, looping and iterators are closely connected. When we loop through objects like lists, dictionaries, and tuples, iterators are automatically used in the background. To manually iterate through a loop, we use the built-in next() function to get the next element of an iterator and the iter() statement to create an iterator object:\n",
    "<ul>\n",
    "    <li> <b>iter():</b> Returns an iterator for the given argument, e.g. a list.\n",
    "    <li> <b>next():</b> Advances the iterator to the next value and returns it.\n",
    "</ul>   \n",
    "</font>\n",
    "\n",
    "#### Example"
   ]
  },
  {
   "cell_type": "code",
   "execution_count": null,
   "metadata": {},
   "outputs": [],
   "source": [
    "my_list = [22,33,44]\n",
    "\n",
    "# Regular for loop:\n",
    "for i in my_list:\n",
    "    print(i)\n",
    "    \n",
    "print('\\n')\n",
    "    \n",
    "# We can manually recreate the behavior that \n",
    "# occurs in the background of Python's \n",
    "# iteration process by using iter() and next()\n",
    "\n",
    "# create iterator from list\n",
    "my_iter = iter(my_list)\n",
    "\n",
    "# iterate through elements of the iterator\n",
    "print(next(my_iter))\n",
    "print(next(my_iter))\n",
    "print(next(my_iter))"
   ]
  },
  {
   "cell_type": "markdown",
   "metadata": {},
   "source": [
    "### 3.1 Yield statement\n",
    "\n",
    "<font size=\"3\">\n",
    "In Python, the <i>yield</i> statement is used to define a generator function that returns an iterator object. The <i>yield</i> statement is similar to the <i>return</i> statement, in that it returns a value from a function. However, while the <i>return</i> statement terminates the function and returns a final value, the <i>yield</i> statement returns a value temporarily and allows the function to continue executing from where it left off.\n",
    "\n",
    "When a <i>yield</i> statement is encountered in a function, the function is temporarily suspended and the current value is returned to the caller. The next time the function is called, it resumes execution from where it left off and continues generating the sequence of values. This process can be repeated indefinitely, generating a potentially infinite sequence of values.\n",
    "</font>\n",
    "\n",
    "#### Example"
   ]
  },
  {
   "cell_type": "code",
   "execution_count": null,
   "metadata": {
    "tags": []
   },
   "outputs": [],
   "source": [
    "# A simple generator that can be used to iterate through my_list\n",
    "def my_generator():\n",
    "    my_list = ['a', 'b', 'c', 'd', 'e', 'f', 'g', 'h', 'i']\n",
    "    for c in my_list:\n",
    "        yield c\n",
    "\n",
    "my_gen = my_generator()\n",
    "print(next(x))\n",
    "print(next(x))\n",
    "print(next(x))\n",
    "print(next(x))\n",
    "print(next(x))\n",
    "print(next(x))\n",
    "print(next(x))"
   ]
  },
  {
   "cell_type": "code",
   "execution_count": null,
   "metadata": {
    "tags": []
   },
   "outputs": [],
   "source": [
    "# Generators can also be used to generate an infinite sequence\n",
    "def even_numbers():\n",
    "    num = 0\n",
    "    while True:\n",
    "        yield num\n",
    "        num += 2\n",
    "\n",
    "even_gen = even_numbers()\n",
    "\n",
    "for _ in range(50):\n",
    "    print(next(even_gen)) "
   ]
  },
  {
   "cell_type": "code",
   "execution_count": null,
   "metadata": {
    "tags": []
   },
   "outputs": [],
   "source": [
    "import random\n",
    "\n",
    "# Generators can also be used to generate random numbers.\n",
    "# Generators, like normal functions, can accept arguments.\n",
    "def random_ints(start, stop):\n",
    "    while True:\n",
    "        yield random.randint(start, stop)\n",
    "        \n",
    "random_gen = random_ints(0, 200)\n",
    "\n",
    "for _ in range(50):\n",
    "    print(next(random_gen)) "
   ]
  },
  {
   "cell_type": "markdown",
   "metadata": {},
   "source": [
    "<font size=\"3\"><div class=\"alert alert-warning\"><b>Exercise 3.1:</b> <br>\n",
    "    Create a generator that generates a sequence of Fibonacci numbers (https://en.wikipedia.org/wiki/Fibonacci_sequence):\n",
    "    <ul>     \n",
    "    <li> Start by defining a function called <i>fibonacci()</i> that uses a <i>while</i> loop to generate Fibonacci numbers indefinitely.\n",
    "    <li> Initialize two variables, a and b, to 0 and 1, respectively. These will be used to generate the Fibonacci sequence.\n",
    "    <li> Within the loop, use the yield keyword to return the current value of a as the next item in the sequence.\n",
    "    <li> Calculate the next value of a by adding b to it, and update b to be the previous value of a.\n",
    "    <li> Test your generator by creating an instance of it and calling the next() function to get the next Fibonacci number in the sequence.\n",
    "    </ul>          \n",
    "</div> \n",
    "<font size=\"3\">\n",
    "<b>Try it yourself:</b></font>\n",
    "</font>\n"
   ]
  },
  {
   "cell_type": "code",
   "execution_count": null,
   "metadata": {},
   "outputs": [],
   "source": [
    "### ENTER YOUR CODE HERE ###"
   ]
  },
  {
   "cell_type": "code",
   "execution_count": null,
   "metadata": {},
   "outputs": [],
   "source": [
    "# Test your generator\n",
    "fib_gen = fibonacci()\n",
    "\n",
    "print(next(fib_gen))  # Output: 0\n",
    "print(next(fib_gen))  # Output: 1\n",
    "print(next(fib_gen))  # Output: 1\n",
    "print(next(fib_gen))  # Output: 2\n",
    "print(next(fib_gen))  # Output: 3\n",
    "print(next(fib_gen))  # Output: 5\n"
   ]
  },
  {
   "cell_type": "code",
   "execution_count": null,
   "metadata": {},
   "outputs": [],
   "source": [
    "# Solution\n",
    "def fibonacci():\n",
    "    a, b = 0, 1\n",
    "    while True:\n",
    "        yield a\n",
    "        a, b = b, a + b"
   ]
  },
  {
   "cell_type": "markdown",
   "metadata": {},
   "source": [
    "<font size=\"3\"><div class=\"alert alert-warning\"><b>Exercise 3.2:</b> <br>\n",
    "    Create a generator that generates a sequence of prime numbers:\n",
    "    <ul>\n",
    "    <li> Start by defining a function called is_prime() that checks whether a given number is prime.\n",
    "    <li> Define another function called primes() that uses a while loop to generate prime numbers indefinitely.\n",
    "    <li> Initialize a variable n to 2, which is the first prime number.\n",
    "    <li> Within the loop, use the yield keyword to return the current value of n as the next prime number in the sequence.\n",
    "    <li> Increment n by 1 and use a while loop to check if the new value of n is prime. If it is, continue to the next iteration of the outer loop; if it isn't, try the next value of n.\n",
    "    <li> Test your generator by creating an instance of it and calling the next() function to get the next prime number in the sequence.\n",
    "    </ul>       \n",
    "</div> \n",
    "<font size=\"3\">\n",
    "<b>Try it yourself:</b></font>\n",
    "</font>"
   ]
  },
  {
   "cell_type": "code",
   "execution_count": null,
   "metadata": {},
   "outputs": [],
   "source": [
    "### ENTER YOUR CODE HERE ###"
   ]
  },
  {
   "cell_type": "code",
   "execution_count": null,
   "metadata": {},
   "outputs": [],
   "source": [
    "# Test your generator\n",
    "prime_gen = primes()\n",
    "\n",
    "print(next(prime_gen))  # Output: 2\n",
    "print(next(prime_gen))  # Output: 3\n",
    "print(next(prime_gen))  # Output: 5\n",
    "print(next(prime_gen))  # Output: 7\n",
    "print(next(prime_gen))  # Output: 11\n"
   ]
  },
  {
   "cell_type": "code",
   "execution_count": null,
   "metadata": {},
   "outputs": [],
   "source": [
    "# Solution\n",
    "def is_prime(n):\n",
    "    if n < 2:\n",
    "        return False\n",
    "    for i in range(2, int(n ** 0.5) + 1):\n",
    "        if n % i == 0:\n",
    "            return False\n",
    "    return True\n",
    "\n",
    "def primes():\n",
    "    n = 2\n",
    "    while True:\n",
    "        if is_prime(n):\n",
    "            yield n\n",
    "        n += 1"
   ]
  },
  {
   "cell_type": "markdown",
   "metadata": {},
   "source": [
    "### 3.2 Return statement\n",
    "\n",
    "<font size=\"3\">\n",
    "Generators can be paused and resumed, allowing them to produce a sequence of values dynamically using the <i>yield</i> keyword. A <i>return</i> statement in a generator function is used to terminate the generator and indicate that there are no more values to be generated. When a <i>return</i> statement is executed in a generator function, a <i>StopIteration</i> exception is raised, which signals to the caller that the generator is finished.\n",
    "</font>\n",
    "\n",
    "#### Example"
   ]
  },
  {
   "cell_type": "code",
   "execution_count": null,
   "metadata": {},
   "outputs": [],
   "source": [
    "# generator for counting a number down \n",
    "# it stops when reaching zero\n",
    "def countdown(num):\n",
    "    while num > 0:\n",
    "        yield num\n",
    "        num -= 1\n",
    "    # Message raised with the StopIteration error\n",
    "    return \"Already finished!\"\n",
    "\n",
    "g = countdown(3)\n",
    "\n",
    "print(next(g))\n",
    "print(next(g))\n",
    "print(next(g))\n",
    "\n",
    "# get the StopIteration error\n",
    "print(next(g))"
   ]
  },
  {
   "cell_type": "markdown",
   "metadata": {},
   "source": [
    "### 3.3 Coroutines\n",
    "<font size=\"3\">\n",
    "Coroutines are a type of generator that allow for two-way communication between the generator and the caller. They are similar to traditional generators in that they use the yield keyword to pause their execution and return a value to the caller. However, they also provide a way for the caller to send values back to the coroutine using the <b>send()</b> method. In the simplest form, you can  use the yield keyword on the right site of a statement to receive a value from the caller. \n",
    "</font> \n",
    "\n",
    "#### Example"
   ]
  },
  {
   "cell_type": "code",
   "execution_count": null,
   "metadata": {},
   "outputs": [],
   "source": [
    "# very simple coroutine that receives values with send\n",
    "def my_coroutine():\n",
    "    while True:\n",
    "        # keyword yield indicates that the coroutine pauses and waits for a value\n",
    "        x = yield\n",
    "        print(f'Received value: {x}')\n",
    "\n",
    "\n",
    "coro = my_coroutine()\n",
    "# initialize coroutine\n",
    "next(coro)\n",
    "# send values to coroutine that pauses at yield\n",
    "coro.send(10)\n",
    "coro.send('Hello, world!')\n",
    "coro.send([1, 2, 3])"
   ]
  },
  {
   "cell_type": "markdown",
   "metadata": {},
   "source": [
    "<font size=\"3\">  \n",
    "    For effective use of coroutines in python you can use the <b>async def</b> syntax instead of the regular <b>def</b> syntax. This tells Python that the function is a coroutine that can be paused and resumed, and that it should return a special type of object called a coroutine object instead of a regular function object and allows the usage of the keyword <b>await</b>.\n",
    "    <ul>\n",
    "        <li> <b>await:</b> Used in Python to wait for an asynchronous operation to complete. When await is applied to a coroutine object, it suspends the execution of the current coroutine until the awaited coroutine is complete.            \n",
    "    </ul>\n",
    "Once you have defined a coroutine, you can create an instance of it using the await keyword, which sends a value to the coroutine and starts its execution. Once the coroutine is running, you can use the send() method to send values to it and resume its execution. The coroutine can then process the value that was sent and return a new value to the caller using the yield keyword.\n",
    "\n",
    "Coroutines are particularly useful for implementing asynchronous programming in Python using the asyncio module. The asyncio module provides a way to run multiple coroutines concurrently and switch between them when one coroutine is waiting for I/O or some other blocking operation. This allows you to write asynchronous code that is both efficient and easy to understand.\n",
    "In addition to their use in asynchronous programming, coroutines can also be used for implementing cooperative multitasking, which is a technique for running multiple tasks on a single thread without blocking. This can be useful in situations where you want to maximize CPU utilization or when you are working with limited resources such as embedded systems.\n",
    "\n",
    "Overall, coroutines provide a powerful way to implement complex and efficient programming patterns in Python, and are an important tool in the modern Python programmer's toolkit.    \n",
    "</font>\n",
    "\n",
    "#### Examples"
   ]
  },
  {
   "cell_type": "code",
   "execution_count": null,
   "metadata": {},
   "outputs": [],
   "source": [
    "import asyncio\n",
    "\n",
    "# nest_asyncio is only required in JupyterNotebooks\n",
    "import nest_asyncio\n",
    "nest_asyncio.apply()\n",
    "\n",
    "async def my_coroutine():\n",
    "    print('Coroutine started')\n",
    "    # waits until asyncio.sleep finishes\n",
    "    await asyncio.sleep(1)\n",
    "    print('Coroutine ended')\n",
    "\n",
    "\n",
    "# run coroutine with asyncio\n",
    "asyncio.run(my_coroutine())"
   ]
  },
  {
   "cell_type": "code",
   "execution_count": null,
   "metadata": {
    "tags": []
   },
   "outputs": [],
   "source": [
    "## maybe example with send"
   ]
  },
  {
   "cell_type": "code",
   "execution_count": null,
   "metadata": {},
   "outputs": [],
   "source": [
    "import asyncio\n",
    "\n",
    "# nest_asyncio is only required in JupyterNotebooks\n",
    "import nest_asyncio\n",
    "nest_asyncio.apply()\n",
    "\n",
    "async def print_numbers():\n",
    "    for i in range(10):\n",
    "        print(i)\n",
    "        # waits until asyncio.sleep finishes\n",
    "        await asyncio.sleep(1)\n",
    "\n",
    "async def print_letters():\n",
    "    for letter in 'abcdefghijklmnopqrstuvwxyz':\n",
    "        print(letter)\n",
    "        await asyncio.sleep(1)\n",
    "\n",
    "# main() is the entry point of our application \n",
    "# responsible for setting up and executing other coroutines as needed\n",
    "async def main():\n",
    "    # iniate coroutines\n",
    "    task1 = asyncio.create_task(print_numbers())\n",
    "    task2 = asyncio.create_task(print_letters())\n",
    "    \n",
    "    # execute coroutines that \n",
    "    await task1\n",
    "    await task2\n",
    "\n",
    "\n",
    "asyncio.run(main())\n"
   ]
  },
  {
   "cell_type": "code",
   "execution_count": null,
   "metadata": {},
   "outputs": [],
   "source": [
    "# Coroutines for downloading URLs in parallel\n",
    "\n",
    "import asyncio\n",
    "import sys\n",
    "if not 'aiohttp' in sys.modules:\n",
    "    !{sys.executable} -m pip install aiohttp\n",
    "import aiohttp\n",
    "\n",
    "# nest_asyncio is only required in JupyterNotebooks\n",
    "import nest_asyncio\n",
    "nest_asyncio.apply()\n",
    "\n",
    "async def download_url(url):\n",
    "    async with aiohttp.ClientSession() as session:\n",
    "        async with session.get(url) as response:\n",
    "            html = await response.text()\n",
    "            return html\n",
    "\n",
    "async def main(urls):\n",
    "    coroutines = [download_url(url) for url in urls]\n",
    "    htmls = await asyncio.gather(*coroutines)\n",
    "    for url, html in zip(urls, htmls):\n",
    "        print(f\"HTML contents of {url}: {html[:50]}...\")\n",
    "\n",
    "urls = [\n",
    "    \"https://www.google.com\",\n",
    "    \"https://www.amazon.com\",\n",
    "    \"https://www.github.com\",\n",
    "]\n",
    "\n",
    "asyncio.run(main(urls))\n"
   ]
  },
  {
   "cell_type": "markdown",
   "metadata": {},
   "source": [
    "<font size=\"3\">  \n",
    "    Coroutines are a useful tool in programming for managing concurrent operations and improving performance. Here are some example applications for coroutines:\n",
    "    <ul>\n",
    "        <li> Asynchronous programming: Coroutines can be used to improve the performance of asynchronous programming by allowing multiple tasks to run concurrently without blocking the main thread.\n",
    "        <li> Web scraping: Coroutines can be used to efficiently scrape data from multiple websites simultaneously, reducing the time required to complete the task.\n",
    "        <li> GUI programming: Coroutines can be used to manage user interactions in graphical user interfaces (GUIs), such as handling user input and updating the interface in response to user actions.\n",
    "        <li> Game programming: Coroutines can be used to manage game logic and animations, allowing for smoother gameplay and more complex game mechanics.\n",
    "        <li> Networking: Coroutines can be used to manage network communication, such as sending and receiving data from remote servers.\n",
    "        <li> Data processing: Coroutines can be used to process large amounts of data efficiently, such as filtering, sorting, and transforming data in real-time.\n",
    "        <li> Concurrent algorithms: Coroutines can be used to implement concurrent algorithms, such as concurrent sorting or searching algorithms, which can improve performance and reduce response time.          \n",
    "    </ul>\n",
    "</font>"
   ]
  },
  {
   "cell_type": "markdown",
   "metadata": {},
   "source": [
    "<font size=\"3\"><div class=\"alert alert-warning\"><b>Exercise 3.3:</b> <br>\n",
    "    Suppose you want to simulate a simple game where the player has to guess a randomly generated number between 1 and 100. Write a program that uses coroutines to implement the game.<br>\n",
    "    Here's some guidance to help you get started:\n",
    "    <ul>\n",
    "    <li> Define an async coroutine called <b>generate_number</b> that generates a random number between 1 and 100 and waits for the player's guesses.\n",
    "    <li> Define another async coroutine called <b>check_guess</b> that takes the player's guess as input, checks if it matches the generated number, and returns a message indicating whether the guess was too high, too low, or correct.\n",
    "    <li> Define a third async coroutine called <b>main</b> that uses the <b>generate_number</b> coroutine to generate the random number and the <b>check_guess</b> coroutine to check the player's guesses.\n",
    "    <li> In the main coroutine, use a loop to prompt the player for guesses using the input function, pass each guess to the check_guess coroutine, and print the result.\n",
    "    <li> When the player guesses the correct number, print a message indicating that the player has won and exit the program.\n",
    "    </ul>       \n",
    "</div> \n",
    "<font size=\"3\">\n",
    "<b>Try it yourself:</b></font>\n",
    "</font>"
   ]
  },
  {
   "cell_type": "code",
   "execution_count": null,
   "metadata": {},
   "outputs": [],
   "source": [
    "# Solution\n",
    "\n",
    "import asyncio\n",
    "import random\n",
    "\n",
    "# nest_asyncio is only required in JupyterNotebooks\n",
    "import nest_asyncio\n",
    "nest_asyncio.apply()\n",
    "\n",
    "async def generate_number():\n",
    "    number = random.randint(1, 100)\n",
    "    while True:\n",
    "        guess = yield\n",
    "        if guess == number:\n",
    "            yield \"Correct! You win.\"\n",
    "            return\n",
    "        elif guess < number:\n",
    "            yield \"Too low. Guess again: \"\n",
    "        else:\n",
    "            yield \"Too high. Guess again: \"\n",
    "\n",
    "async def main():\n",
    "    gen = generate_number()\n",
    "    await gen.asend(None) # Start the coroutine\n",
    "    while True:\n",
    "        guess = input(\"Guess a number between 1 and 100: \")\n",
    "        try:\n",
    "            guess = int(guess)\n",
    "            message = await gen.asend(guess)\n",
    "            await gen.__anext__()\n",
    "            print(message)\n",
    "            if message.startswith(\"Correct\"):\n",
    "                return\n",
    "        except ValueError:\n",
    "            print(\"Invalid input. Please enter a number.\")\n",
    "\n",
    "asyncio.run(main())\n"
   ]
  },
  {
   "cell_type": "markdown",
   "metadata": {},
   "source": [
    "## Recursion\n",
    "<br>\n",
    "<font size=\"3\">\n",
    "    <b>A recursive function is a function which invokes itself</b> to accomplish the task. Examples are recursive series in mathematics and tree or directory discovery algorithms. If not implemented carefully, infinite recursive loops can ocurr causing the program to freeze.\n",
    "</font>\n",
    "\n",
    "### Example:"
   ]
  },
  {
   "cell_type": "code",
   "execution_count": null,
   "metadata": {},
   "outputs": [],
   "source": [
    "# a recursive version of the built-in Python function len()\n",
    "a = [1, 2, 3]\n",
    "b = [8, 2, a, 0, -1]\n",
    "nested_list = [[b, 0, 2, 1]]\n",
    "\n",
    "# print result of len(nested_list)\n",
    "print(\"len(nested_list)=\"+str(len(nested_list)))\n",
    "\n",
    "# define recursive len to get total number of elements in nested tuple\n",
    "def recursive_len(t):\n",
    "    if isinstance(t, list):\n",
    "        count = 0\n",
    "        for elem in t:\n",
    "            if isinstance(elem, list):\n",
    "                count += recursive_len(elem)\n",
    "            else:\n",
    "                count += 1\n",
    "        return count\n",
    "    else:\n",
    "        return 1\n",
    "\n",
    "# but total number of elements in nested tuple is\n",
    "print(\"(recursive) element count in nested_list: \"+str(recursive_len(nested_list)))"
   ]
  },
  {
   "cell_type": "markdown",
   "metadata": {},
   "source": [
    "<font size=\"3\"><div class=\"alert alert-warning\"><b>Exercise:</b> Implement the recursive <a href=\"https://en.wikipedia.org/wiki/Fibonacci_number\">Fibonacci series</a>: <br>\n",
    "    <div align=\"center\">\n",
    "    $\\mathrm{F_0 = 0, F_1 = 1}$<br>\n",
    "    $\\mathrm{F_n = F_{n-1} + F_{n-2}}$\n",
    "    </div>\n",
    "    as recursive function.\n",
    "    </div>\n",
    "\n",
    "<b>Try it yourself:</b></font>"
   ]
  },
  {
   "cell_type": "code",
   "execution_count": null,
   "metadata": {},
   "outputs": [],
   "source": []
  },
  {
   "cell_type": "markdown",
   "metadata": {},
   "source": [
    "<hr style=\"border:1px solid gray\"> </hr>\n",
    "\n",
    "## The object-oriented programming (OOP) paradigm\n",
    "\n",
    "<br>\n",
    "<div align=\"center\">\n",
    "    <img src=\"img/paradigms.jpg\" width=\"66%\">\n",
    "</div>\n",
    "<br>\n",
    "<font size=\"2\">\n",
    "    <i>Source:</i> <a href=\"https://digitalfellows.commons.gc.cuny.edu/2018/03/12/an-introduction-to-programming-paradigms/\"><i>https://digitalfellows.commons.gc.cuny.edu/2018/03/12/an-introduction-to-programming-paradigms/</i></a>\n",
    "</font>\n",
    "<br>\n",
    "<br>\n",
    "<font size=\"3\">\n",
    "    <b>Python is a multi-paradigm programming language</b>, hence supporting multiple <a href=\"https://en.wikipedia.org/wiki/Comparison_of_programming_paradigms\">programming paradigms</a>. A programming paradigm is a style, philosophy or a set of principles followed in structuring your code and the way to implement its intended functionality. Among the various paradigms, the <a href=\"https://en.wikipedia.org/wiki/Functional_programming\"><b>functional</b></a> and the <a href=\"https://en.wikipedia.org/wiki/Object-oriented_programming\"><b>object-oriented programming (OOP)</b></a> paradigm are the most popular, also in Python.<br>\n",
    "\n",
    "<b>The functional paradigm</b> focusses on:\n",
    "<ul>\n",
    "<li><b>Structuring your code</b>, so that the program uses subroutine/function calls (executing another program parts from elsewhere during the runtime).\n",
    "</li>\n",
    "<li>\n",
    "<b>Functions</b> in a mathematical sense <b>with arguments and return values</b>.\n",
    "</li>\n",
    "<li>\n",
    "<b>Scoping, the limited visibility of an entity (e.g. the name binding of a variable) is implemented</b>, allowing for <b>local variables</b> and <b>isolation</b>.\n",
    "</li>\n",
    "<li>\n",
    "<b>Functions allowing the reusability</b> of parts of the code since they <b>should ideally work as black boxes</b>.\n",
    "</li>\n",
    "<li>\n",
    "    <b>Statelessness</b>, hence <b>it shouldn't matter when a function is called.</b> As long as the same input is used, the function should yield the same output. <b>Hence functions are only loosely coupled to data</b> outside of their scope.\n",
    "</li>\n",
    "</ul>\n",
    "<br>\n",
    "A <b>use case</b> is for <b>smaller projects or specialized scripts</b> where <b>new features are rather unlikely to be implemented.</b><br>\n",
    "Examples for other programming languages following this paradigm are C, Fortran and Cobol.\n",
    "<br>\n",
    "<br>\n",
    "<b>The OOP paradigm</b> focusses on:\n",
    "<ul>\n",
    "<li><b>Classes defining objects encapsulating functionality</b> which could also exist independently and can be easily ported to other projects.\n",
    "</li>\n",
    "<li>\n",
    "<b>Class objects posess <i>methods</i></b>, functions bound to the object which should act only on the <b><i>attributes</i></b> of the object. The latter are <b>variables bound to the object instance.</b>\n",
    "</li>\n",
    "<li>\n",
    "<b>The data (its state) is strictly bound to the object.</b>\n",
    "</li>\n",
    "<li><b>States</b> since the objects (can) store a state in their attributes. The interaction of these objects with the environment takes place via <b><i>special object methods</i></b>, the so-called <b><i>interfaces</i></b>, to avoid direct manipulation of object attributes from outside <b>ensuring data security.</b> <b>Statefulness implies</b> that the <b>execution order of object methods can matter.</b>\n",
    "</li>\n",
    "<li>\n",
    "<b>Classes grouped in modules</b> so that the objects have the specific environments to work in. This allows <b>easy extensibility</b>.\n",
    "</li>\n",
    "<li>\n",
    "<b>Inheritance</b> allowing for a sub-class to inherit methods and attributes from the parent class.\n",
    "</li>\n",
    "<li>\n",
    "<b>The program functionality is realized by object interactions</b>, hence message passing between the objects. \n",
    "</li>\n",
    "</ul>\n",
    "<br>\n",
    "A <b>use case</b> is a <v>big project</b> with <b>many collaborators</b> where the <b>task can be easily subdivided</b>, where <b>statefulness</b> is important and <b>new features are likely to be added.</b>\n",
    "<br>\n",
    "Examples for other programming languages following this paradigm are Java, C++, Objective-C, Ruby or VB .NET.<br>\n",
    "<br>\n",
    "The different paradigms are partly built on each other. <br><br>Both paradigms implement the <b>DRY</b>-principle (<b>D</b>on't <b>R</b>epeat <b>Y</b>ourself). <br><br> If possible, you always should try to outsource repeating code in functions or classes. <br><br> <b>This does not only improve the maintainability of your code, but also its readability and portability.</b>\n",
    "</font>\n",
    "<br>\n",
    "<br>\n",
    "<div align=\"center\">\n",
    "    <img src=\"img/oops.png\" width=\"50%\">\n",
    "</div>\n",
    "<br>\n",
    "<font size=\"2\">\n",
    "    <i>Source:</i> <a href=\"https://www.freecodecamp.org/news/what-exactly-is-a-programming-paradigm/\"><i>https://www.freecodecamp.org/news/what-exactly-is-a-programming-paradigm/</i></a>\n",
    "</font>\n",
    "<br>\n",
    "<br>\n",
    "<font size=\"3\">\n",
    "<b>In summary, the abstract features of object-oriented programming are</b><br>\n",
    "<ul>\n",
    "    <li><b>Inheritance:</b> <br>Derivation of class from another class. Hierarchy of classes sharing common attributes and methods. Allows faster development of new features using already existing interfaces.</li><br>\n",
    "    <li><b>Polymorphism:</b> <br>A function, variable or object can have multiple forms, e.g. the same method could except different number and type of input arguments or the usage of a common interface for objects of different classes.</li><br>\n",
    "    <li><b>Abstraction:</b><br> A simplified data representation\n",
    "    </li>\n",
    "    <br>\n",
    "    <li><b>Encapsulation:</b><br> Bundling data and methods to hide the internal state and mechanics of an object from the outside. Ensures data safety, portability and maintainability.</li>\n",
    "</ul>\n",
    "</font>\n",
    "\n",
    "### Classes, Objects & Attributes\n",
    "<br>\n",
    "<div align=\"center\">\n",
    "    <img src=\"img/yoda_meme.png\" width=\"40%\">\n",
    "</div>\n",
    "<br>\n",
    "<font size=\"2\">\n",
    "    <i>Source:</i> <a href=\"https://medium.com/@972LPV/mutable-vs-immutable-objects-in-python-a8a3439636b6\"><i>https://medium.com/@972LPV/mutable-vs-immutable-objects-in-python-a8a3439636b6</i></a>\n",
    "</font>\n",
    "<br>\n",
    "<br>\n",
    "<font size=\"3\">\n",
    "    <b>Classes are blueprints or templates for objects in Python defining the object <i>properties via attributes</i> and <i>behavior via methods</i>.</b><br>\n",
    "In Python, even the basic builtin datatypes like int, float or str, are objects of a class in the end. Even references to functions. In Python, every entity is and can be treated as object.<br>\n",
    "\n",
    "### Example:"
   ]
  },
  {
   "cell_type": "code",
   "execution_count": null,
   "metadata": {
    "code_folding": []
   },
   "outputs": [],
   "source": [
    "# example int\n",
    "int_var = 3\n",
    "# example str\n",
    "str_var = \"Hello world!\"\n",
    "# example float\n",
    "float_var = 3.141\n",
    "# example tuple\n",
    "tuple_var = (1,2,3)\n",
    "# example list\n",
    "list_var = [1,2,3]\n",
    "# example dict\n",
    "dict_var = {'a':1,'b':2,'c':3}\n",
    "# example lambda/anonymous function\n",
    "func_var = lambda x: x**2\n",
    "# example \"regular\" function\n",
    "def foo(bar):\n",
    "    return bar**2\n",
    "\n",
    "# print types of the variables\n",
    "print(\"type(int_var)=\"+str(type(int_var)))\n",
    "print(\"type(str_var)=\"+str(type(str_var)))\n",
    "print(\"type(float_var)=\"+str(type(float_var)))\n",
    "print(\"type(tuple_var)=\"+str(type(tuple_var)))\n",
    "print(\"type(list_var)=\"+str(type(list_var)))\n",
    "print(\"type(dict_var)=\"+str(type(dict_var)))\n",
    "print(\"type(func_var)=\"+str(type(func_var)))\n",
    "print(\"type(foo)=\"+str(type(foo)))"
   ]
  },
  {
   "cell_type": "markdown",
   "metadata": {},
   "source": [
    "<font size=\"4\">\n",
    "<b>A class definition in Python has the following syntax:</b><br><br>\n",
    "</font>\n",
    "<font size=\"3\">\n",
    "<b>class <i>ClassName</i>(<i>ParentClass</i>):</b><br>\n",
    "<p style=\"margin-left: 20px\"><b>def __init__(self, <i>arguments</i>):</b></p>\n",
    "<p style=\"margin-left: 40px\"><font face=\"Courier\">self.<i>public_attr</i> = <i>value</i></font></p>\n",
    "<p style=\"margin-left: 40px\"><font face=\"Courier\">self.<i>_protected_attr</i> = <i>value</i></font></p>\n",
    "<p style=\"margin-left: 40px\"><font face=\"Courier\">self.<i>__private_attr</i> = <i>value</i></font></p>\n",
    "<p style=\"margin-left: 40px\"><font face=\"Courier\">indented code block</font></p>\n",
    "<p style=\"margin-left: 40px\"><b>[return <b><i>value</i>]</b></p>\n",
    "\n",
    "<p style=\"margin-left: 20px\"><b>def public_method(self, <i>arguments</i>):</b></p>\n",
    "<p style=\"margin-left: 40px\"><font face=\"Courier\">indented code block</font></p>\n",
    "<p style=\"margin-left: 40px\"><b>[return <b><i>value</i>]</b></p>\n",
    "\n",
    "<p style=\"margin-left: 20px\"><b>def _protected_method(self, <i>arguments</i>):</b></p>\n",
    "<p style=\"margin-left: 40px\"><font face=\"Courier\">indented code block</font></p>\n",
    "<p style=\"margin-left: 40px\"><b>[return <b><i>value</i>]</b></p>\n",
    "\n",
    "<p style=\"margin-left: 20px\"><b>def __private_method(self, <i>arguments</i>):</b></p>\n",
    "<p style=\"margin-left: 40px\"><font face=\"Courier\">indented code block</font><br>\n",
    "<b>[return <b><i>value</i>]</b></p>\n",
    "<br><br>\n",
    "    \n",
    "<b>where the private, builtin method <i>__init__</i> is the so-called <i>constructor</i> of the class object which is invoked when a new class object is <i>instantiated</i> (created).</b><br>\n",
    "<b>A function or method does not need to return a value. If no return statement is present, a NoneType object will be returned. However, the function or method needs to contain at least one statement (or a <i>pass</i>).</b><br><br>   \n",
    "<b>The class naming convention is to start with a capital letter and may use only here camel case, hence the alternating use of small and capital letters to create seperation, e.g. ClassName.</b><br><br>\n",
    "<br>\n",
    "<font size=\"4\">\n",
    "<u><b>Attribute and Method Naming Convention:</b></u>\n",
    "</font>\n",
    "<font size=\"3\">\n",
    "<br>\n",
    "<br>\n",
    "<b>Methods or attributes</b>\n",
    "<ul>\n",
    "    <li><b>without leading underscore</b> as name prefix are <b>public.</b></li>\n",
    "    <li><b>with one leading underscore</b> as name prefix are <b>protected.</b></li>\n",
    "    <li><b>with two leading underscores</b> as name prefix are <b>private.</b></li>\n",
    "    <li><b>with two underscores as</b> name <b>prefix and suffix</b> are <b>private, built-in methods.</b></li>\n",
    "</ul>\n",
    "<b>In contrast to other programming languages, this is <u>just a notational convention</u> and by no means a real access protection!</b><br>\n",
    "<b>Protected and private methods and protected attributes can be accessed anyway!</b><br> Private attribute access is possible using the built-in dictionary representation of an object: <i>obj.__dict__[attribute_name]</i>.<br><br>\n",
    "<b>When you attempt to access a private attribute, an error is thrown, but it can be accessed anyway with a trick.</b>\n",
    "</font>\n",
    "\n",
    "### Example:"
   ]
  },
  {
   "cell_type": "code",
   "execution_count": null,
   "metadata": {},
   "outputs": [],
   "source": [
    "# class definition\n",
    "# the class \"Dog\" inherits from class \"object\"\n",
    "# every class inherits from that class as default\n",
    "# naming convention for class names is to start with a capital letter\n",
    "class Dog(object):\n",
    "    \n",
    "    # the constructor of the class\n",
    "    # a private, built-in method\n",
    "    def __init__(self, name, age):\n",
    "        # a private attrbute which should be changed from outside the object\n",
    "        self.__name = name\n",
    "        self._age = age\n",
    "        self.favorite_food = \"Pizza\"\n",
    "        self.favorite_toy = \"Bone\"\n",
    "        self.has = None\n",
    "        self.__energy = 5\n",
    "        \n",
    "    # overload the builtin method __str__ \n",
    "    # for an implicit string representation of the object\n",
    "    #def __str__(self):\n",
    "    #    return \"This is the dog \"+self.__name+\". I am \"+str(self._age)+\" years old.\"\n",
    "        \n",
    "    # a public class method\n",
    "    def bark(self, volume, pitch, duration):\n",
    "        # assemble string\n",
    "        bark_str_prefix = [\"bo\",\"ba\",\"bi\"]\n",
    "        bark_str_letter = [\"o\",\"a\",\"i\"]\n",
    "        bark_str_suffix = \"rk\"\n",
    "        bark_str = bark_str_prefix[pitch]\n",
    "        bark_str += bark_str_letter[pitch]*duration\n",
    "        bark_str += bark_str_suffix\n",
    "        if volume > 50:\n",
    "            bark_str = str.upper(bark_str)\n",
    "            \n",
    "        if self.__energy <= 0:\n",
    "            return self.__sleep()\n",
    "        else:\n",
    "            self.__energy -= 1\n",
    "            return bark_str\n",
    "    \n",
    "    # a public class method\n",
    "    # implements an interaction between the objects of class Dog and Ball\n",
    "    def bite(self, obj):\n",
    "        if isinstance(obj, Ball):\n",
    "            obj.deflate()\n",
    "    \n",
    "    # a public class method\n",
    "    def retrieve(self, obj):\n",
    "        self.has = obj\n",
    "        return obj\n",
    "    \n",
    "    # a private class method - method name starts with two underscores\n",
    "    def __sleep(self):\n",
    "        self.__energy = 5\n",
    "        return \"zZzZ\"\n",
    "    \n",
    "    # setter - method to set private attribute content\n",
    "    def set_name(self, new_name):\n",
    "        self.__name = new_name\n",
    "    \n",
    "    # getter - method which yields private attribute content\n",
    "    def get_name(self):\n",
    "        return self.__name\n",
    "    \n",
    "    # getter - method which yields private attribute content\n",
    "    def get_energy(self):\n",
    "        return self.__energy\n",
    "\n",
    "# another class definition\n",
    "class Ball(object):\n",
    "    def __init__(self, size, color, weight, inflated):\n",
    "        self.__color = color\n",
    "        self.__size = size\n",
    "        self.__weight = weight\n",
    "        self.__inflated = inflated\n",
    "        \n",
    "    # setter - method to set private attribute content\n",
    "    def deflate(self):\n",
    "        self.__inflated = False\n",
    "\n",
    "    # setter - method to set private attribute content\n",
    "    def inflate(self):\n",
    "        self.__inflated = True\n",
    "        \n",
    "    # setter - method to set private attribute content\n",
    "    def set_inflated(self, value):\n",
    "        self.__inflated = value\n",
    "\n",
    "    # getter - method which yields private attribute content\n",
    "    def is_inflated(self):\n",
    "        return self.__inflated\n",
    "    \n",
    "    def print_status(self):\n",
    "        out_str = \"The ball is \"+self.__color+\" and \"+str(self.__size)+\\\n",
    "                    \" m big and weights \"+str(self.__weight)+\" kg and is \"\n",
    "        if self.__inflated:\n",
    "            out_str += \"inflated.\"\n",
    "        else:\n",
    "            out_str += \"not inflated.\"\n",
    "        print(out_str)\n",
    "        return out_str\n",
    "\n",
    "# instantiate new \"Dog\" objects\n",
    "dog1 = Dog(\"Bello\", 0)\n",
    "dog2 = Dog(\"Doggo\", 2)\n",
    "# instantiate new \"Ball\" object\n",
    "ball1 = Ball(0.3, \"red\", 0.2, True)\n",
    "\n",
    "# print types\n",
    "print(\"Object types:\")\n",
    "print(\"type(dog1)=\"+str(type(dog1)))\n",
    "print(\"type(dog2)=\"+str(type(dog2)))\n",
    "print(\"type(ball1)=\"+str(type(ball1))+\"\\n\")\n",
    "\n",
    "# attempt to print Dog-objects\n",
    "# results in standard string representation for generic objects\n",
    "# since we have not overloaded the built-in method __str__\n",
    "# which takes care of the conversion of the object to a string representation\n",
    "print(\"Objects implicitly converted to strings:\")\n",
    "print(dog1)\n",
    "print(dog2)\n",
    "print(ball1)\n",
    "print(\"\")"
   ]
  },
  {
   "cell_type": "markdown",
   "metadata": {},
   "source": [
    "<font size=\"3\">\n",
    "When you attempt to print objects of user-defined classes, Python tries to implicitly convert these objects to a string representation.<br><br>\n",
    "<b>Since <i>Dog</i> and <i>Ball</i> are user-defined classes, Python cannot know what an adequate string representation of that object would be. Therefore, an object is converted to a string of that form as default.</b><br><br>\n",
    "We can invoke public object methods without any problem. An object method can change attributes of the object, hence an object can have a certain state.\n",
    "</font>"
   ]
  },
  {
   "cell_type": "code",
   "execution_count": null,
   "metadata": {},
   "outputs": [],
   "source": [
    "# invoke public object methods\n",
    "print(\"Results of invoked object methods:\")\n",
    "print(\"----------------------------\\n\")\n",
    "print(\"dog1.bark(40, 0, 1) = \"+str(dog1.bark(40, 0, 1)))\n",
    "print(\"dog1.bark(50, 1, 1) = \"+str(dog1.bark(50, 1, 1)))\n",
    "print(\"dog1.bark(60, 1, 1) = \"+str(dog1.bark(60, 1, 1)))\n",
    "print(\"dog1.bark(60, 1, 10) = \"+str(dog1.bark(60, 1, 10)))\n",
    "print(\"dog1.retrieve(ball1) = \"+str(dog1.retrieve(ball1)))\n",
    "ball1.print_status()\n",
    "print(\"\")\n",
    "\n",
    "# invoke method which modifies the objects attributes\n",
    "print(\"ball1.is_inflated() = \"+str(ball1.is_inflated()))\n",
    "print(\"After invoking ball1.deflate():\")\n",
    "ball1.deflate()\n",
    "print(\"ball1.is_inflated() = \"+str(ball1.is_inflated()))\n",
    "print(\"\")"
   ]
  },
  {
   "cell_type": "markdown",
   "metadata": {},
   "source": [
    "<font size=\"3\">\n",
    "The statefullness of objects in Python is also demonstrated by interaction between different object types.<br>\n",
    "<b>In this example, an object of class Dog invokes a method of another object of a different class, here Ball.</b>\n",
    "</font>"
   ]
  },
  {
   "cell_type": "code",
   "execution_count": null,
   "metadata": {},
   "outputs": [],
   "source": [
    "print(\"Statefullness of objects:\")\n",
    "print(\"-------------------------\")\n",
    "print(\"If method bark() was invoked 5 times (not necessarily sequentially),\")\n",
    "print(\"the private method __sleep() of the Dog object is invoked.\")\n",
    "print(\"dog1.get_energy() = \"+str(dog1.get_energy()))\n",
    "print(\"dog1.bark(100,1,20) = \"+str(dog1.bark(100,1,20)))\n",
    "print(\"dog1.get_energy() = \"+str(dog1.get_energy()))\n",
    "print(\"dog1.bark(100,1,20) = \"+str(dog1.bark(100,1,20)))\n",
    "print(\"dog1.get_energy() = \"+str(dog1.get_energy()))\n",
    "print(\"\")\n",
    "\n",
    "# interaction between an object of class Dog and of class Ball\n",
    "print(\"Interaction between objects:\")\n",
    "print(\"----------------------------\\n\")\n",
    "print(\"After invoking ball1.inflate():\")\n",
    "ball1.inflate()\n",
    "print(\"ball1.is_inflated() = \"+str(ball1.is_inflated()))\n",
    "print(\"After invoking dog1.bite(ball1):\")\n",
    "dog1.bite(ball1)\n",
    "print(\"ball1.is_inflated() = \"+str(ball1.is_inflated()))\n",
    "\n",
    "print(\"\")\n",
    "\n",
    "# access public object attribute directly\n",
    "print(\"dog1.has = \"+str(dog1.has))\n",
    "print(\"\\n\")\n",
    "\n",
    "# attempt to access private object attribute (discouraged anyway, use setter/getter methods instead !)\n",
    "print(\"Attempt to access private attribute throws an error (encapsulation):\")\n",
    "print(\"dog1.__name = \"+str(dog1.__name))\n",
    "# yields an AttributeError"
   ]
  },
  {
   "cell_type": "code",
   "execution_count": null,
   "metadata": {},
   "outputs": [],
   "source": [
    "# attempt to invoke private object method\n",
    "print(\"Attempt to invoke private method throws an error (encapsulation):\")\n",
    "print(\"dog1.__sleep()=\"+dog1.__sleep())"
   ]
  },
  {
   "cell_type": "markdown",
   "metadata": {},
   "source": [
    "<font size=\"3\"><div class=\"alert alert-warning\"><b>Exercise:</b>\n",
    "    Define a class <i>Sheep</i> with <b>private</b> attributes <i>color, name, age, sheared</i> and the <b>public</b> attribute <i>id</i>. Implement <b>setters</b> and <b>getters</b> for the private attributes. Implement a <b>public</b> method <i>shear</i> switching the private attribute <i>sheared</i>. Implement a method <i>_ _str _ _</i> for the implicit string representation of the object, so that Python knows what to do when you attempt to print a Sheep object. Then try to print the Sheep object. </div><br>\n",
    "<b>Try it yourself:</b></font>"
   ]
  },
  {
   "cell_type": "code",
   "execution_count": null,
   "metadata": {},
   "outputs": [],
   "source": []
  },
  {
   "cell_type": "markdown",
   "metadata": {},
   "source": [
    "### Inheritance & Method prototyping, overriding and overloading\n",
    "<br>\n",
    "<font size=\"3\">\n",
    "    <b>Inheritance is one of the key features of the OOP paradigm.</b><br><br>\n",
    "    <b>Inheritance allows a child-class or subclass to inherit attributes and methods from one or more parent- or super classes.</b> The figure illustrates this circumstance:<br><br>\n",
    "    \n",
    "</font>\n",
    "<div align=\"center\">\n",
    "<img src=\"img/inheritance2.jpg\" width=\"40%\">\n",
    "</div>\n",
    "<br>\n",
    "<font size=\"2\"><i>Source: </i><a href=\"https://www.startertutorials.com/blog/inheritance-polymorphism-python.html\">https://www.startertutorials.com/blog/inheritance-polymorphism-python.html</a></font><font size=\"3\">\n",
    "<br><br>\n",
    "\n",
    "Inheritance allows to define a hierarchy of classes sharing the same base attributes and methods (interfaces). It can facilitate the implementation of new features in your code.<br><br> Inheritance is very often required when you work with big Python frameworks like the machine learning frameworks PyTorch or Tensorflow. There you write your own class by inheriting from a provided (abstract) class to comply with the interfaces or methods expected by the framework environment.<br><br>\n",
    "    <b>Multiple inheritance</b> is possible in Python, but only indirect via <a href=\"https://medium.com/@__hungrywolf/mro-in-python-3-e2bcd2bd6851\"><b>Method Resolution Order</b> (MRO)</a>, hence the object method are called in a specific order. An example is given below. <br><br>\n",
    "<b>In particular, method prototyping, overriding and overloading is applied in that case.<br><br>\n",
    "Method prototypes are simply empty methods defined in the parent class, hence this class is called <i>abstract</i>. <br><br>This prototype method is then overridden by redefining a method with the <u>same name</u> in the sub class.</b><br><br>\n",
    "    <b>Method overloading</b> is also called <b><i>polymorphism</i></b> since multiple class methods of the <u>same name</u> can be defined, but accepting different numbers of arguments and types. Depending on which <i>signature</i> (number and data types of expected method arguments) of the method fits, the specific method in that case is selected and executed.<br><br>\n",
    "<b>In contrast to other programming languages like e.g. Java, a builtin implementation of polymorphism is not available in Python, hence it is not possible to define multiple methods of the same name, but accepting different number of arguments.</b> Polymorphism can only be implemented indirectly by default values for (keyword) arguments or variable number of arguments.\n",
    "</font>\n",
    "\n",
    "### Example:"
   ]
  },
  {
   "cell_type": "code",
   "execution_count": null,
   "metadata": {},
   "outputs": [],
   "source": [
    "# let's use our class Dog from the example above\n",
    "# define a new class defining a special type of Dog\n",
    "class InuShiba(Dog):\n",
    "    \n",
    "    # the constructor of the class Dog is overridden here\n",
    "    def __init__(self, name, num_of_memes_published, age):\n",
    "        \n",
    "        # in order to have the same attributes like the parent or super class Dog\n",
    "        # invoke constructor of super class, then define additional attributes\n",
    "        \n",
    "        # instead of using the explicit class name here, better use the super() method!\n",
    "        super().__init__(name, age)\n",
    "        #Dog.__init__(self, name, age)\n",
    "        self.__num_of_memes_published = num_of_memes_published\n",
    "    \n",
    "    # a new method only InuShiba objects have\n",
    "    def publish_meme(self):\n",
    "        self.__num_of_memes_published += 1\n",
    "        \n",
    "    # the method bark is overloaded, since the class Dog already has a method bark, but\n",
    "    # with a different signature: the bark method of Dog expects 3 parameters, this bark method does not.\n",
    "    def bark(self, volume=100, pitch=1, duration=10):\n",
    "        return \"Barking in Japanese.\"\n",
    "\n",
    "special_dog = InuShiba(\"Hideki\", 2E100, 99)\n",
    "# inspecting the attributes of a InuShiba object, it in fact shares the same attributes as a Dog object\n",
    "# but it has additional attributes\n",
    "print(special_dog.__dict__)\n",
    "# inspecting the methods of a InuShiba object, it shares in fact the same methods as a Dog object\n",
    "# but it has additional methods\n",
    "print(special_dog.__dir__())\n",
    "\n",
    "# demonstration of method overloading / polymorphic methods\n",
    "print(special_dog.bark())\n",
    "print(special_dog.bark(100, 1, 10))\n",
    "print(\"\")\n",
    "\n",
    "print(Dog(\"a\",1) == Dog(\"b\",1))\n",
    "# need to override __add__ to do that\n",
    "#print(Dog(\"a\",1) + Dog(\"b\",2))\n",
    "print(dog1.bark(100,1,10))\n",
    "# invoking bark of a Dog object, throws an exception when invoked without parameters\n",
    "dog1.bark()"
   ]
  },
  {
   "cell_type": "code",
   "execution_count": null,
   "metadata": {},
   "outputs": [],
   "source": [
    "# Demonstration of built-in polymorphic functions \n",
    "  \n",
    "# len() being used for a string \n",
    "print(len(\"geeks\")) \n",
    "  \n",
    "# len() being used for a list \n",
    "print(len([10, 20, 30])) \n",
    "\n",
    "def add(x, z = 0):  \n",
    "    return x + y + z \n",
    "  \n",
    "# Function polymorphism / overloading due to defined default values for function arguments\n",
    "print(add(2, 3)) \n",
    "print(add(2, 3, 4))"
   ]
  },
  {
   "cell_type": "markdown",
   "metadata": {},
   "source": [
    "<font size=\"3\"><div class=\"alert alert-warning\"><b>Exercise:</b> Write a base class <i>Mammal</i> with private properties (attributes) weight, height, food. Define the method prototypes <i>talk</i> and <i>walk</i> by simply defining empty methods (by using the keyword <b>pass</b> after the method definition). Then define a child class <i>Sheep</i> to inherit from the class <i>Mammal</i> and override the prototypes defined in the parent class. </div>\n",
    "\n",
    "<b>Try it yourself:</b></font>"
   ]
  },
  {
   "cell_type": "code",
   "execution_count": null,
   "metadata": {},
   "outputs": [],
   "source": []
  },
  {
   "cell_type": "markdown",
   "metadata": {},
   "source": [
    "### Multiple Inheritance and Method Resolution Order (MRO)\n",
    "<br>\n",
    "<div align=\"center\">\n",
    "<img src=\"img/mro.png\" width=\"50%\">\n",
    "</div>\n",
    "<br>\n",
    "<font size=\"2\">\n",
    "    <i>Source: </i><a href=\"https://medium.com/@__hungrywolf/mro-in-python-3-e2bcd2bd6851\">https://medium.com/@__hungrywolf/mro-in-python-3-e2bcd2bd6851</a>\n",
    "</font>\n",
    "<br><br>\n",
    "\n",
    "<br>\n",
    "<font size=\"3\">\n",
    "Multiple inheritance can lead to ambigous situations like the famous diamond problem as illustrated above and shown as code below.<br><b> It is unclear in this case in which order the subclass would inherit the attributes and methods of its parent classes.</b> Therefore an algorithm, the <a href=\"https://en.wikipedia.org/wiki/C3_linearization\">C3 linearization</a>, is used to determine the order of inheritance in presence of mulitple inheritance.<br><br>\n",
    "<b>In simple words, the super class constructors are invoked in the inheritance order from left to right.</b>\n",
    "</font>\n",
    "\n",
    "\n",
    "\n",
    "### Example:"
   ]
  },
  {
   "cell_type": "code",
   "execution_count": null,
   "metadata": {},
   "outputs": [],
   "source": [
    "class A(object):\n",
    "    def __init__(self):\n",
    "        print('class A')\n",
    "        \n",
    "class B(object):\n",
    "    def __init__(self):\n",
    "        print('class B')\n",
    "        \n",
    "class C(A, B):\n",
    "    def __init__(self):\n",
    "        print('class C')\n",
    "        super().__init__()\n",
    "        \n",
    "# create a new object of class C\n",
    "obj1 = C()\n",
    "# print the method resolution order of the class\n",
    "C.mro()"
   ]
  },
  {
   "cell_type": "markdown",
   "metadata": {},
   "source": [
    "<font size=\"3\">\n",
    "<b>The need for an algorithm to determine the MRO is more obvious in case of a more complex, hybrid inheritance as shown below as figure and code.</b>\n",
    "</font>\n",
    "<br>\n",
    "<div align=\"center\">\n",
    "<img src=\"img/mro2.png\" width=\"25%\">\n",
    "</div>\n",
    "<br>\n",
    "<font size=\"2\"><i>Source: </i> <a href=\"https://medium.com/@__hungrywolf/mro-in-python-3-e2bcd2bd6851\">https://medium.com/@__hungrywolf/mro-in-python-3-e2bcd2bd6851</a></font>\n",
    "\n",
    "### Example:"
   ]
  },
  {
   "cell_type": "code",
   "execution_count": null,
   "metadata": {},
   "outputs": [],
   "source": [
    "class O: pass\n",
    "\n",
    "class F(O):pass\n",
    "\n",
    "class E(O):pass\n",
    "\n",
    "class D(O):pass\n",
    "\n",
    "class C(D,F):pass\n",
    "\n",
    "class B(D,E):pass\n",
    "\n",
    "class A(B,C):pass\n",
    "\n",
    "obj = A()\n",
    "# print the method resolution order of class A\n",
    "print(A.mro())"
   ]
  },
  {
   "cell_type": "markdown",
   "metadata": {},
   "source": [
    "### Useful builtin functions and inspect\n",
    "<br>\n",
    "<font size=\"3\">\n",
    "In particular when dealing with arbitrary Python objects and when we have no code documentation available, some builtin Python functions can be very useful.<br><br>\n",
    "<b>Builtin Python functions are usually private and end with a double underscore character.</b><br><br>\n",
    "    <b>We can list all methods and builtin methods of an object by invoking the <i>obj._ _dir_ _()</i> method</b><br>\n",
    "    There, we find again the builtin method <b><i>_ _str_ _</i></b> for the string representation of an object which we can overload.<br>\n",
    "We already did it in fact in the definition of the classes Dog and Ball.\n",
    "</font>\n",
    "\n",
    "### Example:"
   ]
  },
  {
   "cell_type": "code",
   "execution_count": null,
   "metadata": {},
   "outputs": [],
   "source": [
    "dog1.__dir__()"
   ]
  },
  {
   "cell_type": "markdown",
   "metadata": {},
   "source": [
    "<font size=\"3\">\n",
    "We can get all attributes of an object by accessing its Dictionary representation with the builtin private attribute <b><i>_ _dict_ _</b></i>.\n",
    "</font>"
   ]
  },
  {
   "cell_type": "code",
   "execution_count": null,
   "metadata": {},
   "outputs": [],
   "source": [
    "print(dog1.favorite_food)\n",
    "print(dog1.__dict__['favorite_food'])\n",
    "print(dog1.__dict__)"
   ]
  },
  {
   "cell_type": "markdown",
   "metadata": {},
   "source": [
    "<font size=\"3\">\n",
    "Sometimes in case of errors when we try to debug our code, it can be useful to find out the location path of a module or to check its version. So we can check if the right module (version) was imported in our code.\n",
    "</font>"
   ]
  },
  {
   "cell_type": "code",
   "execution_count": null,
   "metadata": {},
   "outputs": [],
   "source": [
    "import numpy as np\n",
    "print(np.__path__)\n",
    "print(np.__version__)"
   ]
  },
  {
   "cell_type": "markdown",
   "metadata": {},
   "source": [
    "<font size=\"3\">In order to get a quick help how to use a certain module or function, you can print the <b><i>docstring or documentation string</i></b> of a function, if implemented, using the built-in private attribute <i><b> _  _ doc _  _ </b></i>.</font>"
   ]
  },
  {
   "cell_type": "code",
   "execution_count": null,
   "metadata": {},
   "outputs": [],
   "source": [
    "import numpy as np\n",
    "print(np.__doc__)"
   ]
  },
  {
   "cell_type": "markdown",
   "metadata": {},
   "source": [
    "<font size=\"3\">\n",
    "    <b>For diagnostic purposes, there exists the package <a href=\"https://docs.python.org/3/library/inspect.html\"><i>inspect</i></a> to analyze Python functions or class methods.</b>\n",
    "</font>"
   ]
  },
  {
   "cell_type": "markdown",
   "metadata": {},
   "source": [
    "<font size=\"3\"><div class=\"alert alert-warning\"><b>Exercise:</b> Create a new numpy array and discover its methods and attributes without using the documentation. Analyze a method of your choice with the package <i>inspect</i> to find out which parameters this method expects.</div>\n",
    "\n",
    "<b>Try it yourself:</b></font>"
   ]
  },
  {
   "cell_type": "code",
   "execution_count": null,
   "metadata": {},
   "outputs": [],
   "source": []
  },
  {
   "cell_type": "markdown",
   "metadata": {},
   "source": [
    "### 4.2 Built-in Decorators\n",
    "<br>\n",
    "\n",
    "<font size=\"3\">\n",
    "    A popular built-in decorator in Python is the <b><i>@property</b></i> decorator. <br>\n",
    "    <b>It makes a class method accessible as if it would be an attribute of the class object.</b>\n",
    "</font>\n",
    "\n",
    "### Example:"
   ]
  },
  {
   "cell_type": "code",
   "execution_count": null,
   "metadata": {},
   "outputs": [],
   "source": [
    "class Student:\n",
    "    def __init__(self, name, grades):\n",
    "        self.name = name\n",
    "        self.grades = grades\n",
    "\n",
    "    @property\n",
    "    def got_grades(self):\n",
    "        return self.name + ' achieved ' + self.grades + ' points'\n",
    "    \n",
    "s = Student(\"Anna\", \"23\")\n",
    "print(s.name)\n",
    "print(s.grades)\n",
    "# the class object method was invoked \n",
    "# by accessing the object attribute of the same name\n",
    "print(s.got_grades)\n",
    "\n",
    "# we should avoid setting object attributes from outside the object\n",
    "s.name = \"John\"\n",
    "print(s.name)\n",
    "# the class object method was invoked \n",
    "# by accessing the object attribute of the same name\n",
    "print(s.got_grades)"
   ]
  },
  {
   "cell_type": "markdown",
   "metadata": {},
   "source": [
    "<font size=\"3\">\n",
    "<b>Of course, it should be avoided to set object attributes from outside the object (violation of the encapsulation)!</b><br><br>\n",
    "Above, the implementation of object attribute setters and getters was introduced.<br><br><b>Decorators offer a more elegant way to implement these using the syntax:<br><br> <i>@method_name.setter</i>, <i>@method_name.deleter</i> or <i>@method_name.getter</i></b><br><br>\n",
    "<b>No new additional method name is introduced this way and value/type checks can be easily implemented.</b>\n",
    "</font>\n",
    "\n",
    "### Example:"
   ]
  },
  {
   "cell_type": "code",
   "execution_count": null,
   "metadata": {},
   "outputs": [],
   "source": [
    "class Student:\n",
    "    def __init__(self, name, grades):\n",
    "        self.name = name\n",
    "        self.grades = grades\n",
    "\n",
    "    @property\n",
    "    # this is in fact an attribute getter\n",
    "    # this method wraps around it\n",
    "    def got_grades(self):\n",
    "        return self.name + ' achieved ' + self.grades + ' points'\n",
    "    \n",
    "    @got_grades.setter\n",
    "    # this method is wrapper\n",
    "    # it is invoked when you assign a value to the attribute / property\n",
    "    def got_grades(self, sentence):\n",
    "        name, rand, grades = sentence.split(' ')\n",
    "        self.name = name\n",
    "        self.grades = grades\n",
    "    \n",
    "# creates new object of class Student\n",
    "s = Student(\"Anna\", \"23\")\n",
    "print(s.name)\n",
    "print(s.grades)\n",
    "# the class object method was invoked \n",
    "# by accessing the object attribute of the same name\n",
    "print(s.got_grades)\n",
    "\n",
    "# we should avoid setting object attributes from outside the object\n",
    "s.name = \"John\"\n",
    "print(s.name)\n",
    "# the class object method was invoked \n",
    "# by accessing the object attribute of the same name\n",
    "print(s.got_grades)\n",
    "\n",
    "# instead we use now the property setter defined by the decorator @got_grades.setter\n",
    "# the setter method is invoked when you try to assign a value to the property\n",
    "# no new method name is introduced this way !\n",
    "s.got_grades = 'Richard achieved 31'\n",
    "print(s.got_grades)\n",
    "print(s.name)\n",
    "print(s.grades)"
   ]
  },
  {
   "cell_type": "markdown",
   "metadata": {},
   "source": [
    "## Parallelism\n",
    "<br>\n",
    "<font size=\"3\">\n",
    "So far, you only had created Python code where the program is run in a sequential manner, executing every statement one after another (serial processing). But sometimes, your problem could be easily parallelized, profit from a multi-core CPU and the required computational time could be significantly reduced (parallel processing).<br><br>The figure below illustrates the difference between serial (sequential) and parallel execution:<br><br>\n",
    "<div align=\"center\">\n",
    "<img src=\"img/serial_vs_parallel.png\" width=\"80%\">\n",
    "</div>\n",
    "<br>\n",
    "<font size=\"2\">\n",
    "    <i>Source:</i> <a href=\"https://sebastianraschka.com/Articles/2014_multiprocessing.html\"><i>https://sebastianraschka.com/Articles/2014_multiprocessing.html</i></a>\n",
    "</font>\n",
    "<br>\n",
    "<br>\n",
    "    \n",
    "<b>In all programming languages in general, but in Python in particular, there exist two options to realize concurrent code execution, hence the parallelization of the code: multiple threads or multiple processes.</b>\n",
    "</font>\n",
    "\n",
    "### Processes and Threads\n",
    "<br>\n",
    "<font size=\"3\">\n",
    "<b>A <a href=\"https://en.wikipedia.org/wiki/Process_(computing)\">process</a> is an instance of a computer program being executed.</b> The same program can be run multiple times or a number of different programs, multiple tasks, can be run in parallel, resulting in more than one process being executed. This is called <a href=\"https://en.wikipedia.org/wiki/Computer_multitasking\">multi-tasking</a>. It allows multiple programs to share the ressources of a CPU (core) by executing multiple tasks in an interleaving manner. Multitasking can but does not necessarily mean true parallel code execution, but just describes the fact that CPU time is shared between multiple programs in a given time interval (time slicing).<br><br> The best example is a modern operating system supporting multi-tasking. Usually there are much more processes running on your CPU than you have CPU cores. It is possible to run these processes in parallel because the processes have different priority and the scheduler, a part of the OS kernel, manages the CPU time allocation for the individual processes.<br><br>\n",
    "    <b>The following command lists all running processes running on a Linux system:</b>\n",
    "</font>"
   ]
  },
  {
   "cell_type": "code",
   "execution_count": null,
   "metadata": {
    "tags": []
   },
   "outputs": [],
   "source": [
    "%%bash\n",
    "ps -ef -aux"
   ]
  },
  {
   "cell_type": "markdown",
   "metadata": {},
   "source": [
    "<font size=\"3\">\n",
    "<b>A process itself can have multiple <a href=\"https://en.wikipedia.org/wiki/Thread_(computing)\">threads</a>. Multiple pieces of code can be run concurrently (and for the user it seems they'd be running in parallel) in multiple threads within one process. Therefore threads are just segments of a single process. The figures below illustrates this circumstance:</b>\n",
    "</font>\n",
    "<br>\n",
    "<br>\n",
    "<div align=\"center\">\n",
    "    <img src=\"img/thread.png\" width=\"40%\">\n",
    "</div>\n",
    "<br>\n",
    "<font size=\"2\">\n",
    "    <i>Source:</i> <a href=\"https://en.wikipedia.org/wiki/Thread_(computing)\"><i>https://en.wikipedia.org/wiki/Thread_(computing)</i></a>\n",
    "</font>\n",
    "<br>\n",
    "<br>\n",
    "<font size=\"3\">\n",
    "<b>The fact that threads are just segments of a process also characterizes the difference in terms of <i>memory access</i> between <i>processes</i> and <i>threads</i>:</b>\n",
    "<br><br>\n",
    "<ul>\n",
    "    <li><b>Different threads of the same process can access the same dynamically-allocated memory area of a process (heap). Therefore, common variables shared among multiple threads can be defined. <br><br> Simultaneous (write) access has to be avoided, otherwise a memory access violation could occur. Thread-safety has to be ensured. In Python, thread-safety is ensured by the global interpreter lock (GLI).</b><br><br>\n",
    "        <b>Threads have a smaller memory overhead than processes.</b></li>\n",
    "    <br>\n",
    "    <li><b>Processes run independently. Different processes cannot share common variables since they use separate memory areas.<br><br>An inter-process communication needs to be implemented, but memory access collisions can be avoided this way, conserving the peformance advantage.</b><br><br>\n",
    "    <b>Processes have a bigger memory overhead than threads.</li>\n",
    "</ul>\n",
    "</font>"
   ]
  },
  {
   "cell_type": "markdown",
   "metadata": {},
   "source": [
    "### The Global Interpreter Lock (GIL)\n",
    "\n",
    "<br>\n",
    "<font size=\"3\">\n",
    "    The <a href=\"https://en.wikipedia.org/wiki/Global_interpreter_lock\">global interpreter lock (GIL)</a> (or see <a href=\"https://wiki.python.org/moin/GlobalInterpreterLock\">here</a>) is a <a href=\"https://en.wikipedia.org/wiki/Mutual_exclusion\">mutual exclusion lock</a>, a (synchronisation) mechanism to ensure thread safety in Python and avoid memory access collisions between different threads of a process.<br><br>\n",
    "<b>The GLI enforces serial thread execution and synchronization in critical code sections to avoid conflicts between the threads (<a href=\"https://en.wikipedia.org/wiki/Race_condition\">race conditions</a>), leading to a loss of the performance advantages.</b> Critical sections have to be denoted in the code with a lock.<br><br>\n",
    "<b>The diagram below illustrates the timing of the GIL and the memory access by multiple threads:\n",
    "</font>\n",
    "<br>\n",
    "<br>\n",
    "<div align=\"center\">\n",
    "    <img src=\"img/gil.webp\" width=\"70%\">\n",
    "</div>\n",
    "<br>\n",
    "<font size=\"2\">\n",
    "    <i>Source:</i> <a href=\"https://www.datacamp.com/community/tutorials/python-global-interpreter-lock\"><i>https://www.datacamp.com/community/tutorials/python-global-interpreter-lock</i></a>\n",
    "</font>\n",
    "<br>\n",
    "<br>\n",
    "<font size=\"3\">\n",
    "<b>When a thread acquires the lock (lock state) and the other threads attempt to access the same ressource, the execution of the competing threads is suspended (wait state) till the lock is released.</b><br><br>\n",
    "But the acquisition of the lock does not always work flawlessly, so a lot of CPU time could be bound doing nothing. This can ultimatively lead to a worse performance for the threaded version of the code (see also <a href=\"http://dabeaz.blogspot.com/2010/01/python-gil-visualized.html\">here</a>). The GIL issues were partly solved by introducing a new GIL handling mechanism in Python 3.2.<br><br>\n",
    "Advantages of a GIL could be increased speed in single-threaded programs, easier intergration of C libraries (which are usually not thread-safe) and easier implementation (single GIL easier than multiple independent locks).\n",
    "</font>"
   ]
  },
  {
   "cell_type": "markdown",
   "metadata": {},
   "source": [
    "### The threading module\n",
    "<br>\n",
    "<font size=\"3\">\n",
    "    <b>The built-in <a href=\"https://docs.python.org/3/library/threading.html\"><i>threading</i></a> module offers a convenient way to create and run threads in Python.</b><br><br>\n",
    "    <b>The following examples demonstrates the use of multiple threads for independent tasks as light-weight alternative to processes.</b>\n",
    "</font>\n",
    "\n",
    "### Example:"
   ]
  },
  {
   "cell_type": "code",
   "execution_count": null,
   "metadata": {},
   "outputs": [],
   "source": [
    "# importing the threading module\n",
    "import threading\n",
    "# importing the time module\n",
    "import time\n",
    "# importing numpy\n",
    "import numpy as np\n",
    "\n",
    "# define functions for threading\n",
    "def calc_square(numbers):\n",
    "   for n in numbers:\n",
    "      # random artificial time-delay\n",
    "      time.sleep(np.random.uniform(0.2,2))   \n",
    "      print('Thread-1 (calc_square): ', str(n * n))\n",
    "        \n",
    "def calc_cube(numbers):\n",
    "   for n in numbers:\n",
    "      # random artificial time-delay\n",
    "      time.sleep(np.random.uniform(0.2,2))   \n",
    "      print('Thread-2 (calc_cube): ', str(n * n * n))\n",
    "        \n",
    "# prepare input argument list        \n",
    "arr = list(range(10))\n",
    "t = time.time()\n",
    "# create two threading objects or threads\n",
    "t1 = threading.Thread(target = calc_square,args=(arr,))\n",
    "t2 = threading.Thread(target = calc_cube,args=(arr,))\n",
    "\n",
    "#print the type of t1 and t2\n",
    "print(\"Type of t1:\" + str(type(t1)))\n",
    "print(\"Type of t2:\" + str(type(t2)))\n",
    "\n",
    "# start the threads by invoking the start() method of the thread object\n",
    "# running the threads concurrently (for the user they appear to be executed in parallel)\n",
    "print(\"Thread-1 start\")\n",
    "t1.start()\n",
    "print(\"Thread-2 start\")\n",
    "t2.start()\n",
    "\n",
    "# the method join waits for the threads to be finished\n",
    "t1.join()\n",
    "t2.join()\n",
    "\n",
    "print(\"The end.\")"
   ]
  },
  {
   "cell_type": "markdown",
   "metadata": {},
   "source": [
    "<font size=\"3\">\n",
    "<b>Obviously, in this toy example, the two loops in the two functions were run in a concurrent manner. From the user perspective, it seems as if they are/were running in parallel. But in fact, the threads ran in an interweaving manner.</b><br><br>\n",
    "<b>You can check that multiple threads are used by the Python interpreter process by running the code on the command-line:</b><br><br>\n",
    "    <b>First the content of the script is listed:</b>\n",
    "</font>"
   ]
  },
  {
   "cell_type": "code",
   "execution_count": null,
   "metadata": {},
   "outputs": [],
   "source": [
    "%%bash\n",
    "cat scripts/threading_test1.py"
   ]
  },
  {
   "cell_type": "markdown",
   "metadata": {},
   "source": [
    "<font size=\"3\">\n",
    "    <b>Execute the cell below to start the script as independent subprocess and don't wait for its output or till its execution is finished.</b>\n",
    "</font>"
   ]
  },
  {
   "cell_type": "code",
   "execution_count": null,
   "metadata": {},
   "outputs": [],
   "source": [
    "import subprocess\n",
    "# executes a command on the bash command-line in a separate subprocess\n",
    "# does not wait for the output or the command to be finished\n",
    "proc = subprocess.Popen(\"./scripts/threading_test1.py 10\", shell=True,\n",
    "             stdin=None, stdout=None, stderr=None, close_fds=True)"
   ]
  },
  {
   "cell_type": "markdown",
   "metadata": {},
   "source": [
    "<font size=\"3\">\n",
    "    <b>Immediately run the next cell to list the running process along with its threads:</b>\n",
    "</font>"
   ]
  },
  {
   "cell_type": "code",
   "execution_count": null,
   "metadata": {},
   "outputs": [],
   "source": [
    "%%bash\n",
    "ps -ef -T | grep \"/usr/bin/python3 ./scripts/threading_test1.py\""
   ]
  },
  {
   "cell_type": "markdown",
   "metadata": {},
   "source": [
    "<font size=\"3\">\n",
    "<b>As long as the script (as separate process) is running, you should see three entries (beginning with /usr/bin/python3) with the same <i>process ID</i> (PID in first column), but different <i>sub process ID</i> (SPID in second column), indicating that one process with two threads is running.</b><br><br>\n",
    "The following example demonstrates the use of multiple dependent threads and how critical code sections are explicitly denoted with a lock (aquire/release). Normally Python automatically handles memory access of competing threads, but <b>to ensure a consistent, determined code behaviour, you need to define locks around critical code section explicitly.</b><br><br><b>Since the GIL exists to ensure thread-safety, threading does not parallelize your code!</b><br><br>In this context, it is also <b>important to distinguish atomic and non-atomic operations</b> in Python. <b>An atomic operation is an operation which cannot be interrupted by another running thread e.g. a function call of a builtin function.</b> For further reading, checkout <a href=\"https://opensource.com/article/17/4/grok-gil\">this</a>.\n",
    "    \n",
    "In the following example, the result depends on some common variable shared between the threads. <b>Thread locking is required in this case to avoid memory access collisions or inconsistent behaviour, in particular when simultaneous write access to the same variable could happen.</b> An explicit example where thread locking would be required is if two threads work on the same list in separate loops alterating e.g the lists length.\n",
    "</font>\n",
    "\n",
    "### Example with explicit locks:"
   ]
  },
  {
   "cell_type": "code",
   "execution_count": null,
   "metadata": {},
   "outputs": [],
   "source": [
    "# import threading module\n",
    "import threading\n",
    "import time\n",
    "\n",
    "total = 0\n",
    "# get lock thread lock\n",
    "lock = threading.Lock()\n",
    "\n",
    "# this function leads to inconsistent behavior, because the increment operator is not atomic\n",
    "def increment_n_times(n):\n",
    "    # defines a global variable shared across the threads\n",
    "    global total\n",
    "    for i in range(n):\n",
    "        total += 1\n",
    "\n",
    "# this function explicitly denotes the section where a thread lock is required,\n",
    "# so that the non-atomic increment operation is not interrupted by another thread\n",
    "def safe_increment_n_times(n):\n",
    "    # defines a global variable shared across the threads\n",
    "    global total\n",
    "    for i in range(n):\n",
    "        # explicitly denote code section where GIL is required\n",
    "        lock.acquire()\n",
    "        total += 1\n",
    "        lock.release()\n",
    "        # ...and released\n",
    "\n",
    "# function which starts x threads running a given function\n",
    "def increment_in_x_threads(x, func, n):\n",
    "    threads = [threading.Thread(target=func, args=(n,)) for i in range(x)]\n",
    "    global total\n",
    "    total = 0\n",
    "    begin = time.time()\n",
    "    for thread in threads:\n",
    "        thread.start()\n",
    "    for thread in threads:\n",
    "        thread.join()\n",
    "    print('finished in {}s.\\ntotal: {}\\nexpected: {}\\ndifference: {} ({} %)'\n",
    "           .format(time.time()-begin, total, n*x, n*x-total, 100-total/n/x*100))\n",
    "    \n",
    "print(\"Run threads with function without lock (unsafe):\")\n",
    "# if the number of increments is big and the number of threads as well,\n",
    "# we observe undesired behavior of the code\n",
    "increment_in_x_threads(32, increment_n_times, int(1E5))\n",
    "print(\"Run threads with function having a locked code section (safe):\")\n",
    "increment_in_x_threads(32, safe_increment_n_times, int(1E5))\n"
   ]
  },
  {
   "cell_type": "markdown",
   "metadata": {},
   "source": [
    "<font size=\"3\">\n",
    "<b>With a properly implemented lock which avoids skipping increments from the different competing threads, the run time is much longer, but at least the results matches the expectation.<br><br> But this example of course demonstrates that threading is not usable for a proper parallelization of your code. </b>\n",
    "</font>"
   ]
  },
  {
   "cell_type": "markdown",
   "metadata": {},
   "source": [
    "### The multiprocessing module\n",
    "<br>\n",
    "<font size=\"3\">\n",
    "    <b>The built-in <a href=\"https://docs.python.org/3/library/multiprocessing.html\">multiprocessing</a> module allows for \"true\" parallelization of your code using multiple independent processes of which each has its own GIL.<br><br> The disadvantages are the increased memory overhead and the need to implement an inter-process communication if the processes depend on each other's results.</b>\n",
    "</font>\n",
    "\n",
    "### Example:"
   ]
  },
  {
   "cell_type": "code",
   "execution_count": null,
   "metadata": {},
   "outputs": [],
   "source": [
    "# import the multiprocessing module\n",
    "import multiprocessing as mp\n",
    "import numpy as np\n",
    "import random\n",
    "import string\n",
    "import time\n",
    "\n",
    "random.seed(123)\n",
    "\n",
    "lock = mp.Lock()\n",
    "\n",
    "def gen_rand_str(num_string, str_len, num_processes):\n",
    "\n",
    "    # defines a queue to output the results of the processes running the function rand_string\n",
    "    output = mp.Queue()\n",
    "\n",
    "    # define a example function\n",
    "    def rand_string(num, length, output):\n",
    "        out = []\n",
    "        for n in range(num):\n",
    "            # Generates a random string of numbers, lower- and uppercase chars. \"\"\"\n",
    "            rand_str = ''.join(random.choice(\n",
    "                                string.ascii_lowercase\n",
    "                                + string.ascii_uppercase\n",
    "                                + string.digits)\n",
    "                           for i in range(length))\n",
    "            out.append(rand_str)\n",
    "        output.put(out)\n",
    "\n",
    "    # create a list of processes to run\n",
    "    # each process creates a list of x random strings of length y\n",
    "    t1 = time.time()\n",
    "    processes = [mp.Process(target=rand_string, args=(int(num_string/num_processes), str_len, output)) for x in range(num_processes)]\n",
    "\n",
    "    # Run processes\n",
    "    for p in processes:\n",
    "        p.start()\n",
    "\n",
    "    # Get process results from the output queue once they are done\n",
    "    results = [output.get() for p in processes]\n",
    "    dt = time.time()-t1\n",
    "    \n",
    "    print(str(np.round(dt,4))+\" seconds elapsed, generated \"+str(int(num_string/num_processes)*num_processes)+\" strings with \"+str(num_processes)+\" processes.\")\n",
    "    return [results, dt]\n",
    "\n",
    "print(\"Output example:\")\n",
    "print(gen_rand_str(40,16,1))\n",
    "# if the same number of random strings is generated with multiple threads, it is slower due to the overhead\n",
    "# but this only holds true for small numbers of strings\n",
    "#gen_rand_str(10,16,4);\n",
    "\n",
    "# runs a little benchmark:\n",
    "# with increasing number of strings to be generated, the performance advantage becomes more obvious\n",
    "# and the additonal overhead of using multiple processes becomes less important\n",
    "\n",
    "str_len = 16\n",
    "max_procs = 5\n",
    "num_strings = [int(1E3),int(1E4),int(1E5),int(2E5)]\n",
    "req_time = {}\n",
    "\n",
    "for m in range(1, max_procs + 1):\n",
    "    req_time.update({m:[]})\n",
    "    for n in range(len(num_strings)):\n",
    "        req_time[m].append(gen_rand_str(num_strings[n], str_len, m)[1])\n",
    "\n",
    "from matplotlib import pyplot as plt       \n",
    "fig = plt.figure(figsize=(1024/100,768/100))\n",
    "ax = fig.add_subplot(111)\n",
    "for n in range(1,max_procs + 1):\n",
    "    ax.scatter(num_strings,req_time[n])\n",
    "    ax.plot(num_strings,req_time[n],label=\"procs=\"+str(n))\n",
    "ax.set_xlabel(\"# strings\",fontsize=14)\n",
    "ax.set_ylabel(\"req. time [s]\",fontsize=14)\n",
    "ax.tick_params(axis='both', which='major', labelsize=14)\n",
    "plt.grid(which=\"both\",color=\"gray\",linestyle=\":\")\n",
    "plt.legend(fontsize=14)\n",
    "plt.show()\n",
    "\n",
    "#gen_rand_str(4000,16,1);\n",
    "#gen_rand_str(1000,16,4);"
   ]
  },
  {
   "cell_type": "markdown",
   "metadata": {},
   "source": [
    "<font size=\"3\">\n",
    "In this example, a number of processes is explicitly created for every job (working e.g. on a part of a big data array) having the disadvantage of a time and memory overhead (because independent copies of parts of the data in your RAM are created).<br><b>In case, you'd like to run a huge number of jobs, it would be impossible to create separate processes for each job.</b><br>\n",
    "    \n",
    "<b><i>Process</i> should be used only when you have a small number of jobs/tasks and smaller amounts of data, each only executed once, but each with a runtime much longer than the time required to spawn a new process. In particular for tasks with long-running IO-operations (e.g. reading/writing big files), <i>Process</i> should be used.</b><br>\n",
    "\n",
    "In the contrary case, the usage of <i>Pool</i> being part of the builtin <i>multiprocessing</i> module in Python is indicated. As its name states, it provides a pool of workers or worker processes (usually the number of CPU cores in your system) <b>e.g. to compute the result of the same function for a big input argument array (data parallelism).</b> The distribution of the input data to the processes, handling of the individual processes and joining the results is done in the background.<br><br><b> But be careful if the result retrieval order of the workers is of importance for your application!</b>\n",
    "<br><br> For further information on <i>Process</i> and <i>Pool</i>, see <a href=\"https://medium.com/@lih.verma/multi-processing-in-python-process-vs-pool-5caf0f67eb2b\">here</a>. Depending on your amount of data and application, other packages would have a better performance and would be more suitable like <a href=\"https://github.com/ray-project/ray\">Ray</a> or <a href=\"https://dask.org/\">Dask</a>.<br><br>\n",
    "<b>An example using <a href=\"https://docs.python.org/3/library/multiprocessing.html\"><i>multiprocessing.Pool</i></a> is given:</b>\n",
    "</font>"
   ]
  },
  {
   "cell_type": "code",
   "execution_count": null,
   "metadata": {},
   "outputs": [],
   "source": [
    "import multiprocessing as mp\n",
    "import numpy as np\n",
    "import time\n",
    "\n",
    "# function to be applied in parallel on parts of a data set / array\n",
    "def parallel_function(x):\n",
    "    return np.mean(x)\n",
    "\n",
    "# usually the number of workers is chosen to be\n",
    "# num_workers = mp.cpu_count() the number of available cores in the system\n",
    "num_workers = 4\n",
    "\n",
    "# for a clean implementation:\n",
    "# check if script is run from main process\n",
    "if __name__ == '__main__':\n",
    "    # initializes a pool of workers apply the same function in parallel\n",
    "    # on different parts of a data set (data parallelism)\n",
    "    p = mp.Pool(num_workers)\n",
    "    # mp.Pool takes care of how the data is distributed to the worker processes\n",
    "    # as an example, we compute the mean of 10 arrays with 50x10^6 values each\n",
    "    result = p.map(parallel_function, np.random.uniform(0,1,(10,int(50E6))))\n",
    "    # map_async() allows asynchronous execution of the function with parts of the \n",
    "    # input data the order in which the result is returned, is not guaranteed, \n",
    "    # but it can be faster\n",
    "    #\n",
    "    # the method map_async() is non-blocking, hence the interpreter continues\n",
    "    # the execution of the main program\n",
    "    print(result)"
   ]
  },
  {
   "cell_type": "markdown",
   "metadata": {},
   "source": [
    "<font size=\"3\"><div class=\"alert alert-warning\"><b>Exercise:</b> <br>Implement a parallelized generator for gaussian <a href=\"https://en.wikipedia.org/wiki/Random_walk\">random walks</a> in $\\mathbb{R}^2$, hence in the two dimensional plane. Benchmark your implementation by measuring the required time for a given number of walks with a maximum number of steps. Observe and plot how well your implementation scales with increasing number of processes / cpu cores. Plot the random walk(s) in two dimensions.<br><br>\n",
    "<b>Hints: </b><br>\n",
    "A random walk can be defined as follows:<br>\n",
    "Let be $x_{0} \\in \\mathbb{R}^n$ a defined start position for the random walk and $s \\sim \\mathcal{N}\\left(\\mu,\\sigma\\right)$ the random normal-distributed step increment, then the recursion formula $x_{n+1} = x_{n} + s$ describes a gaussian random walk.<br><br>\n",
    "In order to generate normal-distributed random values, use the numpy function <a href=\"https://numpy.org/doc/stable/reference/random/generated/numpy.random.normal.html\">np.random.normal</a>.<br><br>\n",
    "Since you know in advance how many steps and how many random walks you'd like to generate, it is advised to allocate the required memory in advance to achieve better performance. <b>The use of numpy arrays over lists is encouraged.</b><br><br>\n",
    "Start to experiment with small values for $\\mu$ and $\\sigma$.<br><br>\n",
    "<b>Use <a href=\"https://docs.python.org/3/library/multiprocessing.html#multiprocessing.pool.Pool.starmap\"><i>multiprocessing.starmap</i></b> </a>to use multiple input arguments for mapping function.\n",
    "</div>\n",
    "\n",
    "<b>Try it yourself:</b></font>"
   ]
  },
  {
   "cell_type": "code",
   "execution_count": null,
   "metadata": {},
   "outputs": [],
   "source": []
  },
  {
   "cell_type": "markdown",
   "metadata": {},
   "source": [
    "### Example Solution:"
   ]
  },
  {
   "cell_type": "code",
   "execution_count": null,
   "metadata": {},
   "outputs": [],
   "source": [
    "import multiprocessing as mp\n",
    "import numpy as np\n",
    "import time\n",
    "from matplotlib import pyplot as plt\n",
    "from itertools import repeat\n",
    "\n",
    "def random_walk2D(num_steps=int(1E3), mu=1E-2, sigma=1E-2, start=np.array([0,0])):\n",
    "    # create empty array with zeros to avoid using lists\n",
    "    walk = np.zeros((num_steps,2))\n",
    "    # generate random steps / increments\n",
    "    steps = np.random.normal(mu, sigma, (num_steps,2))\n",
    "    walk[0] = start\n",
    "    # compute the steps of the walk\n",
    "    for i in range(1,num_steps):\n",
    "        walk[i] = walk[i-1] + steps[i]\n",
    "    return walk\n",
    "\n",
    "def measure_time(fn):\n",
    "    def wrapper(*args, **kwargs):\n",
    "        t1=time.time()\n",
    "        res=fn(*args, **kwargs)\n",
    "        dt=time.time()-t1\n",
    "        print(str(dt)+\" seconds have passed generating \"+str(num_walks)+\" walks with \"+str(num_steps)+\" steps each.\")\n",
    "        return res\n",
    "    return wrapper\n",
    "\n",
    "# using a decorator here to wrap around the function\n",
    "@measure_time\n",
    "def generate_walks(num_walks, num_workers, mu, sigma, num_steps, start):\n",
    "    #prepare argument list\n",
    "    arg_list = repeat((num_steps, mu, sigma, start),num_walks)\n",
    "    # generates N random walks in parallel\n",
    "    p = mp.Pool(num_workers)\n",
    "    # start function asynchronously \n",
    "    results = [p.apply_async(random_walk2D, args) for args in arg_list]\n",
    "    walks = np.array([p.get() for p in results])\n",
    "    return walks\n",
    "\n",
    "# plot a single random walk in the plane\n",
    "res=random_walk2D(num_steps=100, mu=0.1, sigma=1, start=[-1,0])\n",
    "fig=plt.figure()\n",
    "ax=fig.add_subplot(111)\n",
    "# plot the random walk\n",
    "ax.plot(res[:,0],res[:,1],color=\"black\",linewidth=.5)\n",
    "# plot the start position\n",
    "ax.scatter([-1],[0],color=\"red\",s=50)\n",
    "ax.set_title(\"a single random walk\");\n",
    "\n",
    "# set parameters for walks\n",
    "mu = 1E-2\n",
    "sigma = 1E-2\n",
    "start = np.array([-1,0])\n",
    "benchmark_result = []\n",
    "num_steps = int(1E3)\n",
    "num_walks = int(2E3)\n",
    "\n",
    "# run a benchmark\n",
    "# using 1 worker\n",
    "print(\"Using 1 worker:\")\n",
    "generate_walks(num_walks,1,mu,sigma,num_steps,start)\n",
    "# using 2 workers\n",
    "print(\"Using 2 workers:\")\n",
    "generate_walks(num_walks,2,mu,sigma,num_steps,start)\n",
    "# using 4 workers\n",
    "print(\"Using 4 workers:\")\n",
    "generate_walks(num_walks,4,mu,sigma,num_steps,start)\n",
    "\n",
    "# print some randomly selected walks\n",
    "walks_2_print = 20\n",
    "random_selection = np.random.randint(0,num_walks,size=(walks_2_print,))\n",
    "fig2=plt.figure()\n",
    "ax2=fig2.add_subplot(111)\n",
    "# plot the random walk\n",
    "for i in random_selection:\n",
    "    ax2.plot(walks[i,:,0],walks[i,:,1],linewidth=.5)"
   ]
  },
  {
   "cell_type": "markdown",
   "metadata": {},
   "source": [
    "### Lazy parallelization with joblib\n",
    "<br>\n",
    "<font size=\"3\">\n",
    "Depending on the application, an even easier way to parallelize your code (depending on what kind of parallelism is required) is to use the <a href=\"https://joblib.readthedocs.io/en/latest/\"><i>joblib</i></a> package with which you can even build computing pipelines.<br><br>\n",
    "    <b>But you may need to fine tune the parameters <i>n_jobs</i> and <i>batch_size</i> and be aware of the additional overhead in creating workers. The individual tasks should take longer than the required time to spawn a new worker (rule of thumb, much longer than 1 second). Otherwise using <i>multiprocessing.Pool</i> or <i>joblib</i> is slower compared to a sequential execution.</b><br><br>\n",
    "To parallelize a part of the code, you just need to import the class <i>Parallel</i> and it expects (besides some additional parameters) a <i>generator</i> object, hence a <i>list comprehension</i> expression enclosed by round brackets. An example is shown below.\n",
    "</font>\n",
    "\n",
    "### Example:"
   ]
  },
  {
   "cell_type": "code",
   "execution_count": null,
   "metadata": {},
   "outputs": [],
   "source": [
    "import numpy as np\n",
    "import time\n",
    "from joblib import Parallel, delayed\n",
    "\n",
    "# the function to be called in the list comprehension / generator\n",
    "def random_walk2D(num_steps=int(1E3), mu=1E-2, sigma=1E-2, start=np.array([0,0])):\n",
    "    # create empty array with zeros to avoid using lists\n",
    "    walk = np.zeros((num_steps,2))\n",
    "    # generate random steps / increments\n",
    "    steps = np.random.normal(mu, sigma, (num_steps,2))\n",
    "    walk[0] = start\n",
    "    # compute the steps of the walk\n",
    "    for i in range(1,num_steps):\n",
    "        walk[i] = walk[i-1] + steps[i]\n",
    "    return walk\n",
    "\n",
    "num_walks=int(1E4)\n",
    "t1=time.time()\n",
    "# use just do everything in the generator in one job (sequential execution)\n",
    "Parallel(n_jobs=1)(delayed(random_walk2D)(num_steps=int(1E3)) for _ in range(num_walks))\n",
    "dt=time.time()-t1\n",
    "print(str(np.round(dt,4)) + \" seconds elapsed.\")\n",
    "\n",
    "num_walks=int(1E4)\n",
    "t1=time.time()\n",
    "# divide the task (calling the function above %num_walks times) into two jobs running in parallel\n",
    "# resulting in nearly half of the time required\n",
    "result = Parallel(n_jobs=2)(delayed(random_walk2D)(num_steps=int(1E3)) for _ in range(num_walks))\n",
    "dt=time.time()-t1\n",
    "print(str(np.round(dt,4)) + \" seconds elapsed.\")\n",
    "\n",
    "num_walks=int(1E4)\n",
    "t1=time.time()\n",
    "# divide the task into four jobs running in parallel, scaling is not optimal, probably problem size to small\n",
    "# for more than two jobs\n",
    "result = Parallel(n_jobs=3)(delayed(random_walk2D)(num_steps=int(1E3)) for _ in range(num_walks))\n",
    "dt=time.time()-t1\n",
    "print(str(np.round(dt,4)) + \" seconds elapsed.\")\n",
    "\n",
    "num_walks=int(1E4)\n",
    "t1=time.time()\n",
    "# divide the task into four jobs running in parallel, scaling is not optimal, probably problem size to small\n",
    "# for more than two jobs\n",
    "result = Parallel(n_jobs=4)(delayed(random_walk2D)(num_steps=int(1E3)) for _ in range(num_walks))\n",
    "dt=time.time()-t1\n",
    "print(str(np.round(dt,4)) + \" seconds elapsed.\")"
   ]
  }
 ],
 "metadata": {
  "kernelspec": {
   "display_name": "Python 3 (ipykernel)",
   "language": "python",
   "name": "python3"
  },
  "language_info": {
   "codemirror_mode": {
    "name": "ipython",
    "version": 3
   },
   "file_extension": ".py",
   "mimetype": "text/x-python",
   "name": "python",
   "nbconvert_exporter": "python",
   "pygments_lexer": "ipython3",
   "version": "3.9.2"
  },
  "varInspector": {
   "cols": {
    "lenName": 16,
    "lenType": 16,
    "lenVar": 40
   },
   "kernels_config": {
    "python": {
     "delete_cmd_postfix": "",
     "delete_cmd_prefix": "del ",
     "library": "var_list.py",
     "varRefreshCmd": "print(var_dic_list())"
    },
    "r": {
     "delete_cmd_postfix": ") ",
     "delete_cmd_prefix": "rm(",
     "library": "var_list.r",
     "varRefreshCmd": "cat(var_dic_list()) "
    }
   },
   "types_to_exclude": [
    "module",
    "function",
    "builtin_function_or_method",
    "instance",
    "_Feature"
   ],
   "window_display": false
  }
 },
 "nbformat": 4,
 "nbformat_minor": 4
}
