{
 "cells": [
  {
   "cell_type": "markdown",
   "metadata": {},
   "source": [
    "### Lars Gabriel, Fabian Wilde, University of Greifswald\n",
    "\n",
    "# Advanced Python course - Session 1\n",
    "\n",
    "<hr style=\"border:1px solid black\"> </hr>\n",
    "<br>\n",
    "<font size=\"3\">\n",
    "    This course requires <b>the course participants to have at least basic experience in</b> using the programming language <b>Python</b> and the <b>functional programming paradigm</b>. <br>Therefore, <b>the course participant should be</b> at least <b>familiar with:</b> <br>\n",
    "<ul>\n",
    "    <li>handling of builtin Python datatypes: int, float, str, bool, Lists, Dictionaries</li>\n",
    "    <li>control flow structures like for-/while-loops, if-elif-else statements</li>\n",
    "    <li>importing and usage of (3rd party) modules</li>\n",
    "    <li>defining (anonymous) functions with fixed/variable arguments</li>\n",
    "    <li>running Python scripts on the command-line and handling of command-line arguments\n",
    "    <li>numpy and matplotlib</li>\n",
    "</ul>\n",
    "</font>"
   ]
  },
  {
   "cell_type": "markdown",
   "metadata": {},
   "source": [
    "## 1. Preparations\n",
    "\n",
    "<font size=\"3\">\n",
    "This course uses Jupyter environment from the <b>AppHub</b>. It is a Jupyter notebook environment running on a remote server of the university (which we're using right now). It is accessible from within the university network (being connected to eduroam) or remotely from home via the VPN client. Therefore, a local installation is not necessary.<br>\n",
    "<div class=\"alert alert-warning\" role=\"alert\">\n",
    "    <b>If you're connected to eduroam or via the VPN client, you can directly access the JupyterHub via</b>\n",
    "    <a href=\"https://apphub.wolke.uni-greifswald.de/\">https://apphub.wolke.uni-greifswald.de/</a> using your personal login credentials from the university data center. Then select \"Datascience\" from \"Jupyther\".\n",
    "</div>\n",
    "In order to use the course materials in your Jupyter notebook instance, open a new empty notebook, type the following statements in the cell and <b>execute it with CTRL + ENTER.</b>\n",
    "</font>"
   ]
  },
  {
   "cell_type": "code",
   "execution_count": 1,
   "metadata": {},
   "outputs": [
    {
     "name": "stderr",
     "output_type": "stream",
     "text": [
      "Cloning into 'pyadv2'...\n"
     ]
    }
   ],
   "source": [
    "%%bash\n",
    "https://github.com/DataCompetency/PythonAdvanced"
   ]
  },
  {
   "cell_type": "markdown",
   "metadata": {},
   "source": [
    "### Reminder of Keyboard Shortcuts in a JupyterNotebook\n",
    "<br>\n",
    "\n",
    "    \n",
    "| Shortcut | Function |\n",
    "| -------- | ----------- |\n",
    "| Esc      | Switch to command mode |\n",
    "| Enter    | Switch to edit mode |\n",
    "| B        | Creates new empty cell **B**elow |\n",
    "| H        | Show **H**elp   |\n",
    "| X        | Deletes currently selected cell|\n",
    "| Shift + Enter | Run cell and advance to next cell |\n",
    "| Ctrl  + Enter | Run cell |\n",
    "| Ctrl  + S     | Save notebook |\n",
    "\n",
    "The frame color of the currently selected cell changes from blue in command mode to green in edit mode."
   ]
  },
  {
   "cell_type": "markdown",
   "metadata": {},
   "source": [
    "<hr style=\"border:1px solid gray\"> </hr>\n",
    "\n",
    "## 2. Functions\n",
    "\n",
    "<font size=\"3\">\"<i>Functions are <b>self-contained</b> modules of code that accomplish a specific task. Functions usually <b>take in</b> data, process it, and <b>return</b> a result. Once a function is written, it can be used over and over and over again. Functions can be <b>called</b> from the inside of other functions.</i>\" (<a href=\"https://www.cs.utah.edu/~germain/PPS/Topics/functions.html#:~:text=Functions%20are%20%22self%20contained%22%20modules,the%20inside%20of%20other%20functions\">www.cs.utah.edu</a>).<br>    \n",
    "</font>"
   ]
  },
  {
   "cell_type": "markdown",
   "metadata": {},
   "source": [
    "<font size=\"3\">\n",
    "As your code grows bigger and some parts of the code may repeat in it, you'd need to structure it (since you'd also like to avoid <a href=\"https://en.wikipedia.org/wiki/Spaghetti_code\">spaghetti code</a>. This is code which is hard to follow due to various jumps within the code). The first step for cleaner code is to outsource repeating code snippets in user-defined functions. If some repeats itself for at least two times, it is already worth considering to write a function for that.<br><br>\n",
    "So structuring your code by subdividing it into functions has several advantages, like as<br>\n",
    "<ul>\n",
    "    <li><b>readability:</b> code is easier to follow by encapsulating complex code in a simple function call</li>\n",
    "    <li><b>maintainability:</b> code is easier to maintain, bugs are easier to identify and need only be fixed at one location in your code</li>\n",
    "    <li><b>portability:</b> parts of your code can be reused in other projects more easily</li>\n",
    "</ul>\n",
    "<br>\n",
    "\n",
    "### 2.1 Argument list\n",
    "    \n",
    "</font><center>\n",
    "    <img src=\"img/python-function.svg\" width=\"60%\">\n",
    "</center>\n",
    "<br>\n",
    "\n",
    "\n",
    "#### Examples"
   ]
  },
  {
   "cell_type": "code",
   "execution_count": 5,
   "metadata": {},
   "outputs": [
    {
     "name": "stdout",
     "output_type": "stream",
     "text": [
      "bar( 1 , 0 ) called\n",
      "bar( 2 , 3 ) called\n"
     ]
    }
   ],
   "source": [
    "# function with one mandatory and one optional argument\n",
    "# a default value was set for parameter d\n",
    "def bar(c, d=0):\n",
    "    print (\"bar(\", c, \",\", d, \") called\")\n",
    "    \n",
    "# function call with just one parameter (default value is used for parameter d)\n",
    "bar(1)\n",
    "# function call where parameter values are explicitly defined\n",
    "bar(d=3, c=2)"
   ]
  },
  {
   "cell_type": "code",
   "execution_count": 8,
   "metadata": {},
   "outputs": [
    {
     "name": "stdout",
     "output_type": "stream",
     "text": [
      "type(args) = <class 'tuple'>\n",
      "calc_sum(*(1, 2, 3)) = 6 \n",
      "\n",
      "type(args) = <class 'tuple'>\n",
      "calc_sum(1, 2, 3) = 6 \n",
      "\n",
      "type(args) = <class 'tuple'>\n",
      "calc_sum(8, 9, 11, 5) = 33 \n",
      "\n",
      "rand_tuple = (8, 3)\n",
      "type(args) = <class 'tuple'>\n",
      "calc_sum(*rand_tuple) = 11 \n",
      "\n"
     ]
    }
   ],
   "source": [
    "# an example for a function definition with a variable number of function arguments\n",
    "def calc_sum(*args):\n",
    "    # inside the function, args is a tuple\n",
    "    print(\"type(args) = \" + str(type(args)))\n",
    "    result = 0\n",
    "    for elem in args:\n",
    "        result += elem\n",
    "    return result\n",
    "\n",
    "print(\"calc_sum(*(1, 2, 3)) = \"+str(calc_sum(*(1,2,3))), '\\n')  # the function call\n",
    "print(\"calc_sum(1, 2, 3) = \"+str(calc_sum(1,2,3)), '\\n')        # is equivalent to\n",
    "print(\"calc_sum(8, 9, 11, 5) = \"+str(calc_sum(8, 9, 11, 5)), '\\n')        # a different number of arguments can be used\n",
    "\n",
    "import numpy as np\n",
    "rand_len = np.random.randint(1,10)\n",
    "rand_tuple = tuple(np.random.randint(0,10,(rand_len,)))  # but the argument can be a tuple of arbitrary length\n",
    "print(\"rand_tuple = \"+str(rand_tuple))\n",
    "print(\"calc_sum(*rand_tuple) = \"+str(calc_sum(*rand_tuple)), '\\n')"
   ]
  },
  {
   "cell_type": "code",
   "execution_count": 9,
   "metadata": {},
   "outputs": [
    {
     "name": "stdout",
     "output_type": "stream",
     "text": [
      "type(kwargs) = <class 'dict'>\n",
      "The molecule  is unknown.\n",
      "type(kwargs) = <class 'dict'>\n",
      "The molecule C2H5OH is known as ethanol.\n",
      "type(kwargs) = <class 'dict'>\n",
      "The molecule C2H5OH is known as ethanol.\n"
     ]
    }
   ],
   "source": [
    "# an example for a function definition with a variable number of keyword arguments\n",
    "def get_molecule_name(**kwargs):\n",
    "    # inside the function, kwargs is a dict\n",
    "    print(\"type(kwargs) = \"+str(type(kwargs)))\n",
    "    \n",
    "    molecules = {'H2O' : 'water', 'C2H5OH' : 'ethanol', 'CH3OH' : 'methanol'}\n",
    "    \n",
    "    # assemble string\n",
    "    out_str = ''\n",
    "    for key in kwargs.keys():\n",
    "        if kwargs[key] == 1:\n",
    "            out_str += key\n",
    "        else:\n",
    "            out_str += key + str(kwargs[key])\n",
    "    \n",
    "    if out_str in molecules.keys():\n",
    "        print(\"The molecule \"+out_str+\" is known as \"+molecules[out_str]+\".\")\n",
    "    else:\n",
    "        print(\"The molecule \"+out_str+\" is unknown.\")\n",
    "\n",
    "get_molecule_name(**{})\n",
    "get_molecule_name(**{'C':2,'H':5,'OH':1})\n",
    "get_molecule_name(C=2, H=5, OH=1)"
   ]
  },
  {
   "cell_type": "markdown",
   "metadata": {},
   "source": [
    "<font size=\"3\"><div class=\"alert alert-warning\"><b>Exercise 2.1:</b> <br>\n",
    "    Define a function named <i>process_data</i> that takes in two types of arguments:    \n",
    "    <ul>          \n",
    "      <li> A function called <i>processor</i>, which should be applied to each element of the <i>data</i> list\n",
    "      <li> A variable number of integers that are stored in a list called <i>data</i>\n",
    "    </ul>\n",
    "    The <i>processor</i> function should take in one argument, an integer, and return a modified version of that integer.<br>\n",
    "    The <i>process_data</i> function should apply the <i>processor</i> function to each element of the data list, and return a new list containing the processed data.\n",
    "</div>    \n",
    "<font size=\"3\">\n",
    "<b>Try it yourself:</b></font>\n",
    "</font>\n"
   ]
  },
  {
   "cell_type": "code",
   "execution_count": null,
   "metadata": {},
   "outputs": [],
   "source": [
    "def process_data(...ADD CODE HERE...):\n",
    "    ...ADD CODE HERE..."
   ]
  },
  {
   "cell_type": "code",
   "execution_count": 14,
   "metadata": {},
   "outputs": [],
   "source": [
    "# Solution\n",
    "def process_data(processor, *data):\n",
    "    # Apply the processor function to each element of the data list\n",
    "    processed_data = [processor(num) for num in data]\n",
    "    return processed_data"
   ]
  },
  {
   "cell_type": "code",
   "execution_count": 16,
   "metadata": {},
   "outputs": [
    {
     "name": "stdout",
     "output_type": "stream",
     "text": [
      "[2, 4, 6, 8, 10]\n",
      "[100, 400, 900, 1600, 2500]\n"
     ]
    }
   ],
   "source": [
    "# Test your process_data function\n",
    "\n",
    "# Define a processor function for testing\n",
    "def double(num):\n",
    "    return num * 2\n",
    "\n",
    "# Test case 1\n",
    "result = process_data(double, 1, 2, 3, 4, 5)\n",
    "print(result) # Expected output: [2, 4, 6, 8, 10]\n",
    "\n",
    "# Test case 2\n",
    "data = [10, 20, 30, 40, 50]\n",
    "result = process_data(lambda x: x ** 2, *data)\n",
    "print(result) # Expected output: [100, 400, 900, 1600, 2500]"
   ]
  },
  {
   "cell_type": "markdown",
   "metadata": {},
   "source": [
    "### 2.2 Call by sharing\n",
    "<font size=\"3\">\n",
    "    Python uses the \"call by sharing\" mechanism in order to pass arguments to a function. This means that when a function is called, the values of the arguments are not copied, but instead, references to the objects are passed. Any modifications made to the object inside the function can affect the original object outside the function, depending on whether it is a <b>mutable</b> (e.g. lists, dicts) or an <b>immutable</b> (e.g. int, float, string) object. \n",
    "</font>\n",
    "\n",
    "#### Example"
   ]
  },
  {
   "cell_type": "code",
   "execution_count": 1,
   "metadata": {},
   "outputs": [
    {
     "name": "stdout",
     "output_type": "stream",
     "text": [
      "[1, 9, 3, 4]\n",
      "5\n",
      "hello\n"
     ]
    }
   ],
   "source": [
    "def my_func(lst, num, string):\n",
    "    lst.append(4)\n",
    "    lst[1] = 9    \n",
    "    num += 1\n",
    "    string += \" world\"\n",
    "    \n",
    "a = [1, 2, 3]\n",
    "b = 5\n",
    "c = \"hello\"\n",
    "my_func(a, b, c)\n",
    "print(a)      # Output: [1, 9, 3, 4]\n",
    "print(b)      # Output: 5\n",
    "print(c)      # Output: \"hello\""
   ]
  },
  {
   "cell_type": "markdown",
   "metadata": {},
   "source": [
    "### 2.3 Namespace\n",
    "\n",
    "<font size=\"3\">\n",
    "In Python, a namespace is a mapping from names (i.e., names of variables, functions, classes, etc.) to objects. Namespaces are used to organize and control the scope of names in a program. <br>\n",
    "    \n",
    "There are several types of namespaces in Python:\n",
    "    <ul>\n",
    "        <li> <b>Built-in Namespace:</b> Contains all built-in functions and types in Python. It is automatically loaded into the interpreter's memory when the Python interpreter starts.\n",
    "    <li> <b>Global Namespace:</b> Contains all names defined in the outermost level of a module or script. It is created when a module or script is imported or executed, and it is available throughout the entire module or script.\n",
    "    <li> <b>Local Namespace:</b> Contains all names defined within a function or method. It is created when a function or method is called and is destroyed when the function or method returns.\n",
    "    </ul>\n",
    "\n",
    "When Python encounters a name in a program, it looks first in the local namespace first. If the name is not found there, it looks in the global namespace, then the built-in namespace. \n",
    "When a variable is assigned a value in a function, Python creates a new name in the local namespace. If the variable has the same name as a variable in the global namespace, the local variable \"shadows\" the global variable within the function. However, the global variable remains unchanged.\n",
    "</font>\n",
    "\n",
    "#### Example"
   ]
  },
  {
   "cell_type": "code",
   "execution_count": 2,
   "metadata": {},
   "outputs": [
    {
     "name": "stdout",
     "output_type": "stream",
     "text": [
      "Hello, world!\n",
      "42 12 13\n",
      "42 86\n"
     ]
    }
   ],
   "source": [
    "# Built-in namespace\n",
    "print(\"Hello, world!\")  # `print` is a built-in function\n",
    "\n",
    "# Global namespace\n",
    "x = 42\n",
    "y = 86\n",
    "\n",
    "def my_func():\n",
    "    # Local namespace\n",
    "    y = 12\n",
    "    z = 13\n",
    "    print(x, y, z)\n",
    "\n",
    "my_func()  # prints \"42 12 13\"\n",
    "print(x, y)  # prints \"42 86\""
   ]
  },
  {
   "cell_type": "markdown",
   "metadata": {},
   "source": [
    "## 3. Generators\n",
    "\n",
    "<font size=\"3\">\n",
    "Iterators and generators are powerful features in Python that allow you to iterate over sequences of data, such as lists or dictionaries, or generate sequences of data on-the-fly.\n",
    "\n",
    "An iterator is an object that allows you to traverse through a collection of data one item at a time, without having to load the entire collection into memory at once. To create an iterator in Python, you define a specific class (we'll get to that later).\n",
    "A generator, on the other hand, is a special type of iterator that allows you to define a sequence of data on-the-fly, without having to create a separate class. Instead, you use the <i>yield</i> keyword to define a function that generates a sequence of values, one at a time. When the function encounters a yield statement, it temporarily suspends its execution and returns the current value to the caller. The next time the function is called, it resumes execution from where it left off and continues generating the sequence.\n",
    "    \n",
    "Benefits of using iterators and generators:\n",
    "    \n",
    "<ul>\n",
    "    <li> <b>Memory Efficiency:</b> Generate data when it is needed without having to store everything in memory at once.\n",
    "    <li> <b>Time Efficiency:</b> Can start working with the data before the whole data set is loaded into the memory.\n",
    "</ul>    \n",
    "\n",
    "\n",
    "In Python, looping and iterators are closely connected. When we loop through objects like lists, dictionaries, and tuples, iterators are automatically used in the background. To manually iterate through a loop, we use the built-in next() function to get the next element of an iterator and the iter() statement to create an iterator object:\n",
    "<ul>\n",
    "    <li> <b>iter():</b> Returns an iterator for the given argument, e.g. a list.\n",
    "    <li> <b>next():</b> Advances the iterator to the next value and returns it.\n",
    "</ul>   \n",
    "</font>\n",
    "\n",
    "#### Example"
   ]
  },
  {
   "cell_type": "code",
   "execution_count": 6,
   "metadata": {},
   "outputs": [
    {
     "name": "stdout",
     "output_type": "stream",
     "text": [
      "22\n",
      "33\n",
      "44\n",
      "\n",
      "\n",
      "22\n",
      "33\n",
      "44\n"
     ]
    }
   ],
   "source": [
    "my_list = [22,33,44]\n",
    "\n",
    "# Regular for loop:\n",
    "for i in my_list:\n",
    "    print(i)\n",
    "    \n",
    "print('\\n')\n",
    "    \n",
    "# We can manually recreate the behavior that \n",
    "# occurs in the background of Python's \n",
    "# iteration process by using iter() and next()\n",
    "\n",
    "# create iterator from list\n",
    "my_iter = iter(my_list)\n",
    "\n",
    "# iterate through elements of the iterator\n",
    "print(next(my_iter))\n",
    "print(next(my_iter))\n",
    "print(next(my_iter))"
   ]
  },
  {
   "cell_type": "markdown",
   "metadata": {},
   "source": [
    "### 3.1 Yield statement\n",
    "\n",
    "<font size=\"3\">\n",
    "In Python, the <i>yield</i> statement is used to define a generator function that returns an iterator object. The <i>yield</i> statement is similar to the <i>return</i> statement, in that it returns a value from a function. However, while the <i>return</i> statement terminates the function and returns a final value, the <i>yield</i> statement returns a value temporarily and allows the function to continue executing from where it left off.\n",
    "\n",
    "When a <i>yield</i> statement is encountered in a function, the function is temporarily suspended and the current value is returned to the caller. The next time the function is called, it resumes execution from where it left off and continues generating the sequence of values. This process can be repeated indefinitely, generating a potentially infinite sequence of values.\n",
    "</font>\n",
    "\n",
    "#### Example"
   ]
  },
  {
   "cell_type": "code",
   "execution_count": 3,
   "metadata": {
    "collapsed": true,
    "jupyter": {
     "outputs_hidden": true
    },
    "tags": []
   },
   "outputs": [
    {
     "name": "stdout",
     "output_type": "stream",
     "text": [
      "a\n",
      "b\n",
      "c\n",
      "d\n",
      "e\n",
      "f\n",
      "g\n"
     ]
    }
   ],
   "source": [
    "# A simple generator that can be used to iterate through my_list\n",
    "def my_generator():\n",
    "    my_list = ['a', 'b', 'c', 'd', 'e', 'f', 'g', 'h', 'i']\n",
    "    for c in my_list:\n",
    "        yield c\n",
    "\n",
    "my_gen = my_generator()\n",
    "print(next(x))\n",
    "print(next(x))\n",
    "print(next(x))\n",
    "print(next(x))\n",
    "print(next(x))\n",
    "print(next(x))\n",
    "print(next(x))"
   ]
  },
  {
   "cell_type": "code",
   "execution_count": 5,
   "metadata": {
    "collapsed": true,
    "jupyter": {
     "outputs_hidden": true
    },
    "tags": []
   },
   "outputs": [
    {
     "name": "stdout",
     "output_type": "stream",
     "text": [
      "0\n",
      "2\n",
      "4\n",
      "6\n",
      "8\n",
      "10\n",
      "12\n",
      "14\n",
      "16\n",
      "18\n",
      "20\n",
      "22\n",
      "24\n",
      "26\n",
      "28\n",
      "30\n",
      "32\n",
      "34\n",
      "36\n",
      "38\n",
      "40\n",
      "42\n",
      "44\n",
      "46\n",
      "48\n",
      "50\n",
      "52\n",
      "54\n",
      "56\n",
      "58\n",
      "60\n",
      "62\n",
      "64\n",
      "66\n",
      "68\n",
      "70\n",
      "72\n",
      "74\n",
      "76\n",
      "78\n",
      "80\n",
      "82\n",
      "84\n",
      "86\n",
      "88\n",
      "90\n",
      "92\n",
      "94\n",
      "96\n",
      "98\n"
     ]
    }
   ],
   "source": [
    "# Generators can also be used to generate an infinite sequence\n",
    "def even_numbers():\n",
    "    num = 0\n",
    "    while True:\n",
    "        yield num\n",
    "        num += 2\n",
    "\n",
    "even_gen = even_numbers()\n",
    "\n",
    "for _ in range(50):\n",
    "    print(next(even_gen)) "
   ]
  },
  {
   "cell_type": "code",
   "execution_count": 8,
   "metadata": {
    "collapsed": true,
    "jupyter": {
     "outputs_hidden": true
    },
    "tags": []
   },
   "outputs": [
    {
     "name": "stdout",
     "output_type": "stream",
     "text": [
      "12\n",
      "3\n",
      "132\n",
      "24\n",
      "178\n",
      "133\n",
      "7\n",
      "194\n",
      "35\n",
      "82\n",
      "120\n",
      "67\n",
      "182\n",
      "111\n",
      "19\n",
      "105\n",
      "113\n",
      "96\n",
      "39\n",
      "140\n",
      "81\n",
      "176\n",
      "17\n",
      "6\n",
      "139\n",
      "10\n",
      "6\n",
      "163\n",
      "110\n",
      "181\n",
      "119\n",
      "135\n",
      "72\n",
      "9\n",
      "105\n",
      "48\n",
      "192\n",
      "174\n",
      "99\n",
      "168\n",
      "200\n",
      "163\n",
      "126\n",
      "93\n",
      "110\n",
      "72\n",
      "38\n",
      "41\n",
      "39\n",
      "114\n"
     ]
    }
   ],
   "source": [
    "import random\n",
    "\n",
    "# Generators can also be used to generate random numbers.\n",
    "# Generators, like normal functions, can accept arguments.\n",
    "def random_ints(start, stop):\n",
    "    while True:\n",
    "        yield random.randint(start, stop)\n",
    "        \n",
    "random_gen = random_ints(0, 200)\n",
    "\n",
    "for _ in range(50):\n",
    "    print(next(random_gen)) "
   ]
  },
  {
   "cell_type": "markdown",
   "metadata": {},
   "source": [
    "<font size=\"3\"><div class=\"alert alert-warning\"><b>Exercise 3.1:</b> <br>\n",
    "    Create a generator that generates a sequence of Fibonacci numbers (https://en.wikipedia.org/wiki/Fibonacci_sequence):\n",
    "    <ul>     \n",
    "    <li> Start by defining a function called <i>fibonacci()</i> that uses a <i>while</i> loop to generate Fibonacci numbers indefinitely.\n",
    "    <li> Initialize two variables, a and b, to 0 and 1, respectively. These will be used to generate the Fibonacci sequence.\n",
    "    <li> Within the loop, use the yield keyword to return the current value of a as the next item in the sequence.\n",
    "    <li> Calculate the next value of a by adding b to it, and update b to be the previous value of a.\n",
    "    <li> Test your generator by creating an instance of it and calling the next() function to get the next Fibonacci number in the sequence.\n",
    "    </ul>          \n",
    "</div> \n",
    "<font size=\"3\">\n",
    "<b>Try it yourself:</b></font>\n",
    "</font>\n"
   ]
  },
  {
   "cell_type": "code",
   "execution_count": null,
   "metadata": {},
   "outputs": [],
   "source": [
    "### ENTER YOUR CODE HERE ###"
   ]
  },
  {
   "cell_type": "code",
   "execution_count": null,
   "metadata": {},
   "outputs": [],
   "source": [
    "# Test your generator\n",
    "fib_gen = fibonacci()\n",
    "\n",
    "print(next(fib_gen))  # Output: 0\n",
    "print(next(fib_gen))  # Output: 1\n",
    "print(next(fib_gen))  # Output: 1\n",
    "print(next(fib_gen))  # Output: 2\n",
    "print(next(fib_gen))  # Output: 3\n",
    "print(next(fib_gen))  # Output: 5\n"
   ]
  },
  {
   "cell_type": "code",
   "execution_count": null,
   "metadata": {},
   "outputs": [],
   "source": [
    "# Solution\n",
    "def fibonacci():\n",
    "    a, b = 0, 1\n",
    "    while True:\n",
    "        yield a\n",
    "        a, b = b, a + b"
   ]
  },
  {
   "cell_type": "markdown",
   "metadata": {},
   "source": [
    "<font size=\"3\"><div class=\"alert alert-warning\"><b>Exercise 3.2:</b> <br>\n",
    "    Create a generator that generates a sequence of prime numbers:\n",
    "    <ul>\n",
    "    <li> Start by defining a function called is_prime() that checks whether a given number is prime.\n",
    "    <li> Define another function called primes() that uses a while loop to generate prime numbers indefinitely.\n",
    "    <li> Initialize a variable n to 2, which is the first prime number.\n",
    "    <li> Within the loop, use the yield keyword to return the current value of n as the next prime number in the sequence.\n",
    "    <li> Increment n by 1 and use a while loop to check if the new value of n is prime. If it is, continue to the next iteration of the outer loop; if it isn't, try the next value of n.\n",
    "    <li> Test your generator by creating an instance of it and calling the next() function to get the next prime number in the sequence.\n",
    "    </ul>       \n",
    "</div> \n",
    "<font size=\"3\">\n",
    "<b>Try it yourself:</b></font>\n",
    "</font>\n"
   ]
  },
  {
   "cell_type": "code",
   "execution_count": null,
   "metadata": {},
   "outputs": [],
   "source": [
    "### ENTER YOUR CODE HERE ###"
   ]
  },
  {
   "cell_type": "code",
   "execution_count": 11,
   "metadata": {},
   "outputs": [
    {
     "name": "stdout",
     "output_type": "stream",
     "text": [
      "2\n",
      "3\n",
      "5\n",
      "7\n",
      "11\n"
     ]
    }
   ],
   "source": [
    "# Test your generator\n",
    "prime_gen = primes()\n",
    "\n",
    "print(next(prime_gen))  # Output: 2\n",
    "print(next(prime_gen))  # Output: 3\n",
    "print(next(prime_gen))  # Output: 5\n",
    "print(next(prime_gen))  # Output: 7\n",
    "print(next(prime_gen))  # Output: 11\n"
   ]
  },
  {
   "cell_type": "code",
   "execution_count": 10,
   "metadata": {},
   "outputs": [],
   "source": [
    "# Solution\n",
    "def is_prime(n):\n",
    "    if n < 2:\n",
    "        return False\n",
    "    for i in range(2, int(n ** 0.5) + 1):\n",
    "        if n % i == 0:\n",
    "            return False\n",
    "    return True\n",
    "\n",
    "def primes():\n",
    "    n = 2\n",
    "    while True:\n",
    "        if is_prime(n):\n",
    "            yield n\n",
    "        n += 1"
   ]
  },
  {
   "cell_type": "markdown",
   "metadata": {},
   "source": [
    "### 3.2 Return statement\n",
    "\n",
    "<font size=\"3\">\n",
    "Generators can be paused and resumed, allowing them to produce a sequence of values dynamically using the <i>yield</i> keyword. A <i>return</i> statement in a generator function is used to terminate the generator and indicate that there are no more values to be generated. When a <i>return</i> statement is executed in a generator function, a <i>StopIteration</i> exception is raised, which signals to the caller that the generator is finished.\n",
    "</font>\n",
    "\n",
    "#### Example"
   ]
  },
  {
   "cell_type": "code",
   "execution_count": 24,
   "metadata": {},
   "outputs": [
    {
     "name": "stdout",
     "output_type": "stream",
     "text": [
      "3\n",
      "2\n",
      "1\n"
     ]
    },
    {
     "ename": "StopIteration",
     "evalue": "Already finished!",
     "output_type": "error",
     "traceback": [
      "\u001b[0;31m---------------------------------------------------------------------------\u001b[0m",
      "\u001b[0;31mStopIteration\u001b[0m                             Traceback (most recent call last)",
      "\u001b[0;32m<ipython-input-24-20ea50e8706f>\u001b[0m in \u001b[0;36m<module>\u001b[0;34m\u001b[0m\n\u001b[1;32m     15\u001b[0m \u001b[0;34m\u001b[0m\u001b[0m\n\u001b[1;32m     16\u001b[0m \u001b[0;31m# get the StopIteration error\u001b[0m\u001b[0;34m\u001b[0m\u001b[0;34m\u001b[0m\u001b[0;34m\u001b[0m\u001b[0m\n\u001b[0;32m---> 17\u001b[0;31m \u001b[0mprint\u001b[0m\u001b[0;34m(\u001b[0m\u001b[0mnext\u001b[0m\u001b[0;34m(\u001b[0m\u001b[0mg\u001b[0m\u001b[0;34m)\u001b[0m\u001b[0;34m)\u001b[0m\u001b[0;34m\u001b[0m\u001b[0;34m\u001b[0m\u001b[0m\n\u001b[0m",
      "\u001b[0;31mStopIteration\u001b[0m: Already finished!"
     ]
    }
   ],
   "source": [
    "# generator for counting a number down \n",
    "# it stops when reaching zero\n",
    "def countdown(num):\n",
    "    while num > 0:\n",
    "        yield num\n",
    "        num -= 1\n",
    "    # Message raised with the StopIteration error\n",
    "    return \"Already finished!\"\n",
    "\n",
    "g = countdown(3)\n",
    "\n",
    "print(next(g))\n",
    "print(next(g))\n",
    "print(next(g))\n",
    "\n",
    "# get the StopIteration error\n",
    "print(next(g))"
   ]
  },
  {
   "cell_type": "markdown",
   "metadata": {},
   "source": [
    "### 3.3 Coroutines\n",
    "<font size=\"3\">\n",
    "Coroutines are a type of generator that allow for two-way communication between the generator and the caller. They are similar to traditional generators in that they use the yield keyword to pause their execution and return a value to the caller. However, they also provide a way for the caller to send values back to the coroutine using the <b>send()</b> method. In the simplest form, you can  use the yield keyword on the right site of a statement to receive a value from the caller. \n",
    "</font> \n",
    "\n",
    "#### Example"
   ]
  },
  {
   "cell_type": "code",
   "execution_count": 14,
   "metadata": {},
   "outputs": [
    {
     "name": "stdout",
     "output_type": "stream",
     "text": [
      "Received value: 10\n",
      "Received value: Hello, world!\n",
      "Received value: [1, 2, 3]\n"
     ]
    }
   ],
   "source": [
    "# very simple coroutine that receives values with send\n",
    "def my_coroutine():\n",
    "    while True:\n",
    "        # keyword yield indicates that the coroutine pauses and waits for a value\n",
    "        x = yield\n",
    "        print(f'Received value: {x}')\n",
    "\n",
    "\n",
    "coro = my_coroutine()\n",
    "# initialize coroutine\n",
    "next(coro)\n",
    "# send values to coroutine that pauses at yield\n",
    "coro.send(10)\n",
    "coro.send('Hello, world!')\n",
    "coro.send([1, 2, 3])"
   ]
  },
  {
   "cell_type": "markdown",
   "metadata": {},
   "source": [
    "<font size=\"3\">  \n",
    "    For effective use of coroutines in python you can use the <b>async def</b> syntax instead of the regular <b>def</b> syntax. This tells Python that the function is a coroutine that can be paused and resumed, and that it should return a special type of object called a coroutine object instead of a regular function object and allows the usage of the keyword <b>await</b>.\n",
    "    <ul>\n",
    "        <li> <b>await:</b> Used in Python to wait for an asynchronous operation to complete. When await is applied to a coroutine object, it suspends the execution of the current coroutine until the awaited coroutine is complete.            \n",
    "    </ul>\n",
    "Once you have defined a coroutine, you can create an instance of it using the await keyword, which sends a value to the coroutine and starts its execution. Once the coroutine is running, you can use the send() method to send values to it and resume its execution. The coroutine can then process the value that was sent and return a new value to the caller using the yield keyword.\n",
    "\n",
    "Coroutines are particularly useful for implementing asynchronous programming in Python using the asyncio module. The asyncio module provides a way to run multiple coroutines concurrently and switch between them when one coroutine is waiting for I/O or some other blocking operation. This allows you to write asynchronous code that is both efficient and easy to understand.\n",
    "In addition to their use in asynchronous programming, coroutines can also be used for implementing cooperative multitasking, which is a technique for running multiple tasks on a single thread without blocking. This can be useful in situations where you want to maximize CPU utilization or when you are working with limited resources such as embedded systems.\n",
    "\n",
    "Overall, coroutines provide a powerful way to implement complex and efficient programming patterns in Python, and are an important tool in the modern Python programmer's toolkit.    \n",
    "</font>\n",
    "\n",
    "#### Examples"
   ]
  },
  {
   "cell_type": "code",
   "execution_count": 19,
   "metadata": {},
   "outputs": [
    {
     "name": "stdout",
     "output_type": "stream",
     "text": [
      "Coroutine started\n",
      "Coroutine ended\n"
     ]
    }
   ],
   "source": [
    "import asyncio\n",
    "\n",
    "# nest_asyncio is only required in JupyterNotebooks\n",
    "import nest_asyncio\n",
    "nest_asyncio.apply()\n",
    "\n",
    "async def my_coroutine():\n",
    "    print('Coroutine started')\n",
    "    # waits until asyncio.sleep finishes\n",
    "    await asyncio.sleep(1)\n",
    "    print('Coroutine ended')\n",
    "\n",
    "\n",
    "# run coroutine with asyncio\n",
    "asyncio.run(my_coroutine())"
   ]
  },
  {
   "cell_type": "code",
   "execution_count": 9,
   "metadata": {
    "collapsed": true,
    "jupyter": {
     "outputs_hidden": true
    },
    "tags": []
   },
   "outputs": [
    {
     "name": "stdin",
     "output_type": "stream",
     "text": [
      "Enter a number or 'q' to quit:  ö\n"
     ]
    },
    {
     "name": "stdout",
     "output_type": "stream",
     "text": [
      "Invalid input. Please enter a number or 'q' to quit.\n"
     ]
    },
    {
     "name": "stdin",
     "output_type": "stream",
     "text": [
      "Enter a number or 'q' to quit:  45\n"
     ]
    },
    {
     "name": "stdout",
     "output_type": "stream",
     "text": [
      "Generator value is 45\n"
     ]
    },
    {
     "name": "stdin",
     "output_type": "stream",
     "text": [
      "Enter a number or 'q' to quit:  88\n"
     ]
    },
    {
     "name": "stdout",
     "output_type": "stream",
     "text": [
      "Generator value is 88\n"
     ]
    },
    {
     "ename": "KeyboardInterrupt",
     "evalue": "Interrupted by user",
     "output_type": "error",
     "traceback": [
      "\u001b[0;31m---------------------------------------------------------------------------\u001b[0m",
      "\u001b[0;31mKeyboardInterrupt\u001b[0m                         Traceback (most recent call last)",
      "\u001b[0;32m<ipython-input-9-7736ab01bbd5>\u001b[0m in \u001b[0;36m<module>\u001b[0;34m\u001b[0m\n\u001b[1;32m     24\u001b[0m             \u001b[0mprint\u001b[0m\u001b[0;34m(\u001b[0m\u001b[0;34m\"Invalid input. Please enter a number or 'q' to quit.\"\u001b[0m\u001b[0;34m)\u001b[0m\u001b[0;34m\u001b[0m\u001b[0;34m\u001b[0m\u001b[0m\n\u001b[1;32m     25\u001b[0m \u001b[0;34m\u001b[0m\u001b[0m\n\u001b[0;32m---> 26\u001b[0;31m \u001b[0masyncio\u001b[0m\u001b[0;34m.\u001b[0m\u001b[0mrun\u001b[0m\u001b[0;34m(\u001b[0m\u001b[0mmain\u001b[0m\u001b[0;34m(\u001b[0m\u001b[0;34m)\u001b[0m\u001b[0;34m)\u001b[0m\u001b[0;34m\u001b[0m\u001b[0;34m\u001b[0m\u001b[0m\n\u001b[0m",
      "\u001b[0;32m/opt/conda/lib/python3.9/site-packages/nest_asyncio.py\u001b[0m in \u001b[0;36mrun\u001b[0;34m(future, debug)\u001b[0m\n\u001b[1;32m     30\u001b[0m         \u001b[0mloop\u001b[0m \u001b[0;34m=\u001b[0m \u001b[0masyncio\u001b[0m\u001b[0;34m.\u001b[0m\u001b[0mget_event_loop\u001b[0m\u001b[0;34m(\u001b[0m\u001b[0;34m)\u001b[0m\u001b[0;34m\u001b[0m\u001b[0;34m\u001b[0m\u001b[0m\n\u001b[1;32m     31\u001b[0m         \u001b[0mloop\u001b[0m\u001b[0;34m.\u001b[0m\u001b[0mset_debug\u001b[0m\u001b[0;34m(\u001b[0m\u001b[0mdebug\u001b[0m\u001b[0;34m)\u001b[0m\u001b[0;34m\u001b[0m\u001b[0;34m\u001b[0m\u001b[0m\n\u001b[0;32m---> 32\u001b[0;31m         \u001b[0;32mreturn\u001b[0m \u001b[0mloop\u001b[0m\u001b[0;34m.\u001b[0m\u001b[0mrun_until_complete\u001b[0m\u001b[0;34m(\u001b[0m\u001b[0mfuture\u001b[0m\u001b[0;34m)\u001b[0m\u001b[0;34m\u001b[0m\u001b[0;34m\u001b[0m\u001b[0m\n\u001b[0m\u001b[1;32m     33\u001b[0m \u001b[0;34m\u001b[0m\u001b[0m\n\u001b[1;32m     34\u001b[0m     \u001b[0;32mif\u001b[0m \u001b[0msys\u001b[0m\u001b[0;34m.\u001b[0m\u001b[0mversion_info\u001b[0m \u001b[0;34m>=\u001b[0m \u001b[0;34m(\u001b[0m\u001b[0;36m3\u001b[0m\u001b[0;34m,\u001b[0m \u001b[0;36m6\u001b[0m\u001b[0;34m,\u001b[0m \u001b[0;36m0\u001b[0m\u001b[0;34m)\u001b[0m\u001b[0;34m:\u001b[0m\u001b[0;34m\u001b[0m\u001b[0;34m\u001b[0m\u001b[0m\n",
      "\u001b[0;32m/opt/conda/lib/python3.9/site-packages/nest_asyncio.py\u001b[0m in \u001b[0;36mrun_until_complete\u001b[0;34m(self, future)\u001b[0m\n\u001b[1;32m     62\u001b[0m                 \u001b[0mf\u001b[0m\u001b[0;34m.\u001b[0m\u001b[0m_log_destroy_pending\u001b[0m \u001b[0;34m=\u001b[0m \u001b[0;32mFalse\u001b[0m\u001b[0;34m\u001b[0m\u001b[0;34m\u001b[0m\u001b[0m\n\u001b[1;32m     63\u001b[0m             \u001b[0;32mwhile\u001b[0m \u001b[0;32mnot\u001b[0m \u001b[0mf\u001b[0m\u001b[0;34m.\u001b[0m\u001b[0mdone\u001b[0m\u001b[0;34m(\u001b[0m\u001b[0;34m)\u001b[0m\u001b[0;34m:\u001b[0m\u001b[0;34m\u001b[0m\u001b[0;34m\u001b[0m\u001b[0m\n\u001b[0;32m---> 64\u001b[0;31m                 \u001b[0mself\u001b[0m\u001b[0;34m.\u001b[0m\u001b[0m_run_once\u001b[0m\u001b[0;34m(\u001b[0m\u001b[0;34m)\u001b[0m\u001b[0;34m\u001b[0m\u001b[0;34m\u001b[0m\u001b[0m\n\u001b[0m\u001b[1;32m     65\u001b[0m                 \u001b[0;32mif\u001b[0m \u001b[0mself\u001b[0m\u001b[0;34m.\u001b[0m\u001b[0m_stopping\u001b[0m\u001b[0;34m:\u001b[0m\u001b[0;34m\u001b[0m\u001b[0;34m\u001b[0m\u001b[0m\n\u001b[1;32m     66\u001b[0m                     \u001b[0;32mbreak\u001b[0m\u001b[0;34m\u001b[0m\u001b[0;34m\u001b[0m\u001b[0m\n",
      "\u001b[0;32m/opt/conda/lib/python3.9/site-packages/nest_asyncio.py\u001b[0m in \u001b[0;36m_run_once\u001b[0;34m(self)\u001b[0m\n\u001b[1;32m     98\u001b[0m             \u001b[0mhandle\u001b[0m \u001b[0;34m=\u001b[0m \u001b[0mready\u001b[0m\u001b[0;34m.\u001b[0m\u001b[0mpopleft\u001b[0m\u001b[0;34m(\u001b[0m\u001b[0;34m)\u001b[0m\u001b[0;34m\u001b[0m\u001b[0;34m\u001b[0m\u001b[0m\n\u001b[1;32m     99\u001b[0m             \u001b[0;32mif\u001b[0m \u001b[0;32mnot\u001b[0m \u001b[0mhandle\u001b[0m\u001b[0;34m.\u001b[0m\u001b[0m_cancelled\u001b[0m\u001b[0;34m:\u001b[0m\u001b[0;34m\u001b[0m\u001b[0;34m\u001b[0m\u001b[0m\n\u001b[0;32m--> 100\u001b[0;31m                 \u001b[0mhandle\u001b[0m\u001b[0;34m.\u001b[0m\u001b[0m_run\u001b[0m\u001b[0;34m(\u001b[0m\u001b[0;34m)\u001b[0m\u001b[0;34m\u001b[0m\u001b[0;34m\u001b[0m\u001b[0m\n\u001b[0m\u001b[1;32m    101\u001b[0m         \u001b[0mhandle\u001b[0m \u001b[0;34m=\u001b[0m \u001b[0;32mNone\u001b[0m\u001b[0;34m\u001b[0m\u001b[0;34m\u001b[0m\u001b[0m\n\u001b[1;32m    102\u001b[0m \u001b[0;34m\u001b[0m\u001b[0m\n",
      "\u001b[0;32m/opt/conda/lib/python3.9/asyncio/events.py\u001b[0m in \u001b[0;36m_run\u001b[0;34m(self)\u001b[0m\n\u001b[1;32m     78\u001b[0m     \u001b[0;32mdef\u001b[0m \u001b[0m_run\u001b[0m\u001b[0;34m(\u001b[0m\u001b[0mself\u001b[0m\u001b[0;34m)\u001b[0m\u001b[0;34m:\u001b[0m\u001b[0;34m\u001b[0m\u001b[0;34m\u001b[0m\u001b[0m\n\u001b[1;32m     79\u001b[0m         \u001b[0;32mtry\u001b[0m\u001b[0;34m:\u001b[0m\u001b[0;34m\u001b[0m\u001b[0;34m\u001b[0m\u001b[0m\n\u001b[0;32m---> 80\u001b[0;31m             \u001b[0mself\u001b[0m\u001b[0;34m.\u001b[0m\u001b[0m_context\u001b[0m\u001b[0;34m.\u001b[0m\u001b[0mrun\u001b[0m\u001b[0;34m(\u001b[0m\u001b[0mself\u001b[0m\u001b[0;34m.\u001b[0m\u001b[0m_callback\u001b[0m\u001b[0;34m,\u001b[0m \u001b[0;34m*\u001b[0m\u001b[0mself\u001b[0m\u001b[0;34m.\u001b[0m\u001b[0m_args\u001b[0m\u001b[0;34m)\u001b[0m\u001b[0;34m\u001b[0m\u001b[0;34m\u001b[0m\u001b[0m\n\u001b[0m\u001b[1;32m     81\u001b[0m         \u001b[0;32mexcept\u001b[0m \u001b[0;34m(\u001b[0m\u001b[0mSystemExit\u001b[0m\u001b[0;34m,\u001b[0m \u001b[0mKeyboardInterrupt\u001b[0m\u001b[0;34m)\u001b[0m\u001b[0;34m:\u001b[0m\u001b[0;34m\u001b[0m\u001b[0;34m\u001b[0m\u001b[0m\n\u001b[1;32m     82\u001b[0m             \u001b[0;32mraise\u001b[0m\u001b[0;34m\u001b[0m\u001b[0;34m\u001b[0m\u001b[0m\n",
      "\u001b[0;32m/opt/conda/lib/python3.9/site-packages/nest_asyncio.py\u001b[0m in \u001b[0;36mstep\u001b[0;34m(task, exc)\u001b[0m\n\u001b[1;32m    167\u001b[0m         \u001b[0mcurr_task\u001b[0m \u001b[0;34m=\u001b[0m \u001b[0mcurr_tasks\u001b[0m\u001b[0;34m.\u001b[0m\u001b[0mget\u001b[0m\u001b[0;34m(\u001b[0m\u001b[0mtask\u001b[0m\u001b[0;34m.\u001b[0m\u001b[0m_loop\u001b[0m\u001b[0;34m)\u001b[0m\u001b[0;34m\u001b[0m\u001b[0;34m\u001b[0m\u001b[0m\n\u001b[1;32m    168\u001b[0m         \u001b[0;32mtry\u001b[0m\u001b[0;34m:\u001b[0m\u001b[0;34m\u001b[0m\u001b[0;34m\u001b[0m\u001b[0m\n\u001b[0;32m--> 169\u001b[0;31m             \u001b[0mstep_orig\u001b[0m\u001b[0;34m(\u001b[0m\u001b[0mtask\u001b[0m\u001b[0;34m,\u001b[0m \u001b[0mexc\u001b[0m\u001b[0;34m)\u001b[0m\u001b[0;34m\u001b[0m\u001b[0;34m\u001b[0m\u001b[0m\n\u001b[0m\u001b[1;32m    170\u001b[0m         \u001b[0;32mfinally\u001b[0m\u001b[0;34m:\u001b[0m\u001b[0;34m\u001b[0m\u001b[0;34m\u001b[0m\u001b[0m\n\u001b[1;32m    171\u001b[0m             \u001b[0;32mif\u001b[0m \u001b[0mcurr_task\u001b[0m \u001b[0;32mis\u001b[0m \u001b[0;32mNone\u001b[0m\u001b[0;34m:\u001b[0m\u001b[0;34m\u001b[0m\u001b[0;34m\u001b[0m\u001b[0m\n",
      "\u001b[0;32m/opt/conda/lib/python3.9/asyncio/tasks.py\u001b[0m in \u001b[0;36m__step\u001b[0;34m(***failed resolving arguments***)\u001b[0m\n\u001b[1;32m    254\u001b[0m                 \u001b[0;31m# We use the `send` method directly, because coroutines\u001b[0m\u001b[0;34m\u001b[0m\u001b[0;34m\u001b[0m\u001b[0;34m\u001b[0m\u001b[0m\n\u001b[1;32m    255\u001b[0m                 \u001b[0;31m# don't have `__iter__` and `__next__` methods.\u001b[0m\u001b[0;34m\u001b[0m\u001b[0;34m\u001b[0m\u001b[0;34m\u001b[0m\u001b[0m\n\u001b[0;32m--> 256\u001b[0;31m                 \u001b[0mresult\u001b[0m \u001b[0;34m=\u001b[0m \u001b[0mcoro\u001b[0m\u001b[0;34m.\u001b[0m\u001b[0msend\u001b[0m\u001b[0;34m(\u001b[0m\u001b[0;32mNone\u001b[0m\u001b[0;34m)\u001b[0m\u001b[0;34m\u001b[0m\u001b[0;34m\u001b[0m\u001b[0m\n\u001b[0m\u001b[1;32m    257\u001b[0m             \u001b[0;32melse\u001b[0m\u001b[0;34m:\u001b[0m\u001b[0;34m\u001b[0m\u001b[0;34m\u001b[0m\u001b[0m\n\u001b[1;32m    258\u001b[0m                 \u001b[0mresult\u001b[0m \u001b[0;34m=\u001b[0m \u001b[0mcoro\u001b[0m\u001b[0;34m.\u001b[0m\u001b[0mthrow\u001b[0m\u001b[0;34m(\u001b[0m\u001b[0mexc\u001b[0m\u001b[0;34m)\u001b[0m\u001b[0;34m\u001b[0m\u001b[0;34m\u001b[0m\u001b[0m\n",
      "\u001b[0;32m<ipython-input-9-7736ab01bbd5>\u001b[0m in \u001b[0;36mmain\u001b[0;34m()\u001b[0m\n\u001b[1;32m     14\u001b[0m     \u001b[0;32mawait\u001b[0m \u001b[0mgen\u001b[0m\u001b[0;34m.\u001b[0m\u001b[0m__anext__\u001b[0m\u001b[0;34m(\u001b[0m\u001b[0;34m)\u001b[0m \u001b[0;31m# Start the coroutine\u001b[0m\u001b[0;34m\u001b[0m\u001b[0;34m\u001b[0m\u001b[0m\n\u001b[1;32m     15\u001b[0m     \u001b[0;32mwhile\u001b[0m \u001b[0;32mTrue\u001b[0m\u001b[0;34m:\u001b[0m\u001b[0;34m\u001b[0m\u001b[0;34m\u001b[0m\u001b[0m\n\u001b[0;32m---> 16\u001b[0;31m         \u001b[0mvalue\u001b[0m \u001b[0;34m=\u001b[0m \u001b[0minput\u001b[0m\u001b[0;34m(\u001b[0m\u001b[0;34m\"Enter a number or 'q' to quit: \"\u001b[0m\u001b[0;34m)\u001b[0m\u001b[0;34m\u001b[0m\u001b[0;34m\u001b[0m\u001b[0m\n\u001b[0m\u001b[1;32m     17\u001b[0m         \u001b[0;32mif\u001b[0m \u001b[0mvalue\u001b[0m \u001b[0;34m==\u001b[0m \u001b[0;34m\"q\"\u001b[0m\u001b[0;34m:\u001b[0m\u001b[0;34m\u001b[0m\u001b[0;34m\u001b[0m\u001b[0m\n\u001b[1;32m     18\u001b[0m             \u001b[0;32mbreak\u001b[0m\u001b[0;34m\u001b[0m\u001b[0;34m\u001b[0m\u001b[0m\n",
      "\u001b[0;32m/opt/conda/lib/python3.9/site-packages/ipykernel/kernelbase.py\u001b[0m in \u001b[0;36mraw_input\u001b[0;34m(self, prompt)\u001b[0m\n\u001b[1;32m    846\u001b[0m                 \u001b[0;34m\"raw_input was called, but this frontend does not support input requests.\"\u001b[0m\u001b[0;34m\u001b[0m\u001b[0;34m\u001b[0m\u001b[0m\n\u001b[1;32m    847\u001b[0m             )\n\u001b[0;32m--> 848\u001b[0;31m         return self._input_request(str(prompt),\n\u001b[0m\u001b[1;32m    849\u001b[0m             \u001b[0mself\u001b[0m\u001b[0;34m.\u001b[0m\u001b[0m_parent_ident\u001b[0m\u001b[0;34m,\u001b[0m\u001b[0;34m\u001b[0m\u001b[0;34m\u001b[0m\u001b[0m\n\u001b[1;32m    850\u001b[0m             \u001b[0mself\u001b[0m\u001b[0;34m.\u001b[0m\u001b[0m_parent_header\u001b[0m\u001b[0;34m,\u001b[0m\u001b[0;34m\u001b[0m\u001b[0;34m\u001b[0m\u001b[0m\n",
      "\u001b[0;32m/opt/conda/lib/python3.9/site-packages/ipykernel/kernelbase.py\u001b[0m in \u001b[0;36m_input_request\u001b[0;34m(self, prompt, ident, parent, password)\u001b[0m\n\u001b[1;32m    890\u001b[0m             \u001b[0;32mexcept\u001b[0m \u001b[0mKeyboardInterrupt\u001b[0m\u001b[0;34m:\u001b[0m\u001b[0;34m\u001b[0m\u001b[0;34m\u001b[0m\u001b[0m\n\u001b[1;32m    891\u001b[0m                 \u001b[0;31m# re-raise KeyboardInterrupt, to truncate traceback\u001b[0m\u001b[0;34m\u001b[0m\u001b[0;34m\u001b[0m\u001b[0;34m\u001b[0m\u001b[0m\n\u001b[0;32m--> 892\u001b[0;31m                 \u001b[0;32mraise\u001b[0m \u001b[0mKeyboardInterrupt\u001b[0m\u001b[0;34m(\u001b[0m\u001b[0;34m\"Interrupted by user\"\u001b[0m\u001b[0;34m)\u001b[0m \u001b[0;32mfrom\u001b[0m \u001b[0;32mNone\u001b[0m\u001b[0;34m\u001b[0m\u001b[0;34m\u001b[0m\u001b[0m\n\u001b[0m\u001b[1;32m    893\u001b[0m             \u001b[0;32mexcept\u001b[0m \u001b[0mException\u001b[0m \u001b[0;32mas\u001b[0m \u001b[0me\u001b[0m\u001b[0;34m:\u001b[0m\u001b[0;34m\u001b[0m\u001b[0;34m\u001b[0m\u001b[0m\n\u001b[1;32m    894\u001b[0m                 \u001b[0mself\u001b[0m\u001b[0;34m.\u001b[0m\u001b[0mlog\u001b[0m\u001b[0;34m.\u001b[0m\u001b[0mwarning\u001b[0m\u001b[0;34m(\u001b[0m\u001b[0;34m\"Invalid Message:\"\u001b[0m\u001b[0;34m,\u001b[0m \u001b[0mexc_info\u001b[0m\u001b[0;34m=\u001b[0m\u001b[0;32mTrue\u001b[0m\u001b[0;34m)\u001b[0m\u001b[0;34m\u001b[0m\u001b[0;34m\u001b[0m\u001b[0m\n",
      "\u001b[0;31mKeyboardInterrupt\u001b[0m: Interrupted by user"
     ]
    }
   ],
   "source": [
    "## maybe example with send"
   ]
  },
  {
   "cell_type": "code",
   "execution_count": 18,
   "metadata": {},
   "outputs": [
    {
     "name": "stdout",
     "output_type": "stream",
     "text": [
      "0\n",
      "a\n",
      "1\n",
      "b\n",
      "2\n",
      "c\n",
      "3\n",
      "d\n",
      "4\n",
      "e\n",
      "5\n",
      "f\n",
      "6\n",
      "g\n",
      "7\n",
      "h\n",
      "8\n",
      "i\n",
      "9\n",
      "j\n",
      "k\n",
      "l\n",
      "m\n",
      "n\n",
      "o\n",
      "p\n",
      "q\n",
      "r\n",
      "s\n",
      "t\n",
      "u\n",
      "v\n",
      "w\n",
      "x\n",
      "y\n",
      "z\n"
     ]
    }
   ],
   "source": [
    "import asyncio\n",
    "\n",
    "# nest_asyncio is only required in JupyterNotebooks\n",
    "import nest_asyncio\n",
    "nest_asyncio.apply()\n",
    "\n",
    "async def print_numbers():\n",
    "    for i in range(10):\n",
    "        print(i)\n",
    "        # waits until asyncio.sleep finishes\n",
    "        await asyncio.sleep(1)\n",
    "\n",
    "async def print_letters():\n",
    "    for letter in 'abcdefghijklmnopqrstuvwxyz':\n",
    "        print(letter)\n",
    "        await asyncio.sleep(1)\n",
    "\n",
    "# main() is the entry point of our application \n",
    "# responsible for setting up and executing other coroutines as needed\n",
    "async def main():\n",
    "    # iniate coroutines\n",
    "    task1 = asyncio.create_task(print_numbers())\n",
    "    task2 = asyncio.create_task(print_letters())\n",
    "    \n",
    "    # execute coroutines that \n",
    "    await task1\n",
    "    await task2\n",
    "\n",
    "\n",
    "asyncio.run(main())\n"
   ]
  },
  {
   "cell_type": "code",
   "execution_count": 15,
   "metadata": {},
   "outputs": [
    {
     "name": "stdout",
     "output_type": "stream",
     "text": [
      "HTML contents of https://www.google.com: <!doctype html><html itemscope=\"\" itemtype=\"http:/...\n",
      "HTML contents of https://www.amazon.com: <!doctype html><html lang=\"en-us\" class=\"a-no-js\" ...\n",
      "HTML contents of https://www.github.com: \n",
      "\n",
      "\n",
      "\n",
      "\n",
      "\n",
      "<!DOCTYPE html>\n",
      "<html lang=\"en\"  data-a11y-a...\n"
     ]
    }
   ],
   "source": [
    "# Coroutines for downloading URLs in parallel\n",
    "\n",
    "import asyncio\n",
    "import sys\n",
    "if not 'aiohttp' in sys.modules:\n",
    "    !{sys.executable} -m pip install aiohttp\n",
    "import aiohttp\n",
    "\n",
    "# nest_asyncio is only required in JupyterNotebooks\n",
    "import nest_asyncio\n",
    "nest_asyncio.apply()\n",
    "\n",
    "async def download_url(url):\n",
    "    async with aiohttp.ClientSession() as session:\n",
    "        async with session.get(url) as response:\n",
    "            html = await response.text()\n",
    "            return html\n",
    "\n",
    "async def main(urls):\n",
    "    coroutines = [download_url(url) for url in urls]\n",
    "    htmls = await asyncio.gather(*coroutines)\n",
    "    for url, html in zip(urls, htmls):\n",
    "        print(f\"HTML contents of {url}: {html[:50]}...\")\n",
    "\n",
    "urls = [\n",
    "    \"https://www.google.com\",\n",
    "    \"https://www.amazon.com\",\n",
    "    \"https://www.github.com\",\n",
    "]\n",
    "\n",
    "asyncio.run(main(urls))\n"
   ]
  },
  {
   "cell_type": "markdown",
   "metadata": {},
   "source": [
    "<font size=\"3\">  \n",
    "    Coroutines are a useful tool in programming for managing concurrent operations and improving performance. Here are some example applications for coroutines:\n",
    "    <ul>\n",
    "        <li> Asynchronous programming: Coroutines can be used to improve the performance of asynchronous programming by allowing multiple tasks to run concurrently without blocking the main thread.\n",
    "        <li> Web scraping: Coroutines can be used to efficiently scrape data from multiple websites simultaneously, reducing the time required to complete the task.\n",
    "        <li> GUI programming: Coroutines can be used to manage user interactions in graphical user interfaces (GUIs), such as handling user input and updating the interface in response to user actions.\n",
    "        <li> Game programming: Coroutines can be used to manage game logic and animations, allowing for smoother gameplay and more complex game mechanics.\n",
    "        <li> Networking: Coroutines can be used to manage network communication, such as sending and receiving data from remote servers.\n",
    "        <li> Data processing: Coroutines can be used to process large amounts of data efficiently, such as filtering, sorting, and transforming data in real-time.\n",
    "        <li> Concurrent algorithms: Coroutines can be used to implement concurrent algorithms, such as concurrent sorting or searching algorithms, which can improve performance and reduce response time.          \n",
    "    </ul>\n",
    "</font>"
   ]
  },
  {
   "cell_type": "markdown",
   "metadata": {},
   "source": [
    "<font size=\"3\"><div class=\"alert alert-warning\"><b>Exercise 3.3:</b> <br>\n",
    "    Suppose you want to simulate a simple game where the player has to guess a randomly generated number between 1 and 100. Write a program that uses coroutines to implement the game.<br>\n",
    "    Here's some guidance to help you get started:\n",
    "    <ul>\n",
    "    <li> Define an async coroutine called <b>generate_number</b> that generates a random number between 1 and 100 and waits for the player's guesses.\n",
    "    <li> Define another async coroutine called <b>check_guess</b> that takes the player's guess as input, checks if it matches the generated number, and returns a message indicating whether the guess was too high, too low, or correct.\n",
    "    <li> Define a third async coroutine called <b>main</b> that uses the <b>generate_number</b> coroutine to generate the random number and the <b>check_guess</b> coroutine to check the player's guesses.\n",
    "    <li> In the main coroutine, use a loop to prompt the player for guesses using the input function, pass each guess to the check_guess coroutine, and print the result.\n",
    "    <li> When the player guesses the correct number, print a message indicating that the player has won and exit the program.\n",
    "    </ul>       \n",
    "</div> \n",
    "<font size=\"3\">\n",
    "<b>Try it yourself:</b></font>\n",
    "</font>"
   ]
  },
  {
   "cell_type": "code",
   "execution_count": null,
   "metadata": {},
   "outputs": [],
   "source": [
    "# Solution\n",
    "\n",
    "import asyncio\n",
    "import random\n",
    "\n",
    "# nest_asyncio is only required in JupyterNotebooks\n",
    "import nest_asyncio\n",
    "nest_asyncio.apply()\n",
    "\n",
    "async def generate_number():\n",
    "    number = random.randint(1, 100)\n",
    "    while True:\n",
    "        guess = yield\n",
    "        if guess == number:\n",
    "            yield \"Correct! You win.\"\n",
    "            return\n",
    "        elif guess < number:\n",
    "            yield \"Too low. Guess again: \"\n",
    "        else:\n",
    "            yield \"Too high. Guess again: \"\n",
    "\n",
    "async def main():\n",
    "    gen = generate_number()\n",
    "    await gen.asend(None) # Start the coroutine\n",
    "    while True:\n",
    "        guess = input(\"Guess a number between 1 and 100: \")\n",
    "        try:\n",
    "            guess = int(guess)\n",
    "            message = await gen.asend(guess)\n",
    "            await gen.__anext__()\n",
    "            print(message)\n",
    "            if message.startswith(\"Correct\"):\n",
    "                return\n",
    "        except ValueError:\n",
    "            print(\"Invalid input. Please enter a number.\")\n",
    "\n",
    "asyncio.run(main())\n"
   ]
  },
  {
   "cell_type": "markdown",
   "metadata": {},
   "source": [
    "<hr style=\"border:1px solid gray\"> </hr>\n",
    "\n",
    "## The object-oriented programming (OOP) paradigm\n",
    "\n",
    "<br>\n",
    "<div align=\"center\">\n",
    "    <img src=\"img/paradigms.jpg\" width=\"66%\">\n",
    "</div>\n",
    "<br>\n",
    "<font size=\"2\">\n",
    "    <i>Source:</i> <a href=\"https://digitalfellows.commons.gc.cuny.edu/2018/03/12/an-introduction-to-programming-paradigms/\"><i>https://digitalfellows.commons.gc.cuny.edu/2018/03/12/an-introduction-to-programming-paradigms/</i></a>\n",
    "</font>\n",
    "<br>\n",
    "<br>\n",
    "<font size=\"3\">\n",
    "    <b>Python is a multi-paradigm programming language</b>, hence supporting multiple <a href=\"https://en.wikipedia.org/wiki/Comparison_of_programming_paradigms\">programming paradigms</a>. A programming paradigm is a style, philosophy or a set of principles followed in structuring your code and the way to implement its intended functionality. Among the various paradigms, the <a href=\"https://en.wikipedia.org/wiki/Functional_programming\"><b>functional</b></a> and the <a href=\"https://en.wikipedia.org/wiki/Object-oriented_programming\"><b>object-oriented programming (OOP)</b></a> paradigm are the most popular, also in Python.<br>\n",
    "\n",
    "<b>The functional paradigm</b> focusses on:\n",
    "<ul>\n",
    "<li><b>Structuring your code</b>, so that the program uses subroutine/function calls (executing another program parts from elsewhere during the runtime).\n",
    "</li>\n",
    "<li>\n",
    "<b>Functions</b> in a mathematical sense <b>with arguments and return values</b>.\n",
    "</li>\n",
    "<li>\n",
    "<b>Scoping, the limited visibility of an entity (e.g. the name binding of a variable) is implemented</b>, allowing for <b>local variables</b> and <b>isolation</b>.\n",
    "</li>\n",
    "<li>\n",
    "<b>Functions allowing the reusability</b> of parts of the code since they <b>should ideally work as black boxes</b>.\n",
    "</li>\n",
    "<li>\n",
    "    <b>Statelessness</b>, hence <b>it shouldn't matter when a function is called.</b> As long as the same input is used, the function should yield the same output. <b>Hence functions are only loosely coupled to data</b> outside of their scope.\n",
    "</li>\n",
    "</ul>\n",
    "<br>\n",
    "A <b>use case</b> is for <b>smaller projects or specialized scripts</b> where <b>new features are rather unlikely to be implemented.</b><br>\n",
    "Examples for other programming languages following this paradigm are C, Fortran and Cobol.\n",
    "<br>\n",
    "<br>\n",
    "<b>The OOP paradigm</b> focusses on:\n",
    "<ul>\n",
    "<li><b>Classes defining objects encapsulating functionality</b> which could also exist independently and can be easily ported to other projects.\n",
    "</li>\n",
    "<li>\n",
    "<b>Class objects posess <i>methods</i></b>, functions bound to the object which should act only on the <b><i>attributes</i></b> of the object. The latter are <b>variables bound to the object instance.</b>\n",
    "</li>\n",
    "<li>\n",
    "<b>The data (its state) is strictly bound to the object.</b>\n",
    "</li>\n",
    "<li><b>States</b> since the objects (can) store a state in their attributes. The interaction of these objects with the environment takes place via <b><i>special object methods</i></b>, the so-called <b><i>interfaces</i></b>, to avoid direct manipulation of object attributes from outside <b>ensuring data security.</b> <b>Statefulness implies</b> that the <b>execution order of object methods can matter.</b>\n",
    "</li>\n",
    "<li>\n",
    "<b>Classes grouped in modules</b> so that the objects have the specific environments to work in. This allows <b>easy extensibility</b>.\n",
    "</li>\n",
    "<li>\n",
    "<b>Inheritance</b> allowing for a sub-class to inherit methods and attributes from the parent class.\n",
    "</li>\n",
    "<li>\n",
    "<b>The program functionality is realized by object interactions</b>, hence message passing between the objects. \n",
    "</li>\n",
    "</ul>\n",
    "<br>\n",
    "A <b>use case</b> is a <v>big project</b> with <b>many collaborators</b> where the <b>task can be easily subdivided</b>, where <b>statefulness</b> is important and <b>new features are likely to be added.</b>\n",
    "<br>\n",
    "Examples for other programming languages following this paradigm are Java, C++, Objective-C, Ruby or VB .NET.<br>\n",
    "<br>\n",
    "The different paradigms are partly built on each other. <br><br>Both paradigms implement the <b>DRY</b>-principle (<b>D</b>on't <b>R</b>epeat <b>Y</b>ourself). <br><br> If possible, you always should try to outsource repeating code in functions or classes. <br><br> <b>This does not only improve the maintainability of your code, but also its readability and portability.</b>\n",
    "</font>\n",
    "<br>\n",
    "<br>\n",
    "<div align=\"center\">\n",
    "    <img src=\"img/oops.png\" width=\"50%\">\n",
    "</div>\n",
    "<br>\n",
    "<font size=\"2\">\n",
    "    <i>Source:</i> <a href=\"https://www.freecodecamp.org/news/what-exactly-is-a-programming-paradigm/\"><i>https://www.freecodecamp.org/news/what-exactly-is-a-programming-paradigm/</i></a>\n",
    "</font>\n",
    "<br>\n",
    "<br>\n",
    "<font size=\"3\">\n",
    "<b>In summary, the abstract features of object-oriented programming are</b><br>\n",
    "<ul>\n",
    "    <li><b>Inheritance:</b> <br>Derivation of class from another class. Hierarchy of classes sharing common attributes and methods. Allows faster development of new features using already existing interfaces.</li><br>\n",
    "    <li><b>Polymorphism:</b> <br>A function, variable or object can have multiple forms, e.g. the same method could except different number and type of input arguments or the usage of a common interface for objects of different classes.</li><br>\n",
    "    <li><b>Abstraction:</b><br> A simplified data representation\n",
    "    </li>\n",
    "    <br>\n",
    "    <li><b>Encapsulation:</b><br> Bundling data and methods to hide the internal state and mechanics of an object from the outside. Ensures data safety, portability and maintainability.</li>\n",
    "</ul>\n",
    "</font>\n",
    "\n",
    "### Classes, Objects & Attributes\n",
    "<br>\n",
    "<div align=\"center\">\n",
    "    <img src=\"img/yoda_meme.png\" width=\"40%\">\n",
    "</div>\n",
    "<br>\n",
    "<font size=\"2\">\n",
    "    <i>Source:</i> <a href=\"https://medium.com/@972LPV/mutable-vs-immutable-objects-in-python-a8a3439636b6\"><i>https://medium.com/@972LPV/mutable-vs-immutable-objects-in-python-a8a3439636b6</i></a>\n",
    "</font>\n",
    "<br>\n",
    "<br>\n",
    "<font size=\"3\">\n",
    "    <b>Classes are blueprints or templates for objects in Python defining the object <i>properties via attributes</i> and <i>behavior via methods</i>.</b><br>\n",
    "In Python, even the basic builtin datatypes like int, float or str, are objects of a class in the end. Even references to functions. In Python, every entity is and can be treated as object.<br>\n",
    "\n",
    "### Example:"
   ]
  },
  {
   "cell_type": "code",
   "execution_count": 14,
   "metadata": {
    "code_folding": []
   },
   "outputs": [
    {
     "name": "stdout",
     "output_type": "stream",
     "text": [
      "type(int_var)=<class 'int'>\n",
      "type(str_var)=<class 'str'>\n",
      "type(float_var)=<class 'float'>\n",
      "type(tuple_var)=<class 'tuple'>\n",
      "type(list_var)=<class 'list'>\n",
      "type(dict_var)=<class 'dict'>\n",
      "type(func_var)=<class 'function'>\n",
      "type(foo)=<class 'function'>\n"
     ]
    }
   ],
   "source": [
    "# example int\n",
    "int_var = 3\n",
    "# example str\n",
    "str_var = \"Hello world!\"\n",
    "# example float\n",
    "float_var = 3.141\n",
    "# example tuple\n",
    "tuple_var = (1,2,3)\n",
    "# example list\n",
    "list_var = [1,2,3]\n",
    "# example dict\n",
    "dict_var = {'a':1,'b':2,'c':3}\n",
    "# example lambda/anonymous function\n",
    "func_var = lambda x: x**2\n",
    "# example \"regular\" function\n",
    "def foo(bar):\n",
    "    return bar**2\n",
    "\n",
    "# print types of the variables\n",
    "print(\"type(int_var)=\"+str(type(int_var)))\n",
    "print(\"type(str_var)=\"+str(type(str_var)))\n",
    "print(\"type(float_var)=\"+str(type(float_var)))\n",
    "print(\"type(tuple_var)=\"+str(type(tuple_var)))\n",
    "print(\"type(list_var)=\"+str(type(list_var)))\n",
    "print(\"type(dict_var)=\"+str(type(dict_var)))\n",
    "print(\"type(func_var)=\"+str(type(func_var)))\n",
    "print(\"type(foo)=\"+str(type(foo)))"
   ]
  },
  {
   "cell_type": "markdown",
   "metadata": {},
   "source": [
    "<font size=\"4\">\n",
    "<b>A class definition in Python has the following syntax:</b><br><br>\n",
    "</font>\n",
    "<font size=\"3\">\n",
    "<b>class <i>ClassName</i>(<i>ParentClass</i>):</b><br>\n",
    "<p style=\"margin-left: 20px\"><b>def __init__(self, <i>arguments</i>):</b></p>\n",
    "<p style=\"margin-left: 40px\"><font face=\"Courier\">self.<i>public_attr</i> = <i>value</i></font></p>\n",
    "<p style=\"margin-left: 40px\"><font face=\"Courier\">self.<i>_protected_attr</i> = <i>value</i></font></p>\n",
    "<p style=\"margin-left: 40px\"><font face=\"Courier\">self.<i>__private_attr</i> = <i>value</i></font></p>\n",
    "<p style=\"margin-left: 40px\"><font face=\"Courier\">indented code block</font></p>\n",
    "<p style=\"margin-left: 40px\"><b>[return <b><i>value</i>]</b></p>\n",
    "\n",
    "<p style=\"margin-left: 20px\"><b>def public_method(self, <i>arguments</i>):</b></p>\n",
    "<p style=\"margin-left: 40px\"><font face=\"Courier\">indented code block</font></p>\n",
    "<p style=\"margin-left: 40px\"><b>[return <b><i>value</i>]</b></p>\n",
    "\n",
    "<p style=\"margin-left: 20px\"><b>def _protected_method(self, <i>arguments</i>):</b></p>\n",
    "<p style=\"margin-left: 40px\"><font face=\"Courier\">indented code block</font></p>\n",
    "<p style=\"margin-left: 40px\"><b>[return <b><i>value</i>]</b></p>\n",
    "\n",
    "<p style=\"margin-left: 20px\"><b>def __private_method(self, <i>arguments</i>):</b></p>\n",
    "<p style=\"margin-left: 40px\"><font face=\"Courier\">indented code block</font><br>\n",
    "<b>[return <b><i>value</i>]</b></p>\n",
    "<br><br>\n",
    "    \n",
    "<b>where the private, builtin method <i>__init__</i> is the so-called <i>constructor</i> of the class object which is invoked when a new class object is <i>instantiated</i> (created).</b><br>\n",
    "<b>A function or method does not need to return a value. If no return statement is present, a NoneType object will be returned. However, the function or method needs to contain at least one statement (or a <i>pass</i>).</b><br><br>   \n",
    "<b>The class naming convention is to start with a capital letter and may use only here camel case, hence the alternating use of small and capital letters to create seperation, e.g. ClassName.</b><br><br>\n",
    "<br>\n",
    "<font size=\"4\">\n",
    "<u><b>Attribute and Method Naming Convention:</b></u>\n",
    "</font>\n",
    "<font size=\"3\">\n",
    "<br>\n",
    "<br>\n",
    "<b>Methods or attributes</b>\n",
    "<ul>\n",
    "    <li><b>without leading underscore</b> as name prefix are <b>public.</b></li>\n",
    "    <li><b>with one leading underscore</b> as name prefix are <b>protected.</b></li>\n",
    "    <li><b>with two leading underscores</b> as name prefix are <b>private.</b></li>\n",
    "    <li><b>with two underscores as</b> name <b>prefix and suffix</b> are <b>private, built-in methods.</b></li>\n",
    "</ul>\n",
    "<b>In contrast to other programming languages, this is <u>just a notational convention</u> and by no means a real access protection!</b><br>\n",
    "<b>Protected and private methods and protected attributes can be accessed anyway!</b><br> Private attribute access is possible using the built-in dictionary representation of an object: <i>obj.__dict__[attribute_name]</i>.<br><br>\n",
    "<b>When you attempt to access a private attribute, an error is thrown, but it can be accessed anyway with a trick.</b>\n",
    "</font>\n",
    "\n",
    "### Example:"
   ]
  },
  {
   "cell_type": "code",
   "execution_count": 30,
   "metadata": {},
   "outputs": [
    {
     "name": "stdout",
     "output_type": "stream",
     "text": [
      "Object types:\n",
      "type(dog1)=<class '__main__.Dog'>\n",
      "type(dog2)=<class '__main__.Dog'>\n",
      "type(ball1)=<class '__main__.Ball'>\n",
      "\n",
      "Objects implicitly converted to strings:\n",
      "<__main__.Dog object at 0x7f4a24fd2f40>\n",
      "<__main__.Dog object at 0x7f4a24fd2eb0>\n",
      "<__main__.Ball object at 0x7f4a24fd2ee0>\n",
      "\n"
     ]
    }
   ],
   "source": [
    "# class definition\n",
    "# the class \"Dog\" inherits from class \"object\"\n",
    "# every class inherits from that class as default\n",
    "# naming convention for class names is to start with a capital letter\n",
    "class Dog(object):\n",
    "    \n",
    "    # the constructor of the class\n",
    "    # a private, built-in method\n",
    "    def __init__(self, name, age):\n",
    "        # a private attrbute which should be changed from outside the object\n",
    "        self.__name = name\n",
    "        self._age = age\n",
    "        self.favorite_food = \"Pizza\"\n",
    "        self.favorite_toy = \"Bone\"\n",
    "        self.has = None\n",
    "        self.__energy = 5\n",
    "        \n",
    "    # overload the builtin method __str__ \n",
    "    # for an implicit string representation of the object\n",
    "    #def __str__(self):\n",
    "    #    return \"This is the dog \"+self.__name+\". I am \"+str(self._age)+\" years old.\"\n",
    "        \n",
    "    # a public class method\n",
    "    def bark(self, volume, pitch, duration):\n",
    "        # assemble string\n",
    "        bark_str_prefix = [\"bo\",\"ba\",\"bi\"]\n",
    "        bark_str_letter = [\"o\",\"a\",\"i\"]\n",
    "        bark_str_suffix = \"rk\"\n",
    "        bark_str = bark_str_prefix[pitch]\n",
    "        bark_str += bark_str_letter[pitch]*duration\n",
    "        bark_str += bark_str_suffix\n",
    "        if volume > 50:\n",
    "            bark_str = str.upper(bark_str)\n",
    "            \n",
    "        if self.__energy <= 0:\n",
    "            return self.__sleep()\n",
    "        else:\n",
    "            self.__energy -= 1\n",
    "            return bark_str\n",
    "    \n",
    "    # a public class method\n",
    "    # implements an interaction between the objects of class Dog and Ball\n",
    "    def bite(self, obj):\n",
    "        if isinstance(obj, Ball):\n",
    "            obj.deflate()\n",
    "    \n",
    "    # a public class method\n",
    "    def retrieve(self, obj):\n",
    "        self.has = obj\n",
    "        return obj\n",
    "    \n",
    "    # a private class method - method name starts with two underscores\n",
    "    def __sleep(self):\n",
    "        self.__energy = 5\n",
    "        return \"zZzZ\"\n",
    "    \n",
    "    # setter - method to set private attribute content\n",
    "    def set_name(self, new_name):\n",
    "        self.__name = new_name\n",
    "    \n",
    "    # getter - method which yields private attribute content\n",
    "    def get_name(self):\n",
    "        return self.__name\n",
    "    \n",
    "    # getter - method which yields private attribute content\n",
    "    def get_energy(self):\n",
    "        return self.__energy\n",
    "\n",
    "# another class definition\n",
    "class Ball(object):\n",
    "    def __init__(self, size, color, weight, inflated):\n",
    "        self.__color = color\n",
    "        self.__size = size\n",
    "        self.__weight = weight\n",
    "        self.__inflated = inflated\n",
    "        \n",
    "    # setter - method to set private attribute content\n",
    "    def deflate(self):\n",
    "        self.__inflated = False\n",
    "\n",
    "    # setter - method to set private attribute content\n",
    "    def inflate(self):\n",
    "        self.__inflated = True\n",
    "        \n",
    "    # setter - method to set private attribute content\n",
    "    def set_inflated(self, value):\n",
    "        self.__inflated = value\n",
    "\n",
    "    # getter - method which yields private attribute content\n",
    "    def is_inflated(self):\n",
    "        return self.__inflated\n",
    "    \n",
    "    def print_status(self):\n",
    "        out_str = \"The ball is \"+self.__color+\" and \"+str(self.__size)+\\\n",
    "                    \" m big and weights \"+str(self.__weight)+\" kg and is \"\n",
    "        if self.__inflated:\n",
    "            out_str += \"inflated.\"\n",
    "        else:\n",
    "            out_str += \"not inflated.\"\n",
    "        print(out_str)\n",
    "        return out_str\n",
    "\n",
    "# instantiate new \"Dog\" objects\n",
    "dog1 = Dog(\"Bello\", 0)\n",
    "dog2 = Dog(\"Doggo\", 2)\n",
    "# instantiate new \"Ball\" object\n",
    "ball1 = Ball(0.3, \"red\", 0.2, True)\n",
    "\n",
    "# print types\n",
    "print(\"Object types:\")\n",
    "print(\"type(dog1)=\"+str(type(dog1)))\n",
    "print(\"type(dog2)=\"+str(type(dog2)))\n",
    "print(\"type(ball1)=\"+str(type(ball1))+\"\\n\")\n",
    "\n",
    "# attempt to print Dog-objects\n",
    "# results in standard string representation for generic objects\n",
    "# since we have not overloaded the built-in method __str__\n",
    "# which takes care of the conversion of the object to a string representation\n",
    "print(\"Objects implicitly converted to strings:\")\n",
    "print(dog1)\n",
    "print(dog2)\n",
    "print(ball1)\n",
    "print(\"\")"
   ]
  },
  {
   "cell_type": "markdown",
   "metadata": {},
   "source": [
    "<font size=\"3\">\n",
    "When you attempt to print objects of user-defined classes, Python tries to implicitly convert these objects to a string representation.<br><br>\n",
    "<b>Since <i>Dog</i> and <i>Ball</i> are user-defined classes, Python cannot know what an adequate string representation of that object would be. Therefore, an object is converted to a string of that form as default.</b><br><br>\n",
    "We can invoke public object methods without any problem. An object method can change attributes of the object, hence an object can have a certain state.\n",
    "</font>"
   ]
  },
  {
   "cell_type": "code",
   "execution_count": 113,
   "metadata": {},
   "outputs": [
    {
     "name": "stdout",
     "output_type": "stream",
     "text": [
      "Results of invoked object methods:\n",
      "----------------------------\n",
      "\n",
      "dog1.bark(40, 0, 1) = boork\n",
      "dog1.bark(50, 1, 1) = baark\n",
      "dog1.bark(60, 1, 1) = BAARK\n",
      "dog1.bark(60, 1, 10) = BAAAAAAAAAAARK\n",
      "dog1.retrieve(ball1) = <__main__.Ball object at 0x7f17a37bd0f0>\n",
      "The ball is red and 0.3 m big and weights 0.2 kg and is inflated.\n",
      "\n",
      "ball1.is_inflated() = True\n",
      "After invoking ball1.deflate():\n",
      "ball1.is_inflated() = False\n",
      "\n"
     ]
    }
   ],
   "source": [
    "# invoke public object methods\n",
    "print(\"Results of invoked object methods:\")\n",
    "print(\"----------------------------\\n\")\n",
    "print(\"dog1.bark(40, 0, 1) = \"+str(dog1.bark(40, 0, 1)))\n",
    "print(\"dog1.bark(50, 1, 1) = \"+str(dog1.bark(50, 1, 1)))\n",
    "print(\"dog1.bark(60, 1, 1) = \"+str(dog1.bark(60, 1, 1)))\n",
    "print(\"dog1.bark(60, 1, 10) = \"+str(dog1.bark(60, 1, 10)))\n",
    "print(\"dog1.retrieve(ball1) = \"+str(dog1.retrieve(ball1)))\n",
    "ball1.print_status()\n",
    "print(\"\")\n",
    "\n",
    "# invoke method which modifies the objects attributes\n",
    "print(\"ball1.is_inflated() = \"+str(ball1.is_inflated()))\n",
    "print(\"After invoking ball1.deflate():\")\n",
    "ball1.deflate()\n",
    "print(\"ball1.is_inflated() = \"+str(ball1.is_inflated()))\n",
    "print(\"\")"
   ]
  },
  {
   "cell_type": "markdown",
   "metadata": {},
   "source": [
    "<font size=\"3\">\n",
    "The statefullness of objects in Python is also demonstrated by interaction between different object types.<br>\n",
    "<b>In this example, an object of class Dog invokes a method of another object of a different class, here Ball.</b>\n",
    "</font>"
   ]
  },
  {
   "cell_type": "code",
   "execution_count": 114,
   "metadata": {},
   "outputs": [
    {
     "name": "stdout",
     "output_type": "stream",
     "text": [
      "Statefullness of objects:\n",
      "-------------------------\n",
      "If method bark() was invoked 5 times (not necessarily sequentially),\n",
      "the private method __sleep() of the Dog object is invoked.\n",
      "dog1.get_energy() = 1\n",
      "dog1.bark(100,1,20) = BAAAAAAAAAAAAAAAAAAAAARK\n",
      "dog1.get_energy() = 0\n",
      "dog1.bark(100,1,20) = zZzZ\n",
      "dog1.get_energy() = 5\n",
      "\n",
      "Interaction between objects:\n",
      "----------------------------\n",
      "\n",
      "After invoking ball1.inflate():\n",
      "ball1.is_inflated() = True\n",
      "After invoking dog1.bite(ball1):\n",
      "ball1.is_inflated() = False\n",
      "\n",
      "dog1.has = <__main__.Ball object at 0x7f17a37bd0f0>\n",
      "\n",
      "\n",
      "Attempt to access private attribute throws an error (encapsulation):\n"
     ]
    },
    {
     "ename": "AttributeError",
     "evalue": "'Dog' object has no attribute '__name'",
     "output_type": "error",
     "traceback": [
      "\u001b[0;31m---------------------------------------------------------------------------\u001b[0m",
      "\u001b[0;31mAttributeError\u001b[0m                            Traceback (most recent call last)",
      "\u001b[0;32m<ipython-input-114-7ce1690d2821>\u001b[0m in \u001b[0;36m<module>\u001b[0;34m\u001b[0m\n\u001b[1;32m     28\u001b[0m \u001b[0;31m# attempt to access private object attribute (discouraged anyway, use setter/getter methods instead !)\u001b[0m\u001b[0;34m\u001b[0m\u001b[0;34m\u001b[0m\u001b[0;34m\u001b[0m\u001b[0m\n\u001b[1;32m     29\u001b[0m \u001b[0mprint\u001b[0m\u001b[0;34m(\u001b[0m\u001b[0;34m\"Attempt to access private attribute throws an error (encapsulation):\"\u001b[0m\u001b[0;34m)\u001b[0m\u001b[0;34m\u001b[0m\u001b[0;34m\u001b[0m\u001b[0m\n\u001b[0;32m---> 30\u001b[0;31m \u001b[0mprint\u001b[0m\u001b[0;34m(\u001b[0m\u001b[0;34m\"dog1.__name = \"\u001b[0m\u001b[0;34m+\u001b[0m\u001b[0mstr\u001b[0m\u001b[0;34m(\u001b[0m\u001b[0mdog1\u001b[0m\u001b[0;34m.\u001b[0m\u001b[0m__name\u001b[0m\u001b[0;34m)\u001b[0m\u001b[0;34m)\u001b[0m\u001b[0;34m\u001b[0m\u001b[0;34m\u001b[0m\u001b[0m\n\u001b[0m\u001b[1;32m     31\u001b[0m \u001b[0;31m# yields an AttributeError\u001b[0m\u001b[0;34m\u001b[0m\u001b[0;34m\u001b[0m\u001b[0;34m\u001b[0m\u001b[0m\n",
      "\u001b[0;31mAttributeError\u001b[0m: 'Dog' object has no attribute '__name'"
     ]
    }
   ],
   "source": [
    "print(\"Statefullness of objects:\")\n",
    "print(\"-------------------------\")\n",
    "print(\"If method bark() was invoked 5 times (not necessarily sequentially),\")\n",
    "print(\"the private method __sleep() of the Dog object is invoked.\")\n",
    "print(\"dog1.get_energy() = \"+str(dog1.get_energy()))\n",
    "print(\"dog1.bark(100,1,20) = \"+str(dog1.bark(100,1,20)))\n",
    "print(\"dog1.get_energy() = \"+str(dog1.get_energy()))\n",
    "print(\"dog1.bark(100,1,20) = \"+str(dog1.bark(100,1,20)))\n",
    "print(\"dog1.get_energy() = \"+str(dog1.get_energy()))\n",
    "print(\"\")\n",
    "\n",
    "# interaction between an object of class Dog and of class Ball\n",
    "print(\"Interaction between objects:\")\n",
    "print(\"----------------------------\\n\")\n",
    "print(\"After invoking ball1.inflate():\")\n",
    "ball1.inflate()\n",
    "print(\"ball1.is_inflated() = \"+str(ball1.is_inflated()))\n",
    "print(\"After invoking dog1.bite(ball1):\")\n",
    "dog1.bite(ball1)\n",
    "print(\"ball1.is_inflated() = \"+str(ball1.is_inflated()))\n",
    "\n",
    "print(\"\")\n",
    "\n",
    "# access public object attribute directly\n",
    "print(\"dog1.has = \"+str(dog1.has))\n",
    "print(\"\\n\")\n",
    "\n",
    "# attempt to access private object attribute (discouraged anyway, use setter/getter methods instead !)\n",
    "print(\"Attempt to access private attribute throws an error (encapsulation):\")\n",
    "print(\"dog1.__name = \"+str(dog1.__name))\n",
    "# yields an AttributeError"
   ]
  },
  {
   "cell_type": "code",
   "execution_count": 95,
   "metadata": {},
   "outputs": [
    {
     "name": "stdout",
     "output_type": "stream",
     "text": [
      "Attempt to invoke private method throws an error (encapsulation):\n"
     ]
    },
    {
     "ename": "AttributeError",
     "evalue": "'Dog' object has no attribute '__sleep'",
     "output_type": "error",
     "traceback": [
      "\u001b[0;31m---------------------------------------------------------------------------\u001b[0m",
      "\u001b[0;31mAttributeError\u001b[0m                            Traceback (most recent call last)",
      "\u001b[0;32m<ipython-input-95-e7f9f8959629>\u001b[0m in \u001b[0;36m<module>\u001b[0;34m\u001b[0m\n\u001b[1;32m      1\u001b[0m \u001b[0;31m# attempt to invoke private object method\u001b[0m\u001b[0;34m\u001b[0m\u001b[0;34m\u001b[0m\u001b[0;34m\u001b[0m\u001b[0m\n\u001b[1;32m      2\u001b[0m \u001b[0mprint\u001b[0m\u001b[0;34m(\u001b[0m\u001b[0;34m\"Attempt to invoke private method throws an error (encapsulation):\"\u001b[0m\u001b[0;34m)\u001b[0m\u001b[0;34m\u001b[0m\u001b[0;34m\u001b[0m\u001b[0m\n\u001b[0;32m----> 3\u001b[0;31m \u001b[0mprint\u001b[0m\u001b[0;34m(\u001b[0m\u001b[0;34m\"dog1.__sleep()=\"\u001b[0m\u001b[0;34m+\u001b[0m\u001b[0mdog1\u001b[0m\u001b[0;34m.\u001b[0m\u001b[0m__sleep\u001b[0m\u001b[0;34m(\u001b[0m\u001b[0;34m)\u001b[0m\u001b[0;34m)\u001b[0m\u001b[0;34m\u001b[0m\u001b[0;34m\u001b[0m\u001b[0m\n\u001b[0m",
      "\u001b[0;31mAttributeError\u001b[0m: 'Dog' object has no attribute '__sleep'"
     ]
    }
   ],
   "source": [
    "# attempt to invoke private object method\n",
    "print(\"Attempt to invoke private method throws an error (encapsulation):\")\n",
    "print(\"dog1.__sleep()=\"+dog1.__sleep())"
   ]
  },
  {
   "cell_type": "markdown",
   "metadata": {},
   "source": [
    "<font size=\"3\"><div class=\"alert alert-warning\"><b>Exercise:</b>\n",
    "    Define a class <i>Sheep</i> with <b>private</b> attributes <i>color, name, age, sheared</i> and the <b>public</b> attribute <i>id</i>. Implement <b>setters</b> and <b>getters</b> for the private attributes. Implement a <b>public</b> method <i>shear</i> switching the private attribute <i>sheared</i>. Implement a method <i>_ _str _ _</i> for the implicit string representation of the object, so that Python knows what to do when you attempt to print a Sheep object. Then try to print the Sheep object. </div><br>\n",
    "<b>Try it yourself:</b></font>"
   ]
  },
  {
   "cell_type": "code",
   "execution_count": null,
   "metadata": {},
   "outputs": [],
   "source": []
  },
  {
   "cell_type": "markdown",
   "metadata": {},
   "source": [
    "### Decorators (in general)\n",
    "<br>\n",
    "<font size=\"3\">\n",
    "    <b><a href=\"https://wiki.python.org/moin/PythonDecorators\">Decorators</a> help to wrap functions around functions or class methods with a shorter notation, the so-called <i>syntactic sugar</i>, using the @-symbol.</b><br><br>\n",
    "This notation is often used in 3rd party packages e.g. for debugging or code runtime analysis. A popular package to measure the runtime of a function call or an algorithm is <i>timeit</i>. But it is also frequently used in frameworks like Django or Flask for Full-Stack Python where Python-based web applications are developed to denote event callback functions.\n",
    "</font>\n",
    "\n",
    "### Example:"
   ]
  },
  {
   "cell_type": "code",
   "execution_count": 313,
   "metadata": {},
   "outputs": [
    {
     "name": "stdout",
     "output_type": "stream",
     "text": [
      "Something is happening before the function is called.\n",
      "Whee!\n",
      "Something is happening after the function is called.\n"
     ]
    }
   ],
   "source": [
    "def my_decorator(func):\n",
    "    def wrapper():\n",
    "        print(\"Something is happening before the function is called.\")\n",
    "        func()\n",
    "        print(\"Something is happening after the function is called.\")\n",
    "    return wrapper\n",
    "\n",
    "@my_decorator\n",
    "# @my_decorator is just an easier way of saying say_whee = my_decorator(say_whee)\n",
    "def say_whee():\n",
    "    print(\"Whee!\")\n",
    "    \n",
    "say_whee()"
   ]
  },
  {
   "cell_type": "code",
   "execution_count": 316,
   "metadata": {},
   "outputs": [
    {
     "name": "stdout",
     "output_type": "stream",
     "text": [
      "zZzZzZ\n",
      "2.00157 seconds passed.\n"
     ]
    }
   ],
   "source": [
    "import time\n",
    "import numpy as np\n",
    "\n",
    "def benchmark(func):\n",
    "    def wrapper():\n",
    "        t1 = time.time()\n",
    "        func()\n",
    "        delta_t = time.time() - t1\n",
    "        print(str(np.round(delta_t,6))+\" seconds passed.\")\n",
    "    return wrapper\n",
    "\n",
    "@benchmark\n",
    "def something_intensive():\n",
    "    print(\"zZzZzZ\")\n",
    "    time.sleep(2)\n",
    "    \n",
    "something_intensive()"
   ]
  },
  {
   "cell_type": "markdown",
   "metadata": {},
   "source": [
    "<font size=\"3\">\n",
    "    <b>So the decorator <i>benchmark()</i> just wraps around the function <i>something_intensive()</i>, so that <i>benchmark(something_intensive())</i> is invoked in the end.</b>\n",
    "</font>"
   ]
  },
  {
   "cell_type": "markdown",
   "metadata": {},
   "source": [
    "### Decorators with arguments\n",
    "<br>\n",
    "<font size=\"3\">\n",
    "In Python it's also possible to define decorators with arguments and even use multiple decorators with the same function or class method. \n",
    "</font>\n",
    "\n",
    "### Example:"
   ]
  },
  {
   "cell_type": "code",
   "execution_count": 37,
   "metadata": {
    "scrolled": true
   },
   "outputs": [
    {
     "name": "stdout",
     "output_type": "stream",
     "text": [
      "\n",
      "H\n",
      "He\n",
      "Hel\n",
      "Hell\n",
      "Hello\n",
      "Hello,\n",
      "Hello, \n",
      "Hello, J\n",
      "Hello, Jo\n",
      "Hello, Joh\n",
      "Hello, John\n",
      "Hello, John \n",
      "Hello, John D\n",
      "Hello, John Do\n",
      "Hello, John Doe\n",
      "Hello, John Doe \n",
      "Hello, John Doe !\n",
      "None\n"
     ]
    }
   ],
   "source": [
    "import time\n",
    "\n",
    "def print_delayed(delay = 1):\n",
    "    def decorator(function):\n",
    "        def wrapper(*args, **kwargs):\n",
    "            out = function(*args, **kwargs)\n",
    "            for n in range(len(out)+1):\n",
    "                print(out[:n]+\"\\r\")\n",
    "                time.sleep(delay)\n",
    "        return wrapper\n",
    "    return decorator\n",
    "\n",
    "@print_delayed(delay = 0.25)\n",
    "def greeting(name):\n",
    "    return \"Hello, \"+name+\" !\"\n",
    "    \n",
    "print(greeting(\"John Doe\"))"
   ]
  },
  {
   "cell_type": "markdown",
   "metadata": {},
   "source": [
    "### Built-in Decorators\n",
    "<br>\n",
    "\n",
    "<font size=\"3\">\n",
    "    A popular built-in decorator in Python is the <b><i>@property</b></i> decorator. <br>\n",
    "    <b>It makes a class method accessible as if it would be an attribute of the class object.</b>\n",
    "</font>\n",
    "\n",
    "### Example:"
   ]
  },
  {
   "cell_type": "code",
   "execution_count": 11,
   "metadata": {},
   "outputs": [
    {
     "name": "stdout",
     "output_type": "stream",
     "text": [
      "Anna\n",
      "23\n",
      "Anna achieved 23 points\n",
      "John\n",
      "John achieved 23 points\n"
     ]
    }
   ],
   "source": [
    "class Student:\n",
    "    def __init__(self, name, grades):\n",
    "        self.name = name\n",
    "        self.grades = grades\n",
    "\n",
    "    @property\n",
    "    def got_grades(self):\n",
    "        return self.name + ' achieved ' + self.grades + ' points'\n",
    "    \n",
    "s = Student(\"Anna\", \"23\")\n",
    "print(s.name)\n",
    "print(s.grades)\n",
    "# the class object method was invoked \n",
    "# by accessing the object attribute of the same name\n",
    "print(s.got_grades)\n",
    "\n",
    "# we should avoid setting object attributes from outside the object\n",
    "s.name = \"John\"\n",
    "print(s.name)\n",
    "# the class object method was invoked \n",
    "# by accessing the object attribute of the same name\n",
    "print(s.got_grades)"
   ]
  },
  {
   "cell_type": "markdown",
   "metadata": {},
   "source": [
    "<font size=\"3\">\n",
    "<b>Of course, it should be avoided to set object attributes from outside the object (violation of the encapsulation)!</b><br><br>\n",
    "Above, the implementation of object attribute setters and getters was introduced.<br><br><b>Decorators offer a more elegant way to implement these using the syntax:<br><br> <i>@method_name.setter</i>, <i>@method_name.deleter</i> or <i>@method_name.getter</i></b><br><br>\n",
    "<b>No new additional method name is introduced this way and value/type checks can be easily implemented.</b>\n",
    "</font>\n",
    "\n",
    "### Example:"
   ]
  },
  {
   "cell_type": "code",
   "execution_count": 27,
   "metadata": {},
   "outputs": [
    {
     "name": "stdout",
     "output_type": "stream",
     "text": [
      "Anna\n",
      "23\n",
      "Anna achieved 23 points\n",
      "John\n",
      "John achieved 23 points\n",
      "Richard achieved 31 points\n",
      "Richard\n",
      "31\n"
     ]
    }
   ],
   "source": [
    "class Student:\n",
    "    def __init__(self, name, grades):\n",
    "        self.name = name\n",
    "        self.grades = grades\n",
    "\n",
    "    @property\n",
    "    # this is in fact an attribute getter\n",
    "    # this method wraps around it\n",
    "    def got_grades(self):\n",
    "        return self.name + ' achieved ' + self.grades + ' points'\n",
    "    \n",
    "    @got_grades.setter\n",
    "    # this method is wrapper\n",
    "    # it is invoked when you assign a value to the attribute / property\n",
    "    def got_grades(self, sentence):\n",
    "        name, rand, grades = sentence.split(' ')\n",
    "        self.name = name\n",
    "        self.grades = grades\n",
    "    \n",
    "# creates new object of class Student\n",
    "s = Student(\"Anna\", \"23\")\n",
    "print(s.name)\n",
    "print(s.grades)\n",
    "# the class object method was invoked \n",
    "# by accessing the object attribute of the same name\n",
    "print(s.got_grades)\n",
    "\n",
    "# we should avoid setting object attributes from outside the object\n",
    "s.name = \"John\"\n",
    "print(s.name)\n",
    "# the class object method was invoked \n",
    "# by accessing the object attribute of the same name\n",
    "print(s.got_grades)\n",
    "\n",
    "# instead we use now the property setter defined by the decorator @got_grades.setter\n",
    "# the setter method is invoked when you try to assign a value to the property\n",
    "# no new method name is introduced this way !\n",
    "s.got_grades = 'Richard achieved 31'\n",
    "print(s.got_grades)\n",
    "print(s.name)\n",
    "print(s.grades)"
   ]
  },
  {
   "cell_type": "markdown",
   "metadata": {},
   "source": [
    "### Inheritance & Method prototyping, overriding and overloading\n",
    "<br>\n",
    "<font size=\"3\">\n",
    "    <b>Inheritance is one of the key features of the OOP paradigm.</b><br><br>\n",
    "    <b>Inheritance allows a child-class or subclass to inherit attributes and methods from one or more parent- or super classes.</b> The figure illustrates this circumstance:<br><br>\n",
    "    \n",
    "</font>\n",
    "<div align=\"center\">\n",
    "<img src=\"img/inheritance2.jpg\" width=\"40%\">\n",
    "</div>\n",
    "<br>\n",
    "<font size=\"2\"><i>Source: </i><a href=\"https://www.startertutorials.com/blog/inheritance-polymorphism-python.html\">https://www.startertutorials.com/blog/inheritance-polymorphism-python.html</a></font><font size=\"3\">\n",
    "<br><br>\n",
    "\n",
    "Inheritance allows to define a hierarchy of classes sharing the same base attributes and methods (interfaces). It can facilitate the implementation of new features in your code.<br><br> Inheritance is very often required when you work with big Python frameworks like the machine learning frameworks PyTorch or Tensorflow. There you write your own class by inheriting from a provided (abstract) class to comply with the interfaces or methods expected by the framework environment.<br><br>\n",
    "    <b>Multiple inheritance</b> is possible in Python, but only indirect via <a href=\"https://medium.com/@__hungrywolf/mro-in-python-3-e2bcd2bd6851\"><b>Method Resolution Order</b> (MRO)</a>, hence the object method are called in a specific order. An example is given below. <br><br>\n",
    "<b>In particular, method prototyping, overriding and overloading is applied in that case.<br><br>\n",
    "Method prototypes are simply empty methods defined in the parent class, hence this class is called <i>abstract</i>. <br><br>This prototype method is then overridden by redefining a method with the <u>same name</u> in the sub class.</b><br><br>\n",
    "    <b>Method overloading</b> is also called <b><i>polymorphism</i></b> since multiple class methods of the <u>same name</u> can be defined, but accepting different numbers of arguments and types. Depending on which <i>signature</i> (number and data types of expected method arguments) of the method fits, the specific method in that case is selected and executed.<br><br>\n",
    "<b>In contrast to other programming languages like e.g. Java, a builtin implementation of polymorphism is not available in Python, hence it is not possible to define multiple methods of the same name, but accepting different number of arguments.</b> Polymorphism can only be implemented indirectly by default values for (keyword) arguments or variable number of arguments.\n",
    "</font>\n",
    "\n",
    "### Example:"
   ]
  },
  {
   "cell_type": "code",
   "execution_count": 34,
   "metadata": {},
   "outputs": [
    {
     "name": "stdout",
     "output_type": "stream",
     "text": [
      "{'_Dog__name': 'Hideki', '_age': 99, 'favorite_food': 'Pizza', 'favorite_toy': 'Bone', 'has': None, '_Dog__energy': 5, '_InuShiba__num_of_memes_published': 2e+100}\n",
      "['_Dog__name', '_age', 'favorite_food', 'favorite_toy', 'has', '_Dog__energy', '_InuShiba__num_of_memes_published', '__module__', '__init__', 'publish_meme', 'bark', '__doc__', 'bite', 'retrieve', '_Dog__sleep', 'set_name', 'get_name', 'get_energy', '__dict__', '__weakref__', '__repr__', '__hash__', '__str__', '__getattribute__', '__setattr__', '__delattr__', '__lt__', '__le__', '__eq__', '__ne__', '__gt__', '__ge__', '__new__', '__reduce_ex__', '__reduce__', '__subclasshook__', '__init_subclass__', '__format__', '__sizeof__', '__dir__', '__class__']\n",
      "Barking in Japanese.\n",
      "Barking in Japanese.\n",
      "\n",
      "False\n",
      "BAAAAAAAAAAARK\n"
     ]
    },
    {
     "ename": "TypeError",
     "evalue": "bark() missing 3 required positional arguments: 'volume', 'pitch', and 'duration'",
     "output_type": "error",
     "traceback": [
      "\u001b[0;31m---------------------------------------------------------------------------\u001b[0m",
      "\u001b[0;31mTypeError\u001b[0m                                 Traceback (most recent call last)",
      "\u001b[0;32m<ipython-input-34-a54a05e449fb>\u001b[0m in \u001b[0;36m<module>\u001b[0;34m\u001b[0m\n\u001b[1;32m     41\u001b[0m \u001b[0mprint\u001b[0m\u001b[0;34m(\u001b[0m\u001b[0mdog1\u001b[0m\u001b[0;34m.\u001b[0m\u001b[0mbark\u001b[0m\u001b[0;34m(\u001b[0m\u001b[0;36m100\u001b[0m\u001b[0;34m,\u001b[0m\u001b[0;36m1\u001b[0m\u001b[0;34m,\u001b[0m\u001b[0;36m10\u001b[0m\u001b[0;34m)\u001b[0m\u001b[0;34m)\u001b[0m\u001b[0;34m\u001b[0m\u001b[0;34m\u001b[0m\u001b[0m\n\u001b[1;32m     42\u001b[0m \u001b[0;31m# invoking bark of a Dog object, throws an exception when invoked without parameters\u001b[0m\u001b[0;34m\u001b[0m\u001b[0;34m\u001b[0m\u001b[0;34m\u001b[0m\u001b[0m\n\u001b[0;32m---> 43\u001b[0;31m \u001b[0mdog1\u001b[0m\u001b[0;34m.\u001b[0m\u001b[0mbark\u001b[0m\u001b[0;34m(\u001b[0m\u001b[0;34m)\u001b[0m\u001b[0;34m\u001b[0m\u001b[0;34m\u001b[0m\u001b[0m\n\u001b[0m",
      "\u001b[0;31mTypeError\u001b[0m: bark() missing 3 required positional arguments: 'volume', 'pitch', and 'duration'"
     ]
    }
   ],
   "source": [
    "# let's use our class Dog from the example above\n",
    "# define a new class defining a special type of Dog\n",
    "class InuShiba(Dog):\n",
    "    \n",
    "    # the constructor of the class Dog is overridden here\n",
    "    def __init__(self, name, num_of_memes_published, age):\n",
    "        \n",
    "        # in order to have the same attributes like the parent or super class Dog\n",
    "        # invoke constructor of super class, then define additional attributes\n",
    "        \n",
    "        # instead of using the explicit class name here, better use the super() method!\n",
    "        super().__init__(name, age)\n",
    "        #Dog.__init__(self, name, age)\n",
    "        self.__num_of_memes_published = num_of_memes_published\n",
    "    \n",
    "    # a new method only InuShiba objects have\n",
    "    def publish_meme(self):\n",
    "        self.__num_of_memes_published += 1\n",
    "        \n",
    "    # the method bark is overloaded, since the class Dog already has a method bark, but\n",
    "    # with a different signature: the bark method of Dog expects 3 parameters, this bark method does not.\n",
    "    def bark(self, volume=100, pitch=1, duration=10):\n",
    "        return \"Barking in Japanese.\"\n",
    "\n",
    "special_dog = InuShiba(\"Hideki\", 2E100, 99)\n",
    "# inspecting the attributes of a InuShiba object, it in fact shares the same attributes as a Dog object\n",
    "# but it has additional attributes\n",
    "print(special_dog.__dict__)\n",
    "# inspecting the methods of a InuShiba object, it shares in fact the same methods as a Dog object\n",
    "# but it has additional methods\n",
    "print(special_dog.__dir__())\n",
    "\n",
    "# demonstration of method overloading / polymorphic methods\n",
    "print(special_dog.bark())\n",
    "print(special_dog.bark(100, 1, 10))\n",
    "print(\"\")\n",
    "\n",
    "print(Dog(\"a\",1) == Dog(\"b\",1))\n",
    "# need to override __add__ to do that\n",
    "#print(Dog(\"a\",1) + Dog(\"b\",2))\n",
    "print(dog1.bark(100,1,10))\n",
    "# invoking bark of a Dog object, throws an exception when invoked without parameters\n",
    "dog1.bark()"
   ]
  },
  {
   "cell_type": "code",
   "execution_count": 360,
   "metadata": {},
   "outputs": [
    {
     "name": "stdout",
     "output_type": "stream",
     "text": [
      "5\n",
      "3\n"
     ]
    }
   ],
   "source": [
    "# Demonstration of built-in polymorphic functions \n",
    "  \n",
    "# len() being used for a string \n",
    "print(len(\"geeks\")) \n",
    "  \n",
    "# len() being used for a list \n",
    "print(len([10, 20, 30])) \n",
    "\n",
    "def add(x, z = 0):  \n",
    "    return x + y + z \n",
    "  \n",
    "# Function polymorphism / overloading due to defined default values for function arguments\n",
    "print(add(2, 3)) \n",
    "print(add(2, 3, 4))"
   ]
  },
  {
   "cell_type": "markdown",
   "metadata": {},
   "source": [
    "<font size=\"3\"><div class=\"alert alert-warning\"><b>Exercise:</b> Write a base class <i>Mammal</i> with private properties (attributes) weight, height, food. Define the method prototypes <i>talk</i> and <i>walk</i> by simply defining empty methods (by using the keyword <b>pass</b> after the method definition). Then define a child class <i>Sheep</i> to inherit from the class <i>Mammal</i> and override the prototypes defined in the parent class. </div>\n",
    "\n",
    "<b>Try it yourself:</b></font>"
   ]
  },
  {
   "cell_type": "code",
   "execution_count": null,
   "metadata": {},
   "outputs": [],
   "source": []
  },
  {
   "cell_type": "markdown",
   "metadata": {},
   "source": [
    "### Multiple Inheritance and Method Resolution Order (MRO)\n",
    "<br>\n",
    "<div align=\"center\">\n",
    "<img src=\"img/mro.png\" width=\"50%\">\n",
    "</div>\n",
    "<br>\n",
    "<font size=\"2\">\n",
    "    <i>Source: </i><a href=\"https://medium.com/@__hungrywolf/mro-in-python-3-e2bcd2bd6851\">https://medium.com/@__hungrywolf/mro-in-python-3-e2bcd2bd6851</a>\n",
    "</font>\n",
    "<br><br>\n",
    "\n",
    "<br>\n",
    "<font size=\"3\">\n",
    "Multiple inheritance can lead to ambigous situations like the famous diamond problem as illustrated above and shown as code below.<br><b> It is unclear in this case in which order the subclass would inherit the attributes and methods of its parent classes.</b> Therefore an algorithm, the <a href=\"https://en.wikipedia.org/wiki/C3_linearization\">C3 linearization</a>, is used to determine the order of inheritance in presence of mulitple inheritance.<br><br>\n",
    "<b>In simple words, the super class constructors are invoked in the inheritance order from left to right.</b>\n",
    "</font>\n",
    "\n",
    "\n",
    "\n",
    "### Example:"
   ]
  },
  {
   "cell_type": "code",
   "execution_count": 42,
   "metadata": {},
   "outputs": [
    {
     "name": "stdout",
     "output_type": "stream",
     "text": [
      "class C\n",
      "class A\n"
     ]
    },
    {
     "data": {
      "text/plain": [
       "[__main__.C, __main__.A, __main__.B, object]"
      ]
     },
     "execution_count": 42,
     "metadata": {},
     "output_type": "execute_result"
    }
   ],
   "source": [
    "class A(object):\n",
    "    def __init__(self):\n",
    "        print('class A')\n",
    "        \n",
    "class B(object):\n",
    "    def __init__(self):\n",
    "        print('class B')\n",
    "        \n",
    "class C(A, B):\n",
    "    def __init__(self):\n",
    "        print('class C')\n",
    "        super().__init__()\n",
    "        \n",
    "# create a new object of class C\n",
    "obj1 = C()\n",
    "# print the method resolution order of the class\n",
    "C.mro()"
   ]
  },
  {
   "cell_type": "markdown",
   "metadata": {},
   "source": [
    "<font size=\"3\">\n",
    "<b>The need for an algorithm to determine the MRO is more obvious in case of a more complex, hybrid inheritance as shown below as figure and code.</b>\n",
    "</font>\n",
    "<br>\n",
    "<div align=\"center\">\n",
    "<img src=\"img/mro2.png\" width=\"25%\">\n",
    "</div>\n",
    "<br>\n",
    "<font size=\"2\"><i>Source: </i> <a href=\"https://medium.com/@__hungrywolf/mro-in-python-3-e2bcd2bd6851\">https://medium.com/@__hungrywolf/mro-in-python-3-e2bcd2bd6851</a></font>\n",
    "\n",
    "### Example:"
   ]
  },
  {
   "cell_type": "code",
   "execution_count": 47,
   "metadata": {},
   "outputs": [
    {
     "name": "stdout",
     "output_type": "stream",
     "text": [
      "[<class '__main__.A'>, <class '__main__.B'>, <class '__main__.C'>, <class '__main__.D'>, <class '__main__.E'>, <class '__main__.F'>, <class '__main__.O'>, <class 'object'>]\n"
     ]
    }
   ],
   "source": [
    "class O: pass\n",
    "\n",
    "class F(O):pass\n",
    "\n",
    "class E(O):pass\n",
    "\n",
    "class D(O):pass\n",
    "\n",
    "class C(D,F):pass\n",
    "\n",
    "class B(D,E):pass\n",
    "\n",
    "class A(B,C):pass\n",
    "\n",
    "obj = A()\n",
    "# print the method resolution order of class A\n",
    "print(A.mro())"
   ]
  },
  {
   "cell_type": "markdown",
   "metadata": {},
   "source": [
    "### Useful builtin functions and inspect\n",
    "<br>\n",
    "<font size=\"3\">\n",
    "In particular when dealing with arbitrary Python objects and when we have no code documentation available, some builtin Python functions can be very useful.<br><br>\n",
    "<b>Builtin Python functions are usually private and end with a double underscore character.</b><br><br>\n",
    "    <b>We can list all methods and builtin methods of an object by invoking the <i>obj._ _dir_ _()</i> method</b><br>\n",
    "    There, we find again the builtin method <b><i>_ _str_ _</i></b> for the string representation of an object which we can overload.<br>\n",
    "We already did it in fact in the definition of the classes Dog and Ball.\n",
    "</font>\n",
    "\n",
    "### Example:"
   ]
  },
  {
   "cell_type": "code",
   "execution_count": 317,
   "metadata": {},
   "outputs": [
    {
     "data": {
      "text/plain": [
       "['_Dog__name',\n",
       " '_age',\n",
       " 'favorite_food',\n",
       " 'favorite_toy',\n",
       " 'has',\n",
       " '_Dog__energy',\n",
       " '__module__',\n",
       " '__init__',\n",
       " 'bark',\n",
       " 'bite',\n",
       " 'retrieve',\n",
       " '_Dog__sleep',\n",
       " 'set_name',\n",
       " 'get_name',\n",
       " 'get_energy',\n",
       " '__dict__',\n",
       " '__weakref__',\n",
       " '__doc__',\n",
       " '__repr__',\n",
       " '__hash__',\n",
       " '__str__',\n",
       " '__getattribute__',\n",
       " '__setattr__',\n",
       " '__delattr__',\n",
       " '__lt__',\n",
       " '__le__',\n",
       " '__eq__',\n",
       " '__ne__',\n",
       " '__gt__',\n",
       " '__ge__',\n",
       " '__new__',\n",
       " '__reduce_ex__',\n",
       " '__reduce__',\n",
       " '__subclasshook__',\n",
       " '__init_subclass__',\n",
       " '__format__',\n",
       " '__sizeof__',\n",
       " '__dir__',\n",
       " '__class__']"
      ]
     },
     "execution_count": 317,
     "metadata": {},
     "output_type": "execute_result"
    }
   ],
   "source": [
    "dog1.__dir__()"
   ]
  },
  {
   "cell_type": "markdown",
   "metadata": {},
   "source": [
    "<font size=\"3\">\n",
    "We can get all attributes of an object by accessing its Dictionary representation with the builtin private attribute <b><i>_ _dict_ _</b></i>.\n",
    "</font>"
   ]
  },
  {
   "cell_type": "code",
   "execution_count": 48,
   "metadata": {},
   "outputs": [
    {
     "name": "stdout",
     "output_type": "stream",
     "text": [
      "Pizza\n",
      "Pizza\n",
      "{'_Dog__name': 'Bello', '_age': 0, 'favorite_food': 'Pizza', 'favorite_toy': 'Bone', 'has': None, '_Dog__energy': 3}\n"
     ]
    }
   ],
   "source": [
    "print(dog1.favorite_food)\n",
    "print(dog1.__dict__['favorite_food'])\n",
    "print(dog1.__dict__)"
   ]
  },
  {
   "cell_type": "markdown",
   "metadata": {},
   "source": [
    "<font size=\"3\">\n",
    "Sometimes in case of errors when we try to debug our code, it can be useful to find out the location path of a module or to check its version. So we can check if the right module (version) was imported in our code.\n",
    "</font>"
   ]
  },
  {
   "cell_type": "code",
   "execution_count": 338,
   "metadata": {},
   "outputs": [
    {
     "name": "stdout",
     "output_type": "stream",
     "text": [
      "['/home/mru/.local/lib/python3.6/site-packages/numpy']\n",
      "1.18.5\n"
     ]
    }
   ],
   "source": [
    "import numpy as np\n",
    "print(np.__path__)\n",
    "print(np.__version__)"
   ]
  },
  {
   "cell_type": "markdown",
   "metadata": {},
   "source": [
    "<font size=\"3\">In order to get a quick help how to use a certain module or function, you can print the <b><i>docstring or documentation string</i></b> of a function, if implemented, using the built-in private attribute <i><b> _  _ doc _  _ </b></i>.</font>"
   ]
  },
  {
   "cell_type": "code",
   "execution_count": 51,
   "metadata": {},
   "outputs": [
    {
     "name": "stdout",
     "output_type": "stream",
     "text": [
      "\n",
      "NumPy\n",
      "=====\n",
      "\n",
      "Provides\n",
      "  1. An array object of arbitrary homogeneous items\n",
      "  2. Fast mathematical operations over arrays\n",
      "  3. Linear Algebra, Fourier Transforms, Random Number Generation\n",
      "\n",
      "How to use the documentation\n",
      "----------------------------\n",
      "Documentation is available in two forms: docstrings provided\n",
      "with the code, and a loose standing reference guide, available from\n",
      "`the NumPy homepage <https://www.scipy.org>`_.\n",
      "\n",
      "We recommend exploring the docstrings using\n",
      "`IPython <https://ipython.org>`_, an advanced Python shell with\n",
      "TAB-completion and introspection capabilities.  See below for further\n",
      "instructions.\n",
      "\n",
      "The docstring examples assume that `numpy` has been imported as `np`::\n",
      "\n",
      "  >>> import numpy as np\n",
      "\n",
      "Code snippets are indicated by three greater-than signs::\n",
      "\n",
      "  >>> x = 42\n",
      "  >>> x = x + 1\n",
      "\n",
      "Use the built-in ``help`` function to view a function's docstring::\n",
      "\n",
      "  >>> help(np.sort)\n",
      "  ... # doctest: +SKIP\n",
      "\n",
      "For some objects, ``np.info(obj)`` may provide additional help.  This is\n",
      "particularly true if you see the line \"Help on ufunc object:\" at the top\n",
      "of the help() page.  Ufuncs are implemented in C, not Python, for speed.\n",
      "The native Python help() does not know how to view their help, but our\n",
      "np.info() function does.\n",
      "\n",
      "To search for documents containing a keyword, do::\n",
      "\n",
      "  >>> np.lookfor('keyword')\n",
      "  ... # doctest: +SKIP\n",
      "\n",
      "General-purpose documents like a glossary and help on the basic concepts\n",
      "of numpy are available under the ``doc`` sub-module::\n",
      "\n",
      "  >>> from numpy import doc\n",
      "  >>> help(doc)\n",
      "  ... # doctest: +SKIP\n",
      "\n",
      "Available subpackages\n",
      "---------------------\n",
      "doc\n",
      "    Topical documentation on broadcasting, indexing, etc.\n",
      "lib\n",
      "    Basic functions used by several sub-packages.\n",
      "random\n",
      "    Core Random Tools\n",
      "linalg\n",
      "    Core Linear Algebra Tools\n",
      "fft\n",
      "    Core FFT routines\n",
      "polynomial\n",
      "    Polynomial tools\n",
      "testing\n",
      "    NumPy testing tools\n",
      "f2py\n",
      "    Fortran to Python Interface Generator.\n",
      "distutils\n",
      "    Enhancements to distutils with support for\n",
      "    Fortran compilers support and more.\n",
      "\n",
      "Utilities\n",
      "---------\n",
      "test\n",
      "    Run numpy unittests\n",
      "show_config\n",
      "    Show numpy build configuration\n",
      "dual\n",
      "    Overwrite certain functions with high-performance Scipy tools\n",
      "matlib\n",
      "    Make everything matrices.\n",
      "__version__\n",
      "    NumPy version string\n",
      "\n",
      "Viewing documentation using IPython\n",
      "-----------------------------------\n",
      "Start IPython with the NumPy profile (``ipython -p numpy``), which will\n",
      "import `numpy` under the alias `np`.  Then, use the ``cpaste`` command to\n",
      "paste examples into the shell.  To see which functions are available in\n",
      "`numpy`, type ``np.<TAB>`` (where ``<TAB>`` refers to the TAB key), or use\n",
      "``np.*cos*?<ENTER>`` (where ``<ENTER>`` refers to the ENTER key) to narrow\n",
      "down the list.  To view the docstring for a function, use\n",
      "``np.cos?<ENTER>`` (to view the docstring) and ``np.cos??<ENTER>`` (to view\n",
      "the source code).\n",
      "\n",
      "Copies vs. in-place operation\n",
      "-----------------------------\n",
      "Most of the functions in `numpy` return a copy of the array argument\n",
      "(e.g., `np.sort`).  In-place versions of these functions are often\n",
      "available as array methods, i.e. ``x = np.array([1,2,3]); x.sort()``.\n",
      "Exceptions to this rule are documented.\n",
      "\n",
      "\n"
     ]
    }
   ],
   "source": [
    "import numpy as np\n",
    "print(np.__doc__)"
   ]
  },
  {
   "cell_type": "markdown",
   "metadata": {},
   "source": [
    "<font size=\"3\">\n",
    "    <b>For diagnostic purposes, there exists the package <a href=\"https://docs.python.org/3/library/inspect.html\"><i>inspect</i></a> to analyze Python functions or class methods.</b>\n",
    "</font>"
   ]
  },
  {
   "cell_type": "markdown",
   "metadata": {},
   "source": [
    "<font size=\"3\"><div class=\"alert alert-warning\"><b>Exercise:</b> Create a new numpy array and discover its methods and attributes without using the documentation. Analyze a method of your choice with the package <i>inspect</i> to find out which parameters this method expects.</div>\n",
    "\n",
    "<b>Try it yourself:</b></font>"
   ]
  },
  {
   "cell_type": "code",
   "execution_count": null,
   "metadata": {},
   "outputs": [],
   "source": []
  },
  {
   "cell_type": "markdown",
   "metadata": {},
   "source": [
    "## Recursion\n",
    "<br>\n",
    "<font size=\"3\">\n",
    "    <b>A recursive function is a function which invokes itself</b> to accomplish the task. Examples are recursive series in mathematics and tree or directory discovery algorithms. If not implemented carefully, infinite recursive loops can ocurr causing the program to freeze.\n",
    "</font>\n",
    "\n",
    "### Example:"
   ]
  },
  {
   "cell_type": "code",
   "execution_count": 9,
   "metadata": {},
   "outputs": [
    {
     "name": "stdout",
     "output_type": "stream",
     "text": [
      "len(nested_list)=1\n",
      "(recursive) element count in nested_list: 10\n"
     ]
    }
   ],
   "source": [
    "# a recursive version of the built-in Python function len()\n",
    "a = [1, 2, 3]\n",
    "b = [8, 2, a, 0, -1]\n",
    "nested_list = [[b, 0, 2, 1]]\n",
    "\n",
    "# print result of len(nested_list)\n",
    "print(\"len(nested_list)=\"+str(len(nested_list)))\n",
    "\n",
    "# define recursive len to get total number of elements in nested tuple\n",
    "def recursive_len(t):\n",
    "    if isinstance(t, list):\n",
    "        count = 0\n",
    "        for elem in t:\n",
    "            if isinstance(elem, list):\n",
    "                count += recursive_len(elem)\n",
    "            else:\n",
    "                count += 1\n",
    "        return count\n",
    "    else:\n",
    "        return 1\n",
    "\n",
    "# but total number of elements in nested tuple is\n",
    "print(\"(recursive) element count in nested_list: \"+str(recursive_len(nested_list)))"
   ]
  },
  {
   "cell_type": "markdown",
   "metadata": {},
   "source": [
    "<font size=\"3\"><div class=\"alert alert-warning\"><b>Exercise:</b> Implement the recursive <a href=\"https://en.wikipedia.org/wiki/Fibonacci_number\">Fibonacci series</a>: <br>\n",
    "<div align=\"center\">\n",
    "$\\mathrm{F_0 = 0, F_1 = 1}$<br>\n",
    "$\\mathrm{F_n = F_{n-1} + F_{n-2}}$\n",
    "</div>\n",
    "as recursive function.\n",
    "</div>\n",
    "\n",
    "<b>Try it yourself:</b></font>"
   ]
  },
  {
   "cell_type": "code",
   "execution_count": null,
   "metadata": {},
   "outputs": [],
   "source": []
  },
  {
   "cell_type": "markdown",
   "metadata": {},
   "source": [
    "## Exceptions\n",
    "<br>\n",
    "<font size=\"3\">\n",
    "You've surely already experienced when an exception was raised or in other words an error was thrown. For example, when we try to divide by zero or access a non-existant list element:\n",
    "</font>"
   ]
  },
  {
   "cell_type": "code",
   "execution_count": 288,
   "metadata": {},
   "outputs": [
    {
     "ename": "ZeroDivisionError",
     "evalue": "division by zero",
     "output_type": "error",
     "traceback": [
      "\u001b[0;31m---------------------------------------------------------------------------\u001b[0m",
      "\u001b[0;31mZeroDivisionError\u001b[0m                         Traceback (most recent call last)",
      "\u001b[0;32m<ipython-input-288-bc757c3fda29>\u001b[0m in \u001b[0;36m<module>\u001b[0;34m\u001b[0m\n\u001b[0;32m----> 1\u001b[0;31m \u001b[0;36m1\u001b[0m \u001b[0;34m/\u001b[0m \u001b[0;36m0\u001b[0m\u001b[0;34m\u001b[0m\u001b[0;34m\u001b[0m\u001b[0m\n\u001b[0m",
      "\u001b[0;31mZeroDivisionError\u001b[0m: division by zero"
     ]
    }
   ],
   "source": [
    "1 / 0"
   ]
  },
  {
   "cell_type": "code",
   "execution_count": 287,
   "metadata": {},
   "outputs": [
    {
     "ename": "IndexError",
     "evalue": "list index out of range",
     "output_type": "error",
     "traceback": [
      "\u001b[0;31m---------------------------------------------------------------------------\u001b[0m",
      "\u001b[0;31mIndexError\u001b[0m                                Traceback (most recent call last)",
      "\u001b[0;32m<ipython-input-287-1423975c3852>\u001b[0m in \u001b[0;36m<module>\u001b[0;34m\u001b[0m\n\u001b[1;32m      1\u001b[0m \u001b[0mfoo\u001b[0m \u001b[0;34m=\u001b[0m \u001b[0;34m[\u001b[0m\u001b[0;36m1\u001b[0m\u001b[0;34m,\u001b[0m \u001b[0;36m2\u001b[0m\u001b[0;34m,\u001b[0m \u001b[0;36m3\u001b[0m\u001b[0;34m]\u001b[0m\u001b[0;34m\u001b[0m\u001b[0;34m\u001b[0m\u001b[0m\n\u001b[0;32m----> 2\u001b[0;31m \u001b[0mfoo\u001b[0m\u001b[0;34m[\u001b[0m\u001b[0;36m10\u001b[0m\u001b[0;34m]\u001b[0m\u001b[0;34m\u001b[0m\u001b[0;34m\u001b[0m\u001b[0m\n\u001b[0m",
      "\u001b[0;31mIndexError\u001b[0m: list index out of range"
     ]
    }
   ],
   "source": [
    "foo = [1, 2, 3]\n",
    "foo[10]"
   ]
  },
  {
   "cell_type": "markdown",
   "metadata": {},
   "source": [
    "<font size=\"3\">\n",
    "<b>Normally, the program execution is terminated whenever an exception is raised.</b><br><br>\n",
    "    <b>But Python offers the <i>try..except..finally</i> statement to <i>catch</i> an exception during the runtime.</b><br> A possible use case could be to gracefully terminate a running program by saving the program state before it is terminated.<br><br>\n",
    "You can also raise exceptions on purpose in your code by using the keyword <b><i>raise</i><b> followed by an <b><i>Exception</i><b> object.\n",
    "</font>\n",
    "\n",
    "### Example:"
   ]
  },
  {
   "cell_type": "code",
   "execution_count": 312,
   "metadata": {},
   "outputs": [
    {
     "name": "stdout",
     "output_type": "stream",
     "text": [
      "A type error occurred. Terminating gracefully...\n",
      "Done.\n"
     ]
    }
   ],
   "source": [
    "#user_input = [1, 0]\n",
    "user_input = [1, None]\n",
    "\n",
    "try:\n",
    "    # code block in which any or a specific Exception should be catched\n",
    "    result = user_input[0] / user_input[1]\n",
    "except ZeroDivisionError:\n",
    "    print(\"A division by zero was attempted. Terminating gracefully...\")\n",
    "except TypeError:\n",
    "    print(\"A type error occurred. Terminating gracefully...\")\n",
    "except Exception:\n",
    "    # what do to in case of an exception\n",
    "    print(\"A general exception occurred.\")\n",
    "finally:\n",
    "    # after exception has been catched\n",
    "    print(\"Done.\")\n",
    "    "
   ]
  },
  {
   "cell_type": "code",
   "execution_count": 291,
   "metadata": {},
   "outputs": [
    {
     "name": "stdout",
     "output_type": "stream",
     "text": [
      "<class 'TypeError'>\n"
     ]
    },
    {
     "ename": "TypeError",
     "evalue": "This is a test.",
     "output_type": "error",
     "traceback": [
      "\u001b[0;31m---------------------------------------------------------------------------\u001b[0m",
      "\u001b[0;31mTypeError\u001b[0m                                 Traceback (most recent call last)",
      "\u001b[0;32m<ipython-input-291-5c9b9ab27e9e>\u001b[0m in \u001b[0;36m<module>\u001b[0;34m\u001b[0m\n\u001b[1;32m      1\u001b[0m \u001b[0mprint\u001b[0m\u001b[0;34m(\u001b[0m\u001b[0mtype\u001b[0m\u001b[0;34m(\u001b[0m\u001b[0mTypeError\u001b[0m\u001b[0;34m(\u001b[0m\u001b[0;34m\"This is a test.\"\u001b[0m\u001b[0;34m)\u001b[0m\u001b[0;34m)\u001b[0m\u001b[0;34m)\u001b[0m\u001b[0;34m\u001b[0m\u001b[0;34m\u001b[0m\u001b[0m\n\u001b[1;32m      2\u001b[0m \u001b[0;34m\u001b[0m\u001b[0m\n\u001b[0;32m----> 3\u001b[0;31m \u001b[0;32mraise\u001b[0m \u001b[0mTypeError\u001b[0m\u001b[0;34m(\u001b[0m\u001b[0;34m\"This is a test.\"\u001b[0m\u001b[0;34m)\u001b[0m\u001b[0;34m\u001b[0m\u001b[0;34m\u001b[0m\u001b[0m\n\u001b[0m",
      "\u001b[0;31mTypeError\u001b[0m: This is a test."
     ]
    }
   ],
   "source": [
    "print(type(TypeError(\"This is a test.\")))\n",
    "\n",
    "raise TypeError(\"This is a test.\")"
   ]
  },
  {
   "cell_type": "markdown",
   "metadata": {},
   "source": [
    "<font size=\"3\"><div class=\"alert alert-warning\"><b>Exercise:</b>Implement object/data type checks for the methods of the class Dog from above. Make sure this way that the method argument is e.g. a numerical value or string according to what is saved in the attributes.<br><br>\n",
    "    <b>Hint: </b><br> Checkout the Python documentation about <a href=\"https://docs.python.org/3/library/exceptions.html\">builtin exceptions</a>.</div>\n",
    "\n",
    "<b>Try it yourself:</b></font>"
   ]
  },
  {
   "cell_type": "code",
   "execution_count": null,
   "metadata": {},
   "outputs": [],
   "source": []
  },
  {
   "cell_type": "markdown",
   "metadata": {},
   "source": [
    "## Parallelism\n",
    "<br>\n",
    "<font size=\"3\">\n",
    "So far, you only had created Python code where the program is run in a sequential manner, executing every statement one after another (serial processing). But sometimes, your problem could be easily parallelized, profit from a multi-core CPU and the required computational time could be significantly reduced (parallel processing).<br><br>The figure below illustrates the difference between serial (sequential) and parallel execution:<br><br>\n",
    "<div align=\"center\">\n",
    "<img src=\"img/serial_vs_parallel.png\" width=\"80%\">\n",
    "</div>\n",
    "<br>\n",
    "<font size=\"2\">\n",
    "    <i>Source:</i> <a href=\"https://sebastianraschka.com/Articles/2014_multiprocessing.html\"><i>https://sebastianraschka.com/Articles/2014_multiprocessing.html</i></a>\n",
    "</font>\n",
    "<br>\n",
    "<br>\n",
    "    \n",
    "<b>In all programming languages in general, but in Python in particular, there exist two options to realize concurrent code execution, hence the parallelization of the code: multiple threads or multiple processes.</b>\n",
    "</font>\n",
    "\n",
    "### Processes and Threads\n",
    "<br>\n",
    "<font size=\"3\">\n",
    "<b>A <a href=\"https://en.wikipedia.org/wiki/Process_(computing)\">process</a> is an instance of a computer program being executed.</b> The same program can be run multiple times or a number of different programs, multiple tasks, can be run in parallel, resulting in more than one process being executed. This is called <a href=\"https://en.wikipedia.org/wiki/Computer_multitasking\">multi-tasking</a>. It allows multiple programs to share the ressources of a CPU (core) by executing multiple tasks in an interleaving manner. Multitasking can but does not necessarily mean true parallel code execution, but just describes the fact that CPU time is shared between multiple programs in a given time interval (time slicing).<br><br> The best example is a modern operating system supporting multi-tasking. Usually there are much more processes running on your CPU than you have CPU cores. It is possible to run these processes in parallel because the processes have different priority and the scheduler, a part of the OS kernel, manages the CPU time allocation for the individual processes.<br><br>\n",
    "    <b>The following command lists all running processes running on a Linux system:</b>\n",
    "</font>"
   ]
  },
  {
   "cell_type": "code",
   "execution_count": 2,
   "metadata": {
    "collapsed": true,
    "jupyter": {
     "outputs_hidden": true
    },
    "tags": []
   },
   "outputs": [
    {
     "name": "stdout",
     "output_type": "stream",
     "text": [
      "USER         PID %CPU %MEM    VSZ   RSS TTY      STAT START   TIME COMMAND\n",
      "root           2  0.0  0.0      0     0 ?        S    08:27   0:00 [kthreadd]\n",
      "root           3  0.0  0.0      0     0 ?        I<   08:27   0:00  \\_ [rcu_gp]\n",
      "root           4  0.0  0.0      0     0 ?        I<   08:27   0:00  \\_ [rcu_par_gp]\n",
      "root           6  0.0  0.0      0     0 ?        I<   08:27   0:00  \\_ [kworker/0:0H-kblockd]\n",
      "root           9  0.0  0.0      0     0 ?        I<   08:27   0:00  \\_ [mm_percpu_wq]\n",
      "root          10  0.0  0.0      0     0 ?        S    08:27   0:00  \\_ [ksoftirqd/0]\n",
      "root          11  0.1  0.0      0     0 ?        I    08:27   0:01  \\_ [rcu_sched]\n",
      "root          12  0.0  0.0      0     0 ?        S    08:27   0:00  \\_ [migration/0]\n",
      "root          13  0.0  0.0      0     0 ?        S    08:27   0:00  \\_ [idle_inject/0]\n",
      "root          14  0.0  0.0      0     0 ?        S    08:27   0:00  \\_ [cpuhp/0]\n",
      "root          15  0.0  0.0      0     0 ?        S    08:27   0:00  \\_ [cpuhp/1]\n",
      "root          16  0.0  0.0      0     0 ?        S    08:27   0:00  \\_ [idle_inject/1]\n",
      "root          17  0.0  0.0      0     0 ?        S    08:27   0:00  \\_ [migration/1]\n",
      "root          18  0.0  0.0      0     0 ?        S    08:27   0:00  \\_ [ksoftirqd/1]\n",
      "root          19  0.0  0.0      0     0 ?        I    08:27   0:00  \\_ [kworker/1:0-events]\n",
      "root          20  0.0  0.0      0     0 ?        I<   08:27   0:00  \\_ [kworker/1:0H-kblockd]\n",
      "root          21  0.0  0.0      0     0 ?        S    08:27   0:00  \\_ [cpuhp/2]\n",
      "root          22  0.0  0.0      0     0 ?        S    08:27   0:00  \\_ [idle_inject/2]\n",
      "root          23  0.0  0.0      0     0 ?        S    08:27   0:00  \\_ [migration/2]\n",
      "root          24  0.0  0.0      0     0 ?        S    08:27   0:00  \\_ [ksoftirqd/2]\n",
      "root          26  0.0  0.0      0     0 ?        I<   08:27   0:00  \\_ [kworker/2:0H-kblockd]\n",
      "root          27  0.0  0.0      0     0 ?        S    08:27   0:00  \\_ [cpuhp/3]\n",
      "root          28  0.0  0.0      0     0 ?        S    08:27   0:00  \\_ [idle_inject/3]\n",
      "root          29  0.0  0.0      0     0 ?        S    08:27   0:00  \\_ [migration/3]\n",
      "root          30  0.0  0.0      0     0 ?        S    08:27   0:00  \\_ [ksoftirqd/3]\n",
      "root          32  0.0  0.0      0     0 ?        I<   08:27   0:00  \\_ [kworker/3:0H-kblockd]\n",
      "root          33  0.0  0.0      0     0 ?        S    08:27   0:00  \\_ [cpuhp/4]\n",
      "root          34  0.0  0.0      0     0 ?        S    08:27   0:00  \\_ [idle_inject/4]\n",
      "root          35  0.0  0.0      0     0 ?        S    08:27   0:00  \\_ [migration/4]\n",
      "root          36  0.0  0.0      0     0 ?        S    08:27   0:00  \\_ [ksoftirqd/4]\n",
      "root          38  0.0  0.0      0     0 ?        I<   08:27   0:00  \\_ [kworker/4:0H-kblockd]\n",
      "root          39  0.0  0.0      0     0 ?        S    08:27   0:00  \\_ [cpuhp/5]\n",
      "root          40  0.0  0.0      0     0 ?        S    08:27   0:00  \\_ [idle_inject/5]\n",
      "root          41  0.0  0.0      0     0 ?        S    08:27   0:00  \\_ [migration/5]\n",
      "root          42  0.0  0.0      0     0 ?        S    08:27   0:00  \\_ [ksoftirqd/5]\n",
      "root          44  0.0  0.0      0     0 ?        I<   08:27   0:00  \\_ [kworker/5:0H-kblockd]\n",
      "root          45  0.0  0.0      0     0 ?        S    08:27   0:00  \\_ [cpuhp/6]\n",
      "root          46  0.0  0.0      0     0 ?        S    08:27   0:00  \\_ [idle_inject/6]\n",
      "root          47  0.0  0.0      0     0 ?        S    08:27   0:00  \\_ [migration/6]\n",
      "root          48  0.0  0.0      0     0 ?        S    08:27   0:00  \\_ [ksoftirqd/6]\n",
      "root          50  0.0  0.0      0     0 ?        I<   08:27   0:00  \\_ [kworker/6:0H-kblockd]\n",
      "root          51  0.0  0.0      0     0 ?        S    08:27   0:00  \\_ [cpuhp/7]\n",
      "root          52  0.0  0.0      0     0 ?        S    08:27   0:00  \\_ [idle_inject/7]\n",
      "root          53  0.0  0.0      0     0 ?        S    08:27   0:00  \\_ [migration/7]\n",
      "root          54  0.0  0.0      0     0 ?        S    08:27   0:00  \\_ [ksoftirqd/7]\n",
      "root          56  0.0  0.0      0     0 ?        I<   08:27   0:00  \\_ [kworker/7:0H-kblockd]\n",
      "root          57  0.0  0.0      0     0 ?        S    08:27   0:00  \\_ [cpuhp/8]\n",
      "root          58  0.0  0.0      0     0 ?        S    08:27   0:00  \\_ [idle_inject/8]\n",
      "root          59  0.0  0.0      0     0 ?        S    08:27   0:00  \\_ [migration/8]\n",
      "root          60  0.0  0.0      0     0 ?        S    08:27   0:00  \\_ [ksoftirqd/8]\n",
      "root          61  0.0  0.0      0     0 ?        I    08:27   0:00  \\_ [kworker/8:0-events]\n",
      "root          62  0.0  0.0      0     0 ?        I<   08:27   0:00  \\_ [kworker/8:0H-kblockd]\n",
      "root          63  0.0  0.0      0     0 ?        S    08:27   0:00  \\_ [cpuhp/9]\n",
      "root          64  0.0  0.0      0     0 ?        S    08:27   0:00  \\_ [idle_inject/9]\n",
      "root          65  0.0  0.0      0     0 ?        S    08:27   0:00  \\_ [migration/9]\n",
      "root          66  0.0  0.0      0     0 ?        S    08:27   0:00  \\_ [ksoftirqd/9]\n",
      "root          68  0.0  0.0      0     0 ?        I<   08:27   0:00  \\_ [kworker/9:0H-kblockd]\n",
      "root          69  0.0  0.0      0     0 ?        S    08:27   0:00  \\_ [cpuhp/10]\n",
      "root          70  0.0  0.0      0     0 ?        S    08:27   0:00  \\_ [idle_inject/10]\n",
      "root          71  0.0  0.0      0     0 ?        S    08:27   0:00  \\_ [migration/10]\n",
      "root          72  0.0  0.0      0     0 ?        S    08:27   0:00  \\_ [ksoftirqd/10]\n",
      "root          74  0.0  0.0      0     0 ?        I<   08:27   0:00  \\_ [kworker/10:0H-kblockd]\n",
      "root          75  0.0  0.0      0     0 ?        S    08:27   0:00  \\_ [cpuhp/11]\n",
      "root          76  0.0  0.0      0     0 ?        S    08:27   0:00  \\_ [idle_inject/11]\n",
      "root          77  0.0  0.0      0     0 ?        S    08:27   0:00  \\_ [migration/11]\n",
      "root          78  0.0  0.0      0     0 ?        S    08:27   0:00  \\_ [ksoftirqd/11]\n",
      "root          80  0.0  0.0      0     0 ?        I<   08:27   0:00  \\_ [kworker/11:0H-kblockd]\n",
      "root          81  0.0  0.0      0     0 ?        S    08:27   0:00  \\_ [cpuhp/12]\n",
      "root          82  0.0  0.0      0     0 ?        S    08:27   0:00  \\_ [idle_inject/12]\n",
      "root          83  0.0  0.0      0     0 ?        S    08:27   0:00  \\_ [migration/12]\n",
      "root          84  0.0  0.0      0     0 ?        S    08:27   0:00  \\_ [ksoftirqd/12]\n",
      "root          86  0.0  0.0      0     0 ?        I<   08:27   0:00  \\_ [kworker/12:0H-kblockd]\n",
      "root          87  0.0  0.0      0     0 ?        S    08:27   0:00  \\_ [cpuhp/13]\n",
      "root          88  0.0  0.0      0     0 ?        S    08:27   0:00  \\_ [idle_inject/13]\n",
      "root          89  0.0  0.0      0     0 ?        S    08:27   0:00  \\_ [migration/13]\n",
      "root          90  0.0  0.0      0     0 ?        S    08:27   0:00  \\_ [ksoftirqd/13]\n",
      "root          92  0.0  0.0      0     0 ?        I<   08:27   0:00  \\_ [kworker/13:0H-kblockd]\n",
      "root          93  0.0  0.0      0     0 ?        S    08:27   0:00  \\_ [cpuhp/14]\n",
      "root          94  0.0  0.0      0     0 ?        S    08:27   0:00  \\_ [idle_inject/14]\n",
      "root          95  0.0  0.0      0     0 ?        S    08:27   0:00  \\_ [migration/14]\n",
      "root          96  0.0  0.0      0     0 ?        S    08:27   0:00  \\_ [ksoftirqd/14]\n",
      "root          98  0.0  0.0      0     0 ?        I<   08:27   0:00  \\_ [kworker/14:0H-kblockd]\n",
      "root          99  0.0  0.0      0     0 ?        S    08:27   0:00  \\_ [cpuhp/15]\n",
      "root         100  0.0  0.0      0     0 ?        S    08:27   0:00  \\_ [idle_inject/15]\n",
      "root         101  0.0  0.0      0     0 ?        S    08:27   0:00  \\_ [migration/15]\n",
      "root         102  0.0  0.0      0     0 ?        S    08:27   0:00  \\_ [ksoftirqd/15]\n",
      "root         104  0.0  0.0      0     0 ?        I<   08:27   0:00  \\_ [kworker/15:0H-kblockd]\n",
      "root         105  0.0  0.0      0     0 ?        S    08:27   0:00  \\_ [kdevtmpfs]\n",
      "root         106  0.0  0.0      0     0 ?        I<   08:27   0:00  \\_ [netns]\n",
      "root         107  0.0  0.0      0     0 ?        S    08:27   0:00  \\_ [rcu_tasks_kthre]\n",
      "root         108  0.0  0.0      0     0 ?        S    08:27   0:00  \\_ [rcu_tasks_rude_]\n",
      "root         109  0.0  0.0      0     0 ?        S    08:27   0:00  \\_ [rcu_tasks_trace]\n",
      "root         110  0.0  0.0      0     0 ?        S    08:27   0:00  \\_ [kauditd]\n",
      "root         113  0.0  0.0      0     0 ?        S    08:27   0:00  \\_ [khungtaskd]\n",
      "root         114  0.0  0.0      0     0 ?        S    08:27   0:00  \\_ [oom_reaper]\n",
      "root         115  0.0  0.0      0     0 ?        I<   08:27   0:00  \\_ [writeback]\n",
      "root         116  0.0  0.0      0     0 ?        S    08:27   0:00  \\_ [kcompactd0]\n",
      "root         117  0.0  0.0      0     0 ?        SN   08:27   0:00  \\_ [ksmd]\n",
      "root         118  0.0  0.0      0     0 ?        SN   08:27   0:00  \\_ [khugepaged]\n",
      "root         165  0.0  0.0      0     0 ?        I<   08:27   0:00  \\_ [kintegrityd]\n",
      "root         166  0.0  0.0      0     0 ?        I<   08:27   0:00  \\_ [kblockd]\n",
      "root         167  0.0  0.0      0     0 ?        I<   08:27   0:00  \\_ [blkcg_punt_bio]\n",
      "root         168  0.0  0.0      0     0 ?        I    08:27   0:00  \\_ [kworker/2:1-events]\n",
      "root         169  0.0  0.0      0     0 ?        I<   08:27   0:00  \\_ [tpm_dev_wq]\n",
      "root         170  0.0  0.0      0     0 ?        I<   08:27   0:00  \\_ [ata_sff]\n",
      "root         171  0.0  0.0      0     0 ?        I    08:27   0:00  \\_ [kworker/14:1-events]\n",
      "root         172  0.0  0.0      0     0 ?        I<   08:27   0:00  \\_ [md]\n",
      "root         173  0.0  0.0      0     0 ?        I<   08:27   0:00  \\_ [edac-poller]\n",
      "root         174  0.0  0.0      0     0 ?        I<   08:27   0:00  \\_ [devfreq_wq]\n",
      "root         176  0.0  0.0      0     0 ?        S    08:27   0:00  \\_ [watchdogd]\n",
      "root         177  0.1  0.0      0     0 ?        I    08:27   0:01  \\_ [kworker/u32:1-events_power_efficient]\n",
      "root         178  0.0  0.0      0     0 ?        I<   08:27   0:00  \\_ [pm_wq]\n",
      "root         180  0.0  0.0      0     0 ?        I    08:27   0:00  \\_ [kworker/9:1-events]\n",
      "root         181  0.0  0.0      0     0 ?        S    08:27   0:00  \\_ [irq/25-AMD-Vi]\n",
      "root         183  0.0  0.0      0     0 ?        S    08:27   0:00  \\_ [kswapd0]\n",
      "root         184  0.0  0.0      0     0 ?        S    08:27   0:00  \\_ [ecryptfs-kthrea]\n",
      "root         186  0.0  0.0      0     0 ?        I<   08:27   0:00  \\_ [kthrotld]\n",
      "root         187  0.0  0.0      0     0 ?        S    08:27   0:00  \\_ [irq/38-pciehp]\n",
      "root         189  0.0  0.0      0     0 ?        I    08:27   0:00  \\_ [kworker/3:1-mm_percpu_wq]\n",
      "root         192  0.0  0.0      0     0 ?        I    08:27   0:00  \\_ [kworker/11:1-events]\n",
      "root         194  0.0  0.0      0     0 ?        I    08:27   0:00  \\_ [kworker/15:1-events]\n",
      "root         195  0.0  0.0      0     0 ?        I<   08:27   0:00  \\_ [acpi_thermal_pm]\n",
      "root         197  0.0  0.0      0     0 ?        I<   08:27   0:00  \\_ [vfio-irqfd-clea]\n",
      "root         198  0.0  0.0      0     0 ?        I    08:27   0:00  \\_ [kworker/u32:2-ext4-rsv-conversion]\n",
      "root         199  0.0  0.0      0     0 ?        I<   08:27   0:00  \\_ [ipv6_addrconf]\n",
      "root         208  0.0  0.0      0     0 ?        I<   08:27   0:00  \\_ [kstrp]\n",
      "root         211  0.0  0.0      0     0 ?        I<   08:27   0:00  \\_ [zswap-shrink]\n",
      "root         219  0.0  0.0      0     0 ?        I<   08:27   0:00  \\_ [charger_manager]\n",
      "root         221  0.0  0.0      0     0 ?        S    08:27   0:00  \\_ [irq/26-ACPI:Eve]\n",
      "root         222  0.0  0.0      0     0 ?        S    08:27   0:00  \\_ [irq/27-ACPI:Eve]\n",
      "root         223  0.0  0.0      0     0 ?        S    08:27   0:00  \\_ [irq/28-ACPI:Eve]\n",
      "root         224  0.0  0.0      0     0 ?        S    08:27   0:00  \\_ [irq/29-ACPI:Eve]\n",
      "root         225  0.0  0.0      0     0 ?        S    08:27   0:00  \\_ [irq/30-ACPI:Eve]\n",
      "root         226  0.0  0.0      0     0 ?        S    08:27   0:00  \\_ [irq/31-ACPI:Eve]\n",
      "root         227  0.0  0.0      0     0 ?        S    08:27   0:00  \\_ [irq/32-ACPI:Eve]\n",
      "root         228  0.0  0.0      0     0 ?        S    08:27   0:00  \\_ [irq/33-ACPI:Eve]\n",
      "root         229  0.0  0.0      0     0 ?        S    08:27   0:00  \\_ [irq/34-ACPI:Eve]\n",
      "root         230  0.0  0.0      0     0 ?        S    08:27   0:00  \\_ [irq/35-ACPI:Eve]\n",
      "root         278  0.0  0.0      0     0 ?        I<   08:27   0:00  \\_ [nvme-wq]\n",
      "root         279  0.0  0.0      0     0 ?        I<   08:27   0:00  \\_ [nvme-reset-wq]\n",
      "root         280  0.0  0.0      0     0 ?        I<   08:27   0:00  \\_ [nvme-delete-wq]\n",
      "root         284  0.0  0.0      0     0 ?        I    08:27   0:00  \\_ [kworker/13:2-events]\n",
      "root         285  0.1  0.0      0     0 ?        I    08:27   0:01  \\_ [kworker/u32:3-events_power_efficient]\n",
      "root         290  0.0  0.0      0     0 ?        D    08:27   0:00  \\_ [kworker/u32:4+events_unbound]\n",
      "root         291  0.0  0.0      0     0 ?        I    08:27   0:00  \\_ [kworker/12:2-events]\n",
      "root         311  0.0  0.0      0     0 ?        I<   08:27   0:00  \\_ [kworker/0:1H-events_highpri]\n",
      "root         313  0.0  0.0      0     0 ?        S    08:27   0:00  \\_ [jbd2/nvme0n1p2-]\n",
      "root         314  0.0  0.0      0     0 ?        I<   08:27   0:00  \\_ [ext4-rsv-conver]\n",
      "root         367  0.0  0.0      0     0 ?        I<   08:27   0:00  \\_ [kworker/3:1H-events_highpri]\n",
      "root         372  0.0  0.0      0     0 ?        I<   08:27   0:00  \\_ [kworker/1:1H-kblockd]\n",
      "root         374  0.0  0.0      0     0 ?        I<   08:27   0:00  \\_ [kworker/6:1H-kblockd]\n",
      "root         385  0.0  0.0      0     0 ?        S<   08:27   0:00  \\_ [loop0]\n",
      "root         410  0.0  0.0      0     0 ?        I<   08:27   0:00  \\_ [kworker/13:1H-events_highpri]\n",
      "root         411  0.0  0.0      0     0 ?        I<   08:27   0:00  \\_ [kworker/2:1H-kblockd]\n",
      "root         412  0.0  0.0      0     0 ?        S<   08:27   0:00  \\_ [loop2]\n",
      "root         464  0.0  0.0      0     0 ?        I    08:27   0:00  \\_ [kworker/10:3-events]\n",
      "root         465  0.0  0.0      0     0 ?        I<   08:27   0:00  \\_ [kworker/12:1H-kblockd]\n",
      "root         466  0.0  0.0      0     0 ?        I<   08:27   0:00  \\_ [kworker/9:1H-kblockd]\n",
      "root         467  0.0  0.0      0     0 ?        S<   08:27   0:00  \\_ [loop3]\n",
      "root         468  0.0  0.0      0     0 ?        I<   08:27   0:00  \\_ [kworker/11:1H-events_highpri]\n",
      "root         473  0.0  0.0      0     0 ?        I<   08:27   0:00  \\_ [kworker/7:1H-events_highpri]\n",
      "root         474  0.0  0.0      0     0 ?        I<   08:27   0:00  \\_ [kworker/4:1H-kblockd]\n",
      "root         476  0.0  0.0      0     0 ?        I<   08:27   0:00  \\_ [kworker/8:1H-kblockd]\n",
      "root         477  0.0  0.0      0     0 ?        I<   08:27   0:00  \\_ [kworker/10:1H-kblockd]\n",
      "root         486  0.0  0.0      0     0 ?        I<   08:27   0:00  \\_ [kworker/5:1H-kblockd]\n",
      "root         493  0.0  0.0      0     0 ?        I<   08:27   0:00  \\_ [cfg80211]\n",
      "root         505  0.0  0.0      0     0 ?        I    08:27   0:00  \\_ [kworker/6:2-cgroup_destroy]\n",
      "root         511  0.0  0.0      0     0 ?        I<   08:27   0:00  \\_ [ktpacpid]\n",
      "root         518  0.0  0.0      0     0 ?        I<   08:27   0:00  \\_ [kworker/14:1H-events_highpri]\n",
      "root         519  0.0  0.0      0     0 ?        S<   08:27   0:00  \\_ [loop6]\n",
      "root         520  0.0  0.0      0     0 ?        S<   08:27   0:00  \\_ [loop7]\n",
      "root         536  0.0  0.0      0     0 ?        I<   08:27   0:00  \\_ [kworker/15:1H-events_highpri]\n",
      "root         556  0.1  0.0      0     0 ?        S    08:27   0:01  \\_ [irq/98-iwlwifi:]\n",
      "root         557  0.0  0.0      0     0 ?        S    08:27   0:00  \\_ [irq/99-iwlwifi:]\n",
      "root         558  0.0  0.0      0     0 ?        S    08:27   0:00  \\_ [irq/100-iwlwifi]\n",
      "root         559  0.1  0.0      0     0 ?        S    08:27   0:01  \\_ [irq/101-iwlwifi]\n",
      "root         560  0.0  0.0      0     0 ?        S    08:27   0:00  \\_ [irq/102-iwlwifi]\n",
      "root         562  0.1  0.0      0     0 ?        S    08:27   0:00  \\_ [irq/103-iwlwifi]\n",
      "root         563  0.0  0.0      0     0 ?        S    08:27   0:00  \\_ [irq/104-iwlwifi]\n",
      "root         564  0.2  0.0      0     0 ?        S    08:27   0:02  \\_ [irq/105-iwlwifi]\n",
      "root         565  0.0  0.0      0     0 ?        S    08:27   0:00  \\_ [irq/106-iwlwifi]\n",
      "root         566  0.0  0.0      0     0 ?        S    08:27   0:00  \\_ [irq/107-iwlwifi]\n",
      "root         567  0.0  0.0      0     0 ?        S    08:27   0:00  \\_ [irq/108-iwlwifi]\n",
      "root         568  0.0  0.0      0     0 ?        S    08:27   0:00  \\_ [irq/109-iwlwifi]\n",
      "root         569  0.0  0.0      0     0 ?        S    08:27   0:00  \\_ [irq/110-iwlwifi]\n",
      "root         570  0.0  0.0      0     0 ?        S    08:27   0:00  \\_ [irq/111-iwlwifi]\n",
      "root         571  0.1  0.0      0     0 ?        S    08:27   0:01  \\_ [irq/112-iwlwifi]\n",
      "root         572  0.0  0.0      0     0 ?        S    08:27   0:00  \\_ [irq/113-iwlwifi]\n",
      "root         573  0.0  0.0      0     0 ?        I    08:27   0:00  \\_ [kworker/4:2-events]\n",
      "root         575  0.0  0.0      0     0 ?        I    08:27   0:00  \\_ [kworker/3:2-events]\n",
      "root         577  0.0  0.0      0     0 ?        S<   08:27   0:00  \\_ [loop8]\n",
      "root         579  0.0  0.0      0     0 ?        I<   08:27   0:00  \\_ [cryptd]\n",
      "root         581  0.0  0.0      0     0 ?        I<   08:27   0:00  \\_ [kworker/u33:1-rb_allocator]\n",
      "root         582  0.0  0.0      0     0 ?        I<   08:27   0:00  \\_ [kworker/u33:2-rb_allocator]\n",
      "root         601  0.0  0.0      0     0 ?        I    08:27   0:00  \\_ [kworker/1:4-events]\n",
      "root         602  0.0  0.0      0     0 ?        I    08:27   0:00  \\_ [kworker/8:2-events]\n",
      "root         603  0.0  0.0      0     0 ?        I<   08:27   0:00  \\_ [amd_iommu_v2]\n",
      "root         609  0.0  0.0      0     0 ?        S<   08:27   0:00  \\_ [loop9]\n",
      "root         616  0.0  0.0      0     0 ?        S<   08:27   0:00  \\_ [loop10]\n",
      "root         619  0.0  0.0      0     0 ?        I<   08:27   0:00  \\_ [ttm_swap]\n",
      "root         621  0.7  0.0      0     0 ?        S    08:27   0:06  \\_ [gfx]\n",
      "root         622  0.0  0.0      0     0 ?        S    08:27   0:00  \\_ [comp_1.0.0]\n",
      "root         623  0.0  0.0      0     0 ?        S    08:27   0:00  \\_ [comp_1.1.0]\n",
      "root         624  0.0  0.0      0     0 ?        S    08:27   0:00  \\_ [comp_1.2.0]\n",
      "root         625  0.0  0.0      0     0 ?        S    08:27   0:00  \\_ [comp_1.3.0]\n",
      "root         626  0.0  0.0      0     0 ?        S    08:27   0:00  \\_ [comp_1.0.1]\n",
      "root         627  0.0  0.0      0     0 ?        S    08:27   0:00  \\_ [comp_1.1.1]\n",
      "root         628  0.0  0.0      0     0 ?        S    08:27   0:00  \\_ [comp_1.2.1]\n",
      "root         629  0.0  0.0      0     0 ?        S    08:27   0:00  \\_ [comp_1.3.1]\n",
      "root         630  0.0  0.0      0     0 ?        I    08:27   0:00  \\_ [kworker/4:3-events]\n",
      "root         631  0.0  0.0      0     0 ?        S    08:27   0:00  \\_ [sdma0]\n",
      "root         632  0.0  0.0      0     0 ?        S    08:27   0:00  \\_ [vcn_dec]\n",
      "root         633  0.0  0.0      0     0 ?        S    08:27   0:00  \\_ [vcn_enc0]\n",
      "root         634  0.0  0.0      0     0 ?        S    08:27   0:00  \\_ [vcn_enc1]\n",
      "root         635  0.0  0.0      0     0 ?        S    08:27   0:00  \\_ [jpeg_dec]\n",
      "root         649  0.0  0.0      0     0 ?        S<   08:27   0:00  \\_ [loop12]\n",
      "root         653  0.0  0.0      0     0 ?        S<   08:27   0:00  \\_ [loop14]\n",
      "root         664  0.0  0.0      0     0 ?        S<   08:27   0:00  \\_ [loop16]\n",
      "root         665  0.0  0.0      0     0 ?        S<   08:27   0:00  \\_ [loop17]\n",
      "root         666  0.0  0.0      0     0 ?        S<   08:27   0:00  \\_ [loop18]\n",
      "root         667  0.0  0.0      0     0 ?        S<   08:27   0:00  \\_ [loop19]\n",
      "root         668  0.0  0.0      0     0 ?        S<   08:27   0:00  \\_ [loop20]\n",
      "root         669  0.0  0.0      0     0 ?        S<   08:27   0:00  \\_ [loop21]\n",
      "root         671  0.0  0.0      0     0 ?        S<   08:27   0:00  \\_ [loop23]\n",
      "root         672  0.0  0.0      0     0 ?        S<   08:27   0:00  \\_ [loop24]\n",
      "root         959  0.0  0.0      0     0 ?        I    08:27   0:00  \\_ [kworker/10:4-events]\n",
      "root         963  0.0  0.0      0     0 ?        I    08:27   0:00  \\_ [kworker/14:3-events]\n",
      "root        1005  0.0  0.0      0     0 ?        I    08:27   0:00  \\_ [kworker/15:3-events]\n",
      "root        1122  0.0  0.0      0     0 ?        I    08:27   0:00  \\_ [kworker/13:3-events]\n",
      "root        1191  0.0  0.0      0     0 ?        S<   08:27   0:00  \\_ [krfcommd]\n",
      "root        1255  0.0  0.0      0     0 ?        I    08:27   0:00  \\_ [kworker/9:2-memcg_kmem_cache]\n",
      "root        1258  0.0  0.0      0     0 ?        I    08:27   0:00  \\_ [kworker/6:3-events]\n",
      "root        2114  0.0  0.0      0     0 ?        I    08:27   0:00  \\_ [kworker/2:3-events]\n",
      "root        2117  0.0  0.0      0     0 ?        S<   08:27   0:00  \\_ [loop25]\n",
      "root        2398  0.0  0.0      0     0 ?        S<   08:27   0:00  \\_ [loop26]\n",
      "root        2508  0.0  0.0      0     0 ?        S<   08:27   0:00  \\_ [loop27]\n",
      "root        2763  0.0  0.0      0     0 ?        S<   08:28   0:00  \\_ [loop15]\n",
      "root        2928  0.0  0.0      0     0 ?        S<   08:28   0:00  \\_ [loop28]\n",
      "root        3117  0.0  0.0      0     0 ?        S<   08:28   0:00  \\_ [loop29]\n",
      "root        3426  0.0  0.0      0     0 ?        S<   08:28   0:00  \\_ [loop5]\n",
      "root        3506  0.0  0.0      0     0 ?        S<   08:28   0:00  \\_ [loop30]\n",
      "root        3785  0.0  0.0      0     0 ?        S<   08:28   0:00  \\_ [loop4]\n",
      "root        4167  0.0  0.0      0     0 ?        S<   08:28   0:00  \\_ [loop11]\n",
      "root        5267  0.0  0.0      0     0 ?        I    08:32   0:00  \\_ [kworker/12:3-events]\n",
      "root        5466  0.0  0.0      0     0 ?        I    08:33   0:00  \\_ [kworker/0:1-events]\n",
      "root        5468  0.0  0.0      0     0 ?        I    08:33   0:00  \\_ [kworker/0:3-events]\n",
      "root        5642  0.0  0.0      0     0 ?        I    08:33   0:00  \\_ [kworker/11:0]\n",
      "root        5774  0.0  0.0      0     0 ?        I    08:33   0:00  \\_ [kworker/7:0-events]\n",
      "root        5775  0.0  0.0      0     0 ?        I    08:33   0:00  \\_ [kworker/7:1-events]\n",
      "root        5783  0.0  0.0      0     0 ?        I    08:34   0:00  \\_ [kworker/5:3-events]\n",
      "root        5785  0.0  0.0      0     0 ?        I    08:34   0:00  \\_ [kworker/5:5-events]\n",
      "root        6136  0.0  0.0      0     0 ?        I    08:37   0:00  \\_ [kworker/14:0-events]\n",
      "root        6137  0.0  0.0      0     0 ?        I    08:37   0:00  \\_ [kworker/8:1-events]\n",
      "root        6313  0.0  0.0      0     0 ?        I    08:38   0:00  \\_ [kworker/7:2-events]\n",
      "root        6331  0.0  0.0      0     0 ?        I    08:39   0:00  \\_ [kworker/2:0-events]\n",
      "root        6350  0.0  0.0      0     0 ?        I    08:39   0:00  \\_ [kworker/9:0-events]\n",
      "root        6356  0.0  0.0      0     0 ?        I    08:39   0:00  \\_ [kworker/5:0-events]\n",
      "root        6357  0.0  0.0      0     0 ?        I    08:39   0:00  \\_ [kworker/0:0-events]\n",
      "root        6389  0.0  0.0      0     0 ?        I    08:39   0:00  \\_ [kworker/6:0-events]\n",
      "root        6403  0.0  0.0      0     0 ?        I    08:40   0:00  \\_ [kworker/4:0-events]\n",
      "root        6404  0.0  0.0      0     0 ?        I    08:40   0:00  \\_ [kworker/4:1-cgroup_destroy]\n",
      "root        6405  0.0  0.0      0     0 ?        I    08:40   0:00  \\_ [kworker/2:2-events]\n",
      "root           1  0.8  0.0 170204 13348 ?        Ss   08:27   0:07 /sbin/init splash\n",
      "root         353  0.0  0.1  69040 17300 ?        S<s  08:27   0:00 /lib/systemd/systemd-journald\n",
      "root         381  0.0  0.0  24688  7460 ?        Ss   08:27   0:00 /lib/systemd/systemd-udevd\n",
      "systemd+     767  0.0  0.0  25048 13180 ?        Ss   08:27   0:00 /lib/systemd/systemd-resolved\n",
      "systemd+     769  0.0  0.0  91220  6300 ?        Ssl  08:27   0:00 /lib/systemd/systemd-timesyncd\n",
      "root         801  0.0  0.0 249956  8080 ?        Ssl  08:27   0:00 /usr/lib/accountsservice/accounts-daemon\n",
      "root         802  0.0  0.0   2528   916 ?        Ss   08:27   0:00 /usr/sbin/acpid\n",
      "avahi        806  0.0  0.0   9412  4204 ?        Ss   08:27   0:00 avahi-daemon: running [wildef-ThinkPad-T14s-Gen-1.local]\n",
      "avahi        858  0.0  0.0   9228   340 ?        S    08:27   0:00  \\_ avahi-daemon: chroot helper\n",
      "root         811  0.0  0.0   9420  4932 ?        Ss   08:27   0:00 /usr/lib/bluetooth/bluetoothd\n",
      "root         812  0.0  0.0  19768  2812 ?        Ss   08:27   0:00 /usr/sbin/cron -f\n",
      "message+     815  0.3  0.0   9844  6016 ?        Ss   08:27   0:02 /usr/bin/dbus-daemon --system --address=systemd: --nofork --nopidfile --systemd-activation --syslog-only\n",
      "root         816  0.0  0.1 274848 21352 ?        Ssl  08:27   0:00 /usr/sbin/NetworkManager --no-daemon\n",
      "root         821  0.0  0.0  82864  3836 ?        Ssl  08:27   0:00 /usr/sbin/irqbalance --foreground\n",
      "root         825  0.0  0.1  50648 19972 ?        Ss   08:27   0:00 /usr/bin/python3 /usr/bin/networkd-dispatcher --run-startup-triggers\n",
      "root         828  0.0  0.0 252648 10756 ?        Ssl  08:27   0:00 /usr/libexec/polkitd --no-debug\n",
      "syslog       832  0.0  0.0 221128  4716 ?        Ssl  08:27   0:00 /usr/sbin/rsyslogd -n -iNONE\n",
      "root         835  5.1  0.2 3389848 38844 ?       Ssl  08:27   0:42 /usr/lib/snapd/snapd\n",
      "root         838  0.1  0.0  19268  9416 ?        Ss   08:27   0:00 /lib/systemd/systemd-logind\n",
      "root         845  0.0  0.0 394360 13040 ?        Ssl  08:27   0:00 /usr/libexec/udisks2/udisksd\n",
      "root         847  0.0  0.0  15236  9360 ?        Ss   08:27   0:00 /sbin/wpa_supplicant -u -s -O /run/wpa_supplicant\n",
      "colord       906  0.0  0.0 257976 15204 ?        Ssl  08:27   0:00 /usr/libexec/colord\n",
      "root         907  0.1  0.0 179656 13716 ?        Ssl  08:27   0:01 /usr/sbin/cups-browsed\n",
      "root         917  0.0  0.0 315036 10952 ?        Ssl  08:27   0:00 /usr/sbin/ModemManager\n",
      "root         946  0.0  0.0 232168  7216 ?        SLsl 08:27   0:00 /usr/sbin/lightdm\n",
      "root        1006  6.9  0.5 1950040 90008 tty7    Ssl+ 08:27   0:58  \\_ /usr/lib/xorg/Xorg -core :0 -seat seat0 -auth /var/run/lightdm/root/:0 -nolisten tcp vt7 -novtswitch\n",
      "root        1198  0.0  0.0 161776  9028 ?        Sl   08:27   0:00  \\_ lightdm --session-child 12 19\n",
      "wildef      1295  0.0  0.1 282436 25252 ?        Ssl  08:27   0:00      \\_ xfce4-session LANGUAGE=de_DE USER=wildef XDG_SEAT=seat0 XDG_SESSION_TYPE=x11 SSH_AGENT_PID=1450 SHLVL=0 HOME=/home/wildef DESKTOP_SESSION=xubuntu XDG_SEAT_PATH=/org/freedesktop/DisplayManager/Seat0 DBUS_SESSION_BUS_ADDRESS=unix:path=/run/user/1000/bus QT_QPA_PLATFORMTHEME=gtk2 LOGNAME=wildef XDG_SESSION_CLASS=user CLUTTER_BACKEND=x11 GTK_OVERLAY_SCROLLING=0 XDG_SESSION_ID=c2 PATH=/home/wildef/.local/bin:/usr/local/sbin:/usr/local/bin:/usr/sbin:/usr/bin:/sbin:/bin:/usr/games:/usr/local/games:/snap/bin GDM_LANG=de_DE XDG_SESSION_PATH=/org/freedesktop/DisplayManager/Session0 XDG_RUNTIME_DIR=/run/user/1000 XDG_MENU_PREFIX=xfce- DISPLAY=:0 LANG=de_DE.UTF-8 XDG_CURRENT_DESKTOP=XFCE XDG_SESSION_DESKTOP=xubuntu XAUTHORITY=/home/wildef/.Xauthority XDG_GREETER_DATA_DIR=/var/lib/lightdm-data/wildef SSH_AUTH_SOCK=/tmp/ssh-ooj5p032GW99/agent.1295 SHELL=/bin/bash QT_ACCESSIBILITY=1 GDMSESSION=xubuntu GPG_AGENT_INFO=/run/user/1000/gnupg/S.gpg-agent:0:1 XDG_VTNR=7 PWD=/home/wildef XDG_CONFIG_DIRS=/etc/xdg/xdg-xubuntu:/etc/xdg:/etc/xdg XDG_DATA_DIRS=/usr/share/xubuntu:/usr/share/xfce4:/usr/local/share:/usr/share:/var/lib/snapd/desktop:/usr/share\n",
      "wildef      1450  0.0  0.0   6040   448 ?        Ss   08:27   0:00          \\_ /usr/bin/ssh-agent /usr/bin/im-launch startxfce4\n",
      "wildef      1573  2.1  0.6 2084876 99084 ?       Sl   08:27   0:17          \\_ xfwm4 --replace LANGUAGE=de_DE USER=wildef XDG_SEAT=seat0 XDG_SESSION_TYPE=x11 SSH_AGENT_PID=1450 SHLVL=0 HOME=/home/wildef DESKTOP_SESSION=xubuntu XDG_SEAT_PATH=/org/freedesktop/DisplayManager/Seat0 DBUS_SESSION_BUS_ADDRESS=unix:path=/run/user/1000/bus QT_QPA_PLATFORMTHEME=gtk2 LOGNAME=wildef XDG_SESSION_CLASS=user CLUTTER_BACKEND=x11 GTK_OVERLAY_SCROLLING=0 XDG_SESSION_ID=c2 PATH=/home/wildef/.local/bin:/usr/local/sbin:/usr/local/bin:/usr/sbin:/usr/bin:/sbin:/bin:/usr/games:/usr/local/games:/snap/bin GDM_LANG=de_DE XDG_SESSION_PATH=/org/freedesktop/DisplayManager/Session0 XDG_RUNTIME_DIR=/run/user/1000 XDG_MENU_PREFIX=xfce- DISPLAY=:0 LANG=de_DE.UTF-8 XDG_CURRENT_DESKTOP=XFCE XDG_SESSION_DESKTOP=xubuntu XAUTHORITY=/home/wildef/.Xauthority XDG_GREETER_DATA_DIR=/var/lib/lightdm-data/wildef SSH_AUTH_SOCK=/run/user/1000/keyring/ssh SHELL=/bin/bash QT_ACCESSIBILITY=1 GDMSESSION=xubuntu GPG_AGENT_INFO=/run/user/1000/gnupg/S.gpg-agent:0:1 XDG_VTNR=7 PWD=/home/wildef XDG_CONFIG_DIRS=/etc/xdg/xdg-xubuntu:/etc/xdg:/etc/xdg XDG_DATA_DIRS=/usr/share/xubuntu:/usr/share/xfce4:/usr/local/share:/usr/share:/var/lib/snapd/desktop:/usr/share SESSION_MANAGER=local/wildef-ThinkPad-T14s-Gen-1:@/tmp/.ICE-unix/1295,unix/wildef-ThinkPad-T14s-Gen-1:/tmp/.ICE-unix/1295\n",
      "wildef      1601  0.4  0.3 1417280 47344 ?       Sl   08:27   0:03          \\_ xfce4-panel LANGUAGE=de_DE USER=wildef XDG_SEAT=seat0 XDG_SESSION_TYPE=x11 SSH_AGENT_PID=1450 SHLVL=0 HOME=/home/wildef DESKTOP_SESSION=xubuntu XDG_SEAT_PATH=/org/freedesktop/DisplayManager/Seat0 DBUS_SESSION_BUS_ADDRESS=unix:path=/run/user/1000/bus QT_QPA_PLATFORMTHEME=gtk2 LOGNAME=wildef XDG_SESSION_CLASS=user CLUTTER_BACKEND=x11 GTK_OVERLAY_SCROLLING=0 XDG_SESSION_ID=c2 PATH=/home/wildef/.local/bin:/usr/local/sbin:/usr/local/bin:/usr/sbin:/usr/bin:/sbin:/bin:/usr/games:/usr/local/games:/snap/bin GDM_LANG=de_DE XDG_SESSION_PATH=/org/freedesktop/DisplayManager/Session0 XDG_RUNTIME_DIR=/run/user/1000 XDG_MENU_PREFIX=xfce- DISPLAY=:0 LANG=de_DE.UTF-8 XDG_CURRENT_DESKTOP=XFCE XDG_SESSION_DESKTOP=xubuntu XAUTHORITY=/home/wildef/.Xauthority XDG_GREETER_DATA_DIR=/var/lib/lightdm-data/wildef SSH_AUTH_SOCK=/run/user/1000/keyring/ssh SHELL=/bin/bash QT_ACCESSIBILITY=1 GDMSESSION=xubuntu GPG_AGENT_INFO=/run/user/1000/gnupg/S.gpg-agent:0:1 XDG_VTNR=7 PWD=/home/wildef XDG_CONFIG_DIRS=/etc/xdg/xdg-xubuntu:/etc/xdg:/etc/xdg XDG_DATA_DIRS=/usr/share/xubuntu:/usr/share/xfce4:/usr/local/share:/usr/share:/var/lib/snapd/desktop:/usr/share SESSION_MANAGER=local/wildef-ThinkPad-T14s-Gen-1:@/tmp/.ICE-unix/1295,unix/wildef-ThinkPad-T14s-Gen-1:/tmp/.ICE-unix/1295\n",
      "wildef      1647  0.0  0.2 291256 37672 ?        Sl   08:27   0:00          |   \\_ /usr/lib/x86_64-linux-gnu/xfce4/panel/wrapper-2.0 /usr/lib/x86_64-linux-gnu/xfce4/panel/plugins/libwhiskermenu.so 1 16777223 whiskermenu Whisker-Menü Zeigt ein Menü, um einfach auf installierte Anwendungen zuzugreifen LANGUAGE=de_DE USER=wildef XDG_SEAT=seat0 XDG_SESSION_TYPE=x11 SSH_AGENT_PID=1450 SHLVL=0 HOME=/home/wildef DESKTOP_SESSION=xubuntu XDG_SEAT_PATH=/org/freedesktop/DisplayManager/Seat0 DBUS_SESSION_BUS_ADDRESS=unix:path=/run/user/1000/bus QT_QPA_PLATFORMTHEME=gtk2 LOGNAME=wildef XDG_SESSION_CLASS=user CLUTTER_BACKEND=x11 GTK_OVERLAY_SCROLLING=0 XDG_SESSION_ID=c2 PATH=/home/wildef/.local/bin:/usr/local/sbin:/usr/local/bin:/usr/sbin:/usr/bin:/sbin:/bin:/usr/games:/usr/local/games:/snap/bin GDM_LANG=de_DE XDG_SESSION_PATH=/org/freedesktop/DisplayManager/Session0 XDG_RUNTIME_DIR=/run/user/1000 XDG_MENU_PREFIX=xfce- DISPLAY=:0 LANG=de_DE.UTF-8 XDG_CURRENT_DESKTOP=XFCE XDG_SESSION_DESKTOP=xubuntu XAUTHORITY=/home/wildef/.Xauthority XDG_GREETER_DATA_DIR=/var/lib/lightdm-data/wildef SSH_AUTH_SOCK=/run/user/1000/keyring/ssh SHELL=/bin/bash QT_ACCESSIBILITY=1 GDMSESSION=xubuntu GPG_AGENT_INFO=/run/user/1000/gnupg/S.gpg-agent:0:1 XDG_VTNR=7 PWD=/home/wildef XDG_CONFIG_DIRS=/etc/xdg/xdg-xubuntu:/etc/xdg:/etc/xdg XDG_DATA_DIRS=/usr/share/xubuntu:/usr/share/xfce4:/usr/local/share:/usr/share:/var/lib/snapd/desktop:/usr/share SESSION_MANAGER=local/wildef-ThinkPad-T14s-Gen-1:@/tmp/.ICE-unix/1295,unix/wildef-ThinkPad-T14s-Gen-1:/tmp/.ICE-unix/1295 PANEL_GDK_CORE_DEVICE_EVENTS=0 GDK_CORE_DEVICE_EVENTS=1\n",
      "wildef      1650  0.0  0.1 207804 24828 ?        Sl   08:27   0:00          |   \\_ /usr/lib/x86_64-linux-gnu/xfce4/panel/wrapper-2.0 /usr/lib/x86_64-linux-gnu/xfce4/panel/plugins/libsystray.so 5 16777224 systray Benachrichtigungsfläche Fläche, in der Symbole für Benachrichtigungen erscheinen LANGUAGE=de_DE USER=wildef XDG_SEAT=seat0 XDG_SESSION_TYPE=x11 SSH_AGENT_PID=1450 SHLVL=0 HOME=/home/wildef DESKTOP_SESSION=xubuntu XDG_SEAT_PATH=/org/freedesktop/DisplayManager/Seat0 DBUS_SESSION_BUS_ADDRESS=unix:path=/run/user/1000/bus QT_QPA_PLATFORMTHEME=gtk2 LOGNAME=wildef XDG_SESSION_CLASS=user CLUTTER_BACKEND=x11 GTK_OVERLAY_SCROLLING=0 XDG_SESSION_ID=c2 PATH=/home/wildef/.local/bin:/usr/local/sbin:/usr/local/bin:/usr/sbin:/usr/bin:/sbin:/bin:/usr/games:/usr/local/games:/snap/bin GDM_LANG=de_DE XDG_SESSION_PATH=/org/freedesktop/DisplayManager/Session0 XDG_RUNTIME_DIR=/run/user/1000 XDG_MENU_PREFIX=xfce- DISPLAY=:0 LANG=de_DE.UTF-8 XDG_CURRENT_DESKTOP=XFCE XDG_SESSION_DESKTOP=xubuntu XAUTHORITY=/home/wildef/.Xauthority XDG_GREETER_DATA_DIR=/var/lib/lightdm-data/wildef SSH_AUTH_SOCK=/run/user/1000/keyring/ssh SHELL=/bin/bash QT_ACCESSIBILITY=1 GDMSESSION=xubuntu GPG_AGENT_INFO=/run/user/1000/gnupg/S.gpg-agent:0:1 XDG_VTNR=7 PWD=/home/wildef XDG_CONFIG_DIRS=/etc/xdg/xdg-xubuntu:/etc/xdg:/etc/xdg XDG_DATA_DIRS=/usr/share/xubuntu:/usr/share/xfce4:/usr/local/share:/usr/share:/var/lib/snapd/desktop:/usr/share SESSION_MANAGER=local/wildef-ThinkPad-T14s-Gen-1:@/tmp/.ICE-unix/1295,unix/wildef-ThinkPad-T14s-Gen-1:/tmp/.ICE-unix/1295 PANEL_GDK_CORE_DEVICE_EVENTS=0\n",
      "wildef      1655  0.0  0.2 255752 40464 ?        Sl   08:27   0:00          |   \\_ /usr/lib/x86_64-linux-gnu/xfce4/panel/wrapper-2.0 /usr/lib/x86_64-linux-gnu/xfce4/panel/plugins/libnotification-plugin.so 6 16777225 notification-plugin Benachrichtigungserweiterung Benachrichtigungserweiterung für die Xfce-Leiste LANGUAGE=de_DE USER=wildef XDG_SEAT=seat0 XDG_SESSION_TYPE=x11 SSH_AGENT_PID=1450 SHLVL=0 HOME=/home/wildef DESKTOP_SESSION=xubuntu XDG_SEAT_PATH=/org/freedesktop/DisplayManager/Seat0 DBUS_SESSION_BUS_ADDRESS=unix:path=/run/user/1000/bus QT_QPA_PLATFORMTHEME=gtk2 LOGNAME=wildef XDG_SESSION_CLASS=user CLUTTER_BACKEND=x11 GTK_OVERLAY_SCROLLING=0 XDG_SESSION_ID=c2 PATH=/home/wildef/.local/bin:/usr/local/sbin:/usr/local/bin:/usr/sbin:/usr/bin:/sbin:/bin:/usr/games:/usr/local/games:/snap/bin GDM_LANG=de_DE XDG_SESSION_PATH=/org/freedesktop/DisplayManager/Session0 XDG_RUNTIME_DIR=/run/user/1000 XDG_MENU_PREFIX=xfce- DISPLAY=:0 LANG=de_DE.UTF-8 XDG_CURRENT_DESKTOP=XFCE XDG_SESSION_DESKTOP=xubuntu XAUTHORITY=/home/wildef/.Xauthority XDG_GREETER_DATA_DIR=/var/lib/lightdm-data/wildef SSH_AUTH_SOCK=/run/user/1000/keyring/ssh SHELL=/bin/bash QT_ACCESSIBILITY=1 GDMSESSION=xubuntu GPG_AGENT_INFO=/run/user/1000/gnupg/S.gpg-agent:0:1 XDG_VTNR=7 PWD=/home/wildef XDG_CONFIG_DIRS=/etc/xdg/xdg-xubuntu:/etc/xdg:/etc/xdg XDG_DATA_DIRS=/usr/share/xubuntu:/usr/share/xfce4:/usr/local/share:/usr/share:/var/lib/snapd/desktop:/usr/share SESSION_MANAGER=local/wildef-ThinkPad-T14s-Gen-1:@/tmp/.ICE-unix/1295,unix/wildef-ThinkPad-T14s-Gen-1:/tmp/.ICE-unix/1295 PANEL_GDK_CORE_DEVICE_EVENTS=0\n",
      "wildef      1656  0.0  0.1 285032 27980 ?        Sl   08:27   0:00          |   \\_ /usr/lib/x86_64-linux-gnu/xfce4/panel/wrapper-2.0 /usr/lib/x86_64-linux-gnu/xfce4/panel/plugins/libindicator-plugin.so 7 16777226 indicator Nachrichtenanzeige Stellt einen Leistenbereich für Unity-Anzeigen zur Verfügung. Diese Anzeigen erlauben es Anwendungen und Systemdiensten, ihren Status anzuzeigen und mit dem Benutzer zu interagieren. LANGUAGE=de_DE USER=wildef XDG_SEAT=seat0 XDG_SESSION_TYPE=x11 SSH_AGENT_PID=1450 SHLVL=0 HOME=/home/wildef DESKTOP_SESSION=xubuntu XDG_SEAT_PATH=/org/freedesktop/DisplayManager/Seat0 DBUS_SESSION_BUS_ADDRESS=unix:path=/run/user/1000/bus QT_QPA_PLATFORMTHEME=gtk2 LOGNAME=wildef XDG_SESSION_CLASS=user CLUTTER_BACKEND=x11 GTK_OVERLAY_SCROLLING=0 XDG_SESSION_ID=c2 PATH=/home/wildef/.local/bin:/usr/local/sbin:/usr/local/bin:/usr/sbin:/usr/bin:/sbin:/bin:/usr/games:/usr/local/games:/snap/bin GDM_LANG=de_DE XDG_SESSION_PATH=/org/freedesktop/DisplayManager/Session0 XDG_RUNTIME_DIR=/run/user/1000 XDG_MENU_PREFIX=xfce- DISPLAY=:0 LANG=de_DE.UTF-8 XDG_CURRENT_DESKTOP=XFCE XDG_SESSION_DESKTOP=xubuntu XAUTHORITY=/home/wildef/.Xauthority XDG_GREETER_DATA_DIR=/var/lib/lightdm-data/wildef SSH_AUTH_SOCK=/run/user/1000/keyring/ssh SHELL=/bin/bash QT_ACCESSIBILITY=1 GDMSESSION=xubuntu GPG_AGENT_INFO=/run/user/1000/gnupg/S.gpg-agent:0:1 XDG_VTNR=7 PWD=/home/wildef XDG_CONFIG_DIRS=/etc/xdg/xdg-xubuntu:/etc/xdg:/etc/xdg XDG_DATA_DIRS=/usr/share/xubuntu:/usr/share/xfce4:/usr/local/share:/usr/share:/var/lib/snapd/desktop:/usr/share SESSION_MANAGER=local/wildef-ThinkPad-T14s-Gen-1:@/tmp/.ICE-unix/1295,unix/wildef-ThinkPad-T14s-Gen-1:/tmp/.ICE-unix/1295 PANEL_GDK_CORE_DEVICE_EVENTS=0\n",
      "wildef      1657  0.1  0.2 404264 42000 ?        Sl   08:27   0:01          |   \\_ /usr/lib/x86_64-linux-gnu/xfce4/panel/wrapper-2.0 /usr/lib/x86_64-linux-gnu/xfce4/panel/plugins/libstatusnotifier.so 8 16777227 statusnotifier Modul zur Statusbenachrichtigung Stellt einen Leistenbereich für Objekte zur Statusbenachrichtung (Anwendungseinträge) bereit LANGUAGE=de_DE USER=wildef XDG_SEAT=seat0 XDG_SESSION_TYPE=x11 SSH_AGENT_PID=1450 SHLVL=0 HOME=/home/wildef DESKTOP_SESSION=xubuntu XDG_SEAT_PATH=/org/freedesktop/DisplayManager/Seat0 DBUS_SESSION_BUS_ADDRESS=unix:path=/run/user/1000/bus QT_QPA_PLATFORMTHEME=gtk2 LOGNAME=wildef XDG_SESSION_CLASS=user CLUTTER_BACKEND=x11 GTK_OVERLAY_SCROLLING=0 XDG_SESSION_ID=c2 PATH=/home/wildef/.local/bin:/usr/local/sbin:/usr/local/bin:/usr/sbin:/usr/bin:/sbin:/bin:/usr/games:/usr/local/games:/snap/bin GDM_LANG=de_DE XDG_SESSION_PATH=/org/freedesktop/DisplayManager/Session0 XDG_RUNTIME_DIR=/run/user/1000 XDG_MENU_PREFIX=xfce- DISPLAY=:0 LANG=de_DE.UTF-8 XDG_CURRENT_DESKTOP=XFCE XDG_SESSION_DESKTOP=xubuntu XAUTHORITY=/home/wildef/.Xauthority XDG_GREETER_DATA_DIR=/var/lib/lightdm-data/wildef SSH_AUTH_SOCK=/run/user/1000/keyring/ssh SHELL=/bin/bash QT_ACCESSIBILITY=1 GDMSESSION=xubuntu GPG_AGENT_INFO=/run/user/1000/gnupg/S.gpg-agent:0:1 XDG_VTNR=7 PWD=/home/wildef XDG_CONFIG_DIRS=/etc/xdg/xdg-xubuntu:/etc/xdg:/etc/xdg XDG_DATA_DIRS=/usr/share/xubuntu:/usr/share/xfce4:/usr/local/share:/usr/share:/var/lib/snapd/desktop:/usr/share SESSION_MANAGER=local/wildef-ThinkPad-T14s-Gen-1:@/tmp/.ICE-unix/1295,unix/wildef-ThinkPad-T14s-Gen-1:/tmp/.ICE-unix/1295 PANEL_GDK_CORE_DEVICE_EVENTS=0\n",
      "wildef      1658  0.0  0.2 255888 40040 ?        Sl   08:27   0:00          |   \\_ /usr/lib/x86_64-linux-gnu/xfce4/panel/wrapper-2.0 /usr/lib/x86_64-linux-gnu/xfce4/panel/plugins/libxfce4powermanager.so 9 16777228 power-manager-plugin Energieverwaltungserweiterung Den Akkuladestand Ihrer Geräte anzeigen und die Helligkeit Ihres Bildschirms steuern LANGUAGE=de_DE USER=wildef XDG_SEAT=seat0 XDG_SESSION_TYPE=x11 SSH_AGENT_PID=1450 SHLVL=0 HOME=/home/wildef DESKTOP_SESSION=xubuntu XDG_SEAT_PATH=/org/freedesktop/DisplayManager/Seat0 DBUS_SESSION_BUS_ADDRESS=unix:path=/run/user/1000/bus QT_QPA_PLATFORMTHEME=gtk2 LOGNAME=wildef XDG_SESSION_CLASS=user CLUTTER_BACKEND=x11 GTK_OVERLAY_SCROLLING=0 XDG_SESSION_ID=c2 PATH=/home/wildef/.local/bin:/usr/local/sbin:/usr/local/bin:/usr/sbin:/usr/bin:/sbin:/bin:/usr/games:/usr/local/games:/snap/bin GDM_LANG=de_DE XDG_SESSION_PATH=/org/freedesktop/DisplayManager/Session0 XDG_RUNTIME_DIR=/run/user/1000 XDG_MENU_PREFIX=xfce- DISPLAY=:0 LANG=de_DE.UTF-8 XDG_CURRENT_DESKTOP=XFCE XDG_SESSION_DESKTOP=xubuntu XAUTHORITY=/home/wildef/.Xauthority XDG_GREETER_DATA_DIR=/var/lib/lightdm-data/wildef SSH_AUTH_SOCK=/run/user/1000/keyring/ssh SHELL=/bin/bash QT_ACCESSIBILITY=1 GDMSESSION=xubuntu GPG_AGENT_INFO=/run/user/1000/gnupg/S.gpg-agent:0:1 XDG_VTNR=7 PWD=/home/wildef XDG_CONFIG_DIRS=/etc/xdg/xdg-xubuntu:/etc/xdg:/etc/xdg XDG_DATA_DIRS=/usr/share/xubuntu:/usr/share/xfce4:/usr/local/share:/usr/share:/var/lib/snapd/desktop:/usr/share SESSION_MANAGER=local/wildef-ThinkPad-T14s-Gen-1:@/tmp/.ICE-unix/1295,unix/wildef-ThinkPad-T14s-Gen-1:/tmp/.ICE-unix/1295 PANEL_GDK_CORE_DEVICE_EVENTS=0\n",
      "wildef      1659  0.2  0.2 526396 45096 ?        Sl   08:27   0:02          |   \\_ /usr/lib/x86_64-linux-gnu/xfce4/panel/wrapper-2.0 /usr/lib/x86_64-linux-gnu/xfce4/panel/plugins/libpulseaudio-plugin.so 10 16777229 pulseaudio PulseAudio-Modul Die Lautstärke des PulseAudio-Klangsystems anpassen LANGUAGE=de_DE USER=wildef XDG_SEAT=seat0 XDG_SESSION_TYPE=x11 SSH_AGENT_PID=1450 SHLVL=0 HOME=/home/wildef DESKTOP_SESSION=xubuntu XDG_SEAT_PATH=/org/freedesktop/DisplayManager/Seat0 DBUS_SESSION_BUS_ADDRESS=unix:path=/run/user/1000/bus QT_QPA_PLATFORMTHEME=gtk2 LOGNAME=wildef XDG_SESSION_CLASS=user CLUTTER_BACKEND=x11 GTK_OVERLAY_SCROLLING=0 XDG_SESSION_ID=c2 PATH=/home/wildef/.local/bin:/usr/local/sbin:/usr/local/bin:/usr/sbin:/usr/bin:/sbin:/bin:/usr/games:/usr/local/games:/snap/bin GDM_LANG=de_DE XDG_SESSION_PATH=/org/freedesktop/DisplayManager/Session0 XDG_RUNTIME_DIR=/run/user/1000 XDG_MENU_PREFIX=xfce- DISPLAY=:0 LANG=de_DE.UTF-8 XDG_CURRENT_DESKTOP=XFCE XDG_SESSION_DESKTOP=xubuntu XAUTHORITY=/home/wildef/.Xauthority XDG_GREETER_DATA_DIR=/var/lib/lightdm-data/wildef SSH_AUTH_SOCK=/run/user/1000/keyring/ssh SHELL=/bin/bash QT_ACCESSIBILITY=1 GDMSESSION=xubuntu GPG_AGENT_INFO=/run/user/1000/gnupg/S.gpg-agent:0:1 XDG_VTNR=7 PWD=/home/wildef XDG_CONFIG_DIRS=/etc/xdg/xdg-xubuntu:/etc/xdg:/etc/xdg XDG_DATA_DIRS=/usr/share/xubuntu:/usr/share/xfce4:/usr/local/share:/usr/share:/var/lib/snapd/desktop:/usr/share SESSION_MANAGER=local/wildef-ThinkPad-T14s-Gen-1:@/tmp/.ICE-unix/1295,unix/wildef-ThinkPad-T14s-Gen-1:/tmp/.ICE-unix/1295 PANEL_GDK_CORE_DEVICE_EVENTS=0\n",
      "wildef      1660  2.2  0.3 410472 51024 ?        Sl   08:27   0:18          \\_ Thunar --daemon LANGUAGE=de_DE USER=wildef XDG_SEAT=seat0 XDG_SESSION_TYPE=x11 SSH_AGENT_PID=1450 SHLVL=0 HOME=/home/wildef DESKTOP_SESSION=xubuntu XDG_SEAT_PATH=/org/freedesktop/DisplayManager/Seat0 DBUS_SESSION_BUS_ADDRESS=unix:path=/run/user/1000/bus QT_QPA_PLATFORMTHEME=gtk2 LOGNAME=wildef XDG_SESSION_CLASS=user CLUTTER_BACKEND=x11 GTK_OVERLAY_SCROLLING=0 XDG_SESSION_ID=c2 PATH=/home/wildef/.local/bin:/usr/local/sbin:/usr/local/bin:/usr/sbin:/usr/bin:/sbin:/bin:/usr/games:/usr/local/games:/snap/bin GDM_LANG=de_DE XDG_SESSION_PATH=/org/freedesktop/DisplayManager/Session0 XDG_RUNTIME_DIR=/run/user/1000 XDG_MENU_PREFIX=xfce- DISPLAY=:0 LANG=de_DE.UTF-8 XDG_CURRENT_DESKTOP=XFCE XDG_SESSION_DESKTOP=xubuntu XAUTHORITY=/home/wildef/.Xauthority XDG_GREETER_DATA_DIR=/var/lib/lightdm-data/wildef SSH_AUTH_SOCK=/run/user/1000/keyring/ssh SHELL=/bin/bash QT_ACCESSIBILITY=1 GDMSESSION=xubuntu GPG_AGENT_INFO=/run/user/1000/gnupg/S.gpg-agent:0:1 XDG_VTNR=7 PWD=/home/wildef XDG_CONFIG_DIRS=/etc/xdg/xdg-xubuntu:/etc/xdg:/etc/xdg XDG_DATA_DIRS=/usr/share/xubuntu:/usr/share/xfce4:/usr/local/share:/usr/share:/var/lib/snapd/desktop:/usr/share SESSION_MANAGER=local/wildef-ThinkPad-T14s-Gen-1:@/tmp/.ICE-unix/1295,unix/wildef-ThinkPad-T14s-Gen-1:/tmp/.ICE-unix/1295\n",
      "wildef      1675  0.1  0.3 344400 57104 ?        Sl   08:27   0:01          \\_ xfdesktop LANGUAGE=de_DE USER=wildef XDG_SEAT=seat0 XDG_SESSION_TYPE=x11 SSH_AGENT_PID=1450 SHLVL=0 HOME=/home/wildef DESKTOP_SESSION=xubuntu XDG_SEAT_PATH=/org/freedesktop/DisplayManager/Seat0 DBUS_SESSION_BUS_ADDRESS=unix:path=/run/user/1000/bus QT_QPA_PLATFORMTHEME=gtk2 LOGNAME=wildef XDG_SESSION_CLASS=user CLUTTER_BACKEND=x11 GTK_OVERLAY_SCROLLING=0 XDG_SESSION_ID=c2 PATH=/home/wildef/.local/bin:/usr/local/sbin:/usr/local/bin:/usr/sbin:/usr/bin:/sbin:/bin:/usr/games:/usr/local/games:/snap/bin GDM_LANG=de_DE XDG_SESSION_PATH=/org/freedesktop/DisplayManager/Session0 XDG_RUNTIME_DIR=/run/user/1000 XDG_MENU_PREFIX=xfce- DISPLAY=:0 LANG=de_DE.UTF-8 XDG_CURRENT_DESKTOP=XFCE XDG_SESSION_DESKTOP=xubuntu XAUTHORITY=/home/wildef/.Xauthority XDG_GREETER_DATA_DIR=/var/lib/lightdm-data/wildef SSH_AUTH_SOCK=/run/user/1000/keyring/ssh SHELL=/bin/bash QT_ACCESSIBILITY=1 GDMSESSION=xubuntu GPG_AGENT_INFO=/run/user/1000/gnupg/S.gpg-agent:0:1 XDG_VTNR=7 PWD=/home/wildef XDG_CONFIG_DIRS=/etc/xdg/xdg-xubuntu:/etc/xdg:/etc/xdg XDG_DATA_DIRS=/usr/share/xubuntu:/usr/share/xfce4:/usr/local/share:/usr/share:/var/lib/snapd/desktop:/usr/share SESSION_MANAGER=local/wildef-ThinkPad-T14s-Gen-1:@/tmp/.ICE-unix/1295,unix/wildef-ThinkPad-T14s-Gen-1:/tmp/.ICE-unix/1295\n",
      "wildef      1711  0.0  0.3 510660 53568 ?        Sl   08:27   0:00          \\_ /usr/lib/x86_64-linux-gnu/libexec/kdeconnectd LANGUAGE=de_DE USER=wildef XDG_SEAT=seat0 XDG_SESSION_TYPE=x11 SSH_AGENT_PID=1450 SHLVL=0 HOME=/home/wildef DESKTOP_SESSION=xubuntu XDG_SEAT_PATH=/org/freedesktop/DisplayManager/Seat0 DBUS_SESSION_BUS_ADDRESS=unix:path=/run/user/1000/bus QT_QPA_PLATFORMTHEME=gtk2 LOGNAME=wildef XDG_SESSION_CLASS=user CLUTTER_BACKEND=x11 GTK_OVERLAY_SCROLLING=0 XDG_SESSION_ID=c2 PATH=/home/wildef/.local/bin:/usr/local/sbin:/usr/local/bin:/usr/sbin:/usr/bin:/sbin:/bin:/usr/games:/usr/local/games:/snap/bin GDM_LANG=de_DE XDG_SESSION_PATH=/org/freedesktop/DisplayManager/Session0 XDG_RUNTIME_DIR=/run/user/1000 XDG_MENU_PREFIX=xfce- LANG=de_DE.UTF-8 XDG_CURRENT_DESKTOP=XFCE XDG_SESSION_DESKTOP=xubuntu XAUTHORITY=/home/wildef/.Xauthority XDG_GREETER_DATA_DIR=/var/lib/lightdm-data/wildef SSH_AUTH_SOCK=/run/user/1000/keyring/ssh SHELL=/bin/bash QT_ACCESSIBILITY=1 GDMSESSION=xubuntu GPG_AGENT_INFO=/run/user/1000/gnupg/S.gpg-agent:0:1 XDG_VTNR=7 PWD=/home/wildef XDG_CONFIG_DIRS=/etc/xdg/xdg-xubuntu:/etc/xdg:/etc/xdg XDG_DATA_DIRS=/usr/share/xubuntu:/usr/share/xfce4:/usr/local/share:/usr/share:/var/lib/snapd/desktop:/usr/share SESSION_MANAGER=local/wildef-ThinkPad-T14s-Gen-1:@/tmp/.ICE-unix/1295,unix/wildef-ThinkPad-T14s-Gen-1:/tmp/.ICE-unix/1295 DISPLAY=:0.0\n",
      "wildef      1714  0.0  0.0 310728  8868 ?        Sl   08:27   0:00          \\_ xiccd LANGUAGE=de_DE USER=wildef XDG_SEAT=seat0 XDG_SESSION_TYPE=x11 SSH_AGENT_PID=1450 SHLVL=0 HOME=/home/wildef DESKTOP_SESSION=xubuntu XDG_SEAT_PATH=/org/freedesktop/DisplayManager/Seat0 DBUS_SESSION_BUS_ADDRESS=unix:path=/run/user/1000/bus QT_QPA_PLATFORMTHEME=gtk2 LOGNAME=wildef XDG_SESSION_CLASS=user CLUTTER_BACKEND=x11 GTK_OVERLAY_SCROLLING=0 XDG_SESSION_ID=c2 PATH=/home/wildef/.local/bin:/usr/local/sbin:/usr/local/bin:/usr/sbin:/usr/bin:/sbin:/bin:/usr/games:/usr/local/games:/snap/bin GDM_LANG=de_DE XDG_SESSION_PATH=/org/freedesktop/DisplayManager/Session0 XDG_RUNTIME_DIR=/run/user/1000 XDG_MENU_PREFIX=xfce- LANG=de_DE.UTF-8 XDG_CURRENT_DESKTOP=XFCE XDG_SESSION_DESKTOP=xubuntu XAUTHORITY=/home/wildef/.Xauthority XDG_GREETER_DATA_DIR=/var/lib/lightdm-data/wildef SSH_AUTH_SOCK=/run/user/1000/keyring/ssh SHELL=/bin/bash QT_ACCESSIBILITY=1 GDMSESSION=xubuntu GPG_AGENT_INFO=/run/user/1000/gnupg/S.gpg-agent:0:1 XDG_VTNR=7 PWD=/home/wildef XDG_CONFIG_DIRS=/etc/xdg/xdg-xubuntu:/etc/xdg:/etc/xdg XDG_DATA_DIRS=/usr/share/xubuntu:/usr/share/xfce4:/usr/local/share:/usr/share:/var/lib/snapd/desktop:/usr/share SESSION_MANAGER=local/wildef-ThinkPad-T14s-Gen-1:@/tmp/.ICE-unix/1295,unix/wildef-ThinkPad-T14s-Gen-1:/tmp/.ICE-unix/1295 DISPLAY=:0.0\n",
      "wildef      1726  0.1  0.2 439700 35804 ?        SLl  08:27   0:00          \\_ nm-applet LANGUAGE=de_DE USER=wildef XDG_SEAT=seat0 XDG_SESSION_TYPE=x11 SSH_AGENT_PID=1450 SHLVL=0 HOME=/home/wildef DESKTOP_SESSION=xubuntu XDG_SEAT_PATH=/org/freedesktop/DisplayManager/Seat0 DBUS_SESSION_BUS_ADDRESS=unix:path=/run/user/1000/bus QT_QPA_PLATFORMTHEME=gtk2 LOGNAME=wildef XDG_SESSION_CLASS=user CLUTTER_BACKEND=x11 GTK_OVERLAY_SCROLLING=0 XDG_SESSION_ID=c2 PATH=/home/wildef/.local/bin:/usr/local/sbin:/usr/local/bin:/usr/sbin:/usr/bin:/sbin:/bin:/usr/games:/usr/local/games:/snap/bin GDM_LANG=de_DE XDG_SESSION_PATH=/org/freedesktop/DisplayManager/Session0 XDG_RUNTIME_DIR=/run/user/1000 XDG_MENU_PREFIX=xfce- LANG=de_DE.UTF-8 XDG_CURRENT_DESKTOP=XFCE XDG_SESSION_DESKTOP=xubuntu XAUTHORITY=/home/wildef/.Xauthority XDG_GREETER_DATA_DIR=/var/lib/lightdm-data/wildef SSH_AUTH_SOCK=/run/user/1000/keyring/ssh SHELL=/bin/bash QT_ACCESSIBILITY=1 GDMSESSION=xubuntu GPG_AGENT_INFO=/run/user/1000/gnupg/S.gpg-agent:0:1 XDG_VTNR=7 PWD=/home/wildef XDG_CONFIG_DIRS=/etc/xdg/xdg-xubuntu:/etc/xdg:/etc/xdg XDG_DATA_DIRS=/usr/share/xubuntu:/usr/share/xfce4:/usr/local/share:/usr/share:/var/lib/snapd/desktop:/usr/share SESSION_MANAGER=local/wildef-ThinkPad-T14s-Gen-1:@/tmp/.ICE-unix/1295,unix/wildef-ThinkPad-T14s-Gen-1:/tmp/.ICE-unix/1295 DISPLAY=:0.0\n",
      "wildef      1728  0.0  0.2 448252 46732 ?        Sl   08:27   0:00          \\_ /usr/bin/python3 /usr/bin/blueman-applet LANGUAGE=de_DE USER=wildef XDG_SEAT=seat0 XDG_SESSION_TYPE=x11 SSH_AGENT_PID=1450 SHLVL=0 HOME=/home/wildef DESKTOP_SESSION=xubuntu XDG_SEAT_PATH=/org/freedesktop/DisplayManager/Seat0 DBUS_SESSION_BUS_ADDRESS=unix:path=/run/user/1000/bus QT_QPA_PLATFORMTHEME=gtk2 LOGNAME=wildef XDG_SESSION_CLASS=user CLUTTER_BACKEND=x11 GTK_OVERLAY_SCROLLING=0 XDG_SESSION_ID=c2 PATH=/home/wildef/.local/bin:/usr/local/sbin:/usr/local/bin:/usr/sbin:/usr/bin:/sbin:/bin:/usr/games:/usr/local/games:/snap/bin GDM_LANG=de_DE XDG_SESSION_PATH=/org/freedesktop/DisplayManager/Session0 XDG_RUNTIME_DIR=/run/user/1000 XDG_MENU_PREFIX=xfce- LANG=de_DE.UTF-8 XDG_CURRENT_DESKTOP=XFCE XDG_SESSION_DESKTOP=xubuntu XAUTHORITY=/home/wildef/.Xauthority XDG_GREETER_DATA_DIR=/var/lib/lightdm-data/wildef SSH_AUTH_SOCK=/run/user/1000/keyring/ssh SHELL=/bin/bash QT_ACCESSIBILITY=1 GDMSESSION=xubuntu GPG_AGENT_INFO=/run/user/1000/gnupg/S.gpg-agent:0:1 XDG_VTNR=7 PWD=/home/wildef XDG_CONFIG_DIRS=/etc/xdg/xdg-xubuntu:/etc/xdg:/etc/xdg XDG_DATA_DIRS=/usr/share/xubuntu:/usr/share/xfce4:/usr/local/share:/usr/share:/var/lib/snapd/desktop:/usr/share SESSION_MANAGER=local/wildef-ThinkPad-T14s-Gen-1:@/tmp/.ICE-unix/1295,unix/wildef-ThinkPad-T14s-Gen-1:/tmp/.ICE-unix/1295 DISPLAY=:0.0\n",
      "wildef      1733  0.0  0.1 429988 28980 ?        Sl   08:27   0:00          \\_ update-notifier LANGUAGE=de_DE USER=wildef XDG_SEAT=seat0 XDG_SESSION_TYPE=x11 SSH_AGENT_PID=1450 SHLVL=0 HOME=/home/wildef DESKTOP_SESSION=xubuntu XDG_SEAT_PATH=/org/freedesktop/DisplayManager/Seat0 DBUS_SESSION_BUS_ADDRESS=unix:path=/run/user/1000/bus QT_QPA_PLATFORMTHEME=gtk2 LOGNAME=wildef XDG_SESSION_CLASS=user CLUTTER_BACKEND=x11 GTK_OVERLAY_SCROLLING=0 XDG_SESSION_ID=c2 PATH=/home/wildef/.local/bin:/usr/local/sbin:/usr/local/bin:/usr/sbin:/usr/bin:/sbin:/bin:/usr/games:/usr/local/games:/snap/bin GDM_LANG=de_DE XDG_SESSION_PATH=/org/freedesktop/DisplayManager/Session0 XDG_RUNTIME_DIR=/run/user/1000 XDG_MENU_PREFIX=xfce- LANG=de_DE.UTF-8 XDG_CURRENT_DESKTOP=XFCE XDG_SESSION_DESKTOP=xubuntu XAUTHORITY=/home/wildef/.Xauthority XDG_GREETER_DATA_DIR=/var/lib/lightdm-data/wildef SSH_AUTH_SOCK=/run/user/1000/keyring/ssh SHELL=/bin/bash QT_ACCESSIBILITY=1 GDMSESSION=xubuntu GPG_AGENT_INFO=/run/user/1000/gnupg/S.gpg-agent:0:1 XDG_VTNR=7 PWD=/home/wildef XDG_CONFIG_DIRS=/etc/xdg/xdg-xubuntu:/etc/xdg:/etc/xdg XDG_DATA_DIRS=/usr/share/xubuntu:/usr/share/xfce4:/usr/local/share:/usr/share:/var/lib/snapd/desktop:/usr/share SESSION_MANAGER=local/wildef-ThinkPad-T14s-Gen-1:@/tmp/.ICE-unix/1295,unix/wildef-ThinkPad-T14s-Gen-1:/tmp/.ICE-unix/1295 DISPLAY=:0.0\n",
      "wildef      1745  0.0  0.0 247412  5248 ?        Sl   08:27   0:00          \\_ /usr/libexec/geoclue-2.0/demos/agent LANGUAGE=de_DE USER=wildef XDG_SEAT=seat0 XDG_SESSION_TYPE=x11 SSH_AGENT_PID=1450 SHLVL=0 HOME=/home/wildef DESKTOP_SESSION=xubuntu XDG_SEAT_PATH=/org/freedesktop/DisplayManager/Seat0 DBUS_SESSION_BUS_ADDRESS=unix:path=/run/user/1000/bus QT_QPA_PLATFORMTHEME=gtk2 LOGNAME=wildef XDG_SESSION_CLASS=user CLUTTER_BACKEND=x11 GTK_OVERLAY_SCROLLING=0 XDG_SESSION_ID=c2 PATH=/home/wildef/.local/bin:/usr/local/sbin:/usr/local/bin:/usr/sbin:/usr/bin:/sbin:/bin:/usr/games:/usr/local/games:/snap/bin GDM_LANG=de_DE XDG_SESSION_PATH=/org/freedesktop/DisplayManager/Session0 XDG_RUNTIME_DIR=/run/user/1000 XDG_MENU_PREFIX=xfce- LANG=de_DE.UTF-8 XDG_CURRENT_DESKTOP=XFCE XDG_SESSION_DESKTOP=xubuntu XAUTHORITY=/home/wildef/.Xauthority XDG_GREETER_DATA_DIR=/var/lib/lightdm-data/wildef SSH_AUTH_SOCK=/run/user/1000/keyring/ssh SHELL=/bin/bash QT_ACCESSIBILITY=1 GDMSESSION=xubuntu GPG_AGENT_INFO=/run/user/1000/gnupg/S.gpg-agent:0:1 XDG_VTNR=7 PWD=/home/wildef XDG_CONFIG_DIRS=/etc/xdg/xdg-xubuntu:/etc/xdg:/etc/xdg XDG_DATA_DIRS=/usr/share/xubuntu:/usr/share/xfce4:/usr/local/share:/usr/share:/var/lib/snapd/desktop:/usr/share SESSION_MANAGER=local/wildef-ThinkPad-T14s-Gen-1:@/tmp/.ICE-unix/1295,unix/wildef-ThinkPad-T14s-Gen-1:/tmp/.ICE-unix/1295 DISPLAY=:0.0\n",
      "wildef      1749  0.0  0.2  71940 35800 ?        S    08:27   0:00          \\_ /usr/bin/python3 /usr/share/system-config-printer/applet.py LANGUAGE=de_DE USER=wildef XDG_SEAT=seat0 XDG_SESSION_TYPE=x11 SSH_AGENT_PID=1450 SHLVL=0 HOME=/home/wildef DESKTOP_SESSION=xubuntu XDG_SEAT_PATH=/org/freedesktop/DisplayManager/Seat0 DBUS_SESSION_BUS_ADDRESS=unix:path=/run/user/1000/bus QT_QPA_PLATFORMTHEME=gtk2 LOGNAME=wildef XDG_SESSION_CLASS=user CLUTTER_BACKEND=x11 GTK_OVERLAY_SCROLLING=0 XDG_SESSION_ID=c2 PATH=/home/wildef/.local/bin:/usr/local/sbin:/usr/local/bin:/usr/sbin:/usr/bin:/sbin:/bin:/usr/games:/usr/local/games:/snap/bin GDM_LANG=de_DE SESSION_MANAGER=local/wildef-ThinkPad-T14s-Gen-1:@/tmp/.ICE-unix/1295,unix/wildef-ThinkPad-T14s-Gen-1:/tmp/.ICE-unix/1295 XDG_SESSION_PATH=/org/freedesktop/DisplayManager/Session0 XDG_RUNTIME_DIR=/run/user/1000 XDG_MENU_PREFIX=xfce- DISPLAY=:0.0 LANG=de_DE.UTF-8 XDG_CURRENT_DESKTOP=XFCE XDG_SESSION_DESKTOP=xubuntu XAUTHORITY=/home/wildef/.Xauthority XDG_GREETER_DATA_DIR=/var/lib/lightdm-data/wildef SSH_AUTH_SOCK=/run/user/1000/keyring/ssh SHELL=/bin/bash QT_ACCESSIBILITY=1 GDMSESSION=xubuntu GPG_AGENT_INFO=/run/user/1000/gnupg/S.gpg-agent:0:1 XDG_VTNR=7 PWD=/home/wildef XDG_CONFIG_DIRS=/etc/xdg/xdg-xubuntu:/etc/xdg:/etc/xdg XDG_DATA_DIRS=/usr/share/xubuntu:/usr/share/xfce4:/usr/local/share:/usr/share:/var/lib/snapd/desktop:/usr/share\n",
      "wildef      1751  0.0  0.1 199332 17000 ?        Sl   08:27   0:00          \\_ /usr/lib/policykit-1-gnome/polkit-gnome-authentication-agent-1 LANGUAGE=de_DE USER=wildef XDG_SEAT=seat0 XDG_SESSION_TYPE=x11 SSH_AGENT_PID=1450 SHLVL=0 HOME=/home/wildef DESKTOP_SESSION=xubuntu XDG_SEAT_PATH=/org/freedesktop/DisplayManager/Seat0 DBUS_SESSION_BUS_ADDRESS=unix:path=/run/user/1000/bus QT_QPA_PLATFORMTHEME=gtk2 LOGNAME=wildef XDG_SESSION_CLASS=user CLUTTER_BACKEND=x11 GTK_OVERLAY_SCROLLING=0 XDG_SESSION_ID=c2 PATH=/home/wildef/.local/bin:/usr/local/sbin:/usr/local/bin:/usr/sbin:/usr/bin:/sbin:/bin:/usr/games:/usr/local/games:/snap/bin GDM_LANG=de_DE XDG_SESSION_PATH=/org/freedesktop/DisplayManager/Session0 XDG_RUNTIME_DIR=/run/user/1000 XDG_MENU_PREFIX=xfce- LANG=de_DE.UTF-8 XDG_CURRENT_DESKTOP=XFCE XDG_SESSION_DESKTOP=xubuntu XAUTHORITY=/home/wildef/.Xauthority XDG_GREETER_DATA_DIR=/var/lib/lightdm-data/wildef SSH_AUTH_SOCK=/run/user/1000/keyring/ssh SHELL=/bin/bash QT_ACCESSIBILITY=1 GDMSESSION=xubuntu GPG_AGENT_INFO=/run/user/1000/gnupg/S.gpg-agent:0:1 XDG_VTNR=7 PWD=/home/wildef XDG_CONFIG_DIRS=/etc/xdg/xdg-xubuntu:/etc/xdg:/etc/xdg XDG_DATA_DIRS=/usr/share/xubuntu:/usr/share/xfce4:/usr/local/share:/usr/share:/var/lib/snapd/desktop:/usr/share SESSION_MANAGER=local/wildef-ThinkPad-T14s-Gen-1:@/tmp/.ICE-unix/1295,unix/wildef-ThinkPad-T14s-Gen-1:/tmp/.ICE-unix/1295 DISPLAY=:0.0\n",
      "root         949  0.0  0.0  82072 14376 ?        Ss   08:27   0:00 /usr/sbin/cupsd -l\n",
      "lp          6393  0.0  0.0  16236  6736 ?        S    08:40   0:00  \\_ /usr/lib/cups/notifier/dbus dbus://\n",
      "root        1000  0.0  0.1 128732 22516 ?        Ssl  08:27   0:00 /usr/bin/python3 /usr/share/unattended-upgrades/unattended-upgrade-shutdown --wait-for-signal\n",
      "root        1008  0.0  0.0  18792  1612 tty1     Ss+  08:27   0:00 /sbin/agetty -o -p -- \\u --noclear tty1 linux\n",
      "rtkit       1132  0.0  0.0 153800  3260 ?        SNsl 08:27   0:00 /usr/libexec/rtkit-daemon\n",
      "whoopsie    1225  0.0  0.0 251848 14700 ?        Ssl  08:27   0:00 /usr/bin/whoopsie -f\n",
      "kernoops    1227  0.0  0.0  12140   444 ?        Ss   08:27   0:00 /usr/sbin/kerneloops --test\n",
      "kernoops    1230  0.0  0.0  12140   444 ?        Ss   08:27   0:00 /usr/sbin/kerneloops\n",
      "wildef      1269  0.0  0.0  19936 10392 ?        Ss   08:27   0:00 /lib/systemd/systemd --user LANG=de_DE.UTF-8 PATH=/usr/local/sbin:/usr/local/bin:/usr/sbin:/usr/bin:/sbin:/bin:/snap/bin NOTIFY_SOCKET=/run/systemd/notify HOME=/home/wildef LOGNAME=wildef USER=wildef SHELL=/bin/bash INVOCATION_ID=bcc17de4190e4bcaa82b2743190a46b3 JOURNAL_STREAM=8:40421 XDG_RUNTIME_DIR=/run/user/1000\n",
      "wildef      1270  0.0  0.0 172280  3948 ?        S    08:27   0:00  \\_ (sd-pam)\n",
      "wildef      1289  0.0  0.1 781580 19704 ?        S<sl 08:27   0:00  \\_ /usr/bin/pulseaudio --daemonize=no --log-target=journal HOME=/home/wildef LANG=de_DE.UTF-8 LOGNAME=wildef PATH=/usr/local/sbin:/usr/local/bin:/usr/sbin:/usr/bin:/sbin:/bin:/usr/games:/usr/local/games:/snap/bin:/snap/bin SHELL=/bin/bash USER=wildef XDG_RUNTIME_DIR=/run/user/1000 QT_ACCESSIBILITY=1 XDG_DATA_DIRS=/usr/local/share/:/usr/share/:/var/lib/snapd/desktop DBUS_SESSION_BUS_ADDRESS=unix:path=/run/user/1000/bus NOTIFY_SOCKET=/run/user/1000/systemd/notify MANAGERPID=1269 LISTEN_PID=1289 LISTEN_FDS=1 LISTEN_FDNAMES=pulseaudio.socket INVOCATION_ID=b2b7ffa782e04f64aa94999aa6fb047b JOURNAL_STREAM=8:51233\n",
      "wildef      1299  0.1  0.0   8808  5320 ?        Ss   08:27   0:00  \\_ /usr/bin/dbus-daemon --session --address=systemd: --nofork --nopidfile --systemd-activation --syslog-only HOME=/home/wildef LANG=de_DE.UTF-8 LOGNAME=wildef PATH=/usr/local/sbin:/usr/local/bin:/usr/sbin:/usr/bin:/sbin:/bin:/usr/games:/usr/local/games:/snap/bin:/snap/bin SHELL=/bin/bash USER=wildef XDG_RUNTIME_DIR=/run/user/1000 QT_ACCESSIBILITY=1 XDG_DATA_DIRS=/usr/local/share/:/usr/share/:/var/lib/snapd/desktop DBUS_SESSION_BUS_ADDRESS=unix:path=/run/user/1000/bus MANAGERPID=1269 LISTEN_PID=1299 LISTEN_FDS=1 LISTEN_FDNAMES=dbus.socket INVOCATION_ID=161f41e8677042e8903e0fba811d7f85 JOURNAL_STREAM=8:41321\n",
      "wildef      1534  0.0  0.0 305448  6460 ?        Ssl  08:27   0:00  \\_ /usr/libexec/at-spi-bus-launcher HOME=/home/wildef LANG=de_DE.UTF-8 LOGNAME=wildef PATH=/home/wildef/.local/bin:/usr/local/sbin:/usr/local/bin:/usr/sbin:/usr/bin:/sbin:/bin:/usr/games:/usr/local/games:/snap/bin SHELL=/bin/bash USER=wildef XDG_RUNTIME_DIR=/run/user/1000 QT_ACCESSIBILITY=1 XDG_DATA_DIRS=/usr/share/xubuntu:/usr/share/xfce4:/usr/local/share:/usr/share:/var/lib/snapd/desktop CLUTTER_BACKEND=x11 DBUS_SESSION_BUS_ADDRESS=unix:path=/run/user/1000/bus DESKTOP_SESSION=xubuntu DISPLAY=:0 GDMSESSION=xubuntu GDM_LANG=de_DE GPG_AGENT_INFO=/run/user/1000/gnupg/S.gpg-agent:0:1 GTK_OVERLAY_SCROLLING=0 IM_CONFIG_PHASE=1 LANGUAGE=de_DE PWD=/home/wildef QT_QPA_PLATFORMTHEME=gtk2 SHLVL=1 XAUTHLOCALHOSTNAME= XAUTHORITY=/home/wildef/.Xauthority XDG_CONFIG_DIRS=/etc/xdg/xdg-xubuntu:/etc/xdg XDG_CURRENT_DESKTOP=XFCE XDG_GREETER_DATA_DIR=/var/lib/lightdm-data/wildef XDG_SEAT_PATH=/org/freedesktop/DisplayManager/Seat0 XDG_SESSION_CLASS=user XDG_SESSION_DESKTOP=xubuntu XDG_SESSION_PATH=/org/freedesktop/DisplayManager/Session0 XDG_SESSION_TYPE=x11 _=/usr/bin/dbus-update-activation-environment MANAGERPID=1269 INVOCATION_ID=ad6db26cc03244eda17ae225d15cdcef JOURNAL_STREAM=8:43461\n",
      "wildef      1539  0.0  0.0   8232  4580 ?        S    08:27   0:00  |   \\_ /usr/bin/dbus-daemon --config-file=/usr/share/defaults/at-spi2/accessibility.conf --nofork --print-address 3 HOME=/home/wildef LANG=de_DE.UTF-8 LOGNAME=wildef PATH=/home/wildef/.local/bin:/usr/local/sbin:/usr/local/bin:/usr/sbin:/usr/bin:/sbin:/bin:/usr/games:/usr/local/games:/snap/bin SHELL=/bin/bash USER=wildef XDG_RUNTIME_DIR=/run/user/1000 QT_ACCESSIBILITY=1 XDG_DATA_DIRS=/usr/share/xubuntu:/usr/share/xfce4:/usr/local/share:/usr/share:/var/lib/snapd/desktop CLUTTER_BACKEND=x11 DBUS_SESSION_BUS_ADDRESS=unix:path=/run/user/1000/bus DESKTOP_SESSION=xubuntu DISPLAY=:0 GDMSESSION=xubuntu GDM_LANG=de_DE GPG_AGENT_INFO=/run/user/1000/gnupg/S.gpg-agent:0:1 GTK_OVERLAY_SCROLLING=0 IM_CONFIG_PHASE=1 LANGUAGE=de_DE PWD=/home/wildef QT_QPA_PLATFORMTHEME=gtk2 SHLVL=1 XAUTHLOCALHOSTNAME= XAUTHORITY=/home/wildef/.Xauthority XDG_CONFIG_DIRS=/etc/xdg/xdg-xubuntu:/etc/xdg XDG_CURRENT_DESKTOP=XFCE XDG_GREETER_DATA_DIR=/var/lib/lightdm-data/wildef XDG_SEAT_PATH=/org/freedesktop/DisplayManager/Seat0 XDG_SESSION_CLASS=user XDG_SESSION_DESKTOP=xubuntu XDG_SESSION_PATH=/org/freedesktop/DisplayManager/Session0 XDG_SESSION_TYPE=x11 _=/usr/bin/dbus-update-activation-environment MANAGERPID=1269 INVOCATION_ID=ad6db26cc03244eda17ae225d15cdcef JOURNAL_STREAM=8:43461\n",
      "wildef      1543  0.0  0.0 230312  6108 ?        Sl   08:27   0:00  \\_ /usr/lib/x86_64-linux-gnu/xfce4/xfconf/xfconfd SHELL=/bin/bash DBUS_STARTER_ADDRESS=unix:path=/run/user/1000/bus,guid=f3c0a78960bfbb8da3fceff06151645b XDG_CURRENT_DESKTOP=XFCE XDG_SESSION_PATH=/org/freedesktop/DisplayManager/Session0 DISPLAY=:0 XDG_RUNTIME_DIR=/run/user/1000 QT_ACCESSIBILITY=1 DESKTOP_SESSION=xubuntu GTK_OVERLAY_SCROLLING=0 XDG_GREETER_DATA_DIR=/var/lib/lightdm-data/wildef PATH=/home/wildef/.local/bin:/usr/local/sbin:/usr/local/bin:/usr/sbin:/usr/bin:/sbin:/bin:/usr/games:/usr/local/games:/snap/bin GDMSESSION=xubuntu XDG_SESSION_TYPE=x11 XDG_DATA_DIRS=/usr/share/xubuntu:/usr/share/xfce4:/usr/local/share:/usr/share:/var/lib/snapd/desktop LANGUAGE=de_DE JOURNAL_STREAM=8:41321 IM_CONFIG_PHASE=1 GPG_AGENT_INFO=/run/user/1000/gnupg/S.gpg-agent:0:1 DBUS_SESSION_BUS_ADDRESS=unix:path=/run/user/1000/bus,guid=f3c0a78960bfbb8da3fceff06151645b INVOCATION_ID=161f41e8677042e8903e0fba811d7f85 XDG_SESSION_CLASS=user XDG_SEAT_PATH=/org/freedesktop/DisplayManager/Seat0 XAUTHORITY=/home/wildef/.Xauthority USER=wildef DBUS_STARTER_BUS_TYPE=session SHLVL=1 GDM_LANG=de_DE QT_QPA_PLATFORMTHEME=gtk2 PWD=/home/wildef XAUTHLOCALHOSTNAME= CLUTTER_BACKEND=x11 LANG=de_DE.UTF-8 MANAGERPID=1269 _=/usr/bin/dbus-update-activation-environment XDG_SESSION_DESKTOP=xubuntu XDG_CONFIG_DIRS=/etc/xdg/xdg-xubuntu:/etc/xdg HOME=/home/wildef LOGNAME=wildef\n",
      "wildef      1549  0.0  0.0 163704  7596 ?        Sl   08:27   0:00  \\_ /usr/libexec/at-spi2-registryd --use-gnome-session SHELL=/bin/bash DBUS_STARTER_ADDRESS=unix:abstract=/tmp/dbus-IrgHwkwJt1,guid=c5812f6ff1503aa911ffdb9a6151645c XDG_SESSION_PATH=/org/freedesktop/DisplayManager/Session0 XDG_CURRENT_DESKTOP=XFCE DISPLAY=:0 XDG_RUNTIME_DIR=/run/user/1000 QT_ACCESSIBILITY=1 DESKTOP_SESSION=xubuntu XDG_GREETER_DATA_DIR=/var/lib/lightdm-data/wildef GTK_OVERLAY_SCROLLING=0 PATH=/home/wildef/.local/bin:/usr/local/sbin:/usr/local/bin:/usr/sbin:/usr/bin:/sbin:/bin:/usr/games:/usr/local/games:/snap/bin GDMSESSION=xubuntu XDG_SESSION_TYPE=x11 XDG_DATA_DIRS=/usr/share/xubuntu:/usr/share/xfce4:/usr/local/share:/usr/share:/var/lib/snapd/desktop JOURNAL_STREAM=8:43461 LANGUAGE=de_DE IM_CONFIG_PHASE=1 GPG_AGENT_INFO=/run/user/1000/gnupg/S.gpg-agent:0:1 DBUS_SESSION_BUS_ADDRESS=unix:path=/run/user/1000/bus INVOCATION_ID=ad6db26cc03244eda17ae225d15cdcef XDG_SESSION_CLASS=user XDG_SEAT_PATH=/org/freedesktop/DisplayManager/Seat0 XAUTHORITY=/home/wildef/.Xauthority USER=wildef DBUS_STARTER_BUS_TYPE=accessibility SHLVL=1 QT_QPA_PLATFORMTHEME=gtk2 PWD=/home/wildef GDM_LANG=de_DE MANAGERPID=1269 XAUTHLOCALHOSTNAME= LANG=de_DE.UTF-8 CLUTTER_BACKEND=x11 _=/usr/bin/dbus-update-activation-environment XDG_SESSION_DESKTOP=xubuntu XDG_CONFIG_DIRS=/etc/xdg/xdg-xubuntu:/etc/xdg HOME=/home/wildef LOGNAME=wildef\n",
      "wildef      1553  0.0  0.1 242152 27568 ?        Sl   08:27   0:00  \\_ /usr/bin/xfce4-screensaver --no-daemon SHELL=/bin/bash DBUS_STARTER_ADDRESS=unix:path=/run/user/1000/bus,guid=f3c0a78960bfbb8da3fceff06151645b XDG_CURRENT_DESKTOP=XFCE XDG_SESSION_PATH=/org/freedesktop/DisplayManager/Session0 DISPLAY=:0 XDG_RUNTIME_DIR=/run/user/1000 QT_ACCESSIBILITY=1 DESKTOP_SESSION=xubuntu GTK_OVERLAY_SCROLLING=0 XDG_GREETER_DATA_DIR=/var/lib/lightdm-data/wildef PATH=/home/wildef/.local/bin:/usr/local/sbin:/usr/local/bin:/usr/sbin:/usr/bin:/sbin:/bin:/usr/games:/usr/local/games:/snap/bin GDMSESSION=xubuntu XDG_SESSION_TYPE=x11 XDG_DATA_DIRS=/usr/share/xubuntu:/usr/share/xfce4:/usr/local/share:/usr/share:/var/lib/snapd/desktop LANGUAGE=de_DE JOURNAL_STREAM=8:41321 IM_CONFIG_PHASE=1 GPG_AGENT_INFO=/run/user/1000/gnupg/S.gpg-agent:0:1 DBUS_SESSION_BUS_ADDRESS=unix:path=/run/user/1000/bus,guid=f3c0a78960bfbb8da3fceff06151645b INVOCATION_ID=161f41e8677042e8903e0fba811d7f85 XDG_SESSION_CLASS=user XDG_SEAT_PATH=/org/freedesktop/DisplayManager/Seat0 XAUTHORITY=/home/wildef/.Xauthority USER=wildef DBUS_STARTER_BUS_TYPE=session SHLVL=1 GDM_LANG=de_DE QT_QPA_PLATFORMTHEME=gtk2 PWD=/home/wildef XAUTHLOCALHOSTNAME= CLUTTER_BACKEND=x11 LANG=de_DE.UTF-8 MANAGERPID=1269 _=/usr/bin/dbus-update-activation-environment XDG_SESSION_DESKTOP=xubuntu XDG_CONFIG_DIRS=/etc/xdg/xdg-xubuntu:/etc/xdg HOME=/home/wildef LOGNAME=wildef\n",
      "wildef      1556  0.0  0.0 250308  7872 ?        Ssl  08:27   0:00  \\_ /usr/libexec/gvfsd HOME=/home/wildef LANG=de_DE.UTF-8 LOGNAME=wildef PATH=/home/wildef/.local/bin:/usr/local/sbin:/usr/local/bin:/usr/sbin:/usr/bin:/sbin:/bin:/usr/games:/usr/local/games:/snap/bin SHELL=/bin/bash USER=wildef XDG_RUNTIME_DIR=/run/user/1000 QT_ACCESSIBILITY=1 XDG_DATA_DIRS=/usr/share/xubuntu:/usr/share/xfce4:/usr/local/share:/usr/share:/var/lib/snapd/desktop CLUTTER_BACKEND=x11 DBUS_SESSION_BUS_ADDRESS=unix:path=/run/user/1000/bus DESKTOP_SESSION=xubuntu DISPLAY=:0 GDMSESSION=xubuntu GDM_LANG=de_DE GPG_AGENT_INFO=/run/user/1000/gnupg/S.gpg-agent:0:1 GTK_OVERLAY_SCROLLING=0 IM_CONFIG_PHASE=1 LANGUAGE=de_DE PWD=/home/wildef QT_QPA_PLATFORMTHEME=gtk2 SHLVL=1 XAUTHLOCALHOSTNAME= XAUTHORITY=/home/wildef/.Xauthority XDG_CONFIG_DIRS=/etc/xdg/xdg-xubuntu:/etc/xdg XDG_CURRENT_DESKTOP=XFCE XDG_GREETER_DATA_DIR=/var/lib/lightdm-data/wildef XDG_SEAT_PATH=/org/freedesktop/DisplayManager/Seat0 XDG_SESSION_CLASS=user XDG_SESSION_DESKTOP=xubuntu XDG_SESSION_PATH=/org/freedesktop/DisplayManager/Session0 XDG_SESSION_TYPE=x11 _=/usr/bin/dbus-update-activation-environment MANAGERPID=1269 INVOCATION_ID=526f5e43615b467cab0b3c8167d7b7ba JOURNAL_STREAM=8:43514\n",
      "wildef      1878  0.0  0.0 324708  8276 ?        Sl   08:27   0:00  |   \\_ /usr/libexec/gvfsd-trash --spawner :1.14 /org/gtk/gvfs/exec_spaw/0 HOME=/home/wildef LANG=de_DE.UTF-8 LOGNAME=wildef PATH=/home/wildef/.local/bin:/usr/local/sbin:/usr/local/bin:/usr/sbin:/usr/bin:/sbin:/bin:/usr/games:/usr/local/games:/snap/bin SHELL=/bin/bash USER=wildef XDG_RUNTIME_DIR=/run/user/1000 QT_ACCESSIBILITY=1 XDG_DATA_DIRS=/usr/share/xubuntu:/usr/share/xfce4:/usr/local/share:/usr/share:/var/lib/snapd/desktop CLUTTER_BACKEND=x11 DBUS_SESSION_BUS_ADDRESS=unix:path=/run/user/1000/bus DESKTOP_SESSION=xubuntu DISPLAY=:0 GDMSESSION=xubuntu GDM_LANG=de_DE GPG_AGENT_INFO=/run/user/1000/gnupg/S.gpg-agent:0:1 GTK_OVERLAY_SCROLLING=0 IM_CONFIG_PHASE=1 LANGUAGE=de_DE PWD=/home/wildef QT_QPA_PLATFORMTHEME=gtk2 SHLVL=1 XAUTHLOCALHOSTNAME= XAUTHORITY=/home/wildef/.Xauthority XDG_CONFIG_DIRS=/etc/xdg/xdg-xubuntu:/etc/xdg XDG_CURRENT_DESKTOP=XFCE XDG_GREETER_DATA_DIR=/var/lib/lightdm-data/wildef XDG_SEAT_PATH=/org/freedesktop/DisplayManager/Seat0 XDG_SESSION_CLASS=user XDG_SESSION_DESKTOP=xubuntu XDG_SESSION_PATH=/org/freedesktop/DisplayManager/Session0 XDG_SESSION_TYPE=x11 _=/usr/bin/dbus-update-activation-environment MANAGERPID=1269 INVOCATION_ID=526f5e43615b467cab0b3c8167d7b7ba JOURNAL_STREAM=8:43514\n",
      "wildef      1561  0.0  0.0 378344  6536 ?        Sl   08:27   0:00  \\_ /usr/libexec/gvfsd-fuse /run/user/1000/gvfs -f -o big_writes HOME=/home/wildef LANG=de_DE.UTF-8 LOGNAME=wildef PATH=/home/wildef/.local/bin:/usr/local/sbin:/usr/local/bin:/usr/sbin:/usr/bin:/sbin:/bin:/usr/games:/usr/local/games:/snap/bin SHELL=/bin/bash USER=wildef XDG_RUNTIME_DIR=/run/user/1000 QT_ACCESSIBILITY=1 XDG_DATA_DIRS=/usr/share/xubuntu:/usr/share/xfce4:/usr/local/share:/usr/share:/var/lib/snapd/desktop CLUTTER_BACKEND=x11 DBUS_SESSION_BUS_ADDRESS=unix:path=/run/user/1000/bus DESKTOP_SESSION=xubuntu DISPLAY=:0 GDMSESSION=xubuntu GDM_LANG=de_DE GPG_AGENT_INFO=/run/user/1000/gnupg/S.gpg-agent:0:1 GTK_OVERLAY_SCROLLING=0 IM_CONFIG_PHASE=1 LANGUAGE=de_DE PWD=/home/wildef QT_QPA_PLATFORMTHEME=gtk2 SHLVL=1 XAUTHLOCALHOSTNAME= XAUTHORITY=/home/wildef/.Xauthority XDG_CONFIG_DIRS=/etc/xdg/xdg-xubuntu:/etc/xdg XDG_CURRENT_DESKTOP=XFCE XDG_GREETER_DATA_DIR=/var/lib/lightdm-data/wildef XDG_SEAT_PATH=/org/freedesktop/DisplayManager/Seat0 XDG_SESSION_CLASS=user XDG_SESSION_DESKTOP=xubuntu XDG_SESSION_PATH=/org/freedesktop/DisplayManager/Session0 XDG_SESSION_TYPE=x11 _=/usr/bin/dbus-update-activation-environment MANAGERPID=1269 INVOCATION_ID=526f5e43615b467cab0b3c8167d7b7ba JOURNAL_STREAM=8:43514\n",
      "wildef      1696  0.0  0.1 276072 17828 ?        Ssl  08:27   0:00  \\_ /usr/lib/x86_64-linux-gnu/xfce4/notifyd/xfce4-notifyd HOME=/home/wildef LANG=de_DE.UTF-8 LOGNAME=wildef PATH=/home/wildef/.local/bin:/usr/local/sbin:/usr/local/bin:/usr/sbin:/usr/bin:/sbin:/bin:/usr/games:/usr/local/games:/snap/bin SHELL=/bin/bash USER=wildef XDG_RUNTIME_DIR=/run/user/1000 QT_ACCESSIBILITY=1 XDG_DATA_DIRS=/usr/share/xubuntu:/usr/share/xfce4:/usr/local/share:/usr/share:/var/lib/snapd/desktop CLUTTER_BACKEND=x11 DBUS_SESSION_BUS_ADDRESS=unix:path=/run/user/1000/bus DESKTOP_SESSION=xubuntu DISPLAY=:0 GDMSESSION=xubuntu GDM_LANG=de_DE GPG_AGENT_INFO=/run/user/1000/gnupg/S.gpg-agent:0:1 GTK_OVERLAY_SCROLLING=0 IM_CONFIG_PHASE=1 LANGUAGE=de_DE PWD=/home/wildef QT_QPA_PLATFORMTHEME=gtk2 SHLVL=1 XAUTHLOCALHOSTNAME= XAUTHORITY=/home/wildef/.Xauthority XDG_CONFIG_DIRS=/etc/xdg/xdg-xubuntu:/etc/xdg XDG_CURRENT_DESKTOP=XFCE XDG_GREETER_DATA_DIR=/var/lib/lightdm-data/wildef XDG_SEAT_PATH=/org/freedesktop/DisplayManager/Seat0 XDG_SESSION_CLASS=user XDG_SESSION_DESKTOP=xubuntu XDG_SESSION_PATH=/org/freedesktop/DisplayManager/Session0 XDG_SESSION_TYPE=x11 _=/usr/bin/dbus-update-activation-environment MANAGERPID=1269 INVOCATION_ID=d66dd5cf849d4b0b99bcd1dc02d37cc6 JOURNAL_STREAM=8:39850\n",
      "wildef      1703  0.0  0.0 324028  8276 ?        Ssl  08:27   0:00  \\_ /usr/lib/x86_64-linux-gnu/indicator-messages/indicator-messages-service HOME=/home/wildef LANG=de_DE.UTF-8 LOGNAME=wildef PATH=/home/wildef/.local/bin:/usr/local/sbin:/usr/local/bin:/usr/sbin:/usr/bin:/sbin:/bin:/usr/games:/usr/local/games:/snap/bin SHELL=/bin/bash USER=wildef XDG_RUNTIME_DIR=/run/user/1000 QT_ACCESSIBILITY=1 XDG_DATA_DIRS=/usr/share/xubuntu:/usr/share/xfce4:/usr/local/share:/usr/share:/var/lib/snapd/desktop CLUTTER_BACKEND=x11 DBUS_SESSION_BUS_ADDRESS=unix:path=/run/user/1000/bus DESKTOP_SESSION=xubuntu DISPLAY=:0 GDMSESSION=xubuntu GDM_LANG=de_DE GPG_AGENT_INFO=/run/user/1000/gnupg/S.gpg-agent:0:1 GTK_OVERLAY_SCROLLING=0 IM_CONFIG_PHASE=1 LANGUAGE=de_DE PWD=/home/wildef QT_QPA_PLATFORMTHEME=gtk2 SHLVL=1 XAUTHLOCALHOSTNAME= XAUTHORITY=/home/wildef/.Xauthority XDG_CONFIG_DIRS=/etc/xdg/xdg-xubuntu:/etc/xdg XDG_CURRENT_DESKTOP=XFCE XDG_GREETER_DATA_DIR=/var/lib/lightdm-data/wildef XDG_SEAT_PATH=/org/freedesktop/DisplayManager/Seat0 XDG_SESSION_CLASS=user XDG_SESSION_DESKTOP=xubuntu XDG_SESSION_PATH=/org/freedesktop/DisplayManager/Session0 XDG_SESSION_TYPE=x11 _=/usr/bin/dbus-update-activation-environment MANAGERPID=1269 INVOCATION_ID=e5796bfeef904e00b702078fe79e2523 JOURNAL_STREAM=8:47467\n",
      "wildef      1773  0.0  0.0 156216  5676 ?        Sl   08:27   0:00  \\_ /usr/libexec/dconf-service SHELL=/bin/bash DBUS_STARTER_ADDRESS=unix:path=/run/user/1000/bus,guid=f3c0a78960bfbb8da3fceff06151645b XDG_CURRENT_DESKTOP=XFCE XDG_SESSION_PATH=/org/freedesktop/DisplayManager/Session0 DISPLAY=:0 XDG_RUNTIME_DIR=/run/user/1000 QT_ACCESSIBILITY=1 DESKTOP_SESSION=xubuntu GTK_OVERLAY_SCROLLING=0 XDG_GREETER_DATA_DIR=/var/lib/lightdm-data/wildef PATH=/home/wildef/.local/bin:/usr/local/sbin:/usr/local/bin:/usr/sbin:/usr/bin:/sbin:/bin:/usr/games:/usr/local/games:/snap/bin GDMSESSION=xubuntu XDG_SESSION_TYPE=x11 XDG_DATA_DIRS=/usr/share/xubuntu:/usr/share/xfce4:/usr/local/share:/usr/share:/var/lib/snapd/desktop LANGUAGE=de_DE JOURNAL_STREAM=8:41321 IM_CONFIG_PHASE=1 GPG_AGENT_INFO=/run/user/1000/gnupg/S.gpg-agent:0:1 DBUS_SESSION_BUS_ADDRESS=unix:path=/run/user/1000/bus,guid=f3c0a78960bfbb8da3fceff06151645b INVOCATION_ID=161f41e8677042e8903e0fba811d7f85 XDG_SESSION_CLASS=user XDG_SEAT_PATH=/org/freedesktop/DisplayManager/Seat0 XAUTHORITY=/home/wildef/.Xauthority USER=wildef DBUS_STARTER_BUS_TYPE=session SHLVL=1 GDM_LANG=de_DE QT_QPA_PLATFORMTHEME=gtk2 PWD=/home/wildef XAUTHLOCALHOSTNAME= CLUTTER_BACKEND=x11 LANG=de_DE.UTF-8 MANAGERPID=1269 _=/usr/bin/dbus-update-activation-environment XDG_SESSION_DESKTOP=xubuntu XDG_CONFIG_DIRS=/etc/xdg/xdg-xubuntu:/etc/xdg HOME=/home/wildef LOGNAME=wildef\n",
      "wildef      1823  0.0  0.4 323048 63628 ?        Sl   08:27   0:00  \\_ /usr/bin/python3 /usr/share/system-config-printer/scp-dbus-service.py LANGUAGE=de_DE USER=wildef XAUTHLOCALHOSTNAME= XDG_SESSION_TYPE=x11 SHLVL=1 HOME=/home/wildef DESKTOP_SESSION=xubuntu XDG_SEAT_PATH=/org/freedesktop/DisplayManager/Seat0 MANAGERPID=1269 DBUS_SESSION_BUS_ADDRESS=unix:path=/run/user/1000/bus,guid=f3c0a78960bfbb8da3fceff06151645b DBUS_STARTER_BUS_TYPE=session IM_CONFIG_PHASE=1 QT_QPA_PLATFORMTHEME=gtk2 LOGNAME=wildef JOURNAL_STREAM=8:41321 _=/usr/bin/dbus-update-activation-environment XDG_SESSION_CLASS=user GTK_OVERLAY_SCROLLING=0 CLUTTER_BACKEND=x11 PATH=/home/wildef/.local/bin:/usr/local/sbin:/usr/local/bin:/usr/sbin:/usr/bin:/sbin:/bin:/usr/games:/usr/local/games:/snap/bin INVOCATION_ID=161f41e8677042e8903e0fba811d7f85 GDM_LANG=de_DE XDG_SESSION_PATH=/org/freedesktop/DisplayManager/Session0 XDG_RUNTIME_DIR=/run/user/1000 DISPLAY=:0 XDG_CURRENT_DESKTOP=XFCE LANG=de_DE.UTF-8 XAUTHORITY=/home/wildef/.Xauthority XDG_SESSION_DESKTOP=xubuntu XDG_GREETER_DATA_DIR=/var/lib/lightdm-data/wildef SHELL=/bin/bash QT_ACCESSIBILITY=1 GDMSESSION=xubuntu GPG_AGENT_INFO=/run/user/1000/gnupg/S.gpg-agent:0:1 PWD=/home/wildef DBUS_STARTER_ADDRESS=unix:path=/run/user/1000/bus,guid=f3c0a78960bfbb8da3fceff06151645b XDG_DATA_DIRS=/usr/share/xubuntu:/usr/share/xfce4:/usr/local/share:/usr/share:/var/lib/snapd/desktop XDG_CONFIG_DIRS=/etc/xdg/xdg-xubuntu:/etc/xdg\n",
      "wildef      1829  0.1  0.0 325804 10292 ?        Ssl  08:27   0:01  \\_ /usr/libexec/gvfs-udisks2-volume-monitor HOME=/home/wildef LANG=de_DE.UTF-8 LOGNAME=wildef PATH=/home/wildef/.local/bin:/usr/local/sbin:/usr/local/bin:/usr/sbin:/usr/bin:/sbin:/bin:/usr/games:/usr/local/games:/snap/bin SHELL=/bin/bash USER=wildef XDG_RUNTIME_DIR=/run/user/1000 QT_ACCESSIBILITY=1 XDG_DATA_DIRS=/usr/share/xubuntu:/usr/share/xfce4:/usr/local/share:/usr/share:/var/lib/snapd/desktop CLUTTER_BACKEND=x11 DBUS_SESSION_BUS_ADDRESS=unix:path=/run/user/1000/bus DESKTOP_SESSION=xubuntu DISPLAY=:0 GDMSESSION=xubuntu GDM_LANG=de_DE GPG_AGENT_INFO=/run/user/1000/gnupg/S.gpg-agent:0:1 GTK_OVERLAY_SCROLLING=0 IM_CONFIG_PHASE=1 LANGUAGE=de_DE PWD=/home/wildef QT_QPA_PLATFORMTHEME=gtk2 SHLVL=1 XAUTHLOCALHOSTNAME= XAUTHORITY=/home/wildef/.Xauthority XDG_CONFIG_DIRS=/etc/xdg/xdg-xubuntu:/etc/xdg XDG_CURRENT_DESKTOP=XFCE XDG_GREETER_DATA_DIR=/var/lib/lightdm-data/wildef XDG_SEAT_PATH=/org/freedesktop/DisplayManager/Seat0 XDG_SESSION_CLASS=user XDG_SESSION_DESKTOP=xubuntu XDG_SESSION_PATH=/org/freedesktop/DisplayManager/Session0 XDG_SESSION_TYPE=x11 _=/usr/bin/dbus-update-activation-environment MANAGERPID=1269 INVOCATION_ID=5c0a27e2008647afbe46b8b669b30851 JOURNAL_STREAM=8:35685\n",
      "wildef      1835  0.0  0.0 324880  7812 ?        Ssl  08:27   0:00  \\_ /usr/libexec/gvfs-afc-volume-monitor HOME=/home/wildef LANG=de_DE.UTF-8 LOGNAME=wildef PATH=/home/wildef/.local/bin:/usr/local/sbin:/usr/local/bin:/usr/sbin:/usr/bin:/sbin:/bin:/usr/games:/usr/local/games:/snap/bin SHELL=/bin/bash USER=wildef XDG_RUNTIME_DIR=/run/user/1000 QT_ACCESSIBILITY=1 XDG_DATA_DIRS=/usr/share/xubuntu:/usr/share/xfce4:/usr/local/share:/usr/share:/var/lib/snapd/desktop CLUTTER_BACKEND=x11 DBUS_SESSION_BUS_ADDRESS=unix:path=/run/user/1000/bus DESKTOP_SESSION=xubuntu DISPLAY=:0 GDMSESSION=xubuntu GDM_LANG=de_DE GPG_AGENT_INFO=/run/user/1000/gnupg/S.gpg-agent:0:1 GTK_OVERLAY_SCROLLING=0 IM_CONFIG_PHASE=1 LANGUAGE=de_DE PWD=/home/wildef QT_QPA_PLATFORMTHEME=gtk2 SHLVL=1 XAUTHLOCALHOSTNAME= XAUTHORITY=/home/wildef/.Xauthority XDG_CONFIG_DIRS=/etc/xdg/xdg-xubuntu:/etc/xdg XDG_CURRENT_DESKTOP=XFCE XDG_GREETER_DATA_DIR=/var/lib/lightdm-data/wildef XDG_SEAT_PATH=/org/freedesktop/DisplayManager/Seat0 XDG_SESSION_CLASS=user XDG_SESSION_DESKTOP=xubuntu XDG_SESSION_PATH=/org/freedesktop/DisplayManager/Session0 XDG_SESSION_TYPE=x11 _=/usr/bin/dbus-update-activation-environment MANAGERPID=1269 INVOCATION_ID=4984ee3839844cb3b0ecfd97a1fb6ab3 JOURNAL_STREAM=8:46998\n",
      "wildef      1840  0.0  0.0 246340  5716 ?        Ssl  08:27   0:00  \\_ /usr/libexec/gvfs-mtp-volume-monitor HOME=/home/wildef LANG=de_DE.UTF-8 LOGNAME=wildef PATH=/home/wildef/.local/bin:/usr/local/sbin:/usr/local/bin:/usr/sbin:/usr/bin:/sbin:/bin:/usr/games:/usr/local/games:/snap/bin SHELL=/bin/bash USER=wildef XDG_RUNTIME_DIR=/run/user/1000 QT_ACCESSIBILITY=1 XDG_DATA_DIRS=/usr/share/xubuntu:/usr/share/xfce4:/usr/local/share:/usr/share:/var/lib/snapd/desktop CLUTTER_BACKEND=x11 DBUS_SESSION_BUS_ADDRESS=unix:path=/run/user/1000/bus DESKTOP_SESSION=xubuntu DISPLAY=:0 GDMSESSION=xubuntu GDM_LANG=de_DE GPG_AGENT_INFO=/run/user/1000/gnupg/S.gpg-agent:0:1 GTK_OVERLAY_SCROLLING=0 IM_CONFIG_PHASE=1 LANGUAGE=de_DE PWD=/home/wildef QT_QPA_PLATFORMTHEME=gtk2 SHLVL=1 XAUTHLOCALHOSTNAME= XAUTHORITY=/home/wildef/.Xauthority XDG_CONFIG_DIRS=/etc/xdg/xdg-xubuntu:/etc/xdg XDG_CURRENT_DESKTOP=XFCE XDG_GREETER_DATA_DIR=/var/lib/lightdm-data/wildef XDG_SEAT_PATH=/org/freedesktop/DisplayManager/Seat0 XDG_SESSION_CLASS=user XDG_SESSION_DESKTOP=xubuntu XDG_SESSION_PATH=/org/freedesktop/DisplayManager/Session0 XDG_SESSION_TYPE=x11 _=/usr/bin/dbus-update-activation-environment MANAGERPID=1269 INVOCATION_ID=1f9c1394974745c9909763dce07a743f JOURNAL_STREAM=8:54280\n",
      "wildef      1846  0.0  0.0 246436  6616 ?        Ssl  08:27   0:00  \\_ /usr/libexec/gvfs-goa-volume-monitor HOME=/home/wildef LANG=de_DE.UTF-8 LOGNAME=wildef PATH=/home/wildef/.local/bin:/usr/local/sbin:/usr/local/bin:/usr/sbin:/usr/bin:/sbin:/bin:/usr/games:/usr/local/games:/snap/bin SHELL=/bin/bash USER=wildef XDG_RUNTIME_DIR=/run/user/1000 QT_ACCESSIBILITY=1 XDG_DATA_DIRS=/usr/share/xubuntu:/usr/share/xfce4:/usr/local/share:/usr/share:/var/lib/snapd/desktop CLUTTER_BACKEND=x11 DBUS_SESSION_BUS_ADDRESS=unix:path=/run/user/1000/bus DESKTOP_SESSION=xubuntu DISPLAY=:0 GDMSESSION=xubuntu GDM_LANG=de_DE GPG_AGENT_INFO=/run/user/1000/gnupg/S.gpg-agent:0:1 GTK_OVERLAY_SCROLLING=0 IM_CONFIG_PHASE=1 LANGUAGE=de_DE PWD=/home/wildef QT_QPA_PLATFORMTHEME=gtk2 SHLVL=1 XAUTHLOCALHOSTNAME= XAUTHORITY=/home/wildef/.Xauthority XDG_CONFIG_DIRS=/etc/xdg/xdg-xubuntu:/etc/xdg XDG_CURRENT_DESKTOP=XFCE XDG_GREETER_DATA_DIR=/var/lib/lightdm-data/wildef XDG_SEAT_PATH=/org/freedesktop/DisplayManager/Seat0 XDG_SESSION_CLASS=user XDG_SESSION_DESKTOP=xubuntu XDG_SESSION_PATH=/org/freedesktop/DisplayManager/Session0 XDG_SESSION_TYPE=x11 _=/usr/bin/dbus-update-activation-environment MANAGERPID=1269 INVOCATION_ID=2790980a1e6b4a64b4a2506f146d5f60 JOURNAL_STREAM=8:47040\n",
      "wildef      1851  0.0  0.0 248612  6288 ?        Ssl  08:27   0:00  \\_ /usr/libexec/gvfs-gphoto2-volume-monitor HOME=/home/wildef LANG=de_DE.UTF-8 LOGNAME=wildef PATH=/home/wildef/.local/bin:/usr/local/sbin:/usr/local/bin:/usr/sbin:/usr/bin:/sbin:/bin:/usr/games:/usr/local/games:/snap/bin SHELL=/bin/bash USER=wildef XDG_RUNTIME_DIR=/run/user/1000 QT_ACCESSIBILITY=1 XDG_DATA_DIRS=/usr/share/xubuntu:/usr/share/xfce4:/usr/local/share:/usr/share:/var/lib/snapd/desktop CLUTTER_BACKEND=x11 DBUS_SESSION_BUS_ADDRESS=unix:path=/run/user/1000/bus DESKTOP_SESSION=xubuntu DISPLAY=:0 GDMSESSION=xubuntu GDM_LANG=de_DE GPG_AGENT_INFO=/run/user/1000/gnupg/S.gpg-agent:0:1 GTK_OVERLAY_SCROLLING=0 IM_CONFIG_PHASE=1 LANGUAGE=de_DE PWD=/home/wildef QT_QPA_PLATFORMTHEME=gtk2 SHLVL=1 XAUTHLOCALHOSTNAME= XAUTHORITY=/home/wildef/.Xauthority XDG_CONFIG_DIRS=/etc/xdg/xdg-xubuntu:/etc/xdg XDG_CURRENT_DESKTOP=XFCE XDG_GREETER_DATA_DIR=/var/lib/lightdm-data/wildef XDG_SEAT_PATH=/org/freedesktop/DisplayManager/Seat0 XDG_SESSION_CLASS=user XDG_SESSION_DESKTOP=xubuntu XDG_SESSION_PATH=/org/freedesktop/DisplayManager/Session0 XDG_SESSION_TYPE=x11 _=/usr/bin/dbus-update-activation-environment MANAGERPID=1269 INVOCATION_ID=5b5e3754a3b64f678670515488870ac5 JOURNAL_STREAM=8:54322\n",
      "wildef      1876  0.0  0.0  45400  6828 ?        Ss   08:27   0:00  \\_ /usr/lib/bluetooth/obexd HOME=/home/wildef LANG=de_DE.UTF-8 LOGNAME=wildef PATH=/home/wildef/.local/bin:/usr/local/sbin:/usr/local/bin:/usr/sbin:/usr/bin:/sbin:/bin:/usr/games:/usr/local/games:/snap/bin SHELL=/bin/bash USER=wildef XDG_RUNTIME_DIR=/run/user/1000 QT_ACCESSIBILITY=1 XDG_DATA_DIRS=/usr/share/xubuntu:/usr/share/xfce4:/usr/local/share:/usr/share:/var/lib/snapd/desktop CLUTTER_BACKEND=x11 DBUS_SESSION_BUS_ADDRESS=unix:path=/run/user/1000/bus DESKTOP_SESSION=xubuntu DISPLAY=:0 GDMSESSION=xubuntu GDM_LANG=de_DE GPG_AGENT_INFO=/run/user/1000/gnupg/S.gpg-agent:0:1 GTK_OVERLAY_SCROLLING=0 IM_CONFIG_PHASE=1 LANGUAGE=de_DE PWD=/home/wildef QT_QPA_PLATFORMTHEME=gtk2 SHLVL=1 XAUTHLOCALHOSTNAME= XAUTHORITY=/home/wildef/.Xauthority XDG_CONFIG_DIRS=/etc/xdg/xdg-xubuntu:/etc/xdg XDG_CURRENT_DESKTOP=XFCE XDG_GREETER_DATA_DIR=/var/lib/lightdm-data/wildef XDG_SEAT_PATH=/org/freedesktop/DisplayManager/Seat0 XDG_SESSION_CLASS=user XDG_SESSION_DESKTOP=xubuntu XDG_SESSION_PATH=/org/freedesktop/DisplayManager/Session0 XDG_SESSION_TYPE=x11 _=/usr/bin/dbus-update-activation-environment MANAGERPID=1269 INVOCATION_ID=a10efe054d2e4f9a974af266a447f43f JOURNAL_STREAM=8:38511\n",
      "wildef      1893  0.0  0.0 173132  6768 ?        Ssl  08:27   0:00  \\_ /usr/libexec/gvfsd-metadata HOME=/home/wildef LANG=de_DE.UTF-8 LOGNAME=wildef PATH=/home/wildef/.local/bin:/usr/local/sbin:/usr/local/bin:/usr/sbin:/usr/bin:/sbin:/bin:/usr/games:/usr/local/games:/snap/bin SHELL=/bin/bash USER=wildef XDG_RUNTIME_DIR=/run/user/1000 QT_ACCESSIBILITY=1 XDG_DATA_DIRS=/usr/share/xubuntu:/usr/share/xfce4:/usr/local/share:/usr/share:/var/lib/snapd/desktop CLUTTER_BACKEND=x11 DBUS_SESSION_BUS_ADDRESS=unix:path=/run/user/1000/bus DESKTOP_SESSION=xubuntu DISPLAY=:0 GDMSESSION=xubuntu GDM_LANG=de_DE GPG_AGENT_INFO=/run/user/1000/gnupg/S.gpg-agent:0:1 GTK_OVERLAY_SCROLLING=0 IM_CONFIG_PHASE=1 LANGUAGE=de_DE PWD=/home/wildef QT_QPA_PLATFORMTHEME=gtk2 SHLVL=1 XAUTHLOCALHOSTNAME= XAUTHORITY=/home/wildef/.Xauthority XDG_CONFIG_DIRS=/etc/xdg/xdg-xubuntu:/etc/xdg XDG_CURRENT_DESKTOP=XFCE XDG_GREETER_DATA_DIR=/var/lib/lightdm-data/wildef XDG_SEAT_PATH=/org/freedesktop/DisplayManager/Seat0 XDG_SESSION_CLASS=user XDG_SESSION_DESKTOP=xubuntu XDG_SESSION_PATH=/org/freedesktop/DisplayManager/Session0 XDG_SESSION_TYPE=x11 _=/usr/bin/dbus-update-activation-environment MANAGERPID=1269 INVOCATION_ID=311aa2ecc3dd400e8ce7077695578b05 JOURNAL_STREAM=8:53315\n",
      "wildef      1292  0.0  0.0 251048  8184 ?        Sl   08:27   0:00 /usr/bin/gnome-keyring-daemon --daemonize --login\n",
      "wildef      1600  0.0  0.1 244144 25012 ?        Ssl  08:27   0:00 xfsettingsd LANGUAGE=de_DE USER=wildef XDG_SEAT=seat0 XDG_SESSION_TYPE=x11 SSH_AGENT_PID=1450 SHLVL=0 HOME=/home/wildef DESKTOP_SESSION=xubuntu XDG_SEAT_PATH=/org/freedesktop/DisplayManager/Seat0 DBUS_SESSION_BUS_ADDRESS=unix:path=/run/user/1000/bus QT_QPA_PLATFORMTHEME=gtk2 LOGNAME=wildef XDG_SESSION_CLASS=user CLUTTER_BACKEND=x11 GTK_OVERLAY_SCROLLING=0 XDG_SESSION_ID=c2 PATH=/home/wildef/.local/bin:/usr/local/sbin:/usr/local/bin:/usr/sbin:/usr/bin:/sbin:/bin:/usr/games:/usr/local/games:/snap/bin GDM_LANG=de_DE XDG_SESSION_PATH=/org/freedesktop/DisplayManager/Session0 XDG_RUNTIME_DIR=/run/user/1000 XDG_MENU_PREFIX=xfce- DISPLAY=:0 LANG=de_DE.UTF-8 XDG_CURRENT_DESKTOP=XFCE XDG_SESSION_DESKTOP=xubuntu XAUTHORITY=/home/wildef/.Xauthority XDG_GREETER_DATA_DIR=/var/lib/lightdm-data/wildef SSH_AUTH_SOCK=/run/user/1000/keyring/ssh SHELL=/bin/bash QT_ACCESSIBILITY=1 GDMSESSION=xubuntu GPG_AGENT_INFO=/run/user/1000/gnupg/S.gpg-agent:0:1 XDG_VTNR=7 PWD=/home/wildef XDG_CONFIG_DIRS=/etc/xdg/xdg-xubuntu:/etc/xdg:/etc/xdg XDG_DATA_DIRS=/usr/share/xubuntu:/usr/share/xfce4:/usr/local/share:/usr/share:/var/lib/snapd/desktop:/usr/share SESSION_MANAGER=local/wildef-ThinkPad-T14s-Gen-1:@/tmp/.ICE-unix/1295,unix/wildef-ThinkPad-T14s-Gen-1:/tmp/.ICE-unix/1295\n",
      "wildef      4284  2.6  2.3 3440068 373208 ?      Sl   08:29   0:18  \\_ /usr/lib/firefox/firefox LANGUAGE=de_DE USER=wildef XDG_SEAT=seat0 XDG_SESSION_TYPE=x11 SSH_AGENT_PID=1450 SHLVL=0 HOME=/home/wildef DESKTOP_SESSION=xubuntu XDG_SEAT_PATH=/org/freedesktop/DisplayManager/Seat0 DBUS_SESSION_BUS_ADDRESS=unix:path=/run/user/1000/bus QT_QPA_PLATFORMTHEME=gtk2 LOGNAME=wildef XDG_SESSION_CLASS=user CLUTTER_BACKEND=x11 GTK_OVERLAY_SCROLLING=0 XDG_SESSION_ID=c2 PATH=/home/wildef/.local/bin:/usr/local/sbin:/usr/local/bin:/usr/sbin:/usr/bin:/sbin:/bin:/usr/games:/usr/local/games:/snap/bin GDM_LANG=de_DE SESSION_MANAGER=local/wildef-ThinkPad-T14s-Gen-1:@/tmp/.ICE-unix/1295,unix/wildef-ThinkPad-T14s-Gen-1:/tmp/.ICE-unix/1295 XDG_SESSION_PATH=/org/freedesktop/DisplayManager/Session0 XDG_RUNTIME_DIR=/run/user/1000 XDG_MENU_PREFIX=xfce- DISPLAY=:0.0 LANG=de_DE.UTF-8 XDG_CURRENT_DESKTOP=XFCE XDG_SESSION_DESKTOP=xubuntu XAUTHORITY=/home/wildef/.Xauthority XDG_GREETER_DATA_DIR=/var/lib/lightdm-data/wildef SSH_AUTH_SOCK=/run/user/1000/keyring/ssh SHELL=/bin/bash QT_ACCESSIBILITY=1 GDMSESSION=xubuntu MOZ_APP_LAUNCHER=/usr/bin/firefox GPG_AGENT_INFO=/run/user/1000/gnupg/S.gpg-agent:0:1 XDG_VTNR=7 PWD=/home/wildef XDG_CONFIG_DIRS=/etc/xdg/xdg-xubuntu:/etc/xdg:/etc/xdg XDG_DATA_DIRS=/usr/share/xubuntu:/usr/share/xfce4:/usr/local/share:/usr/share:/var/lib/snapd/desktop:/usr/share\n",
      "wildef      4463  0.3  0.8 2458604 125360 ?      Sl   08:29   0:02  |   \\_ /usr/lib/firefox/firefox -contentproc -childID 1 -isForBrowser -prefsLen 1 -prefMapSize 244276 -jsInit 285176 -parentBuildID 20210705185941 -appdir /usr/lib/firefox/browser 4284 true tab CLUTTER_BACKEND=x11 DBUS_SESSION_BUS_ADDRESS=unix:path=/run/user/1000/bus DESKTOP_SESSION=xubuntu DISPLAY=:0.0 GDMSESSION=xubuntu GDM_LANG=de_DE GPG_AGENT_INFO=/run/user/1000/gnupg/S.gpg-agent:0:1 GTK_IM_MODULE=gtk-im-context-simple GTK_OVERLAY_SCROLLING=0 HOME=/home/wildef LANG=de_DE.UTF-8 LANGUAGE=de_DE LD_LIBRARY_PATH=/usr/lib/firefox LD_PRELOAD=libmozsandbox.so LOGNAME=wildef MALLOC_OPTIONS=r MESA_GLSL_CACHE_DIR=/tmp/Temp-894890a9-aa8b-4f4b-91e3-36042d298dc3 MOZ_APP_LAUNCHER=/usr/bin/firefox MOZ_ASSUME_USER_NS=1 MOZ_CRASHREPORTER_DATA_DIRECTORY=/home/wildef/.mozilla/firefox/Crash Reports MOZ_CRASHREPORTER_EVENTS_DIRECTORY=/home/wildef/.mozilla/firefox/02ipm1kl.default-release/crashes/events MOZ_CRASHREPORTER_PING_DIRECTORY=/home/wildef/.mozilla/firefox/Pending Pings MOZ_CRASHREPORTER_RESTART_ARG_0=/usr/bin/firefox MOZ_CRASHREPORTER_RESTART_ARG_1= MOZ_CRASHREPORTER_STRINGS_OVERRIDE=/usr/lib/firefox/browser/crashreporter-override.ini MOZ_LAUNCHED_CHILD= MOZ_PROFILER_STARTUP= MOZ_SANDBOXED=1 MOZ_SANDBOX_USE_CHROOT=11476395008 NO_AT_BRIDGE=1 PATH=/home/wildef/.local/bin:/usr/local/sbin:/usr/local/bin:/usr/sbin:/usr/bin:/sbin:/bin:/usr/games:/usr/local/games:/snap/bin PWD=/home/wildef QT_ACCESSIBILITY=1 QT_QPA_PLATFORMTHEME=gtk2 SESSION_MANAGER=local/wildef-ThinkPad-T14s-Gen-1:@/tmp/.ICE-unix/1295,unix/wildef-ThinkPad-T14s-Gen-1:/tmp/.ICE-unix/1295 SHELL=/bin/bash SHLVL=0 SSH_AGENT_PID=1450 SSH_AUTH_SOCK=/run/user/1000/keyring/ssh TMPDIR=/tmp/Temp-894890a9-aa8b-4f4b-91e3-36042d298dc3 USER=wildef XAUTHORITY=/home/wildef/.Xauthority XDG_CONFIG_DIRS=/etc/xdg/xdg-xubuntu:/etc/xdg:/etc/xdg XDG_CURRENT_DESKTOP=XFCE XDG_DATA_DIRS=/usr/share/xubuntu:/usr/share/xfce4:/usr/local/share:/usr/share:/var/lib/snapd/desktop:/usr/share XDG_GREETER_DATA_DIR=/var/lib/lightdm-data/wildef XDG_MENU_PREFIX=xfce- XDG_RUNTIME_DIR=/run/user/1000 XDG_SEAT=seat0 XDG_SEAT_PATH=/org/freedesktop/DisplayManager/Seat0 XDG_SESSION_CLASS=user XDG_SESSION_DESKTOP=xubuntu XDG_SESSION_ID=c2 XDG_SESSION_PATH=/org/freedesktop/DisplayManager/Session0 XDG_SESSION_TYPE=x11 XDG_VTNR=7 XRE_BINARY_PATH= XRE_PROFILE_LOCAL_PATH= XRE_PROFILE_PATH= XRE_RESTARTED_BY_PROFILE_MANAGER= XRE_START_OFFLINE= XUL_APP_FILE= force_s3tc_enable=true\n",
      "wildef      4520  0.1  0.6 2443312 104140 ?      Sl   08:29   0:01  |   \\_ /usr/lib/firefox/firefox -contentproc -childID 2 -isForBrowser -prefsLen 4962 -prefMapSize 244276 -jsInit 285176 -parentBuildID 20210705185941 -appdir /usr/lib/firefox/browser 4284 true tab CLUTTER_BACKEND=x11 DBUS_SESSION_BUS_ADDRESS=unix:path=/run/user/1000/bus DESKTOP_SESSION=xubuntu DISPLAY=:0.0 GDMSESSION=xubuntu GDM_LANG=de_DE GPG_AGENT_INFO=/run/user/1000/gnupg/S.gpg-agent:0:1 GTK_IM_MODULE=gtk-im-context-simple GTK_OVERLAY_SCROLLING=0 HOME=/home/wildef LANG=de_DE.UTF-8 LANGUAGE=de_DE LD_LIBRARY_PATH=/usr/lib/firefox LD_PRELOAD=libmozsandbox.so LOGNAME=wildef MALLOC_OPTIONS=r MESA_GLSL_CACHE_DIR=/tmp/Temp-894890a9-aa8b-4f4b-91e3-36042d298dc3 MOZ_APP_LAUNCHER=/usr/bin/firefox MOZ_ASSUME_USER_NS=1 MOZ_CRASHREPORTER_DATA_DIRECTORY=/home/wildef/.mozilla/firefox/Crash Reports MOZ_CRASHREPORTER_EVENTS_DIRECTORY=/home/wildef/.mozilla/firefox/02ipm1kl.default-release/crashes/events MOZ_CRASHREPORTER_PING_DIRECTORY=/home/wildef/.mozilla/firefox/Pending Pings MOZ_CRASHREPORTER_RESTART_ARG_0=/usr/bin/firefox MOZ_CRASHREPORTER_RESTART_ARG_1= MOZ_CRASHREPORTER_STRINGS_OVERRIDE=/usr/lib/firefox/browser/crashreporter-override.ini MOZ_LAUNCHED_CHILD= MOZ_PROFILER_STARTUP= MOZ_SANDBOXED=1 MOZ_SANDBOX_USE_CHROOT=11476395008 NO_AT_BRIDGE=1 PATH=/home/wildef/.local/bin:/usr/local/sbin:/usr/local/bin:/usr/sbin:/usr/bin:/sbin:/bin:/usr/games:/usr/local/games:/snap/bin PWD=/home/wildef QT_ACCESSIBILITY=1 QT_QPA_PLATFORMTHEME=gtk2 SESSION_MANAGER=local/wildef-ThinkPad-T14s-Gen-1:@/tmp/.ICE-unix/1295,unix/wildef-ThinkPad-T14s-Gen-1:/tmp/.ICE-unix/1295 SHELL=/bin/bash SHLVL=0 SSH_AGENT_PID=1450 SSH_AUTH_SOCK=/run/user/1000/keyring/ssh TMPDIR=/tmp/Temp-894890a9-aa8b-4f4b-91e3-36042d298dc3 USER=wildef XAUTHORITY=/home/wildef/.Xauthority XDG_CONFIG_DIRS=/etc/xdg/xdg-xubuntu:/etc/xdg:/etc/xdg XDG_CURRENT_DESKTOP=XFCE XDG_DATA_DIRS=/usr/share/xubuntu:/usr/share/xfce4:/usr/local/share:/usr/share:/var/lib/snapd/desktop:/usr/share XDG_GREETER_DATA_DIR=/var/lib/lightdm-data/wildef XDG_MENU_PREFIX=xfce- XDG_RUNTIME_DIR=/run/user/1000 XDG_SEAT=seat0 XDG_SEAT_PATH=/org/freedesktop/DisplayManager/Seat0 XDG_SESSION_CLASS=user XDG_SESSION_DESKTOP=xubuntu XDG_SESSION_ID=c2 XDG_SESSION_PATH=/org/freedesktop/DisplayManager/Session0 XDG_SESSION_TYPE=x11 XDG_VTNR=7 XRE_BINARY_PATH= XRE_PROFILE_LOCAL_PATH= XRE_PROFILE_PATH= XRE_RESTARTED_BY_PROFILE_MANAGER= XRE_START_OFFLINE= XUL_APP_FILE= force_s3tc_enable=true\n",
      "wildef      4593  0.6  0.9 2506036 141976 ?      Sl   08:29   0:04  |   \\_ /usr/lib/firefox/firefox -contentproc -childID 3 -isForBrowser -prefsLen 5666 -prefMapSize 244276 -jsInit 285176 -parentBuildID 20210705185941 -appdir /usr/lib/firefox/browser 4284 true tab CLUTTER_BACKEND=x11 DBUS_SESSION_BUS_ADDRESS=unix:path=/run/user/1000/bus DESKTOP_SESSION=xubuntu DISPLAY=:0.0 GDMSESSION=xubuntu GDM_LANG=de_DE GPG_AGENT_INFO=/run/user/1000/gnupg/S.gpg-agent:0:1 GTK_IM_MODULE=gtk-im-context-simple GTK_OVERLAY_SCROLLING=0 HOME=/home/wildef LANG=de_DE.UTF-8 LANGUAGE=de_DE LD_LIBRARY_PATH=/usr/lib/firefox LD_PRELOAD=libmozsandbox.so LOGNAME=wildef MALLOC_OPTIONS=r MESA_GLSL_CACHE_DIR=/tmp/Temp-894890a9-aa8b-4f4b-91e3-36042d298dc3 MOZ_APP_LAUNCHER=/usr/bin/firefox MOZ_ASSUME_USER_NS=1 MOZ_CRASHREPORTER_DATA_DIRECTORY=/home/wildef/.mozilla/firefox/Crash Reports MOZ_CRASHREPORTER_EVENTS_DIRECTORY=/home/wildef/.mozilla/firefox/02ipm1kl.default-release/crashes/events MOZ_CRASHREPORTER_PING_DIRECTORY=/home/wildef/.mozilla/firefox/Pending Pings MOZ_CRASHREPORTER_RESTART_ARG_0=/usr/bin/firefox MOZ_CRASHREPORTER_RESTART_ARG_1= MOZ_CRASHREPORTER_STRINGS_OVERRIDE=/usr/lib/firefox/browser/crashreporter-override.ini MOZ_LAUNCHED_CHILD= MOZ_PROFILER_STARTUP= MOZ_SANDBOXED=1 MOZ_SANDBOX_USE_CHROOT=11476395008 NO_AT_BRIDGE=1 PATH=/home/wildef/.local/bin:/usr/local/sbin:/usr/local/bin:/usr/sbin:/usr/bin:/sbin:/bin:/usr/games:/usr/local/games:/snap/bin PWD=/home/wildef QT_ACCESSIBILITY=1 QT_QPA_PLATFORMTHEME=gtk2 SESSION_MANAGER=local/wildef-ThinkPad-T14s-Gen-1:@/tmp/.ICE-unix/1295,unix/wildef-ThinkPad-T14s-Gen-1:/tmp/.ICE-unix/1295 SHELL=/bin/bash SHLVL=0 SSH_AGENT_PID=1450 SSH_AUTH_SOCK=/run/user/1000/keyring/ssh TMPDIR=/tmp/Temp-894890a9-aa8b-4f4b-91e3-36042d298dc3 USER=wildef XAUTHORITY=/home/wildef/.Xauthority XDG_CONFIG_DIRS=/etc/xdg/xdg-xubuntu:/etc/xdg:/etc/xdg XDG_CURRENT_DESKTOP=XFCE XDG_DATA_DIRS=/usr/share/xubuntu:/usr/share/xfce4:/usr/local/share:/usr/share:/var/lib/snapd/desktop:/usr/share XDG_GREETER_DATA_DIR=/var/lib/lightdm-data/wildef XDG_MENU_PREFIX=xfce- XDG_RUNTIME_DIR=/run/user/1000 XDG_SEAT=seat0 XDG_SEAT_PATH=/org/freedesktop/DisplayManager/Seat0 XDG_SESSION_CLASS=user XDG_SESSION_DESKTOP=xubuntu XDG_SESSION_ID=c2 XDG_SESSION_PATH=/org/freedesktop/DisplayManager/Session0 XDG_SESSION_TYPE=x11 XDG_VTNR=7 XRE_BINARY_PATH= XRE_PROFILE_LOCAL_PATH= XRE_PROFILE_PATH= XRE_RESTARTED_BY_PROFILE_MANAGER= XRE_START_OFFLINE= XUL_APP_FILE= force_s3tc_enable=true\n",
      "wildef      4641  0.0  0.5 2405744 79648 ?       Sl   08:29   0:00  |   \\_ /usr/lib/firefox/firefox -contentproc -childID 4 -isForBrowser -prefsLen 8320 -prefMapSize 244276 -jsInit 285176 -parentBuildID 20210705185941 -appdir /usr/lib/firefox/browser 4284 true tab CLUTTER_BACKEND=x11 DBUS_SESSION_BUS_ADDRESS=unix:path=/run/user/1000/bus DESKTOP_SESSION=xubuntu DISPLAY=:0.0 GDMSESSION=xubuntu GDM_LANG=de_DE GPG_AGENT_INFO=/run/user/1000/gnupg/S.gpg-agent:0:1 GTK_IM_MODULE=gtk-im-context-simple GTK_OVERLAY_SCROLLING=0 HOME=/home/wildef LANG=de_DE.UTF-8 LANGUAGE=de_DE LD_LIBRARY_PATH=/usr/lib/firefox LD_PRELOAD=libmozsandbox.so LOGNAME=wildef MALLOC_OPTIONS=r MESA_GLSL_CACHE_DIR=/tmp/Temp-894890a9-aa8b-4f4b-91e3-36042d298dc3 MOZ_APP_LAUNCHER=/usr/bin/firefox MOZ_ASSUME_USER_NS=1 MOZ_CRASHREPORTER_DATA_DIRECTORY=/home/wildef/.mozilla/firefox/Crash Reports MOZ_CRASHREPORTER_EVENTS_DIRECTORY=/home/wildef/.mozilla/firefox/02ipm1kl.default-release/crashes/events MOZ_CRASHREPORTER_PING_DIRECTORY=/home/wildef/.mozilla/firefox/Pending Pings MOZ_CRASHREPORTER_RESTART_ARG_0=/usr/bin/firefox MOZ_CRASHREPORTER_RESTART_ARG_1= MOZ_CRASHREPORTER_STRINGS_OVERRIDE=/usr/lib/firefox/browser/crashreporter-override.ini MOZ_LAUNCHED_CHILD= MOZ_PROFILER_STARTUP= MOZ_SANDBOXED=1 MOZ_SANDBOX_USE_CHROOT=11476395008 NO_AT_BRIDGE=1 PATH=/home/wildef/.local/bin:/usr/local/sbin:/usr/local/bin:/usr/sbin:/usr/bin:/sbin:/bin:/usr/games:/usr/local/games:/snap/bin PWD=/home/wildef QT_ACCESSIBILITY=1 QT_QPA_PLATFORMTHEME=gtk2 SESSION_MANAGER=local/wildef-ThinkPad-T14s-Gen-1:@/tmp/.ICE-unix/1295,unix/wildef-ThinkPad-T14s-Gen-1:/tmp/.ICE-unix/1295 SHELL=/bin/bash SHLVL=0 SSH_AGENT_PID=1450 SSH_AUTH_SOCK=/run/user/1000/keyring/ssh TMPDIR=/tmp/Temp-894890a9-aa8b-4f4b-91e3-36042d298dc3 USER=wildef XAUTHORITY=/home/wildef/.Xauthority XDG_CONFIG_DIRS=/etc/xdg/xdg-xubuntu:/etc/xdg:/etc/xdg XDG_CURRENT_DESKTOP=XFCE XDG_DATA_DIRS=/usr/share/xubuntu:/usr/share/xfce4:/usr/local/share:/usr/share:/var/lib/snapd/desktop:/usr/share XDG_GREETER_DATA_DIR=/var/lib/lightdm-data/wildef XDG_MENU_PREFIX=xfce- XDG_RUNTIME_DIR=/run/user/1000 XDG_SEAT=seat0 XDG_SEAT_PATH=/org/freedesktop/DisplayManager/Seat0 XDG_SESSION_CLASS=user XDG_SESSION_DESKTOP=xubuntu XDG_SESSION_ID=c2 XDG_SESSION_PATH=/org/freedesktop/DisplayManager/Session0 XDG_SESSION_TYPE=x11 XDG_VTNR=7 XRE_BINARY_PATH= XRE_PROFILE_LOCAL_PATH= XRE_PROFILE_PATH= XRE_RESTARTED_BY_PROFILE_MANAGER= XRE_START_OFFLINE= XUL_APP_FILE= force_s3tc_enable=true\n",
      "wildef      4666  0.2  0.2 403940 41964 ?        Sl   08:30   0:01  \\_ xfce4-terminal LANGUAGE=de_DE USER=wildef XDG_SEAT=seat0 XDG_SESSION_TYPE=x11 SSH_AGENT_PID=1450 SHLVL=0 HOME=/home/wildef DESKTOP_SESSION=xubuntu XDG_SEAT_PATH=/org/freedesktop/DisplayManager/Seat0 DBUS_SESSION_BUS_ADDRESS=unix:path=/run/user/1000/bus QT_QPA_PLATFORMTHEME=gtk2 LOGNAME=wildef XDG_SESSION_CLASS=user CLUTTER_BACKEND=x11 GTK_OVERLAY_SCROLLING=0 XDG_SESSION_ID=c2 PATH=/home/wildef/.local/bin:/usr/local/sbin:/usr/local/bin:/usr/sbin:/usr/bin:/sbin:/bin:/usr/games:/usr/local/games:/snap/bin GDM_LANG=de_DE XDG_SESSION_PATH=/org/freedesktop/DisplayManager/Session0 XDG_RUNTIME_DIR=/run/user/1000 XDG_MENU_PREFIX=xfce- LANG=de_DE.UTF-8 XDG_CURRENT_DESKTOP=XFCE XDG_SESSION_DESKTOP=xubuntu XAUTHORITY=/home/wildef/.Xauthority XDG_GREETER_DATA_DIR=/var/lib/lightdm-data/wildef SSH_AUTH_SOCK=/run/user/1000/keyring/ssh SHELL=/bin/bash QT_ACCESSIBILITY=1 GDMSESSION=xubuntu GPG_AGENT_INFO=/run/user/1000/gnupg/S.gpg-agent:0:1 XDG_VTNR=7 PWD=/home/wildef XDG_CONFIG_DIRS=/etc/xdg/xdg-xubuntu:/etc/xdg:/etc/xdg XDG_DATA_DIRS=/usr/share/xubuntu:/usr/share/xfce4:/usr/local/share:/usr/share:/var/lib/snapd/desktop:/usr/share SESSION_MANAGER=local/wildef-ThinkPad-T14s-Gen-1:@/tmp/.ICE-unix/1295,unix/wildef-ThinkPad-T14s-Gen-1:/tmp/.ICE-unix/1295 DISPLAY=:0.0\n",
      "wildef      4671  0.0  0.0  23500  7596 pts/0    Ss   08:30   0:00      \\_ bash SSH_AUTH_SOCK=/run/user/1000/keyring/ssh LANGUAGE=de_DE SSH_AGENT_PID=1450 LANG=de_DE.UTF-8 XDG_CURRENT_DESKTOP=XFCE COLORTERM=truecolor SESSION_MANAGER=local/wildef-ThinkPad-T14s-Gen-1:@/tmp/.ICE-unix/1295,unix/wildef-ThinkPad-T14s-Gen-1:/tmp/.ICE-unix/1295 XDG_GREETER_DATA_DIR=/var/lib/lightdm-data/wildef GPG_AGENT_INFO=/run/user/1000/gnupg/S.gpg-agent:0:1 USER=wildef HOME=/home/wildef XDG_MENU_PREFIX=xfce- XDG_SESSION_PATH=/org/freedesktop/DisplayManager/Session0 DESKTOP_SESSION=xubuntu DBUS_SESSION_BUS_ADDRESS=unix:path=/run/user/1000/bus XDG_VTNR=7 XDG_SEAT=seat0 XDG_DATA_DIRS=/usr/share/xubuntu:/usr/share/xfce4:/usr/local/share:/usr/share:/var/lib/snapd/desktop:/usr/share XDG_CONFIG_DIRS=/etc/xdg/xdg-xubuntu:/etc/xdg:/etc/xdg VTE_VERSION=6200 XDG_SESSION_DESKTOP=xubuntu QT_ACCESSIBILITY=1 GTK_OVERLAY_SCROLLING=0 LOGNAME=wildef XDG_SEAT_PATH=/org/freedesktop/DisplayManager/Seat0 PATH=/home/wildef/.local/bin:/usr/local/sbin:/usr/local/bin:/usr/sbin:/usr/bin:/sbin:/bin:/usr/games:/usr/local/games:/snap/bin XDG_RUNTIME_DIR=/run/user/1000 WINDOWID=85983235 XDG_SESSION_ID=c2 SHELL=/bin/bash CLUTTER_BACKEND=x11 XDG_SESSION_TYPE=x11 QT_QPA_PLATFORMTHEME=gtk2 SHLVL=0 XAUTHORITY=/home/wildef/.Xauthority GDM_LANG=de_DE PWD=/home/wildef XDG_SESSION_CLASS=user GDMSESSION=xubuntu TERM=xterm-256color DISPLAY=:0.0\n",
      "wildef      5801  0.7  0.4 238260 69052 pts/0    Sl+  08:35   0:02      |   \\_ /home/wildef/anaconda3/bin/python /home/wildef/anaconda3/bin/jupyter-notebook SHELL=/bin/bash SESSION_MANAGER=local/wildef-ThinkPad-T14s-Gen-1:@/tmp/.ICE-unix/1295,unix/wildef-ThinkPad-T14s-Gen-1:/tmp/.ICE-unix/1295 WINDOWID=85983235 QT_ACCESSIBILITY=1 COLORTERM=truecolor XDG_CONFIG_DIRS=/etc/xdg/xdg-xubuntu:/etc/xdg:/etc/xdg XDG_SESSION_PATH=/org/freedesktop/DisplayManager/Session0 XDG_MENU_PREFIX=xfce- CONDA_EXE=/home/wildef/anaconda3/bin/conda _CE_M= CLUTTER_BACKEND=x11 LANGUAGE=de_DE SSH_AUTH_SOCK=/run/user/1000/keyring/ssh DESKTOP_SESSION=xubuntu SSH_AGENT_PID=1450 XDG_SEAT=seat0 PWD=/home/wildef/Schreibtisch/Uni HGW/Teaching/Seminars/2021/Advanced Python LOGNAME=wildef XDG_SESSION_DESKTOP=xubuntu QT_QPA_PLATFORMTHEME=gtk2 XDG_SESSION_TYPE=x11 CONDA_PREFIX=/home/wildef/anaconda3 GPG_AGENT_INFO=/run/user/1000/gnupg/S.gpg-agent:0:1 XAUTHORITY=/home/wildef/.Xauthority XDG_GREETER_DATA_DIR=/var/lib/lightdm-data/wildef GDM_LANG=de_DE HOME=/home/wildef LANG=de_DE.UTF-8 LS_COLORS=rs=0:di=01;34:ln=01;36:mh=00:pi=40;33:so=01;35:do=01;35:bd=40;33;01:cd=40;33;01:or=40;31;01:mi=00:su=37;41:sg=30;43:ca=30;41:tw=30;42:ow=34;42:st=37;44:ex=01;32:*.tar=01;31:*.tgz=01;31:*.arc=01;31:*.arj=01;31:*.taz=01;31:*.lha=01;31:*.lz4=01;31:*.lzh=01;31:*.lzma=01;31:*.tlz=01;31:*.txz=01;31:*.tzo=01;31:*.t7z=01;31:*.zip=01;31:*.z=01;31:*.dz=01;31:*.gz=01;31:*.lrz=01;31:*.lz=01;31:*.lzo=01;31:*.xz=01;31:*.zst=01;31:*.tzst=01;31:*.bz2=01;31:*.bz=01;31:*.tbz=01;31:*.tbz2=01;31:*.tz=01;31:*.deb=01;31:*.rpm=01;31:*.jar=01;31:*.war=01;31:*.ear=01;31:*.sar=01;31:*.rar=01;31:*.alz=01;31:*.ace=01;31:*.zoo=01;31:*.cpio=01;31:*.7z=01;31:*.rz=01;31:*.cab=01;31:*.wim=01;31:*.swm=01;31:*.dwm=01;31:*.esd=01;31:*.jpg=01;35:*.jpeg=01;35:*.mjpg=01;35:*.mjpeg=01;35:*.gif=01;35:*.bmp=01;35:*.pbm=01;35:*.pgm=01;35:*.ppm=01;35:*.tga=01;35:*.xbm=01;35:*.xpm=01;35:*.tif=01;35:*.tiff=01;35:*.png=01;35:*.svg=01;35:*.svgz=01;35:*.mng=01;35:*.pcx=01;35:*.mov=01;35:*.mpg=01;35:*.mpeg=01;35:*.m2v=01;35:*.mkv=01;35:*.webm=01;35:*.webp=01;35:*.ogm=01;35:*.mp4=01;35:*.m4v=01;35:*.mp4v=01;35:*.vob=01;35:*.qt=01;35:*.nuv=01;35:*.wmv=01;35:*.asf=01;35:*.rm=01;35:*.rmvb=01;35:*.flc=01;35:*.avi=01;35:*.fli=01;35:*.flv=01;35:*.gl=01;35:*.dl=01;35:*.xcf=01;35:*.xwd=01;35:*.yuv=01;35:*.cgm=01;35:*.emf=01;35:*.ogv=01;35:*.ogx=01;35:*.aac=00;36:*.au=00;36:*.flac=00;36:*.m4a=00;36:*.mid=00;36:*.midi=00;36:*.mka=00;36:*.mp3=00;36:*.mpc=00;36:*.ogg=00;36:*.ra=00;36:*.wav=00;36:*.oga=00;36:*.opus=00;36:*.spx=00;36:*.xspf=00;36: XDG_CURRENT_DESKTOP=XFCE VTE_VERSION=6200 CONDA_PROMPT_MODIFIER=(base)  XDG_SEAT_PATH=/org/freedesktop/DisplayManager/Seat0 LESSCLOSE=/usr/bin/lesspipe %s %s XDG_SESSION_CLASS=user TERM=xterm-256color _CE_CONDA= GTK_OVERLAY_SCROLLING=0 LESSOPEN=| /usr/bin/lesspipe %s USER=wildef CONDA_SHLVL=1 DISPLAY=:0.0 SHLVL=1 XDG_VTNR=7 XDG_SESSION_ID=c2 CONDA_PYTHON_EXE=/home/wildef/anaconda3/bin/python XDG_RUNTIME_DIR=/run/user/1000 CONDA_DEFAULT_ENV=base XDG_DATA_DIRS=/usr/share/xubuntu:/usr/share/xfce4:/usr/local/share:/usr/share:/var/lib/snapd/desktop:/usr/share PATH=/home/wildef/anaconda3/bin:/home/wildef/anaconda3/condabin:/home/wildef/.local/bin:/usr/local/sbin:/usr/local/bin:/usr/sbin:/usr/bin:/sbin:/bin:/usr/games:/usr/local/games:/snap/bin GDMSESSION=xubuntu DBUS_SESSION_BUS_ADDRESS=unix:path=/run/user/1000/bus OLDPWD=/home/wildef/Schreibtisch/Uni HGW/Teaching/Seminars/2021/Advanced Python/Session 1 _=/home/wildef/anaconda3/bin/jupyter-notebook\n",
      "wildef      5809  7.9  1.4 17342896 222016 ?     SLsl 08:35   0:26      |       \\_ /opt/google/chrome/chrome --enable-crashpad file:///home/wildef/.local/share/jupyter/runtime/nbserver-5801-open.html erver-5801-open.html                                                                                                                                                                                                                                                                                                                                                                                                                                                                                                                                                                                                                                                                                                                                                                                                                                                                                                                                                                                                                                                                                                                                                                                                                                                                                                                                                                                                                                                                                                                                                                                                                                                                                                                                                                                                                                                                                                                                                                                                                                                                                                                                                                                                                                                                                                                                                                                                                                                                                                                                                                                                                                                                                                                                                                                                                                                                                                                                                                                                                                                                                                                                                                                                                                                                                                                                                                                                                                                                                                                                                                                                                                                                 \n",
      "wildef      5814  0.0  0.0  18584   676 ?        S    08:35   0:00      |       |   \\_ cat SHELL=/bin/bash SESSION_MANAGER=local/wildef-ThinkPad-T14s-Gen-1:@/tmp/.ICE-unix/1295,unix/wildef-ThinkPad-T14s-Gen-1:/tmp/.ICE-unix/1295 WINDOWID=85983235 QT_ACCESSIBILITY=1 COLORTERM=truecolor XDG_CONFIG_DIRS=/etc/xdg/xdg-xubuntu:/etc/xdg:/etc/xdg XDG_SESSION_PATH=/org/freedesktop/DisplayManager/Session0 XDG_MENU_PREFIX=xfce- CONDA_EXE=/home/wildef/anaconda3/bin/conda _CE_M= CLUTTER_BACKEND=x11 LANGUAGE=de_DE SSH_AUTH_SOCK=/run/user/1000/keyring/ssh DESKTOP_SESSION=xubuntu SSH_AGENT_PID=1450 KERNEL_LAUNCH_TIMEOUT=40 XDG_SEAT=seat0 PWD=/home/wildef/Schreibtisch/Uni HGW/Teaching/Seminars/2021/Advanced Python XDG_SESSION_DESKTOP=xubuntu LOGNAME=wildef QT_QPA_PLATFORMTHEME=gtk2 XDG_SESSION_TYPE=x11 CONDA_PREFIX=/home/wildef/anaconda3 GPG_AGENT_INFO=/run/user/1000/gnupg/S.gpg-agent:0:1 XAUTHORITY=/home/wildef/.Xauthority XDG_GREETER_DATA_DIR=/var/lib/lightdm-data/wildef GDM_LANG=de_DE HOME=/home/wildef LANG=de_DE.UTF-8 LS_COLORS=rs=0:di=01;34:ln=01;36:mh=00:pi=40;33:so=01;35:do=01;35:bd=40;33;01:cd=40;33;01:or=40;31;01:mi=00:su=37;41:sg=30;43:ca=30;41:tw=30;42:ow=34;42:st=37;44:ex=01;32:*.tar=01;31:*.tgz=01;31:*.arc=01;31:*.arj=01;31:*.taz=01;31:*.lha=01;31:*.lz4=01;31:*.lzh=01;31:*.lzma=01;31:*.tlz=01;31:*.txz=01;31:*.tzo=01;31:*.t7z=01;31:*.zip=01;31:*.z=01;31:*.dz=01;31:*.gz=01;31:*.lrz=01;31:*.lz=01;31:*.lzo=01;31:*.xz=01;31:*.zst=01;31:*.tzst=01;31:*.bz2=01;31:*.bz=01;31:*.tbz=01;31:*.tbz2=01;31:*.tz=01;31:*.deb=01;31:*.rpm=01;31:*.jar=01;31:*.war=01;31:*.ear=01;31:*.sar=01;31:*.rar=01;31:*.alz=01;31:*.ace=01;31:*.zoo=01;31:*.cpio=01;31:*.7z=01;31:*.rz=01;31:*.cab=01;31:*.wim=01;31:*.swm=01;31:*.dwm=01;31:*.esd=01;31:*.jpg=01;35:*.jpeg=01;35:*.mjpg=01;35:*.mjpeg=01;35:*.gif=01;35:*.bmp=01;35:*.pbm=01;35:*.pgm=01;35:*.ppm=01;35:*.tga=01;35:*.xbm=01;35:*.xpm=01;35:*.tif=01;35:*.tiff=01;35:*.png=01;35:*.svg=01;35:*.svgz=01;35:*.mng=01;35:*.pcx=01;35:*.mov=01;35:*.mpg=01;35:*.mpeg=01;35:*.m2v=01;35:*.mkv=01;35:*.webm=01;35:*.webp=01;35:*.ogm=01;35:*.mp4=01;35:*.m4v=01;35:*.mp4v=01;35:*.vob=01;35:*.qt=01;35:*.nuv=01;35:*.wmv=01;35:*.asf=01;35:*.rm=01;35:*.rmvb=01;35:*.flc=01;35:*.avi=01;35:*.fli=01;35:*.flv=01;35:*.gl=01;35:*.dl=01;35:*.xcf=01;35:*.xwd=01;35:*.yuv=01;35:*.cgm=01;35:*.emf=01;35:*.ogv=01;35:*.ogx=01;35:*.aac=00;36:*.au=00;36:*.flac=00;36:*.m4a=00;36:*.mid=00;36:*.midi=00;36:*.mka=00;36:*.mp3=00;36:*.mpc=00;36:*.ogg=00;36:*.ra=00;36:*.wav=00;36:*.oga=00;36:*.opus=00;36:*.spx=00;36:*.xspf=00;36: XDG_CURRENT_DESKTOP=XFCE VTE_VERSION=6200 CONDA_PROMPT_MODIFIER=(base)  XDG_SEAT_PATH=/org/freedesktop/DisplayManager/Seat0 LESSCLOSE=/usr/bin/lesspipe %s %s XDG_SESSION_CLASS=user TERM=xterm-256color CHROME_WRAPPER=/opt/google/chrome/google-chrome _CE_CONDA= GTK_OVERLAY_SCROLLING=0 LESSOPEN=| /usr/bin/lesspipe %s USER=wildef CONDA_SHLVL=1 DISPLAY=:0.0 SHLVL=1 GNOME_DISABLE_CRASH_DIALOG=SET_BY_GOOGLE_CHROME XDG_VTNR=7 XDG_SESSION_ID=c2 CONDA_PYTHON_EXE=/home/wildef/anaconda3/bin/python LD_LIBRARY_PATH=/opt/google/chrome:/opt/google/chrome/lib XDG_RUNTIME_DIR=/run/user/1000 CONDA_DEFAULT_ENV=base XDG_DATA_DIRS=/usr/share/xubuntu:/usr/share/xfce4:/usr/local/share:/usr/share:/var/lib/snapd/desktop:/usr/share PATH=/home/wildef/anaconda3/bin:/home/wildef/anaconda3/condabin:/home/wildef/.local/bin:/usr/local/sbin:/usr/local/bin:/usr/sbin:/usr/bin:/sbin:/bin:/usr/games:/usr/local/games:/snap/bin GDMSESSION=xubuntu DBUS_SESSION_BUS_ADDRESS=unix:path=/run/user/1000/bus CHROME_VERSION_EXTRA=stable OLDPWD=/home/wildef/Schreibtisch/Uni HGW/Teaching/Seminars/2021/Advanced Python/Session 1\n",
      "wildef      5815  0.0  0.0  18584   664 ?        S    08:35   0:00      |       |   \\_ cat SHELL=/bin/bash SESSION_MANAGER=local/wildef-ThinkPad-T14s-Gen-1:@/tmp/.ICE-unix/1295,unix/wildef-ThinkPad-T14s-Gen-1:/tmp/.ICE-unix/1295 WINDOWID=85983235 QT_ACCESSIBILITY=1 COLORTERM=truecolor XDG_CONFIG_DIRS=/etc/xdg/xdg-xubuntu:/etc/xdg:/etc/xdg XDG_SESSION_PATH=/org/freedesktop/DisplayManager/Session0 XDG_MENU_PREFIX=xfce- CONDA_EXE=/home/wildef/anaconda3/bin/conda _CE_M= CLUTTER_BACKEND=x11 LANGUAGE=de_DE SSH_AUTH_SOCK=/run/user/1000/keyring/ssh DESKTOP_SESSION=xubuntu SSH_AGENT_PID=1450 KERNEL_LAUNCH_TIMEOUT=40 XDG_SEAT=seat0 PWD=/home/wildef/Schreibtisch/Uni HGW/Teaching/Seminars/2021/Advanced Python XDG_SESSION_DESKTOP=xubuntu LOGNAME=wildef QT_QPA_PLATFORMTHEME=gtk2 XDG_SESSION_TYPE=x11 CONDA_PREFIX=/home/wildef/anaconda3 GPG_AGENT_INFO=/run/user/1000/gnupg/S.gpg-agent:0:1 XAUTHORITY=/home/wildef/.Xauthority XDG_GREETER_DATA_DIR=/var/lib/lightdm-data/wildef GDM_LANG=de_DE HOME=/home/wildef LANG=de_DE.UTF-8 LS_COLORS=rs=0:di=01;34:ln=01;36:mh=00:pi=40;33:so=01;35:do=01;35:bd=40;33;01:cd=40;33;01:or=40;31;01:mi=00:su=37;41:sg=30;43:ca=30;41:tw=30;42:ow=34;42:st=37;44:ex=01;32:*.tar=01;31:*.tgz=01;31:*.arc=01;31:*.arj=01;31:*.taz=01;31:*.lha=01;31:*.lz4=01;31:*.lzh=01;31:*.lzma=01;31:*.tlz=01;31:*.txz=01;31:*.tzo=01;31:*.t7z=01;31:*.zip=01;31:*.z=01;31:*.dz=01;31:*.gz=01;31:*.lrz=01;31:*.lz=01;31:*.lzo=01;31:*.xz=01;31:*.zst=01;31:*.tzst=01;31:*.bz2=01;31:*.bz=01;31:*.tbz=01;31:*.tbz2=01;31:*.tz=01;31:*.deb=01;31:*.rpm=01;31:*.jar=01;31:*.war=01;31:*.ear=01;31:*.sar=01;31:*.rar=01;31:*.alz=01;31:*.ace=01;31:*.zoo=01;31:*.cpio=01;31:*.7z=01;31:*.rz=01;31:*.cab=01;31:*.wim=01;31:*.swm=01;31:*.dwm=01;31:*.esd=01;31:*.jpg=01;35:*.jpeg=01;35:*.mjpg=01;35:*.mjpeg=01;35:*.gif=01;35:*.bmp=01;35:*.pbm=01;35:*.pgm=01;35:*.ppm=01;35:*.tga=01;35:*.xbm=01;35:*.xpm=01;35:*.tif=01;35:*.tiff=01;35:*.png=01;35:*.svg=01;35:*.svgz=01;35:*.mng=01;35:*.pcx=01;35:*.mov=01;35:*.mpg=01;35:*.mpeg=01;35:*.m2v=01;35:*.mkv=01;35:*.webm=01;35:*.webp=01;35:*.ogm=01;35:*.mp4=01;35:*.m4v=01;35:*.mp4v=01;35:*.vob=01;35:*.qt=01;35:*.nuv=01;35:*.wmv=01;35:*.asf=01;35:*.rm=01;35:*.rmvb=01;35:*.flc=01;35:*.avi=01;35:*.fli=01;35:*.flv=01;35:*.gl=01;35:*.dl=01;35:*.xcf=01;35:*.xwd=01;35:*.yuv=01;35:*.cgm=01;35:*.emf=01;35:*.ogv=01;35:*.ogx=01;35:*.aac=00;36:*.au=00;36:*.flac=00;36:*.m4a=00;36:*.mid=00;36:*.midi=00;36:*.mka=00;36:*.mp3=00;36:*.mpc=00;36:*.ogg=00;36:*.ra=00;36:*.wav=00;36:*.oga=00;36:*.opus=00;36:*.spx=00;36:*.xspf=00;36: XDG_CURRENT_DESKTOP=XFCE VTE_VERSION=6200 CONDA_PROMPT_MODIFIER=(base)  XDG_SEAT_PATH=/org/freedesktop/DisplayManager/Seat0 LESSCLOSE=/usr/bin/lesspipe %s %s XDG_SESSION_CLASS=user TERM=xterm-256color CHROME_WRAPPER=/opt/google/chrome/google-chrome _CE_CONDA= GTK_OVERLAY_SCROLLING=0 LESSOPEN=| /usr/bin/lesspipe %s USER=wildef CONDA_SHLVL=1 DISPLAY=:0.0 SHLVL=1 GNOME_DISABLE_CRASH_DIALOG=SET_BY_GOOGLE_CHROME XDG_VTNR=7 XDG_SESSION_ID=c2 CONDA_PYTHON_EXE=/home/wildef/anaconda3/bin/python LD_LIBRARY_PATH=/opt/google/chrome:/opt/google/chrome/lib XDG_RUNTIME_DIR=/run/user/1000 CONDA_DEFAULT_ENV=base XDG_DATA_DIRS=/usr/share/xubuntu:/usr/share/xfce4:/usr/local/share:/usr/share:/var/lib/snapd/desktop:/usr/share PATH=/home/wildef/anaconda3/bin:/home/wildef/anaconda3/condabin:/home/wildef/.local/bin:/usr/local/sbin:/usr/local/bin:/usr/sbin:/usr/bin:/sbin:/bin:/usr/games:/usr/local/games:/snap/bin GDMSESSION=xubuntu DBUS_SESSION_BUS_ADDRESS=unix:path=/run/user/1000/bus CHROME_VERSION_EXTRA=stable OLDPWD=/home/wildef/Schreibtisch/Uni HGW/Teaching/Seminars/2021/Advanced Python/Session 1\n",
      "wildef      5825  0.0  0.3 17050852 57740 ?      S    08:35   0:00      |       |   \\_ /opt/google/chrome/chrome --type=zygote --no-zygote-sandbox --enable-crashpad --crashpad-handler-pid=5817 --enable-crash-reporter=a844fba0-12d7-4fbc-bca5-484fa79d72a3, --enable-crashpad --enable-crashpad                                                                                                                                                                                                                                                                                                                                                                                                                                                                                                                                                                                                                                                                                                                                                                                                                                                                                                                                                                                                                                                                                                                                                                                                                                                                                                                                                                                                                                                                                                                                                                                                                                                                                                                                                                                                                                                                                                                                                                                                                                                                                                                                                                                                                                                                                                                                                                                                                                                                                                                                                                                                                                                                                                                                                                                                                                                                                                                                                                                                                                                                                                                                                                                                                                                                                                                                                                                                                                                                                                                                                                                                                                                                    \n",
      "wildef      5850  8.4  0.9 17464224 154160 ?     Sl   08:35   0:27      |       |   |   \\_ /opt/google/chrome/chrome --type=gpu-process --field-trial-handle=4155035087111899347,7004575892522736710,131072 --enable-crashpad --crashpad-handler-pid=5817 --enable-crash-reporter=a844fba0-12d7-4fbc-bca5-484fa79d72a3, --gpu-preferences=UAAAAAAAAAAgAAAQAAAAAAAAAAAAAAAAAABgAAAAAAAwAAAAAAAAAAAAAAAAAAAAAAAAAAAAAAAAAAAAAQAAABgAAAAAAAAAGAAAAAAAAAAIAAAAAAAAAAgAAAAAAAAACAAAAAAAAAA= --shared-files crash-reporter=a844fba0-12d7-4fbc-bca5-484fa79d72a3, --gpu-preferences=UAAAAAAAAAAgAAAQAAAAAAAAAAAAAAAAAABgAAAAAAAwAAAAAAAAAAAAAAAAAAAAAAAAAAAAAAAAAAAAAQAAABgAAAAAAAAAGAAAAAAAAAAIAAAAAAAAAAgAAAAAAAAACAAAAAAAAAA= --shared-files                                                                                                                                                                                                                                                                                                                                                                                                                                                                                                                                                                                                                                                                                                                                                                                                                                                                                                                                                                                                                                                                                                                                                                                                                                                                                                                                                                                                                                                                                                                                                                                                                                                                                                                                                                                                                                                                                                                                                                                                                                                                                                                                                                                                                                                                                                                                                                                                                                                                                                                                                                                                                                                                                                                                                                                                                                                                                                                                                                                                                                                                                                                                                                                                                                                                                                                                                                                                                                                   \n",
      "wildef      5826  0.0  0.3 17050852 59112 ?      S    08:35   0:00      |       |   \\_ /opt/google/chrome/chrome --type=zygote --enable-crashpad --crashpad-handler-pid=5817 --enable-crash-reporter=a844fba0-12d7-4fbc-bca5-484fa79d72a3, --enable-crashpad --enable-crashpad                                                                                                                                                                                                                                                                                                                                                                                                                                                                                                                                                                                                                                                                                                                                                                                                                                                                                                                                                                                                                                                                                                                                                                                                                                                                                                                                                                                                                                                                                                                                                                                                                                                                                                                                                                                                                                                                                                                                                                                                                                                                                                                                                                                                                                                                                                                                                                                                                                                                                                                                                                                                                                                                                                                                                                                                                                                                                                                                                                                                                                                                                                                                                                                                                                                                                                                                                                                                                                                                                                                                                                                                                                                                                                            \n",
      "wildef      5827  0.0  0.0 16786620 3856 ?       S    08:35   0:00      |       |   |   \\_ /opt/google/chrome/nacl_helper SBX_NET_NS=1 SBX_PID_NS=1 SBX_USER_NS=1\n",
      "wildef      5830  0.0  0.1 17050852 16316 ?      S    08:35   0:00      |       |   |   \\_ /opt/google/chrome/chrome --type=zygote --enable-crashpad --crashpad-handler-pid=5817 --enable-crash-reporter=a844fba0-12d7-4fbc-bca5-484fa79d72a3, --enable-crashpad --enable-crashpad                                                                                                                                                                                                                                                                                                                                                                                                                                                                                                                                                                                                                                                                                                                                                                                                                                                                                                                                                                                                                                                                                                                                                                                                                                                                                                                                                                                                                                                                                                                                                                                                                                                                                                                                                                                                                                                                                                                                                                                                                                                                                                                                                                                                                                                                                                                                                                                                                                                                                                                                                                                                                                                                                                                                                                                                                                                                                                                                                                                                                                                                                                                                                                                                                                                                                                                                                                                                                                                                                                                                                                                                                                                                                                            \n",
      "wildef      5854  0.0  0.2 17092232 45976 ?      Sl   08:35   0:00      |       |   |       \\_ /opt/google/chrome/chrome --type=utility --utility-sub-type=storage.mojom.StorageService --field-trial-handle=4155035087111899347,7004575892522736710,131072 --lang=de --service-sandbox-type=utility --enable-crashpad --crashpad-handler-pid=5817 --enable-crash-reporter=a844fba0-12d7-4fbc-bca5-484fa79d72a3, --shared-files=v8_context_snapshot_data:100 0,131072 --lang=de --service-sandbox-type=utility --enable-crashpad --crashpad-handler-pid=5817 --enable-crash-reporter=a844fba0-12d7-4fbc-bca5-484fa79d72a3, --shared-files=v8_context_snapshot_data:100                                                                                                                                                                                                                                                                                                                                                                                                                                                                                                                                                                                                                                                                                                                                                                                                                                                                                                                                                                                                                                                                                                                                                                                                                                                                                                                                                                                                                                                                                                                                                                                                                                                                                                                                                                                                                                                                                                                                                                                                                                                                                                                                                                                                                                                                                                                                                                                                                                                                                                                                                                                                                                                                                                                                                                                                                                                                                                                                                                                                                                                                                                                                                                                                                                                                                                                                                                                                                                                                                                                    \n",
      "wildef      5911  0.7  0.7 21404748 115168 ?     Sl   08:35   0:02      |       |   |       \\_ /opt/google/chrome/chrome --type=renderer --field-trial-handle=4155035087111899347,7004575892522736710,131072 --lang=de --enable-crashpad --crashpad-handler-pid=5817 --enable-crash-reporter=a844fba0-12d7-4fbc-bca5-484fa79d72a3, --num-raster-threads=4 --enable-main-frame-before-activation --renderer-client-id=7 --no-v8-untrusted-code-mitigations --shared-files=v8_context_snapshot_data:100 -handler-pid=5817 --enable-crash-reporter=a844fba0-12d7-4fbc-bca5-484fa79d72a3, --num-raster-threads=4 --enable-main-frame-before-activation --renderer-client-id=7 --no-v8-untrusted-code-mitigations --shared-files=v8_context_snapshot_data:100                                                                                                                                                                                                                                                                                                                                                                                                                                                                                                                                                                                                                                                                                                                                                                                                                                                                                                                                                                                                                                                                                                                                                                                                                                                                                                                                                                                                                                                                                                                                                                                                                                                                                                                                                                                                                                                                                                                                                                                                                                                                                                                                                                                                                                                                                                                                                                                                                                                                                                                                                                                                                                                                                                                                                                                                                                                                                                                                                                                                                                                                                                                                                                                                                                                                                                                                                                                                                                                                           \n",
      "wildef      6059  3.8  0.9 21449612 147620 ?     Sl   08:36   0:10      |       |   |       \\_ /opt/google/chrome/chrome --type=renderer --field-trial-handle=4155035087111899347,7004575892522736710,131072 --lang=de --enable-crashpad --crashpad-handler-pid=5817 --enable-crash-reporter=a844fba0-12d7-4fbc-bca5-484fa79d72a3, --num-raster-threads=4 --enable-main-frame-before-activation --renderer-client-id=11 --no-v8-untrusted-code-mitigations --shared-files=v8_context_snapshot_data:100 -handler-pid=5817 --enable-crash-reporter=a844fba0-12d7-4fbc-bca5-484fa79d72a3, --num-raster-threads=4 --enable-main-frame-before-activation --renderer-client-id=11 --no-v8-untrusted-code-mitigations --shared-files=v8_context_snapshot_data:100                                                                                                                                                                                                                                                                                                                                                                                                                                                                                                                                                                                                                                                                                                                                                                                                                                                                                                                                                                                                                                                                                                                                                                                                                                                                                                                                                                                                                                                                                                                                                                                                                                                                                                                                                                                                                                                                                                                                                                                                                                                                                                                                                                                                                                                                                                                                                                                                                                                                                                                                                                                                                                                                                                                                                                                                                                                                                                                                                                                                                                                                                                                                                                                                                                                                                                                                                                                                                                                                          \n",
      "wildef      6097  0.0  0.2 17085444 39252 ?      Sl   08:36   0:00      |       |   |       \\_ /opt/google/chrome/chrome --type=utility --utility-sub-type=data_decoder.mojom.DataDecoderService --field-trial-handle=4155035087111899347,7004575892522736710,131072 --lang=de --service-sandbox-type=service --enable-crashpad --crashpad-handler-pid=5817 --enable-crash-reporter=a844fba0-12d7-4fbc-bca5-484fa79d72a3, --shared-files=v8_context_snapshot_data:100 2522736710,131072 --lang=de --service-sandbox-type=service --enable-crashpad --crashpad-handler-pid=5817 --enable-crash-reporter=a844fba0-12d7-4fbc-bca5-484fa79d72a3, --shared-files=v8_context_snapshot_data:100                                                                                                                                                                                                                                                                                                                                                                                                                                                                                                                                                                                                                                                                                                                                                                                                                                                                                                                                                                                                                                                                                                                                                                                                                                                                                                                                                                                                                                                                                                                                                                                                                                                                                                                                                                                                                                                                                                                                                                                                                                                                                                                                                                                                                                                                                                                                                                                                                                                                                                                                                                                                                                                                                                                                                                                                                                                                                                                                                                                                                                                                                                                                                                                                                                                                                                                                                                                                                                                                                                           \n",
      "wildef      6102 18.9  1.2 21494772 194480 ?     Sl   08:36   0:51      |       |   |       \\_ /opt/google/chrome/chrome --type=renderer --field-trial-handle=4155035087111899347,7004575892522736710,131072 --lang=de --enable-crashpad --crashpad-handler-pid=5817 --enable-crash-reporter=a844fba0-12d7-4fbc-bca5-484fa79d72a3, --num-raster-threads=4 --enable-main-frame-before-activation --renderer-client-id=17 --no-v8-untrusted-code-mitigations --shared-files=v8_context_snapshot_data:100 -handler-pid=5817 --enable-crash-reporter=a844fba0-12d7-4fbc-bca5-484fa79d72a3, --num-raster-threads=4 --enable-main-frame-before-activation --renderer-client-id=17 --no-v8-untrusted-code-mitigations --shared-files=v8_context_snapshot_data:100                                                                                                                                                                                                                                                                                                                                                                                                                                                                                                                                                                                                                                                                                                                                                                                                                                                                                                                                                                                                                                                                                                                                                                                                                                                                                                                                                                                                                                                                                                                                                                                                                                                                                                                                                                                                                                                                                                                                                                                                                                                                                                                                                                                                                                                                                                                                                                                                                                                                                                                                                                                                                                                                                                                                                                                                                                                                                                                                                                                                                                                                                                                                                                                                                                                                                                                                                                                                                                                                          \n",
      "wildef      6153  5.3  1.1 21473448 175576 ?     Sl   08:37   0:10      |       |   |       \\_ /opt/google/chrome/chrome --type=renderer --field-trial-handle=4155035087111899347,7004575892522736710,131072 --lang=de --enable-crashpad --crashpad-handler-pid=5817 --enable-crash-reporter=a844fba0-12d7-4fbc-bca5-484fa79d72a3, --num-raster-threads=4 --enable-main-frame-before-activation --renderer-client-id=18 --no-v8-untrusted-code-mitigations --shared-files=v8_context_snapshot_data:100 -handler-pid=5817 --enable-crash-reporter=a844fba0-12d7-4fbc-bca5-484fa79d72a3, --num-raster-threads=4 --enable-main-frame-before-activation --renderer-client-id=18 --no-v8-untrusted-code-mitigations --shared-files=v8_context_snapshot_data:100                                                                                                                                                                                                                                                                                                                                                                                                                                                                                                                                                                                                                                                                                                                                                                                                                                                                                                                                                                                                                                                                                                                                                                                                                                                                                                                                                                                                                                                                                                                                                                                                                                                                                                                                                                                                                                                                                                                                                                                                                                                                                                                                                                                                                                                                                                                                                                                                                                                                                                                                                                                                                                                                                                                                                                                                                                                                                                                                                                                                                                                                                                                                                                                                                                                                                                                                                                                                                                                                          \n",
      "wildef      6179  3.4  1.1 21440868 184872 ?     Sl   08:37   0:07      |       |   |       \\_ /opt/google/chrome/chrome --type=renderer --field-trial-handle=4155035087111899347,7004575892522736710,131072 --lang=de --enable-crashpad --crashpad-handler-pid=5817 --enable-crash-reporter=a844fba0-12d7-4fbc-bca5-484fa79d72a3, --num-raster-threads=4 --enable-main-frame-before-activation --renderer-client-id=19 --no-v8-untrusted-code-mitigations --shared-files=v8_context_snapshot_data:100 -handler-pid=5817 --enable-crash-reporter=a844fba0-12d7-4fbc-bca5-484fa79d72a3, --num-raster-threads=4 --enable-main-frame-before-activation --renderer-client-id=19 --no-v8-untrusted-code-mitigations --shared-files=v8_context_snapshot_data:100                                                                                                                                                                                                                                                                                                                                                                                                                                                                                                                                                                                                                                                                                                                                                                                                                                                                                                                                                                                                                                                                                                                                                                                                                                                                                                                                                                                                                                                                                                                                                                                                                                                                                                                                                                                                                                                                                                                                                                                                                                                                                                                                                                                                                                                                                                                                                                                                                                                                                                                                                                                                                                                                                                                                                                                                                                                                                                                                                                                                                                                                                                                                                                                                                                                                                                                                                                                                                                                                          \n",
      "wildef      6259  0.0  0.3 21349796 59568 ?      Sl   08:38   0:00      |       |   |       \\_ /opt/google/chrome/chrome --type=renderer --field-trial-handle=4155035087111899347,7004575892522736710,131072 --lang=de --enable-crashpad --crashpad-handler-pid=5817 --enable-crash-reporter=a844fba0-12d7-4fbc-bca5-484fa79d72a3, --num-raster-threads=4 --enable-main-frame-before-activation --renderer-client-id=20 --no-v8-untrusted-code-mitigations --shared-files=v8_context_snapshot_data:100 -handler-pid=5817 --enable-crash-reporter=a844fba0-12d7-4fbc-bca5-484fa79d72a3, --num-raster-threads=4 --enable-main-frame-before-activation --renderer-client-id=20 --no-v8-untrusted-code-mitigations --shared-files=v8_context_snapshot_data:100                                                                                                                                                                                                                                                                                                                                                                                                                                                                                                                                                                                                                                                                                                                                                                                                                                                                                                                                                                                                                                                                                                                                                                                                                                                                                                                                                                                                                                                                                                                                                                                                                                                                                                                                                                                                                                                                                                                                                                                                                                                                                                                                                                                                                                                                                                                                                                                                                                                                                                                                                                                                                                                                                                                                                                                                                                                                                                                                                                                                                                                                                                                                                                                                                                                                                                                                                                                                                                                                          \n",
      "wildef      5851  0.8  0.6 17120348 100392 ?     SLl  08:35   0:02      |       |   \\_ /opt/google/chrome/chrome --type=utility --utility-sub-type=network.mojom.NetworkService --field-trial-handle=4155035087111899347,7004575892522736710,131072 --lang=de --service-sandbox-type=none --enable-crashpad --crashpad-handler-pid=5817 --enable-crash-reporter=a844fba0-12d7-4fbc-bca5-484fa79d72a3, --shared-files=v8_context_snapshot_data:100 --enable-crashpad t_data:100 --enable-crashpad                                                                                                                                                                                                                                                                                                                                                                                                                                                                                                                                                                                                                                                                                                                                                                                                                                                                                                                                                                                                                                                                                                                                                                                                                                                                                                                                                                                                                                                                                                                                                                                                                                                                                                                                                                                                                                                                                                                                                                                                                                                                                                                                                                                                                                                                                                                                                                                                                                                                                                                                                                                                                                                                                                                                                                                                                                                                                                                                                                                                                                                                                                                                                                                                                                                                                                                                                                                                                                                                                                                                                                                                                                                                                        \n",
      "wildef      6202  1.5  0.5 2640556 91352 ?       Ssl  08:37   0:03      |       \\_ /home/wildef/anaconda3/bin/python -m ipykernel_launcher -f /home/wildef/.local/share/jupyter/runtime/kernel-e403d16a-3e1d-4536-9ba6-ee5a597d5bc4.json SHELL=/bin/bash SESSION_MANAGER=local/wildef-ThinkPad-T14s-Gen-1:@/tmp/.ICE-unix/1295,unix/wildef-ThinkPad-T14s-Gen-1:/tmp/.ICE-unix/1295 WINDOWID=85983235 QT_ACCESSIBILITY=1 COLORTERM=truecolor XDG_CONFIG_DIRS=/etc/xdg/xdg-xubuntu:/etc/xdg:/etc/xdg XDG_SESSION_PATH=/org/freedesktop/DisplayManager/Session0 XDG_MENU_PREFIX=xfce- CONDA_EXE=/home/wildef/anaconda3/bin/conda _CE_M= CLUTTER_BACKEND=x11 LANGUAGE=de_DE SSH_AUTH_SOCK=/run/user/1000/keyring/ssh DESKTOP_SESSION=xubuntu SSH_AGENT_PID=1450 XDG_SEAT=seat0 PWD=/home/wildef/Schreibtisch/Uni HGW/Teaching/Seminars/2021/Advanced Python LOGNAME=wildef XDG_SESSION_DESKTOP=xubuntu QT_QPA_PLATFORMTHEME=gtk2 XDG_SESSION_TYPE=x11 CONDA_PREFIX=/home/wildef/anaconda3 GPG_AGENT_INFO=/run/user/1000/gnupg/S.gpg-agent:0:1 XAUTHORITY=/home/wildef/.Xauthority XDG_GREETER_DATA_DIR=/var/lib/lightdm-data/wildef GDM_LANG=de_DE HOME=/home/wildef LANG=de_DE.UTF-8 LS_COLORS=rs=0:di=01;34:ln=01;36:mh=00:pi=40;33:so=01;35:do=01;35:bd=40;33;01:cd=40;33;01:or=40;31;01:mi=00:su=37;41:sg=30;43:ca=30;41:tw=30;42:ow=34;42:st=37;44:ex=01;32:*.tar=01;31:*.tgz=01;31:*.arc=01;31:*.arj=01;31:*.taz=01;31:*.lha=01;31:*.lz4=01;31:*.lzh=01;31:*.lzma=01;31:*.tlz=01;31:*.txz=01;31:*.tzo=01;31:*.t7z=01;31:*.zip=01;31:*.z=01;31:*.dz=01;31:*.gz=01;31:*.lrz=01;31:*.lz=01;31:*.lzo=01;31:*.xz=01;31:*.zst=01;31:*.tzst=01;31:*.bz2=01;31:*.bz=01;31:*.tbz=01;31:*.tbz2=01;31:*.tz=01;31:*.deb=01;31:*.rpm=01;31:*.jar=01;31:*.war=01;31:*.ear=01;31:*.sar=01;31:*.rar=01;31:*.alz=01;31:*.ace=01;31:*.zoo=01;31:*.cpio=01;31:*.7z=01;31:*.rz=01;31:*.cab=01;31:*.wim=01;31:*.swm=01;31:*.dwm=01;31:*.esd=01;31:*.jpg=01;35:*.jpeg=01;35:*.mjpg=01;35:*.mjpeg=01;35:*.gif=01;35:*.bmp=01;35:*.pbm=01;35:*.pgm=01;35:*.ppm=01;35:*.tga=01;35:*.xbm=01;35:*.xpm=01;35:*.tif=01;35:*.tiff=01;35:*.png=01;35:*.svg=01;35:*.svgz=01;35:*.mng=01;35:*.pcx=01;35:*.mov=01;35:*.mpg=01;35:*.mpeg=01;35:*.m2v=01;35:*.mkv=01;35:*.webm=01;35:*.webp=01;35:*.ogm=01;35:*.mp4=01;35:*.m4v=01;35:*.mp4v=01;35:*.vob=01;35:*.qt=01;35:*.nuv=01;35:*.wmv=01;35:*.asf=01;35:*.rm=01;35:*.rmvb=01;35:*.flc=01;35:*.avi=01;35:*.fli=01;35:*.flv=01;35:*.gl=01;35:*.dl=01;35:*.xcf=01;35:*.xwd=01;35:*.yuv=01;35:*.cgm=01;35:*.emf=01;35:*.ogv=01;35:*.ogx=01;35:*.aac=00;36:*.au=00;36:*.flac=00;36:*.m4a=00;36:*.mid=00;36:*.midi=00;36:*.mka=00;36:*.mp3=00;36:*.mpc=00;36:*.ogg=00;36:*.ra=00;36:*.wav=00;36:*.oga=00;36:*.opus=00;36:*.spx=00;36:*.xspf=00;36: XDG_CURRENT_DESKTOP=XFCE VTE_VERSION=6200 CONDA_PROMPT_MODIFIER=(base)  XDG_SEAT_PATH=/org/freedesktop/DisplayManager/Seat0 LESSCLOSE=/usr/bin/lesspipe %s %s XDG_SESSION_CLASS=user TERM=xterm-256color _CE_CONDA= GTK_OVERLAY_SCROLLING=0 LESSOPEN=| /usr/bin/lesspipe %s USER=wildef CONDA_SHLVL=1 DISPLAY=:0.0 SHLVL=1 XDG_VTNR=7 XDG_SESSION_ID=c2 CONDA_PYTHON_EXE=/home/wildef/anaconda3/bin/python XDG_RUNTIME_DIR=/run/user/1000 CONDA_DEFAULT_ENV=base XDG_DATA_DIRS=/usr/share/xubuntu:/usr/share/xfce4:/usr/local/share:/usr/share:/var/lib/snapd/desktop:/usr/share PATH=/home/wildef/anaconda3/bin:/home/wildef/anaconda3/condabin:/home/wildef/.local/bin:/usr/local/sbin:/usr/local/bin:/usr/sbin:/usr/bin:/sbin:/bin:/usr/games:/usr/local/games:/snap/bin GDMSESSION=xubuntu DBUS_SESSION_BUS_ADDRESS=unix:path=/run/user/1000/bus OLDPWD=/home/wildef/Schreibtisch/Uni HGW/Teaching/Seminars/2021/Advanced Python/Session 1 _=/home/wildef/anaconda3/bin/jupyter-notebook KERNEL_LAUNCH_TIMEOUT=40 JPY_PARENT_PID=5801\n",
      "wildef      6429  0.0  0.0  19848  3364 ?        S    08:41   0:00      |       |   \\_ bash SHELL=/bin/bash SESSION_MANAGER=local/wildef-ThinkPad-T14s-Gen-1:@/tmp/.ICE-unix/1295,unix/wildef-ThinkPad-T14s-Gen-1:/tmp/.ICE-unix/1295 WINDOWID=85983235 QT_ACCESSIBILITY=1 COLORTERM=truecolor XDG_CONFIG_DIRS=/etc/xdg/xdg-xubuntu:/etc/xdg:/etc/xdg XDG_SESSION_PATH=/org/freedesktop/DisplayManager/Session0 XDG_MENU_PREFIX=xfce- CONDA_EXE=/home/wildef/anaconda3/bin/conda _CE_M= CLUTTER_BACKEND=x11 LANGUAGE=de_DE SSH_AUTH_SOCK=/run/user/1000/keyring/ssh DESKTOP_SESSION=xubuntu SSH_AGENT_PID=1450 XDG_SEAT=seat0 PWD=/home/wildef/Schreibtisch/Uni HGW/Teaching/Seminars/2021/Advanced Python LOGNAME=wildef XDG_SESSION_DESKTOP=xubuntu QT_QPA_PLATFORMTHEME=gtk2 XDG_SESSION_TYPE=x11 CONDA_PREFIX=/home/wildef/anaconda3 GPG_AGENT_INFO=/run/user/1000/gnupg/S.gpg-agent:0:1 XAUTHORITY=/home/wildef/.Xauthority XDG_GREETER_DATA_DIR=/var/lib/lightdm-data/wildef GDM_LANG=de_DE HOME=/home/wildef LANG=de_DE.UTF-8 LS_COLORS=rs=0:di=01;34:ln=01;36:mh=00:pi=40;33:so=01;35:do=01;35:bd=40;33;01:cd=40;33;01:or=40;31;01:mi=00:su=37;41:sg=30;43:ca=30;41:tw=30;42:ow=34;42:st=37;44:ex=01;32:*.tar=01;31:*.tgz=01;31:*.arc=01;31:*.arj=01;31:*.taz=01;31:*.lha=01;31:*.lz4=01;31:*.lzh=01;31:*.lzma=01;31:*.tlz=01;31:*.txz=01;31:*.tzo=01;31:*.t7z=01;31:*.zip=01;31:*.z=01;31:*.dz=01;31:*.gz=01;31:*.lrz=01;31:*.lz=01;31:*.lzo=01;31:*.xz=01;31:*.zst=01;31:*.tzst=01;31:*.bz2=01;31:*.bz=01;31:*.tbz=01;31:*.tbz2=01;31:*.tz=01;31:*.deb=01;31:*.rpm=01;31:*.jar=01;31:*.war=01;31:*.ear=01;31:*.sar=01;31:*.rar=01;31:*.alz=01;31:*.ace=01;31:*.zoo=01;31:*.cpio=01;31:*.7z=01;31:*.rz=01;31:*.cab=01;31:*.wim=01;31:*.swm=01;31:*.dwm=01;31:*.esd=01;31:*.jpg=01;35:*.jpeg=01;35:*.mjpg=01;35:*.mjpeg=01;35:*.gif=01;35:*.bmp=01;35:*.pbm=01;35:*.pgm=01;35:*.ppm=01;35:*.tga=01;35:*.xbm=01;35:*.xpm=01;35:*.tif=01;35:*.tiff=01;35:*.png=01;35:*.svg=01;35:*.svgz=01;35:*.mng=01;35:*.pcx=01;35:*.mov=01;35:*.mpg=01;35:*.mpeg=01;35:*.m2v=01;35:*.mkv=01;35:*.webm=01;35:*.webp=01;35:*.ogm=01;35:*.mp4=01;35:*.m4v=01;35:*.mp4v=01;35:*.vob=01;35:*.qt=01;35:*.nuv=01;35:*.wmv=01;35:*.asf=01;35:*.rm=01;35:*.rmvb=01;35:*.flc=01;35:*.avi=01;35:*.fli=01;35:*.flv=01;35:*.gl=01;35:*.dl=01;35:*.xcf=01;35:*.xwd=01;35:*.yuv=01;35:*.cgm=01;35:*.emf=01;35:*.ogv=01;35:*.ogx=01;35:*.aac=00;36:*.au=00;36:*.flac=00;36:*.m4a=00;36:*.mid=00;36:*.midi=00;36:*.mka=00;36:*.mp3=00;36:*.mpc=00;36:*.ogg=00;36:*.ra=00;36:*.wav=00;36:*.oga=00;36:*.opus=00;36:*.spx=00;36:*.xspf=00;36: XDG_CURRENT_DESKTOP=XFCE VTE_VERSION=6200 CONDA_PROMPT_MODIFIER=(base)  XDG_SEAT_PATH=/org/freedesktop/DisplayManager/Seat0 LESSCLOSE=/usr/bin/lesspipe %s %s XDG_SESSION_CLASS=user TERM=xterm-color _CE_CONDA= GTK_OVERLAY_SCROLLING=0 LESSOPEN=| /usr/bin/lesspipe %s USER=wildef CONDA_SHLVL=1 DISPLAY=:0.0 SHLVL=1 XDG_VTNR=7 XDG_SESSION_ID=c2 CONDA_PYTHON_EXE=/home/wildef/anaconda3/bin/python XDG_RUNTIME_DIR=/run/user/1000 CONDA_DEFAULT_ENV=base XDG_DATA_DIRS=/usr/share/xubuntu:/usr/share/xfce4:/usr/local/share:/usr/share:/var/lib/snapd/desktop:/usr/share PATH=/home/wildef/anaconda3/bin:/home/wildef/anaconda3/condabin:/home/wildef/.local/bin:/usr/local/sbin:/usr/local/bin:/usr/sbin:/usr/bin:/sbin:/bin:/usr/games:/usr/local/games:/snap/bin GDMSESSION=xubuntu DBUS_SESSION_BUS_ADDRESS=unix:path=/run/user/1000/bus OLDPWD=/home/wildef/Schreibtisch/Uni HGW/Teaching/Seminars/2021/Advanced Python/Session 1 _=/home/wildef/anaconda3/bin/jupyter-notebook KERNEL_LAUNCH_TIMEOUT=40 JPY_PARENT_PID=5801 CLICOLOR=1 PAGER=cat GIT_PAGER=cat MPLBACKEND=module://ipykernel.pylab.backend_inline\n",
      "wildef      6430  0.0  0.0  24056  4860 ?        R    08:41   0:00      |       |       \\_ ps -ef -aux SHELL=/bin/bash SESSION_MANAGER=local/wildef-ThinkPad-T14s-Gen-1:@/tmp/.ICE-unix/1295,unix/wildef-ThinkPad-T14s-Gen-1:/tmp/.ICE-unix/1295 WINDOWID=85983235 QT_ACCESSIBILITY=1 COLORTERM=truecolor XDG_CONFIG_DIRS=/etc/xdg/xdg-xubuntu:/etc/xdg:/etc/xdg XDG_SESSION_PATH=/org/freedesktop/DisplayManager/Session0 XDG_MENU_PREFIX=xfce- CONDA_EXE=/home/wildef/anaconda3/bin/conda _CE_M= CLUTTER_BACKEND=x11 LANGUAGE=de_DE SSH_AUTH_SOCK=/run/user/1000/keyring/ssh DESKTOP_SESSION=xubuntu SSH_AGENT_PID=1450 KERNEL_LAUNCH_TIMEOUT=40 XDG_SEAT=seat0 PWD=/home/wildef/Schreibtisch/Uni HGW/Teaching/Seminars/2021/Advanced Python/Session 1 XDG_SESSION_DESKTOP=xubuntu LOGNAME=wildef QT_QPA_PLATFORMTHEME=gtk2 XDG_SESSION_TYPE=x11 CONDA_PREFIX=/home/wildef/anaconda3 GPG_AGENT_INFO=/run/user/1000/gnupg/S.gpg-agent:0:1 _=/usr/bin/ps XAUTHORITY=/home/wildef/.Xauthority XDG_GREETER_DATA_DIR=/var/lib/lightdm-data/wildef GDM_LANG=de_DE HOME=/home/wildef LANG=de_DE.UTF-8 LS_COLORS=rs=0:di=01;34:ln=01;36:mh=00:pi=40;33:so=01;35:do=01;35:bd=40;33;01:cd=40;33;01:or=40;31;01:mi=00:su=37;41:sg=30;43:ca=30;41:tw=30;42:ow=34;42:st=37;44:ex=01;32:*.tar=01;31:*.tgz=01;31:*.arc=01;31:*.arj=01;31:*.taz=01;31:*.lha=01;31:*.lz4=01;31:*.lzh=01;31:*.lzma=01;31:*.tlz=01;31:*.txz=01;31:*.tzo=01;31:*.t7z=01;31:*.zip=01;31:*.z=01;31:*.dz=01;31:*.gz=01;31:*.lrz=01;31:*.lz=01;31:*.lzo=01;31:*.xz=01;31:*.zst=01;31:*.tzst=01;31:*.bz2=01;31:*.bz=01;31:*.tbz=01;31:*.tbz2=01;31:*.tz=01;31:*.deb=01;31:*.rpm=01;31:*.jar=01;31:*.war=01;31:*.ear=01;31:*.sar=01;31:*.rar=01;31:*.alz=01;31:*.ace=01;31:*.zoo=01;31:*.cpio=01;31:*.7z=01;31:*.rz=01;31:*.cab=01;31:*.wim=01;31:*.swm=01;31:*.dwm=01;31:*.esd=01;31:*.jpg=01;35:*.jpeg=01;35:*.mjpg=01;35:*.mjpeg=01;35:*.gif=01;35:*.bmp=01;35:*.pbm=01;35:*.pgm=01;35:*.ppm=01;35:*.tga=01;35:*.xbm=01;35:*.xpm=01;35:*.tif=01;35:*.tiff=01;35:*.png=01;35:*.svg=01;35:*.svgz=01;35:*.mng=01;35:*.pcx=01;35:*.mov=01;35:*.mpg=01;35:*.mpeg=01;35:*.m2v=01;35:*.mkv=01;35:*.webm=01;35:*.webp=01;35:*.ogm=01;35:*.mp4=01;35:*.m4v=01;35:*.mp4v=01;35:*.vob=01;35:*.qt=01;35:*.nuv=01;35:*.wmv=01;35:*.asf=01;35:*.rm=01;35:*.rmvb=01;35:*.flc=01;35:*.avi=01;35:*.fli=01;35:*.flv=01;35:*.gl=01;35:*.dl=01;35:*.xcf=01;35:*.xwd=01;35:*.yuv=01;35:*.cgm=01;35:*.emf=01;35:*.ogv=01;35:*.ogx=01;35:*.aac=00;36:*.au=00;36:*.flac=00;36:*.m4a=00;36:*.mid=00;36:*.midi=00;36:*.mka=00;36:*.mp3=00;36:*.mpc=00;36:*.ogg=00;36:*.ra=00;36:*.wav=00;36:*.oga=00;36:*.opus=00;36:*.spx=00;36:*.xspf=00;36: XDG_CURRENT_DESKTOP=XFCE VTE_VERSION=6200 CONDA_PROMPT_MODIFIER=(base)  XDG_SEAT_PATH=/org/freedesktop/DisplayManager/Seat0 CLICOLOR=1 JPY_PARENT_PID=5801 LESSCLOSE=/usr/bin/lesspipe %s %s XDG_SESSION_CLASS=user TERM=xterm-color _CE_CONDA= GTK_OVERLAY_SCROLLING=0 LESSOPEN=| /usr/bin/lesspipe %s USER=wildef GIT_PAGER=cat CONDA_SHLVL=1 DISPLAY=:0.0 SHLVL=2 PAGER=cat XDG_VTNR=7 XDG_SESSION_ID=c2 MPLBACKEND=module://ipykernel.pylab.backend_inline CONDA_PYTHON_EXE=/home/wildef/anaconda3/bin/python XDG_RUNTIME_DIR=/run/user/1000 CONDA_DEFAULT_ENV=base XDG_DATA_DIRS=/usr/share/xubuntu:/usr/share/xfce4:/usr/local/share:/usr/share:/var/lib/snapd/desktop:/usr/share PATH=/home/wildef/anaconda3/bin:/home/wildef/anaconda3/condabin:/home/wildef/.local/bin:/usr/local/sbin:/usr/local/bin:/usr/sbin:/usr/bin:/sbin:/bin:/usr/games:/usr/local/games:/snap/bin GDMSESSION=xubuntu DBUS_SESSION_BUS_ADDRESS=unix:path=/run/user/1000/bus OLDPWD=/home/wildef/Schreibtisch/Uni HGW/Teaching/Seminars/2021/Advanced Python/Session 1\n",
      "wildef      6205  1.2  0.3 2701100 60840 ?       Ssl  08:37   0:02      |       \\_ /home/wildef/anaconda3/bin/python -m ipykernel_launcher -f /home/wildef/.local/share/jupyter/runtime/kernel-8b43718a-390a-462d-aaad-5c92ba61e811.json SHELL=/bin/bash SESSION_MANAGER=local/wildef-ThinkPad-T14s-Gen-1:@/tmp/.ICE-unix/1295,unix/wildef-ThinkPad-T14s-Gen-1:/tmp/.ICE-unix/1295 WINDOWID=85983235 QT_ACCESSIBILITY=1 COLORTERM=truecolor XDG_CONFIG_DIRS=/etc/xdg/xdg-xubuntu:/etc/xdg:/etc/xdg XDG_SESSION_PATH=/org/freedesktop/DisplayManager/Session0 XDG_MENU_PREFIX=xfce- CONDA_EXE=/home/wildef/anaconda3/bin/conda _CE_M= CLUTTER_BACKEND=x11 LANGUAGE=de_DE SSH_AUTH_SOCK=/run/user/1000/keyring/ssh DESKTOP_SESSION=xubuntu SSH_AGENT_PID=1450 XDG_SEAT=seat0 PWD=/home/wildef/Schreibtisch/Uni HGW/Teaching/Seminars/2021/Advanced Python LOGNAME=wildef XDG_SESSION_DESKTOP=xubuntu QT_QPA_PLATFORMTHEME=gtk2 XDG_SESSION_TYPE=x11 CONDA_PREFIX=/home/wildef/anaconda3 GPG_AGENT_INFO=/run/user/1000/gnupg/S.gpg-agent:0:1 XAUTHORITY=/home/wildef/.Xauthority XDG_GREETER_DATA_DIR=/var/lib/lightdm-data/wildef GDM_LANG=de_DE HOME=/home/wildef LANG=de_DE.UTF-8 LS_COLORS=rs=0:di=01;34:ln=01;36:mh=00:pi=40;33:so=01;35:do=01;35:bd=40;33;01:cd=40;33;01:or=40;31;01:mi=00:su=37;41:sg=30;43:ca=30;41:tw=30;42:ow=34;42:st=37;44:ex=01;32:*.tar=01;31:*.tgz=01;31:*.arc=01;31:*.arj=01;31:*.taz=01;31:*.lha=01;31:*.lz4=01;31:*.lzh=01;31:*.lzma=01;31:*.tlz=01;31:*.txz=01;31:*.tzo=01;31:*.t7z=01;31:*.zip=01;31:*.z=01;31:*.dz=01;31:*.gz=01;31:*.lrz=01;31:*.lz=01;31:*.lzo=01;31:*.xz=01;31:*.zst=01;31:*.tzst=01;31:*.bz2=01;31:*.bz=01;31:*.tbz=01;31:*.tbz2=01;31:*.tz=01;31:*.deb=01;31:*.rpm=01;31:*.jar=01;31:*.war=01;31:*.ear=01;31:*.sar=01;31:*.rar=01;31:*.alz=01;31:*.ace=01;31:*.zoo=01;31:*.cpio=01;31:*.7z=01;31:*.rz=01;31:*.cab=01;31:*.wim=01;31:*.swm=01;31:*.dwm=01;31:*.esd=01;31:*.jpg=01;35:*.jpeg=01;35:*.mjpg=01;35:*.mjpeg=01;35:*.gif=01;35:*.bmp=01;35:*.pbm=01;35:*.pgm=01;35:*.ppm=01;35:*.tga=01;35:*.xbm=01;35:*.xpm=01;35:*.tif=01;35:*.tiff=01;35:*.png=01;35:*.svg=01;35:*.svgz=01;35:*.mng=01;35:*.pcx=01;35:*.mov=01;35:*.mpg=01;35:*.mpeg=01;35:*.m2v=01;35:*.mkv=01;35:*.webm=01;35:*.webp=01;35:*.ogm=01;35:*.mp4=01;35:*.m4v=01;35:*.mp4v=01;35:*.vob=01;35:*.qt=01;35:*.nuv=01;35:*.wmv=01;35:*.asf=01;35:*.rm=01;35:*.rmvb=01;35:*.flc=01;35:*.avi=01;35:*.fli=01;35:*.flv=01;35:*.gl=01;35:*.dl=01;35:*.xcf=01;35:*.xwd=01;35:*.yuv=01;35:*.cgm=01;35:*.emf=01;35:*.ogv=01;35:*.ogx=01;35:*.aac=00;36:*.au=00;36:*.flac=00;36:*.m4a=00;36:*.mid=00;36:*.midi=00;36:*.mka=00;36:*.mp3=00;36:*.mpc=00;36:*.ogg=00;36:*.ra=00;36:*.wav=00;36:*.oga=00;36:*.opus=00;36:*.spx=00;36:*.xspf=00;36: XDG_CURRENT_DESKTOP=XFCE VTE_VERSION=6200 CONDA_PROMPT_MODIFIER=(base)  XDG_SEAT_PATH=/org/freedesktop/DisplayManager/Seat0 LESSCLOSE=/usr/bin/lesspipe %s %s XDG_SESSION_CLASS=user TERM=xterm-256color _CE_CONDA= GTK_OVERLAY_SCROLLING=0 LESSOPEN=| /usr/bin/lesspipe %s USER=wildef CONDA_SHLVL=1 DISPLAY=:0.0 SHLVL=1 XDG_VTNR=7 XDG_SESSION_ID=c2 CONDA_PYTHON_EXE=/home/wildef/anaconda3/bin/python XDG_RUNTIME_DIR=/run/user/1000 CONDA_DEFAULT_ENV=base XDG_DATA_DIRS=/usr/share/xubuntu:/usr/share/xfce4:/usr/local/share:/usr/share:/var/lib/snapd/desktop:/usr/share PATH=/home/wildef/anaconda3/bin:/home/wildef/anaconda3/condabin:/home/wildef/.local/bin:/usr/local/sbin:/usr/local/bin:/usr/sbin:/usr/bin:/sbin:/bin:/usr/games:/usr/local/games:/snap/bin GDMSESSION=xubuntu DBUS_SESSION_BUS_ADDRESS=unix:path=/run/user/1000/bus OLDPWD=/home/wildef/Schreibtisch/Uni HGW/Teaching/Seminars/2021/Advanced Python/Session 1 _=/home/wildef/anaconda3/bin/jupyter-notebook KERNEL_LAUNCH_TIMEOUT=40 JPY_PARENT_PID=5801\n",
      "wildef      6282  1.2  0.3 2701236 60700 ?       Ssl  08:38   0:01      |       \\_ /home/wildef/anaconda3/bin/python -m ipykernel_launcher -f /home/wildef/.local/share/jupyter/runtime/kernel-1de735ae-f9ed-4e5e-a8e8-4f6660b165a9.json SHELL=/bin/bash SESSION_MANAGER=local/wildef-ThinkPad-T14s-Gen-1:@/tmp/.ICE-unix/1295,unix/wildef-ThinkPad-T14s-Gen-1:/tmp/.ICE-unix/1295 WINDOWID=85983235 QT_ACCESSIBILITY=1 COLORTERM=truecolor XDG_CONFIG_DIRS=/etc/xdg/xdg-xubuntu:/etc/xdg:/etc/xdg XDG_SESSION_PATH=/org/freedesktop/DisplayManager/Session0 XDG_MENU_PREFIX=xfce- CONDA_EXE=/home/wildef/anaconda3/bin/conda _CE_M= CLUTTER_BACKEND=x11 LANGUAGE=de_DE SSH_AUTH_SOCK=/run/user/1000/keyring/ssh DESKTOP_SESSION=xubuntu SSH_AGENT_PID=1450 XDG_SEAT=seat0 PWD=/home/wildef/Schreibtisch/Uni HGW/Teaching/Seminars/2021/Advanced Python LOGNAME=wildef XDG_SESSION_DESKTOP=xubuntu QT_QPA_PLATFORMTHEME=gtk2 XDG_SESSION_TYPE=x11 CONDA_PREFIX=/home/wildef/anaconda3 GPG_AGENT_INFO=/run/user/1000/gnupg/S.gpg-agent:0:1 XAUTHORITY=/home/wildef/.Xauthority XDG_GREETER_DATA_DIR=/var/lib/lightdm-data/wildef GDM_LANG=de_DE HOME=/home/wildef LANG=de_DE.UTF-8 LS_COLORS=rs=0:di=01;34:ln=01;36:mh=00:pi=40;33:so=01;35:do=01;35:bd=40;33;01:cd=40;33;01:or=40;31;01:mi=00:su=37;41:sg=30;43:ca=30;41:tw=30;42:ow=34;42:st=37;44:ex=01;32:*.tar=01;31:*.tgz=01;31:*.arc=01;31:*.arj=01;31:*.taz=01;31:*.lha=01;31:*.lz4=01;31:*.lzh=01;31:*.lzma=01;31:*.tlz=01;31:*.txz=01;31:*.tzo=01;31:*.t7z=01;31:*.zip=01;31:*.z=01;31:*.dz=01;31:*.gz=01;31:*.lrz=01;31:*.lz=01;31:*.lzo=01;31:*.xz=01;31:*.zst=01;31:*.tzst=01;31:*.bz2=01;31:*.bz=01;31:*.tbz=01;31:*.tbz2=01;31:*.tz=01;31:*.deb=01;31:*.rpm=01;31:*.jar=01;31:*.war=01;31:*.ear=01;31:*.sar=01;31:*.rar=01;31:*.alz=01;31:*.ace=01;31:*.zoo=01;31:*.cpio=01;31:*.7z=01;31:*.rz=01;31:*.cab=01;31:*.wim=01;31:*.swm=01;31:*.dwm=01;31:*.esd=01;31:*.jpg=01;35:*.jpeg=01;35:*.mjpg=01;35:*.mjpeg=01;35:*.gif=01;35:*.bmp=01;35:*.pbm=01;35:*.pgm=01;35:*.ppm=01;35:*.tga=01;35:*.xbm=01;35:*.xpm=01;35:*.tif=01;35:*.tiff=01;35:*.png=01;35:*.svg=01;35:*.svgz=01;35:*.mng=01;35:*.pcx=01;35:*.mov=01;35:*.mpg=01;35:*.mpeg=01;35:*.m2v=01;35:*.mkv=01;35:*.webm=01;35:*.webp=01;35:*.ogm=01;35:*.mp4=01;35:*.m4v=01;35:*.mp4v=01;35:*.vob=01;35:*.qt=01;35:*.nuv=01;35:*.wmv=01;35:*.asf=01;35:*.rm=01;35:*.rmvb=01;35:*.flc=01;35:*.avi=01;35:*.fli=01;35:*.flv=01;35:*.gl=01;35:*.dl=01;35:*.xcf=01;35:*.xwd=01;35:*.yuv=01;35:*.cgm=01;35:*.emf=01;35:*.ogv=01;35:*.ogx=01;35:*.aac=00;36:*.au=00;36:*.flac=00;36:*.m4a=00;36:*.mid=00;36:*.midi=00;36:*.mka=00;36:*.mp3=00;36:*.mpc=00;36:*.ogg=00;36:*.ra=00;36:*.wav=00;36:*.oga=00;36:*.opus=00;36:*.spx=00;36:*.xspf=00;36: XDG_CURRENT_DESKTOP=XFCE VTE_VERSION=6200 CONDA_PROMPT_MODIFIER=(base)  XDG_SEAT_PATH=/org/freedesktop/DisplayManager/Seat0 LESSCLOSE=/usr/bin/lesspipe %s %s XDG_SESSION_CLASS=user TERM=xterm-256color _CE_CONDA= GTK_OVERLAY_SCROLLING=0 LESSOPEN=| /usr/bin/lesspipe %s USER=wildef CONDA_SHLVL=1 DISPLAY=:0.0 SHLVL=1 XDG_VTNR=7 XDG_SESSION_ID=c2 CONDA_PYTHON_EXE=/home/wildef/anaconda3/bin/python XDG_RUNTIME_DIR=/run/user/1000 CONDA_DEFAULT_ENV=base XDG_DATA_DIRS=/usr/share/xubuntu:/usr/share/xfce4:/usr/local/share:/usr/share:/var/lib/snapd/desktop:/usr/share PATH=/home/wildef/anaconda3/bin:/home/wildef/anaconda3/condabin:/home/wildef/.local/bin:/usr/local/sbin:/usr/local/bin:/usr/sbin:/usr/bin:/sbin:/bin:/usr/games:/usr/local/games:/snap/bin GDMSESSION=xubuntu DBUS_SESSION_BUS_ADDRESS=unix:path=/run/user/1000/bus OLDPWD=/home/wildef/Schreibtisch/Uni HGW/Teaching/Seminars/2021/Advanced Python/Session 1 _=/home/wildef/anaconda3/bin/jupyter-notebook KERNEL_LAUNCH_TIMEOUT=40 JPY_PARENT_PID=5801\n",
      "wildef      5988  0.0  0.0      0     0 ?        Zs   08:35   0:00      \\_ [bash] <defunct>\n",
      "root        1607  0.0  0.0 260644  9272 ?        Ssl  08:27   0:00 /usr/libexec/upowerd\n",
      "wildef      1652  0.0  0.0   6492  2844 ?        S    08:27   0:00 syndaemon -i 1.0 -K -R LANGUAGE=de_DE USER=wildef XDG_SEAT=seat0 XDG_SESSION_TYPE=x11 SSH_AGENT_PID=1450 SHLVL=0 HOME=/home/wildef DESKTOP_SESSION=xubuntu XDG_SEAT_PATH=/org/freedesktop/DisplayManager/Seat0 DBUS_SESSION_BUS_ADDRESS=unix:path=/run/user/1000/bus QT_QPA_PLATFORMTHEME=gtk2 LOGNAME=wildef XDG_SESSION_CLASS=user CLUTTER_BACKEND=x11 GTK_OVERLAY_SCROLLING=0 XDG_SESSION_ID=c2 PATH=/home/wildef/.local/bin:/usr/local/sbin:/usr/local/bin:/usr/sbin:/usr/bin:/sbin:/bin:/usr/games:/usr/local/games:/snap/bin GDM_LANG=de_DE XDG_SESSION_PATH=/org/freedesktop/DisplayManager/Session0 XDG_RUNTIME_DIR=/run/user/1000 XDG_MENU_PREFIX=xfce- DISPLAY=:0 LANG=de_DE.UTF-8 XDG_CURRENT_DESKTOP=XFCE XDG_SESSION_DESKTOP=xubuntu XAUTHORITY=/home/wildef/.Xauthority XDG_GREETER_DATA_DIR=/var/lib/lightdm-data/wildef SSH_AUTH_SOCK=/run/user/1000/keyring/ssh SHELL=/bin/bash QT_ACCESSIBILITY=1 GDMSESSION=xubuntu GPG_AGENT_INFO=/run/user/1000/gnupg/S.gpg-agent:0:1 XDG_VTNR=7 PWD=/home/wildef XDG_CONFIG_DIRS=/etc/xdg/xdg-xubuntu:/etc/xdg:/etc/xdg XDG_DATA_DIRS=/usr/share/xubuntu:/usr/share/xfce4:/usr/local/share:/usr/share:/var/lib/snapd/desktop:/usr/share SESSION_MANAGER=local/wildef-ThinkPad-T14s-Gen-1:@/tmp/.ICE-unix/1295,unix/wildef-ThinkPad-T14s-Gen-1:/tmp/.ICE-unix/1295\n",
      "wildef      1734  0.0  0.1 208184 22316 ?        Ssl  08:27   0:00 xfce4-power-manager LANGUAGE=de_DE USER=wildef XDG_SEAT=seat0 XDG_SESSION_TYPE=x11 SSH_AGENT_PID=1450 SHLVL=0 HOME=/home/wildef DESKTOP_SESSION=xubuntu XDG_SEAT_PATH=/org/freedesktop/DisplayManager/Seat0 DBUS_SESSION_BUS_ADDRESS=unix:path=/run/user/1000/bus QT_QPA_PLATFORMTHEME=gtk2 LOGNAME=wildef XDG_SESSION_CLASS=user CLUTTER_BACKEND=x11 GTK_OVERLAY_SCROLLING=0 XDG_SESSION_ID=c2 PATH=/home/wildef/.local/bin:/usr/local/sbin:/usr/local/bin:/usr/sbin:/usr/bin:/sbin:/bin:/usr/games:/usr/local/games:/snap/bin GDM_LANG=de_DE XDG_SESSION_PATH=/org/freedesktop/DisplayManager/Session0 XDG_RUNTIME_DIR=/run/user/1000 XDG_MENU_PREFIX=xfce- LANG=de_DE.UTF-8 XDG_CURRENT_DESKTOP=XFCE XDG_SESSION_DESKTOP=xubuntu XAUTHORITY=/home/wildef/.Xauthority XDG_GREETER_DATA_DIR=/var/lib/lightdm-data/wildef SSH_AUTH_SOCK=/run/user/1000/keyring/ssh SHELL=/bin/bash QT_ACCESSIBILITY=1 GDMSESSION=xubuntu GPG_AGENT_INFO=/run/user/1000/gnupg/S.gpg-agent:0:1 XDG_VTNR=7 PWD=/home/wildef XDG_CONFIG_DIRS=/etc/xdg/xdg-xubuntu:/etc/xdg:/etc/xdg XDG_DATA_DIRS=/usr/share/xubuntu:/usr/share/xfce4:/usr/local/share:/usr/share:/var/lib/snapd/desktop:/usr/share SESSION_MANAGER=local/wildef-ThinkPad-T14s-Gen-1:@/tmp/.ICE-unix/1295,unix/wildef-ThinkPad-T14s-Gen-1:/tmp/.ICE-unix/1295 DISPLAY=:0.0\n",
      "wildef      1825  0.0  0.3 376060 48736 ?        Sl   08:27   0:00 /usr/bin/python3 /usr/bin/blueman-tray LANGUAGE=de_DE USER=wildef XDG_SEAT=seat0 XDG_SESSION_TYPE=x11 SSH_AGENT_PID=1450 SHLVL=0 HOME=/home/wildef DESKTOP_SESSION=xubuntu XDG_SEAT_PATH=/org/freedesktop/DisplayManager/Seat0 DBUS_SESSION_BUS_ADDRESS=unix:path=/run/user/1000/bus GIO_LAUNCHED_DESKTOP_FILE_PID=1825 QT_QPA_PLATFORMTHEME=gtk2 LOGNAME=wildef XDG_SESSION_CLASS=user CLUTTER_BACKEND=x11 GTK_OVERLAY_SCROLLING=0 XDG_SESSION_ID=c2 PATH=/home/wildef/.local/bin:/usr/local/sbin:/usr/local/bin:/usr/sbin:/usr/bin:/sbin:/bin:/usr/games:/usr/local/games:/snap/bin GDM_LANG=de_DE SESSION_MANAGER=local/wildef-ThinkPad-T14s-Gen-1:@/tmp/.ICE-unix/1295,unix/wildef-ThinkPad-T14s-Gen-1:/tmp/.ICE-unix/1295 XDG_SESSION_PATH=/org/freedesktop/DisplayManager/Session0 XDG_RUNTIME_DIR=/run/user/1000 XDG_MENU_PREFIX=xfce- DISPLAY=:0.0 LANG=de_DE.UTF-8 XDG_CURRENT_DESKTOP=XFCE XDG_SESSION_DESKTOP=xubuntu XAUTHORITY=/home/wildef/.Xauthority XDG_GREETER_DATA_DIR=/var/lib/lightdm-data/wildef SSH_AUTH_SOCK=/run/user/1000/keyring/ssh SHELL=/bin/bash QT_ACCESSIBILITY=1 GDMSESSION=xubuntu GPG_AGENT_INFO=/run/user/1000/gnupg/S.gpg-agent:0:1 XDG_VTNR=7 PWD=/home/wildef XDG_CONFIG_DIRS=/etc/xdg/xdg-xubuntu:/etc/xdg:/etc/xdg XDG_DATA_DIRS=/usr/share/xubuntu:/usr/share/xfce4:/usr/local/share:/usr/share:/var/lib/snapd/desktop:/usr/share\n",
      "root        4275  0.0  0.0 179816  9808 ?        Sl   08:29   0:00 /usr/lib/NetworkManager/nm-openvpn-service --bus-name org.freedesktop.NetworkManager.openvpn.Connection_2\n",
      "nm-open+    4283  0.2  0.0  11292  7440 ?        S    08:29   0:01  \\_ /usr/sbin/openvpn --remote vpn.uni-greifswald.de 1194 udp --compress lzo --nobind --dev tap --dev-type tap --cipher AES-256-CBC --auth SHA256 --auth-nocache --verify-x509-name vpn.uni-greifswald.de name --reneg-sec 0 --verb 1 --syslog nm-openvpn --script-security 2 --up /usr/lib/NetworkManager/nm-openvpn-service-openvpn-helper --debug 0 4275 --bus-name org.freedesktop.NetworkManager.openvpn.Connection_2 --tap -- --up-restart --persist-key --persist-tun --management /var/run/NetworkManager/nm-openvpn-32a04e58-3f3d-4967-a662-61928d25f3f5 unix --management-client-user root --management-client-group root --management-query-passwords --auth-retry interact --route-noexec --ifconfig-noexec --client --auth-user-pass --ca /home/wildef/Downloads/T-Telesec-GlobalRoot-Class2.pem --user nm-openvpn --group nm-openvpn --chroot /var/lib/openvpn/chroot\n",
      "wildef      5817  0.0  0.0 16799720 3088 ?       Sl   08:35   0:00 /opt/google/chrome/crashpad_handler --monitor-self --monitor-self-annotation=ptype=crashpad-handler --database=/home/wildef/.config/google-chrome/Crash Reports --metrics-dir=/home/wildef/.config/google-chrome --url=https://clients2.google.com/cr/report --annotation=channel= --annotation=lsb-release=Ubuntu 20.10 --annotation=plat=Linux --annotation=prod=Chrome_Linux --annotation=ver=92.0.4515.131 --initial-client-fd=6 --shared-client-connection SHELL=/bin/bash SESSION_MANAGER=local/wildef-ThinkPad-T14s-Gen-1:@/tmp/.ICE-unix/1295,unix/wildef-ThinkPad-T14s-Gen-1:/tmp/.ICE-unix/1295 WINDOWID=85983235 QT_ACCESSIBILITY=1 COLORTERM=truecolor XDG_CONFIG_DIRS=/etc/xdg/xdg-xubuntu:/etc/xdg:/etc/xdg XDG_SESSION_PATH=/org/freedesktop/DisplayManager/Session0 XDG_MENU_PREFIX=xfce- CONDA_EXE=/home/wildef/anaconda3/bin/conda _CE_M= CLUTTER_BACKEND=x11 LANGUAGE=de_DE SSH_AUTH_SOCK=/run/user/1000/keyring/ssh DESKTOP_SESSION=xubuntu SSH_AGENT_PID=1450 KERNEL_LAUNCH_TIMEOUT=40 XDG_SEAT=seat0 PWD=/home/wildef/Schreibtisch/Uni HGW/Teaching/Seminars/2021/Advanced Python XDG_SESSION_DESKTOP=xubuntu LOGNAME=wildef QT_QPA_PLATFORMTHEME=gtk2 XDG_SESSION_TYPE=x11 CONDA_PREFIX=/home/wildef/anaconda3 GPG_AGENT_INFO=/run/user/1000/gnupg/S.gpg-agent:0:1 XAUTHORITY=/home/wildef/.Xauthority XDG_GREETER_DATA_DIR=/var/lib/lightdm-data/wildef GDM_LANG=de_DE HOME=/home/wildef LANG=de_DE.UTF-8 LS_COLORS=rs=0:di=01;34:ln=01;36:mh=00:pi=40;33:so=01;35:do=01;35:bd=40;33;01:cd=40;33;01:or=40;31;01:mi=00:su=37;41:sg=30;43:ca=30;41:tw=30;42:ow=34;42:st=37;44:ex=01;32:*.tar=01;31:*.tgz=01;31:*.arc=01;31:*.arj=01;31:*.taz=01;31:*.lha=01;31:*.lz4=01;31:*.lzh=01;31:*.lzma=01;31:*.tlz=01;31:*.txz=01;31:*.tzo=01;31:*.t7z=01;31:*.zip=01;31:*.z=01;31:*.dz=01;31:*.gz=01;31:*.lrz=01;31:*.lz=01;31:*.lzo=01;31:*.xz=01;31:*.zst=01;31:*.tzst=01;31:*.bz2=01;31:*.bz=01;31:*.tbz=01;31:*.tbz2=01;31:*.tz=01;31:*.deb=01;31:*.rpm=01;31:*.jar=01;31:*.war=01;31:*.ear=01;31:*.sar=01;31:*.rar=01;31:*.alz=01;31:*.ace=01;31:*.zoo=01;31:*.cpio=01;31:*.7z=01;31:*.rz=01;31:*.cab=01;31:*.wim=01;31:*.swm=01;31:*.dwm=01;31:*.esd=01;31:*.jpg=01;35:*.jpeg=01;35:*.mjpg=01;35:*.mjpeg=01;35:*.gif=01;35:*.bmp=01;35:*.pbm=01;35:*.pgm=01;35:*.ppm=01;35:*.tga=01;35:*.xbm=01;35:*.xpm=01;35:*.tif=01;35:*.tiff=01;35:*.png=01;35:*.svg=01;35:*.svgz=01;35:*.mng=01;35:*.pcx=01;35:*.mov=01;35:*.mpg=01;35:*.mpeg=01;35:*.m2v=01;35:*.mkv=01;35:*.webm=01;35:*.webp=01;35:*.ogm=01;35:*.mp4=01;35:*.m4v=01;35:*.mp4v=01;35:*.vob=01;35:*.qt=01;35:*.nuv=01;35:*.wmv=01;35:*.asf=01;35:*.rm=01;35:*.rmvb=01;35:*.flc=01;35:*.avi=01;35:*.fli=01;35:*.flv=01;35:*.gl=01;35:*.dl=01;35:*.xcf=01;35:*.xwd=01;35:*.yuv=01;35:*.cgm=01;35:*.emf=01;35:*.ogv=01;35:*.ogx=01;35:*.aac=00;36:*.au=00;36:*.flac=00;36:*.m4a=00;36:*.mid=00;36:*.midi=00;36:*.mka=00;36:*.mp3=00;36:*.mpc=00;36:*.ogg=00;36:*.ra=00;36:*.wav=00;36:*.oga=00;36:*.opus=00;36:*.spx=00;36:*.xspf=00;36: XDG_CURRENT_DESKTOP=XFCE VTE_VERSION=6200 CONDA_PROMPT_MODIFIER=(base)  XDG_SEAT_PATH=/org/freedesktop/DisplayManager/Seat0 LESSCLOSE=/usr/bin/lesspipe %s %s XDG_SESSION_CLASS=user TERM=xterm-256color CHROME_WRAPPER=/opt/google/chrome/google-chrome _CE_CONDA= GTK_OVERLAY_SCROLLING=0 LESSOPEN=| /usr/bin/lesspipe %s USER=wildef CONDA_SHLVL=1 DISPLAY=:0.0 SHLVL=1 GNOME_DISABLE_CRASH_DIALOG=SET_BY_GOOGLE_CHROME XDG_VTNR=7 XDG_SESSION_ID=c2 CONDA_PYTHON_EXE=/home/wildef/anaconda3/bin/python LD_LIBRARY_PATH=/opt/google/chrome:/opt/google/chrome/lib XDG_RUNTIME_DIR=/run/user/1000 CONDA_DEFAULT_ENV=base XDG_DATA_DIRS=/usr/share/xubuntu:/usr/share/xfce4:/usr/local/share:/usr/share:/var/lib/snapd/desktop:/usr/share PATH=/home/wildef/anaconda3/bin:/home/wildef/anaconda3/condabin:/home/wildef/.local/bin:/usr/local/sbin:/usr/local/bin:/usr/sbin:/usr/bin:/sbin:/bin:/usr/games:/usr/local/games:/snap/bin GDMSESSION=xubuntu DBUS_SESSION_BUS_ADDRESS=unix:path=/run/user/1000/bus CHROME_VERSION_EXTRA=stable OLDPWD=/home/wildef/Schreibtisch/Uni HGW/Teaching/Seminars/2021/Advanced Python/Session 1\n",
      "wildef      5819  0.0  0.0 16790468 1524 ?       Sl   08:35   0:00 /opt/google/chrome/crashpad_handler --no-periodic-tasks --monitor-self-annotation=ptype=crashpad-handler --database=/home/wildef/.config/google-chrome/Crash Reports --url=https://clients2.google.com/cr/report --annotation=channel= --annotation=lsb-release=Ubuntu 20.10 --annotation=plat=Linux --annotation=prod=Chrome_Linux --annotation=ver=92.0.4515.131 --initial-client-fd=4 --shared-client-connection SHELL=/bin/bash SESSION_MANAGER=local/wildef-ThinkPad-T14s-Gen-1:@/tmp/.ICE-unix/1295,unix/wildef-ThinkPad-T14s-Gen-1:/tmp/.ICE-unix/1295 WINDOWID=85983235 QT_ACCESSIBILITY=1 COLORTERM=truecolor XDG_CONFIG_DIRS=/etc/xdg/xdg-xubuntu:/etc/xdg:/etc/xdg XDG_SESSION_PATH=/org/freedesktop/DisplayManager/Session0 XDG_MENU_PREFIX=xfce- CONDA_EXE=/home/wildef/anaconda3/bin/conda _CE_M= CLUTTER_BACKEND=x11 LANGUAGE=de_DE SSH_AUTH_SOCK=/run/user/1000/keyring/ssh DESKTOP_SESSION=xubuntu SSH_AGENT_PID=1450 KERNEL_LAUNCH_TIMEOUT=40 XDG_SEAT=seat0 PWD=/home/wildef/Schreibtisch/Uni HGW/Teaching/Seminars/2021/Advanced Python XDG_SESSION_DESKTOP=xubuntu LOGNAME=wildef QT_QPA_PLATFORMTHEME=gtk2 XDG_SESSION_TYPE=x11 CONDA_PREFIX=/home/wildef/anaconda3 GPG_AGENT_INFO=/run/user/1000/gnupg/S.gpg-agent:0:1 XAUTHORITY=/home/wildef/.Xauthority XDG_GREETER_DATA_DIR=/var/lib/lightdm-data/wildef GDM_LANG=de_DE HOME=/home/wildef LANG=de_DE.UTF-8 LS_COLORS=rs=0:di=01;34:ln=01;36:mh=00:pi=40;33:so=01;35:do=01;35:bd=40;33;01:cd=40;33;01:or=40;31;01:mi=00:su=37;41:sg=30;43:ca=30;41:tw=30;42:ow=34;42:st=37;44:ex=01;32:*.tar=01;31:*.tgz=01;31:*.arc=01;31:*.arj=01;31:*.taz=01;31:*.lha=01;31:*.lz4=01;31:*.lzh=01;31:*.lzma=01;31:*.tlz=01;31:*.txz=01;31:*.tzo=01;31:*.t7z=01;31:*.zip=01;31:*.z=01;31:*.dz=01;31:*.gz=01;31:*.lrz=01;31:*.lz=01;31:*.lzo=01;31:*.xz=01;31:*.zst=01;31:*.tzst=01;31:*.bz2=01;31:*.bz=01;31:*.tbz=01;31:*.tbz2=01;31:*.tz=01;31:*.deb=01;31:*.rpm=01;31:*.jar=01;31:*.war=01;31:*.ear=01;31:*.sar=01;31:*.rar=01;31:*.alz=01;31:*.ace=01;31:*.zoo=01;31:*.cpio=01;31:*.7z=01;31:*.rz=01;31:*.cab=01;31:*.wim=01;31:*.swm=01;31:*.dwm=01;31:*.esd=01;31:*.jpg=01;35:*.jpeg=01;35:*.mjpg=01;35:*.mjpeg=01;35:*.gif=01;35:*.bmp=01;35:*.pbm=01;35:*.pgm=01;35:*.ppm=01;35:*.tga=01;35:*.xbm=01;35:*.xpm=01;35:*.tif=01;35:*.tiff=01;35:*.png=01;35:*.svg=01;35:*.svgz=01;35:*.mng=01;35:*.pcx=01;35:*.mov=01;35:*.mpg=01;35:*.mpeg=01;35:*.m2v=01;35:*.mkv=01;35:*.webm=01;35:*.webp=01;35:*.ogm=01;35:*.mp4=01;35:*.m4v=01;35:*.mp4v=01;35:*.vob=01;35:*.qt=01;35:*.nuv=01;35:*.wmv=01;35:*.asf=01;35:*.rm=01;35:*.rmvb=01;35:*.flc=01;35:*.avi=01;35:*.fli=01;35:*.flv=01;35:*.gl=01;35:*.dl=01;35:*.xcf=01;35:*.xwd=01;35:*.yuv=01;35:*.cgm=01;35:*.emf=01;35:*.ogv=01;35:*.ogx=01;35:*.aac=00;36:*.au=00;36:*.flac=00;36:*.m4a=00;36:*.mid=00;36:*.midi=00;36:*.mka=00;36:*.mp3=00;36:*.mpc=00;36:*.ogg=00;36:*.ra=00;36:*.wav=00;36:*.oga=00;36:*.opus=00;36:*.spx=00;36:*.xspf=00;36: XDG_CURRENT_DESKTOP=XFCE VTE_VERSION=6200 CONDA_PROMPT_MODIFIER=(base)  XDG_SEAT_PATH=/org/freedesktop/DisplayManager/Seat0 LESSCLOSE=/usr/bin/lesspipe %s %s XDG_SESSION_CLASS=user TERM=xterm-256color CHROME_WRAPPER=/opt/google/chrome/google-chrome _CE_CONDA= GTK_OVERLAY_SCROLLING=0 LESSOPEN=| /usr/bin/lesspipe %s USER=wildef CONDA_SHLVL=1 DISPLAY=:0.0 SHLVL=1 GNOME_DISABLE_CRASH_DIALOG=SET_BY_GOOGLE_CHROME XDG_VTNR=7 XDG_SESSION_ID=c2 CONDA_PYTHON_EXE=/home/wildef/anaconda3/bin/python LD_LIBRARY_PATH=/opt/google/chrome:/opt/google/chrome/lib XDG_RUNTIME_DIR=/run/user/1000 CONDA_DEFAULT_ENV=base XDG_DATA_DIRS=/usr/share/xubuntu:/usr/share/xfce4:/usr/local/share:/usr/share:/var/lib/snapd/desktop:/usr/share PATH=/home/wildef/anaconda3/bin:/home/wildef/anaconda3/condabin:/home/wildef/.local/bin:/usr/local/sbin:/usr/local/bin:/usr/sbin:/usr/bin:/sbin:/bin:/usr/games:/usr/local/games:/snap/bin GDMSESSION=xubuntu DBUS_SESSION_BUS_ADDRESS=unix:path=/run/user/1000/bus CHROME_VERSION_EXTRA=stable OLDPWD=/home/wildef/Schreibtisch/Uni HGW/Teaching/Seminars/2021/Advanced Python/Session 1\n",
      "root        6349  0.8  0.4 436464 70076 ?        Ssl  08:39   0:00 /usr/libexec/fwupd/fwupd\n"
     ]
    }
   ],
   "source": [
    "%%bash\n",
    "ps -ef -aux"
   ]
  },
  {
   "cell_type": "markdown",
   "metadata": {},
   "source": [
    "<font size=\"3\">\n",
    "<b>A process itself can have multiple <a href=\"https://en.wikipedia.org/wiki/Thread_(computing)\">threads</a>. Multiple pieces of code can be run concurrently (and for the user it seems they'd be running in parallel) in multiple threads within one process. Therefore threads are just segments of a single process. The figures below illustrates this circumstance:</b>\n",
    "</font>\n",
    "<br>\n",
    "<br>\n",
    "<div align=\"center\">\n",
    "    <img src=\"img/thread.png\" width=\"40%\">\n",
    "</div>\n",
    "<br>\n",
    "<font size=\"2\">\n",
    "    <i>Source:</i> <a href=\"https://en.wikipedia.org/wiki/Thread_(computing)\"><i>https://en.wikipedia.org/wiki/Thread_(computing)</i></a>\n",
    "</font>\n",
    "<br>\n",
    "<br>\n",
    "<font size=\"3\">\n",
    "<b>The fact that threads are just segments of a process also characterizes the difference in terms of <i>memory access</i> between <i>processes</i> and <i>threads</i>:</b>\n",
    "<br><br>\n",
    "<ul>\n",
    "    <li><b>Different threads of the same process can access the same dynamically-allocated memory area of a process (heap). Therefore, common variables shared among multiple threads can be defined. <br><br> Simultaneous (write) access has to be avoided, otherwise a memory access violation could occur. Thread-safety has to be ensured. In Python, thread-safety is ensured by the global interpreter lock (GLI).</b><br><br>\n",
    "        <b>Threads have a smaller memory overhead than processes.</b></li>\n",
    "    <br>\n",
    "    <li><b>Processes run independently. Different processes cannot share common variables since they use separate memory areas.<br><br>An inter-process communication needs to be implemented, but memory access collisions can be avoided this way, conserving the peformance advantage.</b><br><br>\n",
    "    <b>Processes have a bigger memory overhead than threads.</li>\n",
    "</ul>\n",
    "</font>"
   ]
  },
  {
   "cell_type": "markdown",
   "metadata": {},
   "source": [
    "### The Global Interpreter Lock (GIL)\n",
    "\n",
    "<br>\n",
    "<font size=\"3\">\n",
    "    The <a href=\"https://en.wikipedia.org/wiki/Global_interpreter_lock\">global interpreter lock (GIL)</a> (or see <a href=\"https://wiki.python.org/moin/GlobalInterpreterLock\">here</a>) is a <a href=\"https://en.wikipedia.org/wiki/Mutual_exclusion\">mutual exclusion lock</a>, a (synchronisation) mechanism to ensure thread safety in Python and avoid memory access collisions between different threads of a process.<br><br>\n",
    "<b>The GLI enforces serial thread execution and synchronization in critical code sections to avoid conflicts between the threads (<a href=\"https://en.wikipedia.org/wiki/Race_condition\">race conditions</a>), leading to a loss of the performance advantages.</b> Critical sections have to be denoted in the code with a lock.<br><br>\n",
    "<b>The diagram below illustrates the timing of the GIL and the memory access by multiple threads:\n",
    "</font>\n",
    "<br>\n",
    "<br>\n",
    "<div align=\"center\">\n",
    "    <img src=\"img/gil.webp\" width=\"70%\">\n",
    "</div>\n",
    "<br>\n",
    "<font size=\"2\">\n",
    "    <i>Source:</i> <a href=\"https://www.datacamp.com/community/tutorials/python-global-interpreter-lock\"><i>https://www.datacamp.com/community/tutorials/python-global-interpreter-lock</i></a>\n",
    "</font>\n",
    "<br>\n",
    "<br>\n",
    "<font size=\"3\">\n",
    "<b>When a thread acquires the lock (lock state) and the other threads attempt to access the same ressource, the execution of the competing threads is suspended (wait state) till the lock is released.</b><br><br>\n",
    "But the acquisition of the lock does not always work flawlessly, so a lot of CPU time could be bound doing nothing. This can ultimatively lead to a worse performance for the threaded version of the code (see also <a href=\"http://dabeaz.blogspot.com/2010/01/python-gil-visualized.html\">here</a>). The GIL issues were partly solved by introducing a new GIL handling mechanism in Python 3.2.<br><br>\n",
    "Advantages of a GIL could be increased speed in single-threaded programs, easier intergration of C libraries (which are usually not thread-safe) and easier implementation (single GIL easier than multiple independent locks).\n",
    "</font>"
   ]
  },
  {
   "cell_type": "markdown",
   "metadata": {},
   "source": [
    "### The threading module\n",
    "<br>\n",
    "<font size=\"3\">\n",
    "    <b>The built-in <a href=\"https://docs.python.org/3/library/threading.html\"><i>threading</i></a> module offers a convenient way to create and run threads in Python.</b><br><br>\n",
    "    <b>The following examples demonstrates the use of multiple threads for independent tasks as light-weight alternative to processes.</b>\n",
    "</font>\n",
    "\n",
    "### Example:"
   ]
  },
  {
   "cell_type": "code",
   "execution_count": null,
   "metadata": {},
   "outputs": [],
   "source": [
    "# importing the threading module\n",
    "import threading\n",
    "# importing the time module\n",
    "import time\n",
    "# importing numpy\n",
    "import numpy as np\n",
    "\n",
    "# define functions for threading\n",
    "def calc_square(numbers):\n",
    "   for n in numbers:\n",
    "      # random artificial time-delay\n",
    "      time.sleep(np.random.uniform(0.2,2))   \n",
    "      print('Thread-1 (calc_square): ', str(n * n))\n",
    "        \n",
    "def calc_cube(numbers):\n",
    "   for n in numbers:\n",
    "      # random artificial time-delay\n",
    "      time.sleep(np.random.uniform(0.2,2))   \n",
    "      print('Thread-2 (calc_cube): ', str(n * n * n))\n",
    "        \n",
    "# prepare input argument list        \n",
    "arr = list(range(10))\n",
    "t = time.time()\n",
    "# create two threading objects or threads\n",
    "t1 = threading.Thread(target = calc_square,args=(arr,))\n",
    "t2 = threading.Thread(target = calc_cube,args=(arr,))\n",
    "\n",
    "#print the type of t1 and t2\n",
    "print(\"Type of t1:\" + str(type(t1)))\n",
    "print(\"Type of t2:\" + str(type(t2)))\n",
    "\n",
    "# start the threads by invoking the start() method of the thread object\n",
    "# running the threads concurrently (for the user they appear to be executed in parallel)\n",
    "print(\"Thread-1 start\")\n",
    "t1.start()\n",
    "print(\"Thread-2 start\")\n",
    "t2.start()\n",
    "\n",
    "# the method join waits for the threads to be finished\n",
    "t1.join()\n",
    "t2.join()\n",
    "\n",
    "print(\"The end.\")"
   ]
  },
  {
   "cell_type": "markdown",
   "metadata": {},
   "source": [
    "<font size=\"3\">\n",
    "<b>Obviously, in this toy example, the two loops in the two functions were run in a concurrent manner. From the user perspective, it seems as if they are/were running in parallel. But in fact, the threads ran in an interweaving manner.</b><br><br>\n",
    "<b>You can check that multiple threads are used by the Python interpreter process by running the code on the command-line:</b><br><br>\n",
    "    <b>First the content of the script is listed:</b>\n",
    "</font>"
   ]
  },
  {
   "cell_type": "code",
   "execution_count": null,
   "metadata": {},
   "outputs": [],
   "source": [
    "%%bash\n",
    "cat scripts/threading_test1.py"
   ]
  },
  {
   "cell_type": "markdown",
   "metadata": {},
   "source": [
    "<font size=\"3\">\n",
    "    <b>Execute the cell below to start the script as independent subprocess and don't wait for its output or till its execution is finished.</b>\n",
    "</font>"
   ]
  },
  {
   "cell_type": "code",
   "execution_count": null,
   "metadata": {},
   "outputs": [],
   "source": [
    "import subprocess\n",
    "# executes a command on the bash command-line in a separate subprocess\n",
    "# does not wait for the output or the command to be finished\n",
    "proc = subprocess.Popen(\"./scripts/threading_test1.py 10\", shell=True,\n",
    "             stdin=None, stdout=None, stderr=None, close_fds=True)"
   ]
  },
  {
   "cell_type": "markdown",
   "metadata": {},
   "source": [
    "<font size=\"3\">\n",
    "    <b>Immediately run the next cell to list the running process along with its threads:</b>\n",
    "</font>"
   ]
  },
  {
   "cell_type": "code",
   "execution_count": null,
   "metadata": {},
   "outputs": [],
   "source": [
    "%%bash\n",
    "ps -ef -T | grep \"/usr/bin/python3 ./scripts/threading_test1.py\""
   ]
  },
  {
   "cell_type": "markdown",
   "metadata": {},
   "source": [
    "<font size=\"3\">\n",
    "<b>As long as the script (as separate process) is running, you should see three entries (beginning with /usr/bin/python3) with the same <i>process ID</i> (PID in first column), but different <i>sub process ID</i> (SPID in second column), indicating that one process with two threads is running.</b><br><br>\n",
    "The following example demonstrates the use of multiple dependent threads and how critical code sections are explicitly denoted with a lock (aquire/release). Normally Python automatically handles memory access of competing threads, but <b>to ensure a consistent, determined code behaviour, you need to define locks around critical code section explicitly.</b><br><br><b>Since the GIL exists to ensure thread-safety, threading does not parallelize your code!</b><br><br>In this context, it is also <b>important to distinguish atomic and non-atomic operations</b> in Python. <b>An atomic operation is an operation which cannot be interrupted by another running thread e.g. a function call of a builtin function.</b> For further reading, checkout <a href=\"https://opensource.com/article/17/4/grok-gil\">this</a>.\n",
    "    \n",
    "In the following example, the result depends on some common variable shared between the threads. <b>Thread locking is required in this case to avoid memory access collisions or inconsistent behaviour, in particular when simultaneous write access to the same variable could happen.</b> An explicit example where thread locking would be required is if two threads work on the same list in separate loops alterating e.g the lists length.\n",
    "</font>\n",
    "\n",
    "### Example with explicit locks:"
   ]
  },
  {
   "cell_type": "code",
   "execution_count": 3,
   "metadata": {},
   "outputs": [
    {
     "name": "stdout",
     "output_type": "stream",
     "text": [
      "Run threads with function without lock (unsafe):\n",
      "finished in 0.3657259941101074s.\n",
      "total: 2486839\n",
      "expected: 3200000\n",
      "difference: 713161 (22.286281250000002 %)\n",
      "Run threads with function having a locked code section (safe):\n",
      "finished in 22.074599742889404s.\n",
      "total: 3200000\n",
      "expected: 3200000\n",
      "difference: 0 (0.0 %)\n"
     ]
    }
   ],
   "source": [
    "# import threading module\n",
    "import threading\n",
    "import time\n",
    "\n",
    "total = 0\n",
    "# get lock thread lock\n",
    "lock = threading.Lock()\n",
    "\n",
    "# this function leads to inconsistent behavior, because the increment operator is not atomic\n",
    "def increment_n_times(n):\n",
    "    # defines a global variable shared across the threads\n",
    "    global total\n",
    "    for i in range(n):\n",
    "        total += 1\n",
    "\n",
    "# this function explicitly denotes the section where a thread lock is required,\n",
    "# so that the non-atomic increment operation is not interrupted by another thread\n",
    "def safe_increment_n_times(n):\n",
    "    # defines a global variable shared across the threads\n",
    "    global total\n",
    "    for i in range(n):\n",
    "        # explicitly denote code section where GIL is required\n",
    "        lock.acquire()\n",
    "        total += 1\n",
    "        lock.release()\n",
    "        # ...and released\n",
    "\n",
    "# function which starts x threads running a given function\n",
    "def increment_in_x_threads(x, func, n):\n",
    "    threads = [threading.Thread(target=func, args=(n,)) for i in range(x)]\n",
    "    global total\n",
    "    total = 0\n",
    "    begin = time.time()\n",
    "    for thread in threads:\n",
    "        thread.start()\n",
    "    for thread in threads:\n",
    "        thread.join()\n",
    "    print('finished in {}s.\\ntotal: {}\\nexpected: {}\\ndifference: {} ({} %)'\n",
    "           .format(time.time()-begin, total, n*x, n*x-total, 100-total/n/x*100))\n",
    "    \n",
    "print(\"Run threads with function without lock (unsafe):\")\n",
    "# if the number of increments is big and the number of threads as well,\n",
    "# we observe undesired behavior of the code\n",
    "increment_in_x_threads(32, increment_n_times, int(1E5))\n",
    "print(\"Run threads with function having a locked code section (safe):\")\n",
    "increment_in_x_threads(32, safe_increment_n_times, int(1E5))\n"
   ]
  },
  {
   "cell_type": "markdown",
   "metadata": {},
   "source": [
    "<font size=\"3\">\n",
    "<b>With a properly implemented lock which avoids skipping increments from the different competing threads, the run time is much longer, but at least the results matches the expectation.<br><br> But this example of course demonstrates that threading is not usable for a proper parallelization of your code. </b>\n",
    "</font>"
   ]
  },
  {
   "cell_type": "markdown",
   "metadata": {},
   "source": [
    "### The multiprocessing module\n",
    "<br>\n",
    "<font size=\"3\">\n",
    "    <b>The built-in <a href=\"https://docs.python.org/3/library/multiprocessing.html\">multiprocessing</a> module allows for \"true\" parallelization of your code using multiple independent processes of which each has its own GIL.<br><br> The disadvantages are the increased memory overhead and the need to implement an inter-process communication if the processes depend on each other's results.</b>\n",
    "</font>\n",
    "\n",
    "### Example:"
   ]
  },
  {
   "cell_type": "code",
   "execution_count": 4,
   "metadata": {},
   "outputs": [
    {
     "name": "stdout",
     "output_type": "stream",
     "text": [
      "Output example:\n",
      "0.0083 seconds elapsed, generated 40 strings with 1 processes.\n",
      "[[['tbfGCqOvNZp3ApRe', 'dqgjcLgsqLpwrL03', 'opf4WBcQz7pGhnv2', '6GL6N2NidObEpbh0', 'NBxhnyFtCQOjtQNy', '6gTZbPQYrSQ0Uu9L', 'JHNJVf73fVZhdGkA', 'COeDEqm3SPCkZJul', 'LtQ4ZRJGaYnrK7Gf', 'xjIyAfupO4nRYclP', '3P2OnNIuNUcbNSIt', 'B1QjLSyxGLh8Iay6', 's9XanUOtz1ZKS7kb', 'Dc8WBNPexsuYrWKs', 'YrfpOWLAED1sa1v2', '0kZNC7VU5SNDPPC0', 'w0nul878Wz9dOL55', 'T3riJup0lOw8s4H1', 'SXUePlDFRZYrApaL', '2AyNS2ZvWnMlF5DO', 'ohDCsSEp1q3LEooJ', 'HZL6gytBbCJ8gavh', '3TjBtMDKCNDukhHk', 'CZRUyUqakdCs8LS5', 'ZoiCRpUENwtwEwnP', 'CvefCFobtgvRNn6a', 'QvY2j7Y0r01AtmPH', 'FUBPhxN6S2AefITs', 'pDOro3AipmjJ1U2K', '1rXcPwkZZd5KQbuW', 'FTHDTVRjteiy32ep', 'EK5AgEHQq7xiGCXy', 'zh8J6JyndYVUN4jS', 'd669cS5jYTadwQR3', '24TKv7pO08j0Z007', 'eYl1e8Yey2xqQNu8', 'zEXzzxdHGEhwxVSu', 'u7Ni2lpuVQIIN97W', 'Sl57yHgwe7u8qrF3', 'MIyslmcuW5Gou1zW']], 0.008302688598632812]\n",
      "0.0253 seconds elapsed, generated 1000 strings with 1 processes.\n",
      "0.0987 seconds elapsed, generated 10000 strings with 1 processes.\n",
      "0.8365 seconds elapsed, generated 100000 strings with 1 processes.\n",
      "1.7174 seconds elapsed, generated 200000 strings with 1 processes.\n",
      "0.0237 seconds elapsed, generated 1000 strings with 2 processes.\n",
      "0.0634 seconds elapsed, generated 10000 strings with 2 processes.\n",
      "0.4683 seconds elapsed, generated 100000 strings with 2 processes.\n",
      "0.8877 seconds elapsed, generated 200000 strings with 2 processes.\n",
      "0.0209 seconds elapsed, generated 999 strings with 3 processes.\n",
      "0.0537 seconds elapsed, generated 9999 strings with 3 processes.\n",
      "0.3209 seconds elapsed, generated 99999 strings with 3 processes.\n",
      "0.6665 seconds elapsed, generated 199998 strings with 3 processes.\n",
      "0.0274 seconds elapsed, generated 1000 strings with 4 processes.\n",
      "0.054 seconds elapsed, generated 10000 strings with 4 processes.\n",
      "0.2907 seconds elapsed, generated 100000 strings with 4 processes.\n",
      "0.5177 seconds elapsed, generated 200000 strings with 4 processes.\n",
      "0.0625 seconds elapsed, generated 1000 strings with 5 processes.\n",
      "0.0501 seconds elapsed, generated 10000 strings with 5 processes.\n",
      "0.2329 seconds elapsed, generated 100000 strings with 5 processes.\n",
      "0.4753 seconds elapsed, generated 200000 strings with 5 processes.\n"
     ]
    },
    {
     "data": {
      "image/png": "[encoded data removed]",
      "text/plain": [
       "<Figure size 737.28x552.96 with 1 Axes>"
      ]
     },
     "metadata": {
      "needs_background": "light"
     },
     "output_type": "display_data"
    }
   ],
   "source": [
    "# import the multiprocessing module\n",
    "import multiprocessing as mp\n",
    "import numpy as np\n",
    "import random\n",
    "import string\n",
    "import time\n",
    "\n",
    "random.seed(123)\n",
    "\n",
    "lock = mp.Lock()\n",
    "\n",
    "def gen_rand_str(num_string, str_len, num_processes):\n",
    "\n",
    "    # defines a queue to output the results of the processes running the function rand_string\n",
    "    output = mp.Queue()\n",
    "\n",
    "    # define a example function\n",
    "    def rand_string(num, length, output):\n",
    "        out = []\n",
    "        for n in range(num):\n",
    "            # Generates a random string of numbers, lower- and uppercase chars. \"\"\"\n",
    "            rand_str = ''.join(random.choice(\n",
    "                                string.ascii_lowercase\n",
    "                                + string.ascii_uppercase\n",
    "                                + string.digits)\n",
    "                           for i in range(length))\n",
    "            out.append(rand_str)\n",
    "        output.put(out)\n",
    "\n",
    "    # create a list of processes to run\n",
    "    # each process creates a list of x random strings of length y\n",
    "    t1 = time.time()\n",
    "    processes = [mp.Process(target=rand_string, args=(int(num_string/num_processes), str_len, output)) for x in range(num_processes)]\n",
    "\n",
    "    # Run processes\n",
    "    for p in processes:\n",
    "        p.start()\n",
    "\n",
    "    # Get process results from the output queue once they are done\n",
    "    results = [output.get() for p in processes]\n",
    "    dt = time.time()-t1\n",
    "    \n",
    "    print(str(np.round(dt,4))+\" seconds elapsed, generated \"+str(int(num_string/num_processes)*num_processes)+\" strings with \"+str(num_processes)+\" processes.\")\n",
    "    return [results, dt]\n",
    "\n",
    "print(\"Output example:\")\n",
    "print(gen_rand_str(40,16,1))\n",
    "# if the same number of random strings is generated with multiple threads, it is slower due to the overhead\n",
    "# but this only holds true for small numbers of strings\n",
    "#gen_rand_str(10,16,4);\n",
    "\n",
    "# runs a little benchmark:\n",
    "# with increasing number of strings to be generated, the performance advantage becomes more obvious\n",
    "# and the additonal overhead of using multiple processes becomes less important\n",
    "\n",
    "str_len = 16\n",
    "max_procs = 5\n",
    "num_strings = [int(1E3),int(1E4),int(1E5),int(2E5)]\n",
    "req_time = {}\n",
    "\n",
    "for m in range(1, max_procs + 1):\n",
    "    req_time.update({m:[]})\n",
    "    for n in range(len(num_strings)):\n",
    "        req_time[m].append(gen_rand_str(num_strings[n], str_len, m)[1])\n",
    "\n",
    "from matplotlib import pyplot as plt       \n",
    "fig = plt.figure(figsize=(1024/100,768/100))\n",
    "ax = fig.add_subplot(111)\n",
    "for n in range(1,max_procs + 1):\n",
    "    ax.scatter(num_strings,req_time[n])\n",
    "    ax.plot(num_strings,req_time[n],label=\"procs=\"+str(n))\n",
    "ax.set_xlabel(\"# strings\",fontsize=14)\n",
    "ax.set_ylabel(\"req. time [s]\",fontsize=14)\n",
    "ax.tick_params(axis='both', which='major', labelsize=14)\n",
    "plt.grid(which=\"both\",color=\"gray\",linestyle=\":\")\n",
    "plt.legend(fontsize=14)\n",
    "plt.show()\n",
    "\n",
    "#gen_rand_str(4000,16,1);\n",
    "#gen_rand_str(1000,16,4);"
   ]
  },
  {
   "cell_type": "markdown",
   "metadata": {},
   "source": [
    "<font size=\"3\">\n",
    "In this example, a number of processes is explicitly created for every job (working e.g. on a part of a big data array) having the disadvantage of a time and memory overhead (because independent copies of parts of the data in your RAM are created).<br><b>In case, you'd like to run a huge number of jobs, it would be impossible to create separate processes for each job.</b><br>\n",
    "    \n",
    "<b><i>Process</i> should be used only when you have a small number of jobs/tasks and smaller amounts of data, each only executed once, but each with a runtime much longer than the time required to spawn a new process. In particular for tasks with long-running IO-operations (e.g. reading/writing big files), <i>Process</i> should be used.</b><br>\n",
    "\n",
    "In the contrary case, the usage of <i>Pool</i> being part of the builtin <i>multiprocessing</i> module in Python is indicated. As its name states, it provides a pool of workers or worker processes (usually the number of CPU cores in your system) <b>e.g. to compute the result of the same function for a big input argument array (data parallelism).</b> The distribution of the input data to the processes, handling of the individual processes and joining the results is done in the background.<br><br><b> But be careful if the result retrieval order of the workers is of importance for your application!</b>\n",
    "<br><br> For further information on <i>Process</i> and <i>Pool</i>, see <a href=\"https://medium.com/@lih.verma/multi-processing-in-python-process-vs-pool-5caf0f67eb2b\">here</a>. Depending on your amount of data and application, other packages would have a better performance and would be more suitable like <a href=\"https://github.com/ray-project/ray\">Ray</a> or <a href=\"https://dask.org/\">Dask</a>.<br><br>\n",
    "<b>An example using <a href=\"https://docs.python.org/3/library/multiprocessing.html\"><i>multiprocessing.Pool</i></a> is given:</b>\n",
    "</font>"
   ]
  },
  {
   "cell_type": "code",
   "execution_count": null,
   "metadata": {},
   "outputs": [],
   "source": [
    "import multiprocessing as mp\n",
    "import numpy as np\n",
    "import time\n",
    "\n",
    "# function to be applied in parallel on parts of a data set / array\n",
    "def parallel_function(x):\n",
    "    return np.mean(x)\n",
    "\n",
    "# usually the number of workers is chosen to be\n",
    "# num_workers = mp.cpu_count() the number of available cores in the system\n",
    "num_workers = 4\n",
    "\n",
    "# for a clean implementation:\n",
    "# check if script is run from main process\n",
    "if __name__ == '__main__':\n",
    "    # initializes a pool of workers apply the same function in parallel\n",
    "    # on different parts of a data set (data parallelism)\n",
    "    p = mp.Pool(num_workers)\n",
    "    # mp.Pool takes care of how the data is distributed to the worker processes\n",
    "    # as an example, we compute the mean of 10 arrays with 50x10^6 values each\n",
    "    result = p.map(parallel_function, np.random.uniform(0,1,(10,int(50E6))))\n",
    "    # map_async() allows asynchronous execution of the function with parts of the \n",
    "    # input data the order in which the result is returned, is not guaranteed, \n",
    "    # but it can be faster\n",
    "    #\n",
    "    # the method map_async() is non-blocking, hence the interpreter continues\n",
    "    # the execution of the main program\n",
    "    print(result)"
   ]
  },
  {
   "cell_type": "markdown",
   "metadata": {},
   "source": [
    "<font size=\"3\"><div class=\"alert alert-warning\"><b>Exercise:</b> <br>Implement a parallelized generator for gaussian <a href=\"https://en.wikipedia.org/wiki/Random_walk\">random walks</a> in $\\mathbb{R}^2$, hence in the two dimensional plane. Benchmark your implementation by measuring the required time for a given number of walks with a maximum number of steps. Observe and plot how well your implementation scales with increasing number of processes / cpu cores. Plot the random walk(s) in two dimensions.<br><br>\n",
    "<b>Hints: </b><br>\n",
    "A random walk can be defined as follows:<br>\n",
    "Let be $x_{0} \\in \\mathbb{R}^n$ a defined start position for the random walk and $s \\sim \\mathcal{N}\\left(\\mu,\\sigma\\right)$ the random normal-distributed step increment, then the recursion formula $x_{n+1} = x_{n} + s$ describes a gaussian random walk.<br><br>\n",
    "In order to generate normal-distributed random values, use the numpy function <a href=\"https://numpy.org/doc/stable/reference/random/generated/numpy.random.normal.html\">np.random.normal</a>.<br><br>\n",
    "Since you know in advance how many steps and how many random walks you'd like to generate, it is advised to allocate the required memory in advance to achieve better performance. <b>The use of numpy arrays over lists is encouraged.</b><br><br>\n",
    "Start to experiment with small values for $\\mu$ and $\\sigma$.<br><br>\n",
    "<b>Use <a href=\"https://docs.python.org/3/library/multiprocessing.html#multiprocessing.pool.Pool.starmap\"><i>multiprocessing.starmap</i></b> </a>to use multiple input arguments for mapping function.\n",
    "</div>\n",
    "\n",
    "<b>Try it yourself:</b></font>"
   ]
  },
  {
   "cell_type": "code",
   "execution_count": null,
   "metadata": {},
   "outputs": [],
   "source": []
  },
  {
   "cell_type": "markdown",
   "metadata": {},
   "source": [
    "### Example Solution:"
   ]
  },
  {
   "cell_type": "code",
   "execution_count": 6,
   "metadata": {},
   "outputs": [
    {
     "name": "stdout",
     "output_type": "stream",
     "text": [
      "Using 1 worker:\n",
      "4.026015758514404 seconds have passed generating 2000 walks with 1000 steps each.\n",
      "Using 2 workers:\n",
      "2.2239086627960205 seconds have passed generating 2000 walks with 1000 steps each.\n",
      "Using 4 workers:\n",
      "1.0891625881195068 seconds have passed generating 2000 walks with 1000 steps each.\n"
     ]
    },
    {
     "ename": "NameError",
     "evalue": "name 'walks' is not defined",
     "output_type": "error",
     "traceback": [
      "\u001b[0;31m---------------------------------------------------------------------------\u001b[0m",
      "\u001b[0;31mNameError\u001b[0m                                 Traceback (most recent call last)",
      "\u001b[0;32m<ipython-input-6-39769a441217>\u001b[0m in \u001b[0;36m<module>\u001b[0;34m\u001b[0m\n\u001b[1;32m     73\u001b[0m \u001b[0;31m# plot the random walk\u001b[0m\u001b[0;34m\u001b[0m\u001b[0;34m\u001b[0m\u001b[0;34m\u001b[0m\u001b[0m\n\u001b[1;32m     74\u001b[0m \u001b[0;32mfor\u001b[0m \u001b[0mi\u001b[0m \u001b[0;32min\u001b[0m \u001b[0mrandom_selection\u001b[0m\u001b[0;34m:\u001b[0m\u001b[0;34m\u001b[0m\u001b[0;34m\u001b[0m\u001b[0m\n\u001b[0;32m---> 75\u001b[0;31m     \u001b[0max2\u001b[0m\u001b[0;34m.\u001b[0m\u001b[0mplot\u001b[0m\u001b[0;34m(\u001b[0m\u001b[0mwalks\u001b[0m\u001b[0;34m[\u001b[0m\u001b[0mi\u001b[0m\u001b[0;34m,\u001b[0m\u001b[0;34m:\u001b[0m\u001b[0;34m,\u001b[0m\u001b[0;36m0\u001b[0m\u001b[0;34m]\u001b[0m\u001b[0;34m,\u001b[0m\u001b[0mwalks\u001b[0m\u001b[0;34m[\u001b[0m\u001b[0mi\u001b[0m\u001b[0;34m,\u001b[0m\u001b[0;34m:\u001b[0m\u001b[0;34m,\u001b[0m\u001b[0;36m1\u001b[0m\u001b[0;34m]\u001b[0m\u001b[0;34m,\u001b[0m\u001b[0mlinewidth\u001b[0m\u001b[0;34m=\u001b[0m\u001b[0;36m.5\u001b[0m\u001b[0;34m)\u001b[0m\u001b[0;34m\u001b[0m\u001b[0;34m\u001b[0m\u001b[0m\n\u001b[0m",
      "\u001b[0;31mNameError\u001b[0m: name 'walks' is not defined"
     ]
    },
    {
     "data": {
      "image/png": "[encoded data removed]",
      "text/plain": [
       "<Figure size 432x288 with 1 Axes>"
      ]
     },
     "metadata": {
      "needs_background": "light"
     },
     "output_type": "display_data"
    },
    {
     "data": {
      "image/png": "[encoded data removed]",
      "text/plain": [
       "<Figure size 432x288 with 1 Axes>"
      ]
     },
     "metadata": {
      "needs_background": "light"
     },
     "output_type": "display_data"
    }
   ],
   "source": [
    "import multiprocessing as mp\n",
    "import numpy as np\n",
    "import time\n",
    "from matplotlib import pyplot as plt\n",
    "from itertools import repeat\n",
    "\n",
    "def random_walk2D(num_steps=int(1E3), mu=1E-2, sigma=1E-2, start=np.array([0,0])):\n",
    "    # create empty array with zeros to avoid using lists\n",
    "    walk = np.zeros((num_steps,2))\n",
    "    # generate random steps / increments\n",
    "    steps = np.random.normal(mu, sigma, (num_steps,2))\n",
    "    walk[0] = start\n",
    "    # compute the steps of the walk\n",
    "    for i in range(1,num_steps):\n",
    "        walk[i] = walk[i-1] + steps[i]\n",
    "    return walk\n",
    "\n",
    "def measure_time(fn):\n",
    "    def wrapper(*args, **kwargs):\n",
    "        t1=time.time()\n",
    "        res=fn(*args, **kwargs)\n",
    "        dt=time.time()-t1\n",
    "        print(str(dt)+\" seconds have passed generating \"+str(num_walks)+\" walks with \"+str(num_steps)+\" steps each.\")\n",
    "        return res\n",
    "    return wrapper\n",
    "\n",
    "# using a decorator here to wrap around the function\n",
    "@measure_time\n",
    "def generate_walks(num_walks, num_workers, mu, sigma, num_steps, start):\n",
    "    #prepare argument list\n",
    "    arg_list = repeat((num_steps, mu, sigma, start),num_walks)\n",
    "    # generates N random walks in parallel\n",
    "    p = mp.Pool(num_workers)\n",
    "    # start function asynchronously \n",
    "    results = [p.apply_async(random_walk2D, args) for args in arg_list]\n",
    "    walks = np.array([p.get() for p in results])\n",
    "    return walks\n",
    "\n",
    "# plot a single random walk in the plane\n",
    "res=random_walk2D(num_steps=100, mu=0.1, sigma=1, start=[-1,0])\n",
    "fig=plt.figure()\n",
    "ax=fig.add_subplot(111)\n",
    "# plot the random walk\n",
    "ax.plot(res[:,0],res[:,1],color=\"black\",linewidth=.5)\n",
    "# plot the start position\n",
    "ax.scatter([-1],[0],color=\"red\",s=50)\n",
    "ax.set_title(\"a single random walk\");\n",
    "\n",
    "# set parameters for walks\n",
    "mu = 1E-2\n",
    "sigma = 1E-2\n",
    "start = np.array([-1,0])\n",
    "benchmark_result = []\n",
    "num_steps = int(1E3)\n",
    "num_walks = int(2E3)\n",
    "\n",
    "# run a benchmark\n",
    "# using 1 worker\n",
    "print(\"Using 1 worker:\")\n",
    "generate_walks(num_walks,1,mu,sigma,num_steps,start)\n",
    "# using 2 workers\n",
    "print(\"Using 2 workers:\")\n",
    "generate_walks(num_walks,2,mu,sigma,num_steps,start)\n",
    "# using 4 workers\n",
    "print(\"Using 4 workers:\")\n",
    "generate_walks(num_walks,4,mu,sigma,num_steps,start)\n",
    "\n",
    "# print some randomly selected walks\n",
    "walks_2_print = 20\n",
    "random_selection = np.random.randint(0,num_walks,size=(walks_2_print,))\n",
    "fig2=plt.figure()\n",
    "ax2=fig2.add_subplot(111)\n",
    "# plot the random walk\n",
    "for i in random_selection:\n",
    "    ax2.plot(walks[i,:,0],walks[i,:,1],linewidth=.5)"
   ]
  },
  {
   "cell_type": "markdown",
   "metadata": {},
   "source": [
    "### Lazy parallelization with joblib\n",
    "<br>\n",
    "<font size=\"3\">\n",
    "Depending on the application, an even easier way to parallelize your code (depending on what kind of parallelism is required) is to use the <a href=\"https://joblib.readthedocs.io/en/latest/\"><i>joblib</i></a> package with which you can even build computing pipelines.<br><br>\n",
    "    <b>But you may need to fine tune the parameters <i>n_jobs</i> and <i>batch_size</i> and be aware of the additional overhead in creating workers. The individual tasks should take longer than the required time to spawn a new worker (rule of thumb, much longer than 1 second). Otherwise using <i>multiprocessing.Pool</i> or <i>joblib</i> is slower compared to a sequential execution.</b><br><br>\n",
    "To parallelize a part of the code, you just need to import the class <i>Parallel</i> and it expects (besides some additional parameters) a <i>generator</i> object, hence a <i>list comprehension</i> expression enclosed by round brackets. An example is shown below.\n",
    "</font>\n",
    "\n",
    "### Example:"
   ]
  },
  {
   "cell_type": "code",
   "execution_count": null,
   "metadata": {},
   "outputs": [],
   "source": [
    "import numpy as np\n",
    "import time\n",
    "from joblib import Parallel, delayed\n",
    "\n",
    "# the function to be called in the list comprehension / generator\n",
    "def random_walk2D(num_steps=int(1E3), mu=1E-2, sigma=1E-2, start=np.array([0,0])):\n",
    "    # create empty array with zeros to avoid using lists\n",
    "    walk = np.zeros((num_steps,2))\n",
    "    # generate random steps / increments\n",
    "    steps = np.random.normal(mu, sigma, (num_steps,2))\n",
    "    walk[0] = start\n",
    "    # compute the steps of the walk\n",
    "    for i in range(1,num_steps):\n",
    "        walk[i] = walk[i-1] + steps[i]\n",
    "    return walk\n",
    "\n",
    "num_walks=int(1E4)\n",
    "t1=time.time()\n",
    "# use just do everything in the generator in one job (sequential execution)\n",
    "Parallel(n_jobs=1)(delayed(random_walk2D)(num_steps=int(1E3)) for _ in range(num_walks))\n",
    "dt=time.time()-t1\n",
    "print(str(np.round(dt,4)) + \" seconds elapsed.\")\n",
    "\n",
    "num_walks=int(1E4)\n",
    "t1=time.time()\n",
    "# divide the task (calling the function above %num_walks times) into two jobs running in parallel\n",
    "# resulting in nearly half of the time required\n",
    "result = Parallel(n_jobs=2)(delayed(random_walk2D)(num_steps=int(1E3)) for _ in range(num_walks))\n",
    "dt=time.time()-t1\n",
    "print(str(np.round(dt,4)) + \" seconds elapsed.\")\n",
    "\n",
    "num_walks=int(1E4)\n",
    "t1=time.time()\n",
    "# divide the task into four jobs running in parallel, scaling is not optimal, probably problem size to small\n",
    "# for more than two jobs\n",
    "result = Parallel(n_jobs=3)(delayed(random_walk2D)(num_steps=int(1E3)) for _ in range(num_walks))\n",
    "dt=time.time()-t1\n",
    "print(str(np.round(dt,4)) + \" seconds elapsed.\")\n",
    "\n",
    "num_walks=int(1E4)\n",
    "t1=time.time()\n",
    "# divide the task into four jobs running in parallel, scaling is not optimal, probably problem size to small\n",
    "# for more than two jobs\n",
    "result = Parallel(n_jobs=4)(delayed(random_walk2D)(num_steps=int(1E3)) for _ in range(num_walks))\n",
    "dt=time.time()-t1\n",
    "print(str(np.round(dt,4)) + \" seconds elapsed.\")"
   ]
  },
  {
   "cell_type": "markdown",
   "metadata": {},
   "source": [
    "<hr style=\"border:1px solid gray\"> </hr>\n",
    "\n",
    "## Reminder of Jupyter Keyboard Shortcuts\n",
    "<br>\n",
    "   \n",
    "    \n",
    "| Shortcut | Function |\n",
    "| -------- | ----------- |\n",
    "| Esc      | Switch to command mode |\n",
    "| Enter    | Switch to edit mode |\n",
    "| B        | Creates new empty cell **B**elow |\n",
    "| H        | Show **H**elp   |\n",
    "| X        | Deletes currently selected cell|\n",
    "| Shift + Enter | Run cell and advance to next cell |\n",
    "| Ctrl  + Enter | Run cell |\n",
    "| Ctrl  + S     | Save notebook |\n",
    "    <font size=\"3\">As an example, random walks in two dimensions were generated. The runtime scales with increasing number of workers, but not linearily if we use more than three, since the problem size is probably too small.</font>"
   ]
  }
 ],
 "metadata": {
  "kernelspec": {
   "display_name": "Python 3 (ipykernel)",
   "language": "python",
   "name": "python3"
  },
  "language_info": {
   "codemirror_mode": {
    "name": "ipython",
    "version": 3
   },
   "file_extension": ".py",
   "mimetype": "text/x-python",
   "name": "python",
   "nbconvert_exporter": "python",
   "pygments_lexer": "ipython3",
   "version": "3.9.2"
  },
  "varInspector": {
   "cols": {
    "lenName": 16,
    "lenType": 16,
    "lenVar": 40
   },
   "kernels_config": {
    "python": {
     "delete_cmd_postfix": "",
     "delete_cmd_prefix": "del ",
     "library": "var_list.py",
     "varRefreshCmd": "print(var_dic_list())"
    },
    "r": {
     "delete_cmd_postfix": ") ",
     "delete_cmd_prefix": "rm(",
     "library": "var_list.r",
     "varRefreshCmd": "cat(var_dic_list()) "
    }
   },
   "types_to_exclude": [
    "module",
    "function",
    "builtin_function_or_method",
    "instance",
    "_Feature"
   ],
   "window_display": false
  }
 },
 "nbformat": 4,
 "nbformat_minor": 4
}
